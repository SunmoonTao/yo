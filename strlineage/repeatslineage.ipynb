{
 "cells": [
  {
   "cell_type": "code",
   "execution_count": 52,
   "metadata": {},
   "outputs": [],
   "source": [
    "import sys\n",
    "\n",
    "sys.path.append(\"/gstore/project/paneldesign/pkg\")\n",
    "\n",
    "sys.path.append(\"/gstore/home/taol9/gitsss/yo/tao\")\n",
    "\n",
    "from Bio import SeqIO\n",
    "from Bio.Seq import Seq\n",
    "from Bio import Entrez\n",
    "import csv\n",
    "from collections import defaultdict,OrderedDict\n",
    "from collections import Counter\n",
    "import matplotlib.pyplot as plt\n",
    "\n",
    "import pandas as pd\n",
    "import os\n",
    "import pickle\n",
    "import random\n",
    "from myfunc import rc, RandomDNA\n"
   ]
  },
  {
   "cell_type": "code",
   "execution_count": 51,
   "metadata": {},
   "outputs": [
    {
     "name": "stdout",
     "output_type": "stream",
     "text": [
      "Collecting barcode\n",
      "  Using cached https://files.pythonhosted.org/packages/3f/d2/5560221cbbd54c5ea766ec34d0ce79f92436e1564b51c38001eff7e7bd4f/barcode-1.0.2.tar.gz\n",
      "Collecting python-Levenshtein>=0.12.0 (from barcode)\n",
      "  Using cached https://files.pythonhosted.org/packages/c9/bd/fef1536c7ea8d22305c6d54fecf4e7abfc5b4b55782ff9193cdcea4ff8b9/python_Levenshtein-0.20.9-py3-none-any.whl\n",
      "Collecting Levenshtein==0.20.9 (from python-Levenshtein>=0.12.0->barcode)\n",
      "  Using cached https://files.pythonhosted.org/packages/22/ea/b2c2c26477111be2938dca870044583f6e785d952c0c424c7ccf0dbe0144/Levenshtein-0.20.9.tar.gz\n",
      "    Complete output from command python setup.py egg_info:\n",
      "    Traceback (most recent call last):\n",
      "      File \"<string>\", line 1, in <module>\n",
      "      File \"/local/64202154/pip-build-5o3jsi6v/Levenshtein/setup.py\", line 1, in <module>\n",
      "        from skbuild import setup\n",
      "    ModuleNotFoundError: No module named 'skbuild'\n",
      "    \n",
      "    ----------------------------------------\n",
      "\u001b[31mCommand \"python setup.py egg_info\" failed with error code 1 in /local/64202154/pip-build-5o3jsi6v/Levenshtein/\u001b[0m\n"
     ]
    }
   ],
   "source": [
    "# !pip3 install --target /gstore/project/paneldesign/pkg barcode"
   ]
  },
  {
   "cell_type": "code",
   "execution_count": null,
   "metadata": {},
   "outputs": [],
   "source": [
    "def bgen(length,maxstretch=3,distance=3,):\n",
    "    candi=[]\n",
    "    for i in range(30000):\n",
    "        x=str(RandomDNA(length))\n",
    "        if 45<GC(x)<55:\n",
    "            candi.append(x)\n",
    "    candi=barcode.filter_stretches(candi, maxstretch)\n",
    "    candi=barcode.filter_distance(candi, distance)\n",
    "    return candi"
   ]
  },
  {
   "cell_type": "markdown",
   "metadata": {},
   "source": [
    "# TSO(25nt)-flankingsequence(25nt)-Index1-UMI-repeat1-spacer(4nt)-repeat2-spacer-repeat3-spacer-repeat4-...repeatX-polyA;"
   ]
  },
  {
   "cell_type": "markdown",
   "metadata": {},
   "source": [
    "## define adaptor\n"
   ]
  },
  {
   "cell_type": "code",
   "execution_count": 5,
   "metadata": {},
   "outputs": [],
   "source": [
    "BC001 = \"ACTTTAGG\"\n",
    "BC002 = \"AACGGGAA\"\n",
    "BC003 = \"AGTAGGCT\"\n",
    "BC004 = \"ATGTTGAC\"\n",
    "BC005 = \"ACAGACCT\"\n",
    "BC006 = \"ATCCCAAC\"\n",
    "BC007 = \"AAGTAGAG\"\n",
    "BC008 = \"AGCTGTGA\"\n",
    "BC009 = \"ACAGTCTG\"\n",
    "BC010 = \"AGTGAGTG\"\n",
    "BC011 = \"AGAGGCAA\"\n",
    "BC012 = \"ACTACTCA\"\n",
    "BC013 = \"ATACGTCA\"\n",
    "BC014 = \"ATCATGTG\"\n",
    "BC015 = \"AACGCCGA\"\n",
    "BC016 = \"ATTCGGTT\"\n",
    "\n",
    "Mly1_R_w='GCTTCCTGATGAGTCCGATG'\n",
    "Mly1_F_w='GCAACGACTCCACACTCATA'"
   ]
  },
  {
   "cell_type": "markdown",
   "metadata": {},
   "source": [
    "# TSO(25nt)-flankingsequence(25nt)-Index1-UMI-repeat1-spacer(4nt)-repeat2-spacer-repeat3-spacer-repeat4-...repeatX-polyA;"
   ]
  },
  {
   "cell_type": "code",
   "execution_count": 61,
   "metadata": {},
   "outputs": [],
   "source": [
    "# random combination\n",
    "# spacer=RandomDNA(4)\n",
    "# units=[\"C\",\"TG\",\"AG\"]\n",
    "# str_len=[9,18]\n",
    "# UMI=\"N\"*6\n",
    "# index=BC003\n",
    "# TSO='AAGCAGTGGTATCAACGCAGAGTACAT'\n",
    "# dialout_adaptor_F=Mly1_F_w='GCAACGACTCCACACTCATA'\n",
    "# dialout_adaptor_R=Mly1_R_w='GCTTCCTGATGAGTCCGATG'\n",
    "# l=TSO+dialout_adaptor_F+index+UMI\n",
    "# n=0\n",
    "# while len(l)<1500:\n",
    "#     l=l+random.choice(str_len)*random.choice(units)+spacer\n",
    "#     n=n+1\n",
    "# #     print (l)\n",
    "# print(n)\n",
    "# l=l+dialout_adaptor_R\n",
    "\n",
    "\n",
    "    \n",
    "\n",
    "    \n",
    "    "
   ]
  },
  {
   "cell_type": "code",
   "execution_count": 93,
   "metadata": {},
   "outputs": [],
   "source": [
    "#fix length with units combination\n",
    "def strtracer(index,maxlen=2000,str_len=15,UMIlen=10):\n",
    "    spacer=RandomDNA(str_len)\n",
    "    units=[\"AC\",\"C\",\"AG\"]\n",
    "    UMI=\"N\"*UMIlen\n",
    "    TSO='AAGCAGTGGTATCAACGCAGAGTACAT'\n",
    "    dialout_adaptor_F=Mly1_F_w='GCAACGACTCCACACTCATA'\n",
    "    dialout_adaptor_R=Mly1_R_w='GCTTCCTGATGAGTCCGATG'\n",
    "    bridge=RandomDNA(25)\n",
    "    l=partA=TSO+dialout_adaptor_F+index+UMI+bridge\n",
    "    n=0\n",
    "    while len(l)<maxlen-len(partA):\n",
    "        l=l+str_len*random.choice(units)+spacer+str_len*random.choice(units)+spacer+str_len*random.choice(units)+spacer\n",
    "        n=n+3\n",
    "#     print (l)\n",
    "    print(n)\n",
    "    l=str(l+dialout_adaptor_R)\n",
    "    return {\"index\":index,\"partA\":str(partA), \"partB\":l[len(partA)-25:],\"Full\":str(l), \"strs_counts\":n,\"len\":len(l)}"
   ]
  },
  {
   "cell_type": "code",
   "execution_count": 72,
   "metadata": {},
   "outputs": [
    {
     "data": {
      "text/plain": [
       "['TGGCACTCAT',\n",
       " 'ATATGCGCCG',\n",
       " 'TTACCTACGG',\n",
       " 'CTTATCCGGA',\n",
       " 'GCTACTGACG',\n",
       " 'AGCCAATTGC',\n",
       " 'AAGTCGTAAC',\n",
       " 'CTCGGGCAAT',\n",
       " 'TCCATAGGTG',\n",
       " 'GAAGTTCATC']"
      ]
     },
     "execution_count": 72,
     "metadata": {},
     "output_type": "execute_result"
    }
   ],
   "source": [
    "indexes='''TGGCACTCAT\n",
    "ATATGCGCCG\n",
    "TTACCTACGG\n",
    "CTTATCCGGA\n",
    "GCTACTGACG\n",
    "AGCCAATTGC\n",
    "AAGTCGTAAC\n",
    "CTCGGGCAAT\n",
    "TCCATAGGTG\n",
    "GAAGTTCATC'''.split()\n",
    "indexes"
   ]
  },
  {
   "cell_type": "code",
   "execution_count": 94,
   "metadata": {},
   "outputs": [
    {
     "name": "stdout",
     "output_type": "stream",
     "text": [
      "45\n",
      "48\n",
      "48\n",
      "48\n",
      "123\n",
      "123\n",
      "120\n",
      "120\n"
     ]
    }
   ],
   "source": [
    "output=dict()\n",
    "for idx in indexes[:4]:\n",
    "    output[\"2K_\"+str(idx)]=strtracer(index,maxlen=2000,str_len=15,UMIlen=10)\n",
    "for idx in indexes[-4:]:\n",
    "    output[\"5K_\"+str(idx)]=strtracer(index,maxlen=5000,str_len=15,UMIlen=10)"
   ]
  },
  {
   "cell_type": "code",
   "execution_count": 95,
   "metadata": {},
   "outputs": [],
   "source": [
    "\n",
    "df=pd.DataFrame.from_dict(output,orient='index')\n"
   ]
  },
  {
   "cell_type": "code",
   "execution_count": 96,
   "metadata": {},
   "outputs": [
    {
     "data": {
      "text/html": [
       "<div>\n",
       "<style>\n",
       "    .dataframe thead tr:only-child th {\n",
       "        text-align: right;\n",
       "    }\n",
       "\n",
       "    .dataframe thead th {\n",
       "        text-align: left;\n",
       "    }\n",
       "\n",
       "    .dataframe tbody tr th {\n",
       "        vertical-align: top;\n",
       "    }\n",
       "</style>\n",
       "<table border=\"1\" class=\"dataframe\">\n",
       "  <thead>\n",
       "    <tr style=\"text-align: right;\">\n",
       "      <th></th>\n",
       "      <th>index</th>\n",
       "      <th>partA</th>\n",
       "      <th>partB</th>\n",
       "      <th>Full</th>\n",
       "      <th>strs_counts</th>\n",
       "      <th>len</th>\n",
       "    </tr>\n",
       "  </thead>\n",
       "  <tbody>\n",
       "    <tr>\n",
       "      <th>2K_ATATGCGCCG</th>\n",
       "      <td>AGTAGGCT</td>\n",
       "      <td>AAGCAGTGGTATCAACGCAGAGTACATGCAACGACTCCACACTCAT...</td>\n",
       "      <td>AGATTGCGTCCAGTAGGATAAATGAAGAGAGAGAGAGAGAGAGAGA...</td>\n",
       "      <td>AAGCAGTGGTATCAACGCAGAGTACATGCAACGACTCCACACTCAT...</td>\n",
       "      <td>48</td>\n",
       "      <td>2030</td>\n",
       "    </tr>\n",
       "    <tr>\n",
       "      <th>2K_CTTATCCGGA</th>\n",
       "      <td>AGTAGGCT</td>\n",
       "      <td>AAGCAGTGGTATCAACGCAGAGTACATGCAACGACTCCACACTCAT...</td>\n",
       "      <td>AAGTGTATTCAAACGCGCTGTAATTACACACACACACACACACACA...</td>\n",
       "      <td>AAGCAGTGGTATCAACGCAGAGTACATGCAACGACTCCACACTCAT...</td>\n",
       "      <td>48</td>\n",
       "      <td>2015</td>\n",
       "    </tr>\n",
       "    <tr>\n",
       "      <th>2K_TGGCACTCAT</th>\n",
       "      <td>AGTAGGCT</td>\n",
       "      <td>AAGCAGTGGTATCAACGCAGAGTACATGCAACGACTCCACACTCAT...</td>\n",
       "      <td>GTTATGTGCGATTCCCTGACTTCCCAGAGAGAGAGAGAGAGAGAGA...</td>\n",
       "      <td>AAGCAGTGGTATCAACGCAGAGTACATGCAACGACTCCACACTCAT...</td>\n",
       "      <td>45</td>\n",
       "      <td>1955</td>\n",
       "    </tr>\n",
       "    <tr>\n",
       "      <th>2K_TTACCTACGG</th>\n",
       "      <td>AGTAGGCT</td>\n",
       "      <td>AAGCAGTGGTATCAACGCAGAGTACATGCAACGACTCCACACTCAT...</td>\n",
       "      <td>TGAATTGGTTGCCGCGCCACCGCTCAGAGAGAGAGAGAGAGAGAGA...</td>\n",
       "      <td>AAGCAGTGGTATCAACGCAGAGTACATGCAACGACTCCACACTCAT...</td>\n",
       "      <td>48</td>\n",
       "      <td>2045</td>\n",
       "    </tr>\n",
       "    <tr>\n",
       "      <th>5K_AAGTCGTAAC</th>\n",
       "      <td>AGTAGGCT</td>\n",
       "      <td>AAGCAGTGGTATCAACGCAGAGTACATGCAACGACTCCACACTCAT...</td>\n",
       "      <td>GGTCTTAAGTTGTGAAACAGTAGGGCCCCCCCCCCCCCCCGACACT...</td>\n",
       "      <td>AAGCAGTGGTATCAACGCAGAGTACATGCAACGACTCCACACTCAT...</td>\n",
       "      <td>123</td>\n",
       "      <td>5000</td>\n",
       "    </tr>\n",
       "    <tr>\n",
       "      <th>5K_CTCGGGCAAT</th>\n",
       "      <td>AGTAGGCT</td>\n",
       "      <td>AAGCAGTGGTATCAACGCAGAGTACATGCAACGACTCCACACTCAT...</td>\n",
       "      <td>GTATGATGTGTGCGTGGTTCTCAAGCCCCCCCCCCCCCCCGTAGAG...</td>\n",
       "      <td>AAGCAGTGGTATCAACGCAGAGTACATGCAACGACTCCACACTCAT...</td>\n",
       "      <td>123</td>\n",
       "      <td>4985</td>\n",
       "    </tr>\n",
       "    <tr>\n",
       "      <th>5K_GAAGTTCATC</th>\n",
       "      <td>AGTAGGCT</td>\n",
       "      <td>AAGCAGTGGTATCAACGCAGAGTACATGCAACGACTCCACACTCAT...</td>\n",
       "      <td>ACTACTACAGGCCATTTCCTAGGCGAGAGAGAGAGAGAGAGAGAGA...</td>\n",
       "      <td>AAGCAGTGGTATCAACGCAGAGTACATGCAACGACTCCACACTCAT...</td>\n",
       "      <td>120</td>\n",
       "      <td>4955</td>\n",
       "    </tr>\n",
       "    <tr>\n",
       "      <th>5K_TCCATAGGTG</th>\n",
       "      <td>AGTAGGCT</td>\n",
       "      <td>AAGCAGTGGTATCAACGCAGAGTACATGCAACGACTCCACACTCAT...</td>\n",
       "      <td>GCCTACAAAAGCCCACTAAAGATGGAGAGAGAGAGAGAGAGAGAGA...</td>\n",
       "      <td>AAGCAGTGGTATCAACGCAGAGTACATGCAACGACTCCACACTCAT...</td>\n",
       "      <td>120</td>\n",
       "      <td>5030</td>\n",
       "    </tr>\n",
       "  </tbody>\n",
       "</table>\n",
       "</div>"
      ],
      "text/plain": [
       "                  index                                              partA  \\\n",
       "2K_ATATGCGCCG  AGTAGGCT  AAGCAGTGGTATCAACGCAGAGTACATGCAACGACTCCACACTCAT...   \n",
       "2K_CTTATCCGGA  AGTAGGCT  AAGCAGTGGTATCAACGCAGAGTACATGCAACGACTCCACACTCAT...   \n",
       "2K_TGGCACTCAT  AGTAGGCT  AAGCAGTGGTATCAACGCAGAGTACATGCAACGACTCCACACTCAT...   \n",
       "2K_TTACCTACGG  AGTAGGCT  AAGCAGTGGTATCAACGCAGAGTACATGCAACGACTCCACACTCAT...   \n",
       "5K_AAGTCGTAAC  AGTAGGCT  AAGCAGTGGTATCAACGCAGAGTACATGCAACGACTCCACACTCAT...   \n",
       "5K_CTCGGGCAAT  AGTAGGCT  AAGCAGTGGTATCAACGCAGAGTACATGCAACGACTCCACACTCAT...   \n",
       "5K_GAAGTTCATC  AGTAGGCT  AAGCAGTGGTATCAACGCAGAGTACATGCAACGACTCCACACTCAT...   \n",
       "5K_TCCATAGGTG  AGTAGGCT  AAGCAGTGGTATCAACGCAGAGTACATGCAACGACTCCACACTCAT...   \n",
       "\n",
       "                                                           partB  \\\n",
       "2K_ATATGCGCCG  AGATTGCGTCCAGTAGGATAAATGAAGAGAGAGAGAGAGAGAGAGA...   \n",
       "2K_CTTATCCGGA  AAGTGTATTCAAACGCGCTGTAATTACACACACACACACACACACA...   \n",
       "2K_TGGCACTCAT  GTTATGTGCGATTCCCTGACTTCCCAGAGAGAGAGAGAGAGAGAGA...   \n",
       "2K_TTACCTACGG  TGAATTGGTTGCCGCGCCACCGCTCAGAGAGAGAGAGAGAGAGAGA...   \n",
       "5K_AAGTCGTAAC  GGTCTTAAGTTGTGAAACAGTAGGGCCCCCCCCCCCCCCCGACACT...   \n",
       "5K_CTCGGGCAAT  GTATGATGTGTGCGTGGTTCTCAAGCCCCCCCCCCCCCCCGTAGAG...   \n",
       "5K_GAAGTTCATC  ACTACTACAGGCCATTTCCTAGGCGAGAGAGAGAGAGAGAGAGAGA...   \n",
       "5K_TCCATAGGTG  GCCTACAAAAGCCCACTAAAGATGGAGAGAGAGAGAGAGAGAGAGA...   \n",
       "\n",
       "                                                            Full  strs_counts  \\\n",
       "2K_ATATGCGCCG  AAGCAGTGGTATCAACGCAGAGTACATGCAACGACTCCACACTCAT...           48   \n",
       "2K_CTTATCCGGA  AAGCAGTGGTATCAACGCAGAGTACATGCAACGACTCCACACTCAT...           48   \n",
       "2K_TGGCACTCAT  AAGCAGTGGTATCAACGCAGAGTACATGCAACGACTCCACACTCAT...           45   \n",
       "2K_TTACCTACGG  AAGCAGTGGTATCAACGCAGAGTACATGCAACGACTCCACACTCAT...           48   \n",
       "5K_AAGTCGTAAC  AAGCAGTGGTATCAACGCAGAGTACATGCAACGACTCCACACTCAT...          123   \n",
       "5K_CTCGGGCAAT  AAGCAGTGGTATCAACGCAGAGTACATGCAACGACTCCACACTCAT...          123   \n",
       "5K_GAAGTTCATC  AAGCAGTGGTATCAACGCAGAGTACATGCAACGACTCCACACTCAT...          120   \n",
       "5K_TCCATAGGTG  AAGCAGTGGTATCAACGCAGAGTACATGCAACGACTCCACACTCAT...          120   \n",
       "\n",
       "                len  \n",
       "2K_ATATGCGCCG  2030  \n",
       "2K_CTTATCCGGA  2015  \n",
       "2K_TGGCACTCAT  1955  \n",
       "2K_TTACCTACGG  2045  \n",
       "5K_AAGTCGTAAC  5000  \n",
       "5K_CTCGGGCAAT  4985  \n",
       "5K_GAAGTTCATC  4955  \n",
       "5K_TCCATAGGTG  5030  "
      ]
     },
     "execution_count": 96,
     "metadata": {},
     "output_type": "execute_result"
    }
   ],
   "source": [
    "df"
   ]
  },
  {
   "cell_type": "code",
   "execution_count": 291,
   "metadata": {},
   "outputs": [],
   "source": [
    "df.to_csv('str_tracer_230310.csv')"
   ]
  },
  {
   "cell_type": "code",
   "execution_count": null,
   "metadata": {},
   "outputs": [],
   "source": [
    "pwd"
   ]
  },
  {
   "cell_type": "code",
   "execution_count": null,
   "metadata": {},
   "outputs": [],
   "source": []
  }
 ],
 "metadata": {
  "kernelspec": {
   "display_name": "Python 3",
   "language": "python",
   "name": "python3"
  },
  "language_info": {
   "codemirror_mode": {
    "name": "ipython",
    "version": 3
   },
   "file_extension": ".py",
   "mimetype": "text/x-python",
   "name": "python",
   "nbconvert_exporter": "python",
   "pygments_lexer": "ipython3",
   "version": "3.6.3"
  }
 },
 "nbformat": 4,
 "nbformat_minor": 4
}
