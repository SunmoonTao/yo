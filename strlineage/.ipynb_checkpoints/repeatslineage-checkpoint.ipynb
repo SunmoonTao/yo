{
 "cells": [
  {
   "cell_type": "code",
   "execution_count": 1,
   "metadata": {},
   "outputs": [],
   "source": [
    "import sys\n",
    "\n",
    "sys.path.append(\"/gstore/project/paneldesign/pkg\")\n",
    "\n",
    "sys.path.append(\"/gstore/home/taol9/gitsss/yo/tao\")\n",
    "\n",
    "from Bio import SeqIO\n",
    "from Bio.Seq import Seq\n",
    "from Bio import Entrez\n",
    "import csv\n",
    "from collections import defaultdict,OrderedDict\n",
    "from collections import Counter\n",
    "import matplotlib.pyplot as plt\n",
    "\n",
    "import pandas as pd\n",
    "import os\n",
    "import pickle\n",
    "import random\n",
    "from myfunc import rc, RandomDNA\n"
   ]
  },
  {
   "cell_type": "code",
   "execution_count": 2,
   "metadata": {},
   "outputs": [],
   "source": [
    "# !pip3 install --target /gstore/project/paneldesign/pkg barcode"
   ]
  },
  {
   "cell_type": "code",
   "execution_count": 3,
   "metadata": {},
   "outputs": [],
   "source": [
    "def bgen(length,maxstretch=3,distance=3,):\n",
    "    candi=[]\n",
    "    for i in range(30000):\n",
    "        x=str(RandomDNA(length))\n",
    "        if 45<GC(x)<55:\n",
    "            candi.append(x)\n",
    "    candi=barcode.filter_stretches(candi, maxstretch)\n",
    "    candi=barcode.filter_distance(candi, distance)\n",
    "    return candi"
   ]
  },
  {
   "cell_type": "markdown",
   "metadata": {},
   "source": [
    "# TSO(25nt)-flankingsequence(25nt)-Index1-UMI-repeat1-spacer(4nt)-repeat2-spacer-repeat3-spacer-repeat4-...repeatX-polyA;"
   ]
  },
  {
   "cell_type": "markdown",
   "metadata": {},
   "source": [
    "## define adaptor\n"
   ]
  },
  {
   "cell_type": "code",
   "execution_count": 4,
   "metadata": {},
   "outputs": [],
   "source": [
    "BC001 = \"ACTTTAGG\"\n",
    "BC002 = \"AACGGGAA\"\n",
    "BC003 = \"AGTAGGCT\"\n",
    "BC004 = \"ATGTTGAC\"\n",
    "BC005 = \"ACAGACCT\"\n",
    "BC006 = \"ATCCCAAC\"\n",
    "BC007 = \"AAGTAGAG\"\n",
    "BC008 = \"AGCTGTGA\"\n",
    "BC009 = \"ACAGTCTG\"\n",
    "BC010 = \"AGTGAGTG\"\n",
    "BC011 = \"AGAGGCAA\"\n",
    "BC012 = \"ACTACTCA\"\n",
    "BC013 = \"ATACGTCA\"\n",
    "BC014 = \"ATCATGTG\"\n",
    "BC015 = \"AACGCCGA\"\n",
    "BC016 = \"ATTCGGTT\"\n",
    "\n",
    "Mly1_R_w='GCTTCCTGATGAGTCCGATG'\n",
    "Mly1_F_w='GCAACGACTCCACACTCATA'"
   ]
  },
  {
   "cell_type": "markdown",
   "metadata": {},
   "source": [
    "# TSO(25nt)-flankingsequence(25nt)-Index1-UMI-repeat1-spacer(4nt)-repeat2-spacer-repeat3-spacer-repeat4-...repeatX-polyA;"
   ]
  },
  {
   "cell_type": "code",
   "execution_count": 5,
   "metadata": {},
   "outputs": [],
   "source": [
    "# random combination\n",
    "# spacer=RandomDNA(4)\n",
    "# units=[\"C\",\"TG\",\"AG\"]\n",
    "# str_len=[9,18]\n",
    "# UMI=\"N\"*6\n",
    "# index=BC003\n",
    "# TSO='AAGCAGTGGTATCAACGCAGAGTACAT'\n",
    "# dialout_adaptor_F=Mly1_F_w='GCAACGACTCCACACTCATA'\n",
    "# dialout_adaptor_R=Mly1_R_w='GCTTCCTGATGAGTCCGATG'\n",
    "# l=TSO+dialout_adaptor_F+index+UMI\n",
    "# n=0\n",
    "# while len(l)<1500:\n",
    "#     l=l+random.choice(str_len)*random.choice(units)+spacer\n",
    "#     n=n+1\n",
    "# #     print (l)\n",
    "# print(n)\n",
    "# l=l+dialout_adaptor_R\n",
    "\n",
    "\n",
    "    \n",
    "\n",
    "    \n",
    "    "
   ]
  },
  {
   "cell_type": "code",
   "execution_count": 6,
   "metadata": {},
   "outputs": [],
   "source": [
    "#fix length with units combination\n",
    "def strtracer(index,maxlen=2000,str_len=15,UMIlen=10):\n",
    "    units=[\"AC\",\"C\",\"AG\"]\n",
    "    UMI=\"N\"*UMIlen\n",
    "    TSO='AAGCAGTGGTATCAACGCAGAGTACAT'\n",
    "    dialout_adaptor_F=Mly1_F_w='GCAACGACTCCACACTCATA'\n",
    "    dialout_adaptor_R=Mly1_R_w='GCTTCCTGATGAGTCCGATG'\n",
    "    bridge=RandomDNA(25)\n",
    "    l=partA=TSO+dialout_adaptor_F+index+UMI+bridge\n",
    "    n=0\n",
    "    while len(l)<maxlen-len(partA):\n",
    "        l=l+str_len*random.choice(units)+RandomDNA(str_len)+str_len*random.choice(units)+RandomDNA(str_len)+str_len*random.choice(units)+RandomDNA(str_len)\n",
    "        n=n+3\n",
    "#     print (l)\n",
    "    print(n)\n",
    "    l=str(l+dialout_adaptor_R)\n",
    "    return {\"index\":index,\"partA\":str(partA), \"partB\":l[len(partA)-25:],\"Full\":str(l), \"strs_counts\":n,\"len\":len(l)}"
   ]
  },
  {
   "cell_type": "code",
   "execution_count": 7,
   "metadata": {},
   "outputs": [
    {
     "data": {
      "text/plain": [
       "['TGGCACTCAT',\n",
       " 'ATATGCGCCG',\n",
       " 'TTACCTACGG',\n",
       " 'CTTATCCGGA',\n",
       " 'GCTACTGACG',\n",
       " 'AGCCAATTGC',\n",
       " 'AAGTCGTAAC',\n",
       " 'CTCGGGCAAT',\n",
       " 'TCCATAGGTG',\n",
       " 'GAAGTTCATC']"
      ]
     },
     "execution_count": 7,
     "metadata": {},
     "output_type": "execute_result"
    }
   ],
   "source": [
    "indexes='''TGGCACTCAT\n",
    "ATATGCGCCG\n",
    "TTACCTACGG\n",
    "CTTATCCGGA\n",
    "GCTACTGACG\n",
    "AGCCAATTGC\n",
    "AAGTCGTAAC\n",
    "CTCGGGCAAT\n",
    "TCCATAGGTG\n",
    "GAAGTTCATC'''.split()\n",
    "indexes"
   ]
  },
  {
   "cell_type": "code",
   "execution_count": 8,
   "metadata": {},
   "outputs": [
    {
     "name": "stdout",
     "output_type": "stream",
     "text": [
      "45\n",
      "48\n",
      "48\n",
      "45\n",
      "123\n",
      "123\n",
      "123\n",
      "126\n"
     ]
    }
   ],
   "source": [
    "output=dict()\n",
    "for idx in indexes[:4]:\n",
    "    output[\"2K_\"+str(idx)]=strtracer(index=idx,maxlen=2000,str_len=15,UMIlen=10)\n",
    "for idx in indexes[-4:]:\n",
    "    output[\"5K_\"+str(idx)]=strtracer(index=idx,maxlen=5000,str_len=15,UMIlen=10)"
   ]
  },
  {
   "cell_type": "code",
   "execution_count": 9,
   "metadata": {},
   "outputs": [],
   "source": [
    "\n",
    "df=pd.DataFrame.from_dict(output,orient='index')\n"
   ]
  },
  {
   "cell_type": "code",
   "execution_count": 10,
   "metadata": {},
   "outputs": [
    {
     "data": {
      "text/html": [
       "<div>\n",
       "<style>\n",
       "    .dataframe thead tr:only-child th {\n",
       "        text-align: right;\n",
       "    }\n",
       "\n",
       "    .dataframe thead th {\n",
       "        text-align: left;\n",
       "    }\n",
       "\n",
       "    .dataframe tbody tr th {\n",
       "        vertical-align: top;\n",
       "    }\n",
       "</style>\n",
       "<table border=\"1\" class=\"dataframe\">\n",
       "  <thead>\n",
       "    <tr style=\"text-align: right;\">\n",
       "      <th></th>\n",
       "      <th>index</th>\n",
       "      <th>partA</th>\n",
       "      <th>partB</th>\n",
       "      <th>Full</th>\n",
       "      <th>strs_counts</th>\n",
       "      <th>len</th>\n",
       "    </tr>\n",
       "  </thead>\n",
       "  <tbody>\n",
       "    <tr>\n",
       "      <th>2K_ATATGCGCCG</th>\n",
       "      <td>ATATGCGCCG</td>\n",
       "      <td>AAGCAGTGGTATCAACGCAGAGTACATGCAACGACTCCACACTCAT...</td>\n",
       "      <td>GTAGTCCGAGCGTCCTGTGCGCCGTACACACACACACACACACACA...</td>\n",
       "      <td>AAGCAGTGGTATCAACGCAGAGTACATGCAACGACTCCACACTCAT...</td>\n",
       "      <td>48</td>\n",
       "      <td>1987</td>\n",
       "    </tr>\n",
       "    <tr>\n",
       "      <th>2K_CTTATCCGGA</th>\n",
       "      <td>CTTATCCGGA</td>\n",
       "      <td>AAGCAGTGGTATCAACGCAGAGTACATGCAACGACTCCACACTCAT...</td>\n",
       "      <td>GGCGCCCATGGTGTGATTAACGCAAAGAGAGAGAGAGAGAGAGAGA...</td>\n",
       "      <td>AAGCAGTGGTATCAACGCAGAGTACATGCAACGACTCCACACTCAT...</td>\n",
       "      <td>45</td>\n",
       "      <td>1987</td>\n",
       "    </tr>\n",
       "    <tr>\n",
       "      <th>2K_TGGCACTCAT</th>\n",
       "      <td>TGGCACTCAT</td>\n",
       "      <td>AAGCAGTGGTATCAACGCAGAGTACATGCAACGACTCCACACTCAT...</td>\n",
       "      <td>AAGACTATACAGCGTAACGCAAGGAACACACACACACACACACACA...</td>\n",
       "      <td>AAGCAGTGGTATCAACGCAGAGTACATGCAACGACTCCACACTCAT...</td>\n",
       "      <td>45</td>\n",
       "      <td>1942</td>\n",
       "    </tr>\n",
       "    <tr>\n",
       "      <th>2K_TTACCTACGG</th>\n",
       "      <td>TTACCTACGG</td>\n",
       "      <td>AAGCAGTGGTATCAACGCAGAGTACATGCAACGACTCCACACTCAT...</td>\n",
       "      <td>CAGTAATTTAAAAGAGGTCTAGTCAAGAGAGAGAGAGAGAGAGAGA...</td>\n",
       "      <td>AAGCAGTGGTATCAACGCAGAGTACATGCAACGACTCCACACTCAT...</td>\n",
       "      <td>48</td>\n",
       "      <td>1972</td>\n",
       "    </tr>\n",
       "    <tr>\n",
       "      <th>5K_AAGTCGTAAC</th>\n",
       "      <td>AAGTCGTAAC</td>\n",
       "      <td>AAGCAGTGGTATCAACGCAGAGTACATGCAACGACTCCACACTCAT...</td>\n",
       "      <td>ACGCACAAGCCCAACTGCCGTCGTCCCCCCCCCCCCCCCCTGACGG...</td>\n",
       "      <td>AAGCAGTGGTATCAACGCAGAGTACATGCAACGACTCCACACTCAT...</td>\n",
       "      <td>123</td>\n",
       "      <td>4972</td>\n",
       "    </tr>\n",
       "    <tr>\n",
       "      <th>5K_CTCGGGCAAT</th>\n",
       "      <td>CTCGGGCAAT</td>\n",
       "      <td>AAGCAGTGGTATCAACGCAGAGTACATGCAACGACTCCACACTCAT...</td>\n",
       "      <td>TTCCGCCTTCATGAGGAATCGGCTGACACACACACACACACACACA...</td>\n",
       "      <td>AAGCAGTGGTATCAACGCAGAGTACATGCAACGACTCCACACTCAT...</td>\n",
       "      <td>123</td>\n",
       "      <td>5032</td>\n",
       "    </tr>\n",
       "    <tr>\n",
       "      <th>5K_GAAGTTCATC</th>\n",
       "      <td>GAAGTTCATC</td>\n",
       "      <td>AAGCAGTGGTATCAACGCAGAGTACATGCAACGACTCCACACTCAT...</td>\n",
       "      <td>TTTGACATGCACTAAATATATGTTTCCCCCCCCCCCCCCCGTACCG...</td>\n",
       "      <td>AAGCAGTGGTATCAACGCAGAGTACATGCAACGACTCCACACTCAT...</td>\n",
       "      <td>126</td>\n",
       "      <td>5047</td>\n",
       "    </tr>\n",
       "    <tr>\n",
       "      <th>5K_TCCATAGGTG</th>\n",
       "      <td>TCCATAGGTG</td>\n",
       "      <td>AAGCAGTGGTATCAACGCAGAGTACATGCAACGACTCCACACTCAT...</td>\n",
       "      <td>AGAGCCTGAGGCAAGTGATGCCGTAACACACACACACACACACACA...</td>\n",
       "      <td>AAGCAGTGGTATCAACGCAGAGTACATGCAACGACTCCACACTCAT...</td>\n",
       "      <td>123</td>\n",
       "      <td>4942</td>\n",
       "    </tr>\n",
       "  </tbody>\n",
       "</table>\n",
       "</div>"
      ],
      "text/plain": [
       "                    index                                              partA  \\\n",
       "2K_ATATGCGCCG  ATATGCGCCG  AAGCAGTGGTATCAACGCAGAGTACATGCAACGACTCCACACTCAT...   \n",
       "2K_CTTATCCGGA  CTTATCCGGA  AAGCAGTGGTATCAACGCAGAGTACATGCAACGACTCCACACTCAT...   \n",
       "2K_TGGCACTCAT  TGGCACTCAT  AAGCAGTGGTATCAACGCAGAGTACATGCAACGACTCCACACTCAT...   \n",
       "2K_TTACCTACGG  TTACCTACGG  AAGCAGTGGTATCAACGCAGAGTACATGCAACGACTCCACACTCAT...   \n",
       "5K_AAGTCGTAAC  AAGTCGTAAC  AAGCAGTGGTATCAACGCAGAGTACATGCAACGACTCCACACTCAT...   \n",
       "5K_CTCGGGCAAT  CTCGGGCAAT  AAGCAGTGGTATCAACGCAGAGTACATGCAACGACTCCACACTCAT...   \n",
       "5K_GAAGTTCATC  GAAGTTCATC  AAGCAGTGGTATCAACGCAGAGTACATGCAACGACTCCACACTCAT...   \n",
       "5K_TCCATAGGTG  TCCATAGGTG  AAGCAGTGGTATCAACGCAGAGTACATGCAACGACTCCACACTCAT...   \n",
       "\n",
       "                                                           partB  \\\n",
       "2K_ATATGCGCCG  GTAGTCCGAGCGTCCTGTGCGCCGTACACACACACACACACACACA...   \n",
       "2K_CTTATCCGGA  GGCGCCCATGGTGTGATTAACGCAAAGAGAGAGAGAGAGAGAGAGA...   \n",
       "2K_TGGCACTCAT  AAGACTATACAGCGTAACGCAAGGAACACACACACACACACACACA...   \n",
       "2K_TTACCTACGG  CAGTAATTTAAAAGAGGTCTAGTCAAGAGAGAGAGAGAGAGAGAGA...   \n",
       "5K_AAGTCGTAAC  ACGCACAAGCCCAACTGCCGTCGTCCCCCCCCCCCCCCCCTGACGG...   \n",
       "5K_CTCGGGCAAT  TTCCGCCTTCATGAGGAATCGGCTGACACACACACACACACACACA...   \n",
       "5K_GAAGTTCATC  TTTGACATGCACTAAATATATGTTTCCCCCCCCCCCCCCCGTACCG...   \n",
       "5K_TCCATAGGTG  AGAGCCTGAGGCAAGTGATGCCGTAACACACACACACACACACACA...   \n",
       "\n",
       "                                                            Full  strs_counts  \\\n",
       "2K_ATATGCGCCG  AAGCAGTGGTATCAACGCAGAGTACATGCAACGACTCCACACTCAT...           48   \n",
       "2K_CTTATCCGGA  AAGCAGTGGTATCAACGCAGAGTACATGCAACGACTCCACACTCAT...           45   \n",
       "2K_TGGCACTCAT  AAGCAGTGGTATCAACGCAGAGTACATGCAACGACTCCACACTCAT...           45   \n",
       "2K_TTACCTACGG  AAGCAGTGGTATCAACGCAGAGTACATGCAACGACTCCACACTCAT...           48   \n",
       "5K_AAGTCGTAAC  AAGCAGTGGTATCAACGCAGAGTACATGCAACGACTCCACACTCAT...          123   \n",
       "5K_CTCGGGCAAT  AAGCAGTGGTATCAACGCAGAGTACATGCAACGACTCCACACTCAT...          123   \n",
       "5K_GAAGTTCATC  AAGCAGTGGTATCAACGCAGAGTACATGCAACGACTCCACACTCAT...          126   \n",
       "5K_TCCATAGGTG  AAGCAGTGGTATCAACGCAGAGTACATGCAACGACTCCACACTCAT...          123   \n",
       "\n",
       "                len  \n",
       "2K_ATATGCGCCG  1987  \n",
       "2K_CTTATCCGGA  1987  \n",
       "2K_TGGCACTCAT  1942  \n",
       "2K_TTACCTACGG  1972  \n",
       "5K_AAGTCGTAAC  4972  \n",
       "5K_CTCGGGCAAT  5032  \n",
       "5K_GAAGTTCATC  5047  \n",
       "5K_TCCATAGGTG  4942  "
      ]
     },
     "execution_count": 10,
     "metadata": {},
     "output_type": "execute_result"
    }
   ],
   "source": [
    "df"
   ]
  },
  {
   "cell_type": "code",
   "execution_count": 11,
   "metadata": {},
   "outputs": [],
   "source": [
    "df.to_csv('str_tracer_230314.csv')"
   ]
  },
  {
   "cell_type": "code",
   "execution_count": 12,
   "metadata": {},
   "outputs": [
    {
     "data": {
      "text/plain": [
       "'/gstore/home/taol9/gitsss/yo/strlineage'"
      ]
     },
     "execution_count": 12,
     "metadata": {},
     "output_type": "execute_result"
    }
   ],
   "source": [
    "pwd"
   ]
  },
  {
   "cell_type": "code",
   "execution_count": null,
   "metadata": {},
   "outputs": [],
   "source": []
  }
 ],
 "metadata": {
  "kernelspec": {
   "display_name": "Python 3",
   "language": "python",
   "name": "python3"
  },
  "language_info": {
   "codemirror_mode": {
    "name": "ipython",
    "version": 3
   },
   "file_extension": ".py",
   "mimetype": "text/x-python",
   "name": "python",
   "nbconvert_exporter": "python",
   "pygments_lexer": "ipython3",
   "version": "3.6.3"
  }
 },
 "nbformat": 4,
 "nbformat_minor": 4
}
