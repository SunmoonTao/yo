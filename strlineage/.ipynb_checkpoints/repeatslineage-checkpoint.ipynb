{
 "cells": [
  {
   "cell_type": "code",
   "execution_count": 52,
   "metadata": {},
   "outputs": [],
   "source": [
    "import sys\n",
    "\n",
    "sys.path.append(\"/gstore/project/paneldesign/pkg\")\n",
    "\n",
    "sys.path.append(\"/gstore/home/taol9/gitsss/yo/tao\")\n",
    "\n",
    "from Bio import SeqIO\n",
    "from Bio.Seq import Seq\n",
    "from Bio import Entrez\n",
    "import csv\n",
    "from collections import defaultdict,OrderedDict\n",
    "from collections import Counter\n",
    "import matplotlib.pyplot as plt\n",
    "\n",
    "import pandas as pd\n",
    "import os\n",
    "import pickle\n",
    "import random\n",
    "from myfunc import rc, RandomDNA\n"
   ]
  },
  {
   "cell_type": "code",
   "execution_count": 51,
   "metadata": {},
   "outputs": [
    {
     "name": "stdout",
     "output_type": "stream",
     "text": [
      "Collecting barcode\n",
      "  Using cached https://files.pythonhosted.org/packages/3f/d2/5560221cbbd54c5ea766ec34d0ce79f92436e1564b51c38001eff7e7bd4f/barcode-1.0.2.tar.gz\n",
      "Collecting python-Levenshtein>=0.12.0 (from barcode)\n",
      "  Using cached https://files.pythonhosted.org/packages/c9/bd/fef1536c7ea8d22305c6d54fecf4e7abfc5b4b55782ff9193cdcea4ff8b9/python_Levenshtein-0.20.9-py3-none-any.whl\n",
      "Collecting Levenshtein==0.20.9 (from python-Levenshtein>=0.12.0->barcode)\n",
      "  Using cached https://files.pythonhosted.org/packages/22/ea/b2c2c26477111be2938dca870044583f6e785d952c0c424c7ccf0dbe0144/Levenshtein-0.20.9.tar.gz\n",
      "    Complete output from command python setup.py egg_info:\n",
      "    Traceback (most recent call last):\n",
      "      File \"<string>\", line 1, in <module>\n",
      "      File \"/local/64202154/pip-build-5o3jsi6v/Levenshtein/setup.py\", line 1, in <module>\n",
      "        from skbuild import setup\n",
      "    ModuleNotFoundError: No module named 'skbuild'\n",
      "    \n",
      "    ----------------------------------------\n",
      "\u001b[31mCommand \"python setup.py egg_info\" failed with error code 1 in /local/64202154/pip-build-5o3jsi6v/Levenshtein/\u001b[0m\n"
     ]
    }
   ],
   "source": [
    "# !pip3 install --target /gstore/project/paneldesign/pkg barcode"
   ]
  },
  {
   "cell_type": "code",
   "execution_count": null,
   "metadata": {},
   "outputs": [],
   "source": [
    "def bgen(length,maxstretch=3,distance=3,):\n",
    "    candi=[]\n",
    "    for i in range(30000):\n",
    "        x=str(RandomDNA(length))\n",
    "        if 45<GC(x)<55:\n",
    "            candi.append(x)\n",
    "    candi=barcode.filter_stretches(candi, maxstretch)\n",
    "    candi=barcode.filter_distance(candi, distance)\n",
    "    return candi"
   ]
  },
  {
   "cell_type": "markdown",
   "metadata": {},
   "source": [
    "# TSO(25nt)-flankingsequence(25nt)-Index1-UMI-repeat1-spacer(4nt)-repeat2-spacer-repeat3-spacer-repeat4-...repeatX-polyA;"
   ]
  },
  {
   "cell_type": "markdown",
   "metadata": {},
   "source": [
    "## define adaptor\n"
   ]
  },
  {
   "cell_type": "code",
   "execution_count": 5,
   "metadata": {},
   "outputs": [],
   "source": [
    "BC001 = \"ACTTTAGG\"\n",
    "BC002 = \"AACGGGAA\"\n",
    "BC003 = \"AGTAGGCT\"\n",
    "BC004 = \"ATGTTGAC\"\n",
    "BC005 = \"ACAGACCT\"\n",
    "BC006 = \"ATCCCAAC\"\n",
    "BC007 = \"AAGTAGAG\"\n",
    "BC008 = \"AGCTGTGA\"\n",
    "BC009 = \"ACAGTCTG\"\n",
    "BC010 = \"AGTGAGTG\"\n",
    "BC011 = \"AGAGGCAA\"\n",
    "BC012 = \"ACTACTCA\"\n",
    "BC013 = \"ATACGTCA\"\n",
    "BC014 = \"ATCATGTG\"\n",
    "BC015 = \"AACGCCGA\"\n",
    "BC016 = \"ATTCGGTT\"\n",
    "\n",
    "Mly1_R_w='GCTTCCTGATGAGTCCGATG'\n",
    "Mly1_F_w='GCAACGACTCCACACTCATA'"
   ]
  },
  {
   "cell_type": "markdown",
   "metadata": {},
   "source": [
    "# TSO(25nt)-flankingsequence(25nt)-Index1-UMI-repeat1-spacer(4nt)-repeat2-spacer-repeat3-spacer-repeat4-...repeatX-polyA;"
   ]
  },
  {
   "cell_type": "code",
   "execution_count": 61,
   "metadata": {},
   "outputs": [],
   "source": [
    "# random combination\n",
    "# spacer=RandomDNA(4)\n",
    "# units=[\"C\",\"TG\",\"AG\"]\n",
    "# str_len=[9,18]\n",
    "# UMI=\"N\"*6\n",
    "# index=BC003\n",
    "# TSO='AAGCAGTGGTATCAACGCAGAGTACAT'\n",
    "# dialout_adaptor_F=Mly1_F_w='GCAACGACTCCACACTCATA'\n",
    "# dialout_adaptor_R=Mly1_R_w='GCTTCCTGATGAGTCCGATG'\n",
    "# l=TSO+dialout_adaptor_F+index+UMI\n",
    "# n=0\n",
    "# while len(l)<1500:\n",
    "#     l=l+random.choice(str_len)*random.choice(units)+spacer\n",
    "#     n=n+1\n",
    "# #     print (l)\n",
    "# print(n)\n",
    "# l=l+dialout_adaptor_R\n",
    "\n",
    "\n",
    "    \n",
    "\n",
    "    \n",
    "    "
   ]
  },
  {
   "cell_type": "code",
   "execution_count": 81,
   "metadata": {},
   "outputs": [],
   "source": [
    "#fix length with units combination\n",
    "def strtracer(index,maxlen=2000,str_len=15,UMIlen=10):\n",
    "    spacer=RandomDNA(str_len)\n",
    "    units=[\"AC\",\"C\",\"AG\"]\n",
    "    UMI=\"N\"*UMIlen\n",
    "    TSO='AAGCAGTGGTATCAACGCAGAGTACAT'\n",
    "    dialout_adaptor_F=Mly1_F_w='GCAACGACTCCACACTCATA'\n",
    "    dialout_adaptor_R=Mly1_R_w='GCTTCCTGATGAGTCCGATG'\n",
    "# polyA='A'*30\n",
    "    l=partA=TSO+dialout_adaptor_F+index+UMI+RandomDNA(25)\n",
    "    n=0\n",
    "    while len(l)<maxlen-len(partA):\n",
    "        l=l+str_len*random.choice(units)+spacer+str_len*random.choice(units)+spacer+str_len*random.choice(units)+spacer\n",
    "        n=n+3\n",
    "#     print (l)\n",
    "    print(n)\n",
    "    l=l+dialout_adaptor_R\n",
    "    return {\"index\":index,\"partA\":partA, \"partB\":l[len(partA):],\"Full\":l, \"totalstrs\":n,\"insertslength\":len(l)}"
   ]
  },
  {
   "cell_type": "code",
   "execution_count": 72,
   "metadata": {},
   "outputs": [
    {
     "data": {
      "text/plain": [
       "['TGGCACTCAT',\n",
       " 'ATATGCGCCG',\n",
       " 'TTACCTACGG',\n",
       " 'CTTATCCGGA',\n",
       " 'GCTACTGACG',\n",
       " 'AGCCAATTGC',\n",
       " 'AAGTCGTAAC',\n",
       " 'CTCGGGCAAT',\n",
       " 'TCCATAGGTG',\n",
       " 'GAAGTTCATC']"
      ]
     },
     "execution_count": 72,
     "metadata": {},
     "output_type": "execute_result"
    }
   ],
   "source": [
    "indexes='''TGGCACTCAT\n",
    "ATATGCGCCG\n",
    "TTACCTACGG\n",
    "CTTATCCGGA\n",
    "GCTACTGACG\n",
    "AGCCAATTGC\n",
    "AAGTCGTAAC\n",
    "CTCGGGCAAT\n",
    "TCCATAGGTG\n",
    "GAAGTTCATC'''.split()\n",
    "indexes"
   ]
  },
  {
   "cell_type": "code",
   "execution_count": 82,
   "metadata": {},
   "outputs": [
    {
     "name": "stdout",
     "output_type": "stream",
     "text": [
      "48\n",
      "48\n",
      "45\n",
      "48\n",
      "120\n",
      "123\n",
      "123\n",
      "120\n"
     ]
    }
   ],
   "source": [
    "output=dict()\n",
    "for idx in indexes[:4]:\n",
    "    output[\"2K_\"+str(idx)]=strtracer(index,maxlen=2000,str_len=15,UMIlen=10)\n",
    "for idx in indexes[-4:]:\n",
    "    output[\"5K_\"+str(idx)]=strtracer(index,maxlen=5000,str_len=15,UMIlen=10)"
   ]
  },
  {
   "cell_type": "markdown",
   "metadata": {},
   "source": [
    "# order probes in 200uM DDW, hplc if possible"
   ]
  },
  {
   "cell_type": "code",
   "execution_count": null,
   "metadata": {},
   "outputs": [],
   "source": []
  },
  {
   "cell_type": "markdown",
   "metadata": {},
   "source": [
    "# entrez\n",
    "\n",
    "https://www.ncbi.nlm.nih.gov/books/NBK25499/#chapter4.EFetch"
   ]
  },
  {
   "cell_type": "markdown",
   "metadata": {},
   "source": [
    "# get human cds"
   ]
  },
  {
   "cell_type": "code",
   "execution_count": 178,
   "metadata": {},
   "outputs": [],
   "source": [
    "def get_cds(gene,organism='human'):\n",
    "    records=[]\n",
    "    #query ids\n",
    "    handle = Entrez.esearch(db=\"nuccore\", term=\"{}[Orgn] AND {}[Gene]\".format(organism,gene))\n",
    "    record = Entrez.read(handle)\n",
    "    for idx in record[\"IdList\"]:\n",
    "        try:\n",
    "            Entrez.email = \"A.N.Other@example.com\"     # Always tell NCBI who you are\n",
    "            handle = Entrez.efetch(db=\"nuccore\", id=idx, rettype=\"fasta_cds_na\", retmode=\"text\")\n",
    "            filename = gene+str(idx)+\".fasta\"\n",
    "            if not os.path.isfile(filename):\n",
    "                with open(filename, \"w\") as out_handle:\n",
    "                    out_handle.write(handle.read())\n",
    "                print(gene,idx,\" Saved\")\n",
    "\n",
    "                print(\"Parsing...\")\n",
    "                record = SeqIO.read(filename, \"fasta\")\n",
    "                records.append(record)\n",
    "        except:\n",
    "            continue\n",
    "    return records"
   ]
  },
  {
   "cell_type": "code",
   "execution_count": 179,
   "metadata": {},
   "outputs": [
    {
     "name": "stdout",
     "output_type": "stream",
     "text": [
      "DNAJB1 1890333839  Saved\n",
      "Parsing...\n",
      "DNAJB1 1890327943  Saved\n",
      "Parsing...\n",
      "DNAJB1 1519245283  Saved\n",
      "Parsing...\n",
      "DNAJB1 2194972797  Saved\n",
      "Parsing...\n",
      "DNAJB1 568815579  Saved\n",
      "Parsing...\n",
      "DNAJB1 2217320975  Saved\n",
      "Parsing...\n",
      "DNAJB1 2217320973  Saved\n",
      "Parsing...\n",
      "DNAJB1 2217320972  Saved\n",
      "Parsing...\n",
      "DNAJB1 2217320971  Saved\n",
      "Parsing...\n",
      "DNAJB1 329299062  Saved\n",
      "Parsing...\n",
      "DNAJB1 74273663  Saved\n",
      "Parsing...\n",
      "DNAJB1 71515761  Saved\n",
      "Parsing...\n",
      "DNAJB1 38197192  Saved\n",
      "Parsing...\n",
      "DNAJB1 18044281  Saved\n",
      "Parsing...\n",
      "DNAJB1 39760203  Saved\n",
      "Parsing...\n",
      "DNAJB1 49456314  Saved\n",
      "Parsing...\n",
      "DNAJB1 49168457  Saved\n",
      "Parsing...\n",
      "DNAJB1 208966143  Saved\n",
      "Parsing...\n",
      "DNAJB1 168150060  Saved\n",
      "Parsing...\n",
      "DNAJB1 168150059  Saved\n",
      "Parsing...\n"
     ]
    }
   ],
   "source": [
    "DNAJB1=get_cds(\"DNAJB1\")"
   ]
  },
  {
   "cell_type": "code",
   "execution_count": 183,
   "metadata": {},
   "outputs": [],
   "source": [
    "for r in DNAJB1:\n",
    "    if 'CCDS12312.1' in r.description:\n",
    "        DNAJB1_CDS=r.seq"
   ]
  },
  {
   "cell_type": "code",
   "execution_count": 187,
   "metadata": {},
   "outputs": [
    {
     "data": {
      "text/plain": [
       "557"
      ]
     },
     "execution_count": 187,
     "metadata": {},
     "output_type": "execute_result"
    }
   ],
   "source": [
    "186*3-1"
   ]
  },
  {
   "cell_type": "code",
   "execution_count": 194,
   "metadata": {},
   "outputs": [
    {
     "data": {
      "text/plain": [
       "Seq('TCC')"
      ]
     },
     "execution_count": 194,
     "metadata": {},
     "output_type": "execute_result"
    }
   ],
   "source": [
    "DNAJB1_CDS[555:186*3]"
   ]
  },
  {
   "cell_type": "code",
   "execution_count": 264,
   "metadata": {},
   "outputs": [
    {
     "name": "stdout",
     "output_type": "stream",
     "text": [
      "118 22 22\n"
     ]
    }
   ],
   "source": [
    "# control probes\n",
    "# DNAJB1, S186S, \n",
    "DNAJB1_flex=flex_padlock(DNAJB1_CDS, \"c.558C>A\")"
   ]
  },
  {
   "cell_type": "code",
   "execution_count": null,
   "metadata": {},
   "outputs": [],
   "source": [
    "# write to file"
   ]
  },
  {
   "cell_type": "code",
   "execution_count": null,
   "metadata": {},
   "outputs": [],
   "source": [
    "KRAS_flex=flex_padlock(KRAS_CDS,'c.34G>T')\n",
    "FGFR1_flex=flex_padlock(FGFR1_CDS, \"c.719G>A\")\n",
    "TP63_flex=flex_padlock(TP63_CDS,'c.1090G>A')\n",
    "PTPRC_flex=flex_padlock(PTPRC, \"c.2306T>A\")\n",
    "DNAJB1_flex=flex_padlock(DNAJB1_CDS, \"c.558C>A\")"
   ]
  },
  {
   "cell_type": "code",
   "execution_count": 289,
   "metadata": {},
   "outputs": [],
   "source": [
    "targets={'KRAS':{'CDS':KRAS_CDS,'mutation_list':['c.34G>T',]},\n",
    "         'FGFR1':{'CDS':FGFR1_CDS, 'mutation_list':[\"c.719G>A\",]},\n",
    "         'TP63':{'CDS':TP63_CDS,'mutation_list':['c.1090G>A',]},\n",
    "         \"PTPRC\":{'CDS':PTPRC, 'mutation_list':[\"c.2306T>A\",]},\n",
    "         \"DNAJB1\":{'CDS':DNAJB1_CDS, 'mutation_list':[\"c.558C>A\",]},\n",
    "          }"
   ]
  },
  {
   "cell_type": "code",
   "execution_count": 290,
   "metadata": {},
   "outputs": [],
   "source": [
    "output=dict()\n",
    "for gene, info in targets.items():\n",
    "    CDS=info['CDS']\n",
    "    mutation_list=info['mutation_list']\n",
    "    for mut in mutation_list:\n",
    "        output[gene+\"_\"+mut]=flex_padlock(CDS, mut)\n",
    "df=pd.DataFrame.from_dict(output,orient='index')\n"
   ]
  },
  {
   "cell_type": "code",
   "execution_count": 291,
   "metadata": {},
   "outputs": [],
   "source": [
    "df.to_csv('flex_dna_probes_230300.csv')"
   ]
  },
  {
   "cell_type": "code",
   "execution_count": 298,
   "metadata": {},
   "outputs": [],
   "source": [
    "to_order={}\n",
    "for k, i in output.items():\n",
    "    for kk,ii in i.items():\n",
    "        to_order[kk+'_'+k]=ii\n",
    "ddf=pd.DataFrame.from_dict(to_order,orient=\"index\")\n"
   ]
  },
  {
   "cell_type": "code",
   "execution_count": 300,
   "metadata": {},
   "outputs": [],
   "source": [
    "ddf['len']=ddf[0].apply(len)"
   ]
  },
  {
   "cell_type": "code",
   "execution_count": 304,
   "metadata": {},
   "outputs": [],
   "source": [
    "ddf.sort_index(inplace=True)"
   ]
  },
  {
   "cell_type": "code",
   "execution_count": 306,
   "metadata": {},
   "outputs": [],
   "source": [
    "ddf.to_csv('flex_dan_probes_230310_toorder.csv')"
   ]
  },
  {
   "cell_type": "code",
   "execution_count": null,
   "metadata": {},
   "outputs": [],
   "source": []
  }
 ],
 "metadata": {
  "kernelspec": {
   "display_name": "Python 3",
   "language": "python",
   "name": "python3"
  },
  "language_info": {
   "codemirror_mode": {
    "name": "ipython",
    "version": 3
   },
   "file_extension": ".py",
   "mimetype": "text/x-python",
   "name": "python",
   "nbconvert_exporter": "python",
   "pygments_lexer": "ipython3",
   "version": "3.6.3"
  }
 },
 "nbformat": 4,
 "nbformat_minor": 4
}
