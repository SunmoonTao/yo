{
 "cells": [
  {
   "cell_type": "code",
   "execution_count": 3,
   "metadata": {},
   "outputs": [],
   "source": [
    "import sys\n",
    "\n",
    "sys.path.append(\"/gstore/project/paneldesign/pkg\")\n",
    "\n",
    "sys.path.append(\"/gstore/home/taol9/gitsss/yo/tao\")\n",
    "# import primer3\n",
    "from Bio import SeqIO\n",
    "from Bio.Seq import Seq\n",
    "from Bio import Entrez\n",
    "import csv\n",
    "from collections import defaultdict,OrderedDict\n",
    "from collections import Counter\n",
    "import matplotlib.pyplot as plt\n",
    "\n",
    "import pandas as pd\n",
    "import os\n",
    "import pickle\n",
    "\n",
    "from mybasic import rc, RandomDNA\n"
   ]
  },
  {
   "cell_type": "markdown",
   "metadata": {},
   "source": [
    "# TSO(25nt)-flankingsequence(25nt)-Index1-UMI-repeat1-spacer(4nt)-repeat2-spacer-repeat3-spacer-repeat4-...repeatX-polyA;"
   ]
  },
  {
   "cell_type": "markdown",
   "metadata": {},
   "source": [
    "## define adaptor\n"
   ]
  },
  {
   "cell_type": "code",
   "execution_count": 287,
   "metadata": {},
   "outputs": [],
   "source": [
    "BC001 = \"ACTTTAGG\"\n",
    "BC002 = \"AACGGGAA\"\n",
    "BC003 = \"AGTAGGCT\"\n",
    "BC004 = \"ATGTTGAC\"\n",
    "BC005 = \"ACAGACCT\"\n",
    "BC006 = \"ATCCCAAC\"\n",
    "BC007 = \"AAGTAGAG\"\n",
    "BC008 = \"AGCTGTGA\"\n",
    "BC009 = \"ACAGTCTG\"\n",
    "BC010 = \"AGTGAGTG\"\n",
    "BC011 = \"AGAGGCAA\"\n",
    "BC012 = \"ACTACTCA\"\n",
    "BC013 = \"ATACGTCA\"\n",
    "BC014 = \"ATCATGTG\"\n",
    "BC015 = \"AACGCCGA\"\n",
    "BC016 = \"ATTCGGTT\"\n",
    "\n",
    "Mly1_R_w='GCTTCCTGATGAGTCCGATG'\n",
    "Mly1_F_w='GCAACGACTCCACACTCATA'"
   ]
  },
  {
   "cell_type": "code",
   "execution_count": null,
   "metadata": {},
   "outputs": [],
   "source": [
    "# TSO(25nt)-flankingsequence(25nt)-Index1-UMI-repeat1-spacer(4nt)-repeat2-spacer-repeat3-spacer-repeat4-...repeatX-polyA;"
   ]
  },
  {
   "cell_type": "code",
   "execution_count": null,
   "metadata": {},
   "outputs": [],
   "source": [
    "\n",
    "spacer=RandomDNA(4)\n",
    "units=[\"C\",\"TG\",\"AG\"]\n",
    "str_len=[6,9,15,18]\n",
    "UMI=\"N\"*6\n",
    "index=BC003\n",
    "TSO='AAGCAGTGGTATCAACGCAGAGTACAT'\n",
    "dialout_adaptor_F=Mly1_F_w='GCAACGACTCCACACTCATA'\n",
    "dialout_adaptor_R=Mly1_R_w='GCTTCCTGATGAGTCCGATG'\n",
    "l=TSO+dialout_adaptor_F+index+UMI\n",
    "\n",
    "while len(l)<2000:\n",
    "    l=l+random.choice(str_len)*random.choice(units)+spacer\n",
    "\n",
    "    \n",
    "\n",
    "    \n",
    "    "
   ]
  },
  {
   "cell_type": "code",
   "execution_count": 288,
   "metadata": {},
   "outputs": [],
   "source": [
    "# use B013\n",
    "# use LNA base primer for snv_dialout when run with rna probes\n",
    "# max lenght set to 120 for rna probes\n",
    "BC013 = \"ATACGTCA\"\n",
    "snv_dialout_adaptor=Mly1_F_w='GCAACGACTCCACACTCATA'\n",
    "\n",
    "def flex_padlock(template,mutation,probeset_barcode_8nt=\"ATACGTCA\",snv_dialout_adaptor='GCAACGACTCCACACTCATA'):\n",
    "    target_LHS=get_target_LHS(template,mutation)\n",
    "\n",
    "    target_RHS=get_target_RHS(template,mutation)\n",
    "    left_arm0=snv_dialout_adaptor+\"CCTTGGCACCCGAGAATTCCA\"+target_LHS[0]\n",
    "    left_arm1=snv_dialout_adaptor+\"CCTTGGCACCCGAGAATTCCA\"+target_LHS[1]\n",
    "\n",
    "    right_arm=\"/5Phos/\"+target_RHS+\"ACGCGGTTAGCACGTANN\"+probeset_barcode_8nt+\"CGGTCCTAGCAA\"\n",
    "    #fulllib:\n",
    "    #p7+i7+left_arm+right_arm+10xumi+10xcellbarcode+read1seqprimer+i5+p5\n",
    "#     left_arm_snv=snv_dialout_adaptor+\"CCTTGGCACCCGAGAATTCCA\"+target_LHS\n",
    "    padlock_ref=right_arm+snv_dialout_adaptor+\"CCTTGGCACCCGAGAATTCCA\"+target_LHS[0]\n",
    "    padlock_alt=right_arm+snv_dialout_adaptor+\"CCTTGGCACCCGAGAATTCCA\"+target_LHS[1]\n",
    "#     print (len(target_RHS+\"ACGCGGTTAGCACGTANN\"+probeset_barcode_8nt+\"CGGTCCTAGCAA\")+len(left_arm0), len(target_LHS[0]),len(target_RHS))\n",
    "\n",
    "    return {'LHS_ref':left_arm0, 'target_LHS_ref':target_LHS[0], 'LHS_mut':left_arm1, 'target_LHS_mut':target_LHS[1],'target_RHS':target_RHS,\"RHS\":right_arm, \"padlock_ref\":padlock_ref, \"padlock_alt\":padlock_alt,}"
   ]
  },
  {
   "cell_type": "code",
   "execution_count": 219,
   "metadata": {},
   "outputs": [],
   "source": [
    "# convert to padlock probe"
   ]
  },
  {
   "cell_type": "code",
   "execution_count": 245,
   "metadata": {},
   "outputs": [],
   "source": [
    "KRAS_CDS='''ATGACTGAATATAAACTTGTGGTAGTTGGAGCTGGTGGCGTAGGCAAGAGTGCCTTGACGATACAGCTAATTCAGAATCATTTTGTGGACGAATATGATCCAACAATAGAGGATTCCTAC\n",
    "AGGAAGCAAGTAGTAATTGATGGAGAAACCTGTCTCTTGGATATTCTCGACACAGCAGGT\n",
    "CAAGAGGAGTACAGTGCAATGAGGGACCAGTACATGAGGACTGGGGAGGGCTTTCTTTGT\n",
    "GTATTTGCCATAAATAATACTAAATCATTTGAAGATATTCACCATTATAGAGAACAAATT\n",
    "AAAAGAGTTAAGGACTCTGAAGATGTACCTATGGTCCTAGTAGGAAATAAATGTGATTTG\n",
    "CCTTCTAGAACAGTAGACACAAAACAGGCTCAGGACTTAGCAAGAAGTTATGGAATTCCT\n",
    "TTTATTGAAACATCAGCAAAGACAAGACAGAGAGTGGAGGATGCTTTTTATACATTGGTG\n",
    "AGAGAGATCCGACAATACAGATTGAAAAAAATCAGCAAAGAAGAAAAGACTCCTGGCTGT\n",
    "GTGAAAATTAAAAAATGCATTATAATGTAA'''\n",
    "KRAS_CDS=KRAS_CDS.replace('\\n','')\n",
    "\n"
   ]
  },
  {
   "cell_type": "code",
   "execution_count": 260,
   "metadata": {},
   "outputs": [
    {
     "name": "stdout",
     "output_type": "stream",
     "text": [
      "118 22 22\n"
     ]
    },
    {
     "data": {
      "text/plain": [
       "{'LHS_ref': 'GACTCCACACTCATACCTTGGCACCCGAGAATTCCAAGGCACTCTTGCCTACGCCACC',\n",
       " 'target_LHS_ref': 'AGGCACTCTTGCCTACGCCACC',\n",
       " 'LHS_mut': 'GACTCCACACTCATACCTTGGCACCCGAGAATTCCAGGCACTCTTGCCTACGCCACCA',\n",
       " 'target_LHS_mut': 'GGCACTCTTGCCTACGCCACCA',\n",
       " 'target_RHS': 'AGCTCCAACTACCACAAGTTTA',\n",
       " 'RHS': '/5Phos/AGCTCCAACTACCACAAGTTTAACGCGGTTAGCACGTANNATACGTCACGGTCCTAGCAA',\n",
       " 'padlock_ref': '/5Phos/AGCTCCAACTACCACAAGTTTAACGCGGTTAGCACGTANNATACGTCACGGTCCTAGCAAGACTCCACACTCATACCTTGGCACCCGAGAATTCCAAGGCACTCTTGCCTACGCCACC',\n",
       " 'padlock_alt': '/5Phos/AGCTCCAACTACCACAAGTTTAACGCGGTTAGCACGTANNATACGTCACGGTCCTAGCAAGACTCCACACTCATACCTTGGCACCCGAGAATTCCAGGCACTCTTGCCTACGCCACCA'}"
      ]
     },
     "execution_count": 260,
     "metadata": {},
     "output_type": "execute_result"
    }
   ],
   "source": [
    "KRAS_flex=flex_padlock(KRAS_CDS,'c.34G>T')\n",
    "KRAS_flex"
   ]
  },
  {
   "cell_type": "code",
   "execution_count": 91,
   "metadata": {},
   "outputs": [],
   "source": [
    "TP63_CDS='''ATGAATTTTGAAACTTCACGGTGTGCCACCCTACAGTACTGCCCTGACCCTTACATCCAGCGTTTCGTAG\n",
    "AAACCCCAGCTCATTTCTCTTGGAAAGAAAGTTATTACCGATCCACCATGTCCCAGAGCACACAGACAAA\n",
    "TGAATTCCTCAGTCCAGAGGTTTTCCAGCATATCTGGGATTTTCTGGAACAGCCTATATGTTCAGTTCAG\n",
    "CCCATTGACTTGAACTTTGTGGATGAACCATCAGAAGATGGTGCGACAAACAAGATTGAGATTAGCATGG\n",
    "ACTGTATCCGCATGCAGGACTCGGACCTGAGTGACCCCATGTGGCCACAGTACACGAACCTGGGGCTCCT\n",
    "GAACAGCATGGACCAGCAGATTCAGAACGGCTCCTCGTCCACCAGTCCCTATAACACAGACCACGCGCAG\n",
    "AACAGCGTCACGGCGCCCTCGCCCTACGCACAGCCCAGCTCCACCTTCGATGCTCTCTCTCCATCACCCG\n",
    "CCATCCCCTCCAACACCGACTACCCAGGCCCGCACAGTTTCGACGTGTCCTTCCAGCAGTCGAGCACCGC\n",
    "CAAGTCGGCCACCTGGACGTATTCCACTGAACTGAAGAAACTCTACTGCCAAATTGCAAAGACATGCCCC\n",
    "ATCCAGATCAAGGTGATGACCCCACCTCCTCAGGGAGCTGTTATCCGCGCCATGCCTGTCTACAAAAAAG\n",
    "CTGAGCACGTCACGGAGGTGGTGAAGCGGTGCCCCAACCATGAGCTGAGCCGTGAATTCAACGAGGGACA\n",
    "GATTGCCCCTCCTAGTCATTTGATTCGAGTAGAGGGGAACAGCCATGCCCAGTATGTAGAAGATCCCATC\n",
    "ACAGGAAGACAGAGTGTGCTGGTACCTTATGAGCCACCCCAGGTTGGCACTGAATTCACGACAGTCTTGT\n",
    "ACAATTTCATGTGTAACAGCAGTTGTGTTGGAGGGATGAACCGCCGTCCAATTTTAATCATTGTTACTCT\n",
    "GGAAACCAGAGATGGGCAAGTCCTGGGCCGACGCTGCTTTGAGGCCCGGATCTGTGCTTGCCCAGGAAGA\n",
    "GACAGGAAGGCGGATGAAGATAGCATCAGAAAGCAGCAAGTTTCGGACAGTACAAAGAACGGTGATGGTA\n",
    "CGAAGCGCCCGTTTCGTCAGAACACACATGGTATCCAGATGACATCCATCAAGAAACGAAGATCCCCAGA\n",
    "TGATGAACTGTTATACTTACCAGTGAGGGGCCGTGAGACTTATGAAATGCTGTTGAAGATCAAAGAGTCC\n",
    "CTGGAACTCATGCAGTACCTTCCTCAGCACACAATTGAAACGTACAGGCAACAGCAACAGCAGCAGCACC\n",
    "AGCACTTACTTCAGAAACAGACCTCAATACAGTCTCCATCTTCATATGGTAACAGCTCCCCACCTCTGAA\n",
    "CAAAATGAACAGCATGAACAAGCTGCCTTCTGTGAGCCAGCTTATCAACCCTCAGCAGCGCAACGCCCTC\n",
    "ACTCCTACAACCATTCCTGATGGCATGGGAGCCAACATTCCCATGATGGGCACCCACATGCCAATGGCTG\n",
    "GAGACATGAATGGACTCAGCCCCACCCAGGCACTCCCTCCCCCACTCTCCATGCCATCCACCTCCCACTG\n",
    "CACACCCCCACCTCCGTATCCCACAGATTGCAGCATTGTCAGTTTCTTAGCGAGGTTGGGCTGTTCATCA\n",
    "TGTCTGGACTATTTCACGACCCAGGGGCTGACCACCATCTATCAGATTGAGCATTACTCCATGGATGATC\n",
    "TGGCAAGTCTGAAAATCCCTGAGCAATTTCGACATGCGATCTGGAAGGGCATCCTGGACCACCGGCAGCT\n",
    "CCACGAATTCTCCTCCCCTTCTCATCTCCTGCGGACCCCAAGCAGTGCCTCTACAGTCAGTGTGGGCTCC\n",
    "AGTGAGACCCGGGGTGAGCGTGTTATTGATGCTGTGCGATTCACCCTCCGCCAGACCATCTCTTTCCCAC\n",
    "CCCGAGATGAGTGGAATGACTTCAACTTTGACATGGATGCTCGCCGCAATAAGCAACAGCGCATCAAAGA\n",
    "GGAGGGGGAGTGA'''.replace('\\n','')"
   ]
  },
  {
   "cell_type": "code",
   "execution_count": 250,
   "metadata": {},
   "outputs": [
    {
     "name": "stdout",
     "output_type": "stream",
     "text": [
      "118 22 22\n"
     ]
    },
    {
     "data": {
      "text/plain": [
       "{'LHS_ref': 'GACTCCACACTCATACCTTGGCACCCGAGAATTCCACGTTCTTTGTACTGTCCGAAAC',\n",
       " 'target_LHS_ref': 'CGTTCTTTGTACTGTCCGAAAC',\n",
       " 'LHS_mut': 'GACTCCACACTCATACCTTGGCACCCGAGAATTCCAGTTCTTTGTACTGTCCGAAACT',\n",
       " 'target_LHS_mut': 'GTTCTTTGTACTGTCCGAAACT',\n",
       " 'target_RHS': 'TTGCTGCTTTCTGATGCTATCT',\n",
       " 'RHS': '/5Phos/TTGCTGCTTTCTGATGCTATCTACGCGGTTAGCACGTANNATACGTCACGGTCCTAGCAA',\n",
       " 'padlock_ref': '/5Phos/TTGCTGCTTTCTGATGCTATCTACGCGGTTAGCACGTANNATACGTCACGGTCCTAGCAAGACTCCACACTCATACCTTGGCACCCGAGAATTCCACGTTCTTTGTACTGTCCGAAAC',\n",
       " 'padlock_alt': '/5Phos/TTGCTGCTTTCTGATGCTATCTACGCGGTTAGCACGTANNATACGTCACGGTCCTAGCAAGACTCCACACTCATACCTTGGCACCCGAGAATTCCAGTTCTTTGTACTGTCCGAAACT'}"
      ]
     },
     "execution_count": 250,
     "metadata": {},
     "output_type": "execute_result"
    }
   ],
   "source": [
    "TP63_flex=flex_padlock(TP63_CDS,'c.1090G>A')\n",
    "TP63_flex"
   ]
  },
  {
   "cell_type": "code",
   "execution_count": 93,
   "metadata": {},
   "outputs": [],
   "source": [
    "FGFR1_CDS='''ATGGAGGCAAGGGTCAGTTTGAAAAGGAGGATCGAGCTCACTGTGGAGTATCCATGGAGATGTGGAGCCT\n",
    "TGTCACCAACCTCTAACTGCAGAACTGGGATGTGGAGCTGGAAGTGCCTCCTCTTCTGGGCTGTGCTGGT\n",
    "CACAGCCACACTCTGCACCGCTAGGCCGTCCCCGACCTTGCCTGAACAAGCCCAGCCCTGGGGAGCCCCT\n",
    "GTGGAAGTGGAGTCCTTCCTGGTCCACCCCGGTGACCTGCTGCAGCTTCGCTGTCGGCTGCGGGACGATG\n",
    "TGCAGAGCATCAACTGGCTGCGGGACGGGGTGCAGCTGGCGGAAAGCAACCGCACCCGCATCACAGGGGA\n",
    "GGAGGTGGAGGTGCAGGACTCCGTGCCCGCAGACTCCGGCCTCTATGCTTGCGTAACCAGCAGCCCCTCG\n",
    "GGCAGTGACACCACCTACTTCTCCGTCAATGTTTCAGATGCTCTCCCCTCCTCGGAGGATGATGATGATG\n",
    "ATGATGACTCCTCTTCAGAGGAGAAAGAAACAGATAACACCAAACCAAACCCCGTAGCTCCATATTGGAC\n",
    "ATCCCCAGAAAAGATGGAAAAGAAATTGCATGCAGTGCCGGCTGCCAAGACAGTGAAGTTCAAATGCCCT\n",
    "TCCAGTGGGACCCCAAACCCCACACTGCGCTGGTTGAAAAATGGCAAAGAATTCAAACCTGACCACAGAA\n",
    "TTGGAGGCTACAAGGTCCGTTATGCCACCTGGAGCATCATAATGGACTCTGTGGTGCCCTCTGACAAGGG\n",
    "CAACTACACCTGCATTGTGGAGAATGAGTACGGCAGCATCAACCACACATACCAGCTGGATGTCGTGGAG\n",
    "CGGTCCCCTCACCGGCCCATCCTGCAAGCAGGGTTGCCCGCCAACAAAACAGTGGCCCTGGGTAGCAACG\n",
    "TGGAGTTCATGTGTAAGGTGTACAGTGACCCGCAGCCGCACATCCAGTGGCTAAAGCACATCGAGGTGAA\n",
    "TGGGAGCAAGATTGGCCCAGACAACCTGCCTTATGTCCAGATCTTGAAGACTGCTGGAGTTAATACCACC\n",
    "GACAAAGAGATGGAGGTGCTTCACTTAAGAAATGTCTCCTTTGAGGACGCAGGGGAGTATACGTGCTTGG\n",
    "CGGGTAACTCTATCGGACTCTCCCATCACTCTGCATGGTTGACCGTTCTGGAAGCCCTGGAAGAGAGGCC\n",
    "GGCAGTGATGACCTCGCCCCTGTACCTGGAGATCATCATCTATTGCACAGGGGCCTTCCTCATCTCCTGC\n",
    "ATGGTGGGGTCGGTCATCGTCTACAAGATGAAGAGTGGTACCAAGAAGAGTGACTTCCACAGCCAGATGG\n",
    "CTGTGCACAAGCTGGCCAAGAGCATCCCTCTGCGCAGACAGGTAACAGTGTCTGCTGACTCCAGTGCATC\n",
    "CATGAACTCTGGGGTTCTTCTGGTTCGGCCATCACGGCTCTCCTCCAGTGGGACTCCCATGCTAGCAGGG\n",
    "GTCTCTGAGTATGAGCTTCCCGAAGACCCTCGCTGGGAGCTGCCTCGGGACAGACTGGTCTTAGGCAAAC\n",
    "CCCTGGGAGAGGGCTGCTTTGGGCAGGTGGTGTTGGCAGAGGCTATCGGGCTGGACAAGGACAAACCCAA\n",
    "CCGTGTGACCAAAGTGGCTGTGAAGATGTTGAAGTCGGACGCAACAGAGAAAGACTTGTCAGACCTGATC\n",
    "TCAGAAATGGAGATGATGAAGATGATCGGGAAGCATAAGAATATCATCAACCTGCTGGGGGCCTGCACGC\n",
    "AGGATGGTCCCTTGTATGTCATCGTGGAGTATGCCTCCAAGGGCAACCTGCGGGAGTACCTGCAGGCCCG\n",
    "GAGGCCCCCAGGGCTGGAATACTGCTACAACCCCAGCCACAACCCAGAGGAGCAGCTCTCCTCCAAGGAC\n",
    "CTGGTGTCCTGCGCCTACCAGGTGGCCCGAGGCATGGAGTATCTGGCCTCCAAGAAGTGCATACACCGAG\n",
    "ACCTGGCAGCCAGGAATGTCCTGGTGACAGAGGACAATGTGATGAAGATAGCAGACTTTGGCCTCGCACG\n",
    "GGACATTCACCACATCGACTACTATAAAAAGACAACCAACGGCCGACTGCCTGTGAAGTGGATGGCACCC\n",
    "GAGGCATTATTTGACCGGATCTACACCCACCAGAGTGATGTGTGGTCTTTCGGGGTGCTCCTGTGGGAGA\n",
    "TCTTCACTCTGGGCGGCTCCCCATACCCCGGTGTGCCTGTGGAGGAACTTTTCAAGCTGCTGAAGGAGGG\n",
    "TCACCGCATGGACAAGCCCAGTAACTGCACCAACGAGCTGTACATGATGATGCGGGACTGCTGGCATGCA\n",
    "GTGCCCTCACAGAGACCCACCTTCAAGCAGCTGGTGGAAGACCTGGACCGCATCGTGGCCTTGACCTCCA\n",
    "ACCAGGAGTACCTGGACCTGTCCATGCCCCTGGACCAGTACTCCCCCAGCTTTCCCGACACCCGGAGCTC\n",
    "TACGTGCTCCTCAGGGGAGGATTCCGTCTTCTCTCATGAGCCGCTGCCCGAGGAGCCCTGCCTGCCCCGA\n",
    "CACCCAGCCCAGCTTGCCAATGGCGGACTCAAACGCCGCTGA'''.replace('\\n','')"
   ]
  },
  {
   "cell_type": "code",
   "execution_count": 251,
   "metadata": {},
   "outputs": [
    {
     "name": "stdout",
     "output_type": "stream",
     "text": [
      "118 22 22\n"
     ]
    },
    {
     "data": {
      "text/plain": [
       "{'LHS_ref': 'GACTCCACACTCATACCTTGGCACCCGAGAATTCCAATGATGCTCCAGGTGGCATAAC',\n",
       " 'target_LHS_ref': 'ATGATGCTCCAGGTGGCATAAC',\n",
       " 'LHS_mut': 'GACTCCACACTCATACCTTGGCACCCGAGAATTCCATGATGCTCCAGGTGGCATAACT',\n",
       " 'target_LHS_mut': 'TGATGCTCCAGGTGGCATAACT',\n",
       " 'target_RHS': 'GGACCTTGTAGCCTCCAATTCT',\n",
       " 'RHS': '/5Phos/GGACCTTGTAGCCTCCAATTCTACGCGGTTAGCACGTANNATACGTCACGGTCCTAGCAA',\n",
       " 'padlock_ref': '/5Phos/GGACCTTGTAGCCTCCAATTCTACGCGGTTAGCACGTANNATACGTCACGGTCCTAGCAAGACTCCACACTCATACCTTGGCACCCGAGAATTCCAATGATGCTCCAGGTGGCATAAC',\n",
       " 'padlock_alt': '/5Phos/GGACCTTGTAGCCTCCAATTCTACGCGGTTAGCACGTANNATACGTCACGGTCCTAGCAAGACTCCACACTCATACCTTGGCACCCGAGAATTCCATGATGCTCCAGGTGGCATAACT'}"
      ]
     },
     "execution_count": 251,
     "metadata": {},
     "output_type": "execute_result"
    }
   ],
   "source": [
    "FGFR1_flex=flex_padlock(FGFR1_CDS, \"c.719G>A\")\n",
    "FGFR1_flex"
   ]
  },
  {
   "cell_type": "code",
   "execution_count": null,
   "metadata": {},
   "outputs": [],
   "source": [
    "### https://cancer.sanger.ac.uk/cosmic/mutation/overview?id=130818805"
   ]
  },
  {
   "cell_type": "code",
   "execution_count": 200,
   "metadata": {},
   "outputs": [],
   "source": [
    "PTPRC='''ATGACCATGTATTTGTGGCTTAAACTCTTGGCATTTGGCTTTGCCTTTCTGGACACAGAAGTATTTGTGA\n",
    "CAGGGCAAAGCCCAACACCTTCCCCCACTGGATTGACTACAGCAAAGATGCCCAGTGTTCCACTTTCAAG\n",
    "TGACCCCTTACCTACTCACACCACTGCATTCTCACCCGCAAGCACCTTTGAAAGAGAAAATGACTTCTCA\n",
    "GAGACCACAACTTCTCTTAGTCCAGACAATACTTCCACCCAAGTATCCCCGGACTCTTTGGATAATGCTA\n",
    "GTGCTTTTAATACCACAGGTGTTTCATCAGTACAGACGCCTCACCTTCCCACGCACGCAGACTCGCAGAC\n",
    "GCCCTCTGCTGGAACTGACACGCAGACATTCAGCGGCTCCGCCGCCAATGCAAAACTCAACCCTACCCCA\n",
    "GGCAGCAATGCTATCTCAGATGTCCCAGGAGAGAGGAGTACAGCCAGCACCTTTCCTACAGACCCAGTTT\n",
    "CCCCATTGACAACCACCCTCAGCCTTGCACACCACAGCTCTGCTGCCTTACCTGCACGCACCTCCAACAC\n",
    "CACCATCACAGCGAACACCTCAGATGCCTACCTTAATGCCTCTGAAACAACCACTCTGAGCCCTTCTGGA\n",
    "AGCGCTGTCATTTCAACCACAACAATAGCTACTACTCCATCTAAGCCAACATGTGATGAAAAATATGCAA\n",
    "ACATCACTGTGGATTACTTATATAACAAGGAAACTAAATTATTTACAGCAAAGCTAAATGTTAATGAGAA\n",
    "TGTGGAATGTGGAAACAATACTTGCACAAACAATGAGGTGCATAACCTTACAGAATGTAAAAATGCGTCT\n",
    "GTTTCCATATCTCATAATTCATGTACTGCTCCTGATAAGACATTAATATTAGATGTGCCACCAGGGGTTG\n",
    "AAAAGTTTCAGTTACATGATTGTACACAAGTTGAAAAAGCAGATACTACTATTTGTTTAAAATGGAAAAA\n",
    "TATTGAAACCTTTACTTGTGATACACAGAATATTACCTACAGATTTCAGTGTGGTAATATGATATTTGAT\n",
    "AATAAAGAAATTAAATTAGAAAACCTTGAACCCGAACATGAGTATAAGTGTGACTCAGAAATACTCTATA\n",
    "ATAACCACAAGTTTACTAACGCAAGTAAAATTATTAAAACAGATTTTGGGAGTCCAGGAGAGCCTCAGAT\n",
    "TATTTTTTGTAGAAGTGAAGCTGCACATCAAGGAGTAATTACCTGGAATCCCCCTCAAAGATCATTTCAT\n",
    "AATTTTACCCTCTGTTATATAAAAGAGACAGAAAAAGATTGCCTCAATCTGGATAAAAACCTGATCAAAT\n",
    "ATGATTTGCAAAATTTAAAACCTTATACGAAATATGTTTTATCATTACATGCCTACATCATTGCAAAAGT\n",
    "GCAACGTAATGGAAGTGCTGCAATGTGTCATTTCACAACTAAAAGTGCTCCTCCAAGCCAGGTCTGGAAC\n",
    "ATGACTGTCTCCATGACATCAGATAATAGTATGCATGTCAAGTGTAGGCCTCCCAGGGACCGTAATGGCC\n",
    "CCCATGAACGTTACCATTTGGAAGTTGAAGCTGGAAATACTCTGGTTAGAAATGAGTCGCATAAGAATTG\n",
    "CGATTTCCGTGTAAAAGATCTTCAATATTCAACAGACTACACTTTTAAGGCCTATTTTCACAATGGAGAC\n",
    "TATCCTGGAGAACCCTTTATTTTACATCATTCAACATCTTATAATTCTAAGGCACTGATAGCATTTCTGG\n",
    "CATTTCTGATTATTGTGACATCAATAGCCCTGCTTGTTGTTCTCTACAAAATCTATGATCTACATAAGAA\n",
    "AAGATCCTGCAATTTAGATGAACAGCAGGAGCTTGTTGAAAGGGATGATGAAAAACAACTGATGAATGTG\n",
    "GAGCCAATCCATGCAGATATTTTGTTGGAAACTTATAAGAGGAAGATTGCTGATGAAGGAAGACTTTTTC\n",
    "TGGCTGAATTTCAGAGCATCCCGCGGGTGTTCAGCAAGTTTCCTATAAAGGAAGCTCGAAAGCCCTTTAA\n",
    "CCAGAATAAAAACCGTTATGTTGACATTCTTCCTTATGATTATAACCGTGTTGAACTCTCTGAGATAAAC\n",
    "GGAGATGCAGGGTCAAACTACATAAATGCCAGCTATATTGATGGTTTCAAAGAACCCAGGAAATACATTG\n",
    "CTGCACAAGGTCCCAGGGATGAAACTGTTGATGATTTCTGGAGGATGATTTGGGAACAGAAAGCCACAGT\n",
    "TATTGTCATGGTCACTCGATGTGAAGAAGGAAACAGGAACAAGTGTGCAGAATACTGGCCGTCAATGGAA\n",
    "GAGGGCACTCGGGCTTTTGGAGATGTTGTTGTAAAGATCAACCAGCACAAAAGATGTCCAGATTACATCA\n",
    "TTCAGAAATTGAACATTGTAAATAAAAAAGAAAAAGCAACTGGAAGAGAGGTGACTCACATTCAGTTCAC\n",
    "CAGCTGGCCAGACCACGGGGTGCCTGAGGATCCTCACTTGCTCCTCAAACTGAGAAGGAGAGTGAATGCC\n",
    "TTCAGCAATTTCTTCAGTGGTCCCATTGTGGTGCACTGCAGTGCTGGTGTTGGGCGCACAGGAACCTATA\n",
    "TCGGAATTGATGCCATGCTAGAAGGCCTGGAAGCCGAGAACAAAGTGGATGTTTATGGTTATGTTGTCAA\n",
    "GCTAAGGCGACAGAGATGCCTGATGGTTCAAGTAGAGGCCCAGTACATCTTGATCCATCAGGCTTTGGTG\n",
    "GAATACAATCAGTTTGGAGAAACAGAAGTGAATTTGTCTGAATTACATCCATATCTACATAACATGAAGA\n",
    "AAAGGGATCCACCCAGTGAGCCGTCTCCACTAGAGGCTGAATTCCAGAGACTTCCTTCATATAGGAGCTG\n",
    "GAGGACACAGCACATTGGAAATCAAGAAGAAAATAAAAGTAAAAACAGGAATTCTAATGTCATCCCATAT\n",
    "GACTATAACAGAGTGCCACTTAAACATGAGCTGGAAATGAGTAAAGAGAGTGAGCATGATTCAGATGAAT\n",
    "CCTCTGATGATGACAGTGATTCAGAGGAACCAAGCAAATACATCAATGCATCTTTTATAATGAGCTACTG\n",
    "GAAACCTGAAGTGATGATTGCTGCTCAGGGACCACTGAAGGAGACCATTGGTGACTTTTGGCAGATGATC\n",
    "TTCCAAAGAAAAGTCAAAGTTATTGTTATGCTGACAGAACTGAAACATGGAGACCAGGAAATCTGTGCTC\n",
    "AGTACTGGGGAGAAGGAAAGCAAACATATGGAGATATTGAAGTTGACCTGAAAGACACAGACAAATCTTC\n",
    "AACTTATACCCTTCGTGTCTTTGAACTGAGACATTCCAAGAGGAAAGACTCTCGAACTGTGTACCAGTAC\n",
    "CAATATACAAACTGGAGTGTGGAGCAGCTTCCTGCAGAACCCAAGGAATTAATCTCTATGATTCAGGTCG\n",
    "TCAAACAAAAACTTCCCCAGAAGAATTCCTCTGAAGGGAACAAGCATCACAAGAGTACACCTCTACTCAT\n",
    "TCACTGCAGGGATGGATCTCAGCAAACGGGAATATTTTGTGCTTTGTTAAATCTCTTAGAAAGTGCGGAA\n",
    "ACAGAAGAGGTAGTGGATATTTTTCAAGTGGTAAAAGCTCTACGCAAAGCTAGGCCAGGCATGGTTTCCA\n",
    "CATTCGAGCAATATCAATTCCTATATGACGTCATTGCCAGCACCTACCCTGCTCAGAATGGACAAGTAAA\n",
    "GAAAAACAACCATCAAGAAGATAAAATTGAATTTGATAATGAAGTGGACAAAGTAAAGCAGGATGCTAAT\n",
    "TGTGTTAATCCACTTGGTGCCCCAGAAAAGCTCCCTGAAGCAAAGGAACAGGCTGAAGGTTCTGAACCCA\n",
    "CGAGTGGCACTGAGGGGCCAGAACATTCTGTCAATGGTCCTGCAAGTCCAGCTTTAAATCAAGGTTCATA\n",
    "G'''.replace('\\n','')"
   ]
  },
  {
   "cell_type": "markdown",
   "metadata": {},
   "source": [
    "COSMIC: p.M769I; \"c.2307G>A\"\n",
    "Bing: M769K, T>A, \"c.2306T>A\""
   ]
  },
  {
   "cell_type": "code",
   "execution_count": null,
   "metadata": {},
   "outputs": [],
   "source": []
  },
  {
   "cell_type": "code",
   "execution_count": 252,
   "metadata": {},
   "outputs": [
    {
     "name": "stdout",
     "output_type": "stream",
     "text": [
      "118 22 22\n"
     ]
    },
    {
     "data": {
      "text/plain": [
       "{'LHS_ref': 'GACTCCACACTCATACCTTGGCACCCGAGAATTCCAAAAGCCCGAGTGCCCTCTTCCA',\n",
       " 'target_LHS_ref': 'AAAGCCCGAGTGCCCTCTTCCA',\n",
       " 'LHS_mut': 'GACTCCACACTCATACCTTGGCACCCGAGAATTCCAAAGCCCGAGTGCCCTCTTCCAT',\n",
       " 'target_LHS_mut': 'AAGCCCGAGTGCCCTCTTCCAT',\n",
       " 'target_RHS': 'TTGACGGCCAGTATTCTGCACA',\n",
       " 'RHS': '/5Phos/TTGACGGCCAGTATTCTGCACAACGCGGTTAGCACGTANNATACGTCACGGTCCTAGCAA',\n",
       " 'padlock_ref': '/5Phos/TTGACGGCCAGTATTCTGCACAACGCGGTTAGCACGTANNATACGTCACGGTCCTAGCAAGACTCCACACTCATACCTTGGCACCCGAGAATTCCAAAAGCCCGAGTGCCCTCTTCCA',\n",
       " 'padlock_alt': '/5Phos/TTGACGGCCAGTATTCTGCACAACGCGGTTAGCACGTANNATACGTCACGGTCCTAGCAAGACTCCACACTCATACCTTGGCACCCGAGAATTCCAAAGCCCGAGTGCCCTCTTCCAT'}"
      ]
     },
     "execution_count": 252,
     "metadata": {},
     "output_type": "execute_result"
    }
   ],
   "source": [
    "PTPRC_flex=flex_padlock(PTPRC, \"c.2306T>A\")\n",
    "PTPRC_flex"
   ]
  },
  {
   "cell_type": "markdown",
   "metadata": {},
   "source": [
    "# order probes in 200uM DDW, hplc if possible"
   ]
  },
  {
   "cell_type": "code",
   "execution_count": null,
   "metadata": {},
   "outputs": [],
   "source": []
  },
  {
   "cell_type": "markdown",
   "metadata": {},
   "source": [
    "# entrez\n",
    "\n",
    "https://www.ncbi.nlm.nih.gov/books/NBK25499/#chapter4.EFetch"
   ]
  },
  {
   "cell_type": "markdown",
   "metadata": {},
   "source": [
    "# get human cds"
   ]
  },
  {
   "cell_type": "code",
   "execution_count": 178,
   "metadata": {},
   "outputs": [],
   "source": [
    "def get_cds(gene,organism='human'):\n",
    "    records=[]\n",
    "    #query ids\n",
    "    handle = Entrez.esearch(db=\"nuccore\", term=\"{}[Orgn] AND {}[Gene]\".format(organism,gene))\n",
    "    record = Entrez.read(handle)\n",
    "    for idx in record[\"IdList\"]:\n",
    "        try:\n",
    "            Entrez.email = \"A.N.Other@example.com\"     # Always tell NCBI who you are\n",
    "            handle = Entrez.efetch(db=\"nuccore\", id=idx, rettype=\"fasta_cds_na\", retmode=\"text\")\n",
    "            filename = gene+str(idx)+\".fasta\"\n",
    "            if not os.path.isfile(filename):\n",
    "                with open(filename, \"w\") as out_handle:\n",
    "                    out_handle.write(handle.read())\n",
    "                print(gene,idx,\" Saved\")\n",
    "\n",
    "                print(\"Parsing...\")\n",
    "                record = SeqIO.read(filename, \"fasta\")\n",
    "                records.append(record)\n",
    "        except:\n",
    "            continue\n",
    "    return records"
   ]
  },
  {
   "cell_type": "code",
   "execution_count": 179,
   "metadata": {},
   "outputs": [
    {
     "name": "stdout",
     "output_type": "stream",
     "text": [
      "DNAJB1 1890333839  Saved\n",
      "Parsing...\n",
      "DNAJB1 1890327943  Saved\n",
      "Parsing...\n",
      "DNAJB1 1519245283  Saved\n",
      "Parsing...\n",
      "DNAJB1 2194972797  Saved\n",
      "Parsing...\n",
      "DNAJB1 568815579  Saved\n",
      "Parsing...\n",
      "DNAJB1 2217320975  Saved\n",
      "Parsing...\n",
      "DNAJB1 2217320973  Saved\n",
      "Parsing...\n",
      "DNAJB1 2217320972  Saved\n",
      "Parsing...\n",
      "DNAJB1 2217320971  Saved\n",
      "Parsing...\n",
      "DNAJB1 329299062  Saved\n",
      "Parsing...\n",
      "DNAJB1 74273663  Saved\n",
      "Parsing...\n",
      "DNAJB1 71515761  Saved\n",
      "Parsing...\n",
      "DNAJB1 38197192  Saved\n",
      "Parsing...\n",
      "DNAJB1 18044281  Saved\n",
      "Parsing...\n",
      "DNAJB1 39760203  Saved\n",
      "Parsing...\n",
      "DNAJB1 49456314  Saved\n",
      "Parsing...\n",
      "DNAJB1 49168457  Saved\n",
      "Parsing...\n",
      "DNAJB1 208966143  Saved\n",
      "Parsing...\n",
      "DNAJB1 168150060  Saved\n",
      "Parsing...\n",
      "DNAJB1 168150059  Saved\n",
      "Parsing...\n"
     ]
    }
   ],
   "source": [
    "DNAJB1=get_cds(\"DNAJB1\")"
   ]
  },
  {
   "cell_type": "code",
   "execution_count": 183,
   "metadata": {},
   "outputs": [],
   "source": [
    "for r in DNAJB1:\n",
    "    if 'CCDS12312.1' in r.description:\n",
    "        DNAJB1_CDS=r.seq"
   ]
  },
  {
   "cell_type": "code",
   "execution_count": 187,
   "metadata": {},
   "outputs": [
    {
     "data": {
      "text/plain": [
       "557"
      ]
     },
     "execution_count": 187,
     "metadata": {},
     "output_type": "execute_result"
    }
   ],
   "source": [
    "186*3-1"
   ]
  },
  {
   "cell_type": "code",
   "execution_count": 194,
   "metadata": {},
   "outputs": [
    {
     "data": {
      "text/plain": [
       "Seq('TCC')"
      ]
     },
     "execution_count": 194,
     "metadata": {},
     "output_type": "execute_result"
    }
   ],
   "source": [
    "DNAJB1_CDS[555:186*3]"
   ]
  },
  {
   "cell_type": "code",
   "execution_count": 264,
   "metadata": {},
   "outputs": [
    {
     "name": "stdout",
     "output_type": "stream",
     "text": [
      "118 22 22\n"
     ]
    }
   ],
   "source": [
    "# control probes\n",
    "# DNAJB1, S186S, \n",
    "DNAJB1_flex=flex_padlock(DNAJB1_CDS, \"c.558C>A\")"
   ]
  },
  {
   "cell_type": "code",
   "execution_count": null,
   "metadata": {},
   "outputs": [],
   "source": [
    "# write to file"
   ]
  },
  {
   "cell_type": "code",
   "execution_count": null,
   "metadata": {},
   "outputs": [],
   "source": [
    "KRAS_flex=flex_padlock(KRAS_CDS,'c.34G>T')\n",
    "FGFR1_flex=flex_padlock(FGFR1_CDS, \"c.719G>A\")\n",
    "TP63_flex=flex_padlock(TP63_CDS,'c.1090G>A')\n",
    "PTPRC_flex=flex_padlock(PTPRC, \"c.2306T>A\")\n",
    "DNAJB1_flex=flex_padlock(DNAJB1_CDS, \"c.558C>A\")"
   ]
  },
  {
   "cell_type": "code",
   "execution_count": 289,
   "metadata": {},
   "outputs": [],
   "source": [
    "targets={'KRAS':{'CDS':KRAS_CDS,'mutation_list':['c.34G>T',]},\n",
    "         'FGFR1':{'CDS':FGFR1_CDS, 'mutation_list':[\"c.719G>A\",]},\n",
    "         'TP63':{'CDS':TP63_CDS,'mutation_list':['c.1090G>A',]},\n",
    "         \"PTPRC\":{'CDS':PTPRC, 'mutation_list':[\"c.2306T>A\",]},\n",
    "         \"DNAJB1\":{'CDS':DNAJB1_CDS, 'mutation_list':[\"c.558C>A\",]},\n",
    "          }"
   ]
  },
  {
   "cell_type": "code",
   "execution_count": 290,
   "metadata": {},
   "outputs": [],
   "source": [
    "output=dict()\n",
    "for gene, info in targets.items():\n",
    "    CDS=info['CDS']\n",
    "    mutation_list=info['mutation_list']\n",
    "    for mut in mutation_list:\n",
    "        output[gene+\"_\"+mut]=flex_padlock(CDS, mut)\n",
    "df=pd.DataFrame.from_dict(output,orient='index')\n"
   ]
  },
  {
   "cell_type": "code",
   "execution_count": 291,
   "metadata": {},
   "outputs": [],
   "source": [
    "df.to_csv('flex_dna_probes_230300.csv')"
   ]
  },
  {
   "cell_type": "code",
   "execution_count": 298,
   "metadata": {},
   "outputs": [],
   "source": [
    "to_order={}\n",
    "for k, i in output.items():\n",
    "    for kk,ii in i.items():\n",
    "        to_order[kk+'_'+k]=ii\n",
    "ddf=pd.DataFrame.from_dict(to_order,orient=\"index\")\n"
   ]
  },
  {
   "cell_type": "code",
   "execution_count": 300,
   "metadata": {},
   "outputs": [],
   "source": [
    "ddf['len']=ddf[0].apply(len)"
   ]
  },
  {
   "cell_type": "code",
   "execution_count": 304,
   "metadata": {},
   "outputs": [],
   "source": [
    "ddf.sort_index(inplace=True)"
   ]
  },
  {
   "cell_type": "code",
   "execution_count": 306,
   "metadata": {},
   "outputs": [],
   "source": [
    "ddf.to_csv('flex_dan_probes_230310_toorder.csv')"
   ]
  },
  {
   "cell_type": "code",
   "execution_count": null,
   "metadata": {},
   "outputs": [],
   "source": []
  }
 ],
 "metadata": {
  "kernelspec": {
   "display_name": "Python 3",
   "language": "python",
   "name": "python3"
  },
  "language_info": {
   "codemirror_mode": {
    "name": "ipython",
    "version": 3
   },
   "file_extension": ".py",
   "mimetype": "text/x-python",
   "name": "python",
   "nbconvert_exporter": "python",
   "pygments_lexer": "ipython3",
   "version": "3.6.3"
  }
 },
 "nbformat": 4,
 "nbformat_minor": 4
}
