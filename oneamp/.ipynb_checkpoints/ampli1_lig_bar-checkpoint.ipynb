{
 "cells": [
  {
   "cell_type": "code",
   "execution_count": 19,
   "metadata": {},
   "outputs": [],
   "source": [
    "\n",
    "import sys\n",
    "\n",
    "sys.path.append(\"/gstore/project/paneldesign/pkg\")\n",
    "\n",
    "sys.path.append(\"/gstore/home/taol9/gitsss/yo/tao\")\n",
    "# import primer3\n",
    "from Bio import SeqIO\n",
    "from Bio.Seq import Seq\n",
    "from Bio import Entrez\n",
    "import csv\n",
    "import pandas as pd\n",
    "from collections import defaultdict,OrderedDict\n",
    "from collections import Counter\n",
    "import matplotlib.pyplot as plt\n",
    "\n",
    "import pandas as pd\n",
    "import os\n",
    "import pickle\n",
    "from Bio import SeqIO\n",
    "from Bio.Seq import Seq\n",
    "from Bio import Entrez\n",
    "import csv\n",
    "import pandas as pd\n",
    "from collections import defaultdict,OrderedDict\n",
    "from collections import Counter\n",
    "import matplotlib.pyplot as plt\n",
    "import csv\n",
    "from Bio.Seq import Seq\n",
    "\n",
    "from myfunc import *\n",
    "import barcode\n",
    "# from myfunc import primers2mips, rc\n"
   ]
  },
  {
   "cell_type": "code",
   "execution_count": null,
   "metadata": {},
   "outputs": [
    {
     "name": "stdout",
     "output_type": "stream",
     "text": [
      "Collecting barcode\n",
      "  Using cached barcode-1.0.2-py3-none-any.whl\n",
      "Collecting python-Levenshtein>=0.12.0\n",
      "  Using cached python_Levenshtein-0.20.9-py3-none-any.whl (9.4 kB)\n",
      "Collecting Levenshtein==0.20.9\n",
      "  Using cached Levenshtein-0.20.9-cp36-cp36m-manylinux_2_17_x86_64.manylinux2014_x86_64.whl (177 kB)\n"
     ]
    }
   ],
   "source": [
    "!pip install --target /gstore/project/paneldesign/pkg barcode \n"
   ]
  },
  {
   "cell_type": "code",
   "execution_count": 9,
   "metadata": {},
   "outputs": [
    {
     "name": "stdout",
     "output_type": "stream",
     "text": [
      "[Errno 2] No such file or directory: '/home/jupyter/gitsss/notebooks/'\n",
      "/gstore/home/taol9/gitsss/yo/oneamp\n"
     ]
    }
   ],
   "source": [
    "cd /home/jupyter/gitsss/notebooks/"
   ]
  },
  {
   "cell_type": "code",
   "execution_count": 10,
   "metadata": {},
   "outputs": [
    {
     "data": {
      "text/plain": [
       "'/gstore/home/taol9/gitsss/yo/oneamp'"
      ]
     },
     "execution_count": 10,
     "metadata": {},
     "output_type": "execute_result"
    }
   ],
   "source": [
    "pwd"
   ]
  },
  {
   "cell_type": "code",
   "execution_count": null,
   "metadata": {},
   "outputs": [],
   "source": []
  },
  {
   "cell_type": "code",
   "execution_count": null,
   "metadata": {},
   "outputs": [],
   "source": []
  },
  {
   "cell_type": "markdown",
   "metadata": {},
   "source": [
    "# barcoded ligation"
   ]
  },
  {
   "cell_type": "code",
   "execution_count": 11,
   "metadata": {},
   "outputs": [
    {
     "ename": "NameError",
     "evalue": "name 'bgen' is not defined",
     "output_type": "error",
     "traceback": [
      "\u001b[0;31m---------------------------------------------------------------------------\u001b[0m",
      "\u001b[0;31mNameError\u001b[0m                                 Traceback (most recent call last)",
      "\u001b[0;32m<ipython-input-11-01867bdff4b0>\u001b[0m in \u001b[0;36m<module>\u001b[0;34m\u001b[0m\n\u001b[0;32m----> 1\u001b[0;31m \u001b[0mlig_barcodes\u001b[0m\u001b[0;34m=\u001b[0m\u001b[0mbgen\u001b[0m\u001b[0;34m(\u001b[0m\u001b[0;36m8\u001b[0m\u001b[0;34m,\u001b[0m\u001b[0mmaxstretch\u001b[0m\u001b[0;34m=\u001b[0m\u001b[0;36m2\u001b[0m\u001b[0;34m,\u001b[0m\u001b[0mdistance\u001b[0m\u001b[0;34m=\u001b[0m\u001b[0;36m3\u001b[0m\u001b[0;34m)\u001b[0m\u001b[0;34m\u001b[0m\u001b[0m\n\u001b[0m\u001b[1;32m      2\u001b[0m \u001b[0mlig_barcodes\u001b[0m\u001b[0;34m=\u001b[0m\u001b[0;34m[\u001b[0m\u001b[0mb\u001b[0m \u001b[0;32mfor\u001b[0m \u001b[0mb\u001b[0m \u001b[0;32min\u001b[0m \u001b[0mlig_barcodes\u001b[0m \u001b[0;32mif\u001b[0m \u001b[0mb\u001b[0m\u001b[0;34m[\u001b[0m\u001b[0;34m-\u001b[0m\u001b[0;36m1\u001b[0m\u001b[0;34m]\u001b[0m\u001b[0;34m!=\u001b[0m\u001b[0;34m'T'\u001b[0m\u001b[0;34m]\u001b[0m  \u001b[0;31m# rule out barcodes T is the last base\u001b[0m\u001b[0;34m\u001b[0m\u001b[0m\n\u001b[1;32m      3\u001b[0m \u001b[0;34m\u001b[0m\u001b[0m\n\u001b[1;32m      4\u001b[0m \u001b[0mumi\u001b[0m\u001b[0;34m=\u001b[0m\u001b[0;34m'YY'\u001b[0m  \u001b[0;31m# TC\u001b[0m\u001b[0;34m\u001b[0m\u001b[0m\n\u001b[1;32m      5\u001b[0m \u001b[0mrcumi\u001b[0m\u001b[0;34m=\u001b[0m\u001b[0;34m'RR'\u001b[0m \u001b[0;31m# AG\u001b[0m\u001b[0;34m\u001b[0m\u001b[0m\n",
      "\u001b[0;31mNameError\u001b[0m: name 'bgen' is not defined"
     ]
    }
   ],
   "source": [
    "lig_barcodes=bgen(8,maxstretch=2,distance=3)\n",
    "lig_barcodes=[b for b in lig_barcodes if b[-1]!='T']  # rule out barcodes T is the last base\n",
    "\n",
    "umi='YY'  # TC\n",
    "rcumi='RR' # AG\n",
    "candidates=dict()\n",
    "for bar in lig_barcodes:\n",
    "    tmp=dict()\n",
    "    long_strand=\"TAGTGGGATTCCTGCTGTCAGT\"+umi+bar\n",
    "    short_strand=\"TA\"+rc(bar)+rcumi\n",
    "    tmp[\"long_strand\"]=long_strand\n",
    "    tmp[\"short_strand\"]=short_strand\n",
    "    candidates[bar]=tmp\n",
    "    "
   ]
  },
  {
   "cell_type": "code",
   "execution_count": null,
   "metadata": {},
   "outputs": [],
   "source": [
    "candidates"
   ]
  },
  {
   "cell_type": "code",
   "execution_count": null,
   "metadata": {},
   "outputs": [],
   "source": [
    "!mkdir ../oneamp"
   ]
  },
  {
   "cell_type": "code",
   "execution_count": null,
   "metadata": {},
   "outputs": [],
   "source": []
  },
  {
   "cell_type": "code",
   "execution_count": 44,
   "metadata": {},
   "outputs": [],
   "source": [
    "dftt=pd.DataFrame.from_dict(candidates,orient='index')\n",
    "outname='../oneamp/ampli_bar_lig_adaptor.xlsx'\n",
    "dftt.to_excel(outname)"
   ]
  },
  {
   "cell_type": "code",
   "execution_count": 43,
   "metadata": {},
   "outputs": [],
   "source": [
    "df = dftt.sample(n=24)\n",
    "outname='../oneamp/ampli_bar_lig_adaptor_24.xlsx'\n",
    "df.to_excel(outname)"
   ]
  },
  {
   "cell_type": "code",
   "execution_count": 18,
   "metadata": {},
   "outputs": [
    {
     "data": {
      "text/plain": [
       "'CAAGCAGAAGACGGCATACGAGAT'"
      ]
     },
     "execution_count": 18,
     "metadata": {},
     "output_type": "execute_result"
    }
   ],
   "source": [
    "p7_c"
   ]
  },
  {
   "cell_type": "markdown",
   "metadata": {},
   "source": [
    "# pcr amp primer for stnd ampliwga kit, can be shared with bar lig libs"
   ]
  },
  {
   "cell_type": "code",
   "execution_count": 16,
   "metadata": {},
   "outputs": [],
   "source": [
    "# ampli1_MseLig_21=\"AGTGGGATTCCGCATGCTAGC\"\n",
    "\n",
    "ampli_universal=\"TAGTGGGATTCCTGCTGTCAGT\"\n",
    "ampli1_kit_adaptor=\"AGTGGGATTCCTGCTGTCAGT\"\n",
    "HT_R1SP_w ='ACACTCTTTCCCTACACGACGCTCTTCCGATCT'\n",
    "HT_R2SP_w ='AGATCGGAAGAGCACACGTCTGAACTCCAGTCAC'\n",
    "\n",
    "p5_w = \"AATGATACGGCGACCACCGAGATCTACAC\"\n",
    "p7_w = 'ATCTCGTATGCCGTCTTCTGCTTG'\n",
    "\n",
    "\n",
    "ME_w=\"AGATGTGTATAAGAGACAG\"\n",
    "\n",
    "NT_s5_w=\"TCGTCGGCAGCGTC\"\n",
    "NT_s7_c=\"GTCTCGTGGGCTCGG\"\n",
    "\n",
    "HT_R2SP_c =  rc(HT_R2SP_w) \n",
    "HT_R1SP_c =rc(HT_R1SP_w)\n",
    "\n",
    "p7_c = rc(p7_w)\n",
    "p5_c = rc(p5_w)\n",
    "\n",
    "ME_w=\"AGATGTGTATAAGAGACAG\"\n",
    "\n",
    "NT_s5_w=\"TCGTCGGCAGCGTC\"\n",
    "NT_s7_c=\"GTCTCGTGGGCTCGG\"\n",
    "T7_w=\"TAATACGACTCACTATAG\""
   ]
  },
  {
   "cell_type": "code",
   "execution_count": 13,
   "metadata": {},
   "outputs": [],
   "source": [
    "def bgen(length,maxstretch=3,distance=3,):\n",
    "    candi=[]\n",
    "    for i in range(30000):\n",
    "        x=str(RandomDNA(length))\n",
    "        if 45<GC(x)<55:\n",
    "            candi.append(x)\n",
    "    candi=barcode.filter_stretches(candi, maxstretch)\n",
    "    candi=barcode.filter_distance(candi, distance)\n",
    "    return candi"
   ]
  },
  {
   "cell_type": "code",
   "execution_count": 14,
   "metadata": {},
   "outputs": [
    {
     "data": {
      "text/plain": [
       "406"
      ]
     },
     "execution_count": 14,
     "metadata": {},
     "output_type": "execute_result"
    }
   ],
   "source": [
    "idxs=bgen(8,3)\n",
    "len(idxs)"
   ]
  },
  {
   "cell_type": "code",
   "execution_count": 15,
   "metadata": {},
   "outputs": [
    {
     "ename": "NameError",
     "evalue": "name 'NT_s7_w' is not defined",
     "output_type": "error",
     "traceback": [
      "\u001b[0;31m---------------------------------------------------------------------------\u001b[0m",
      "\u001b[0;31mNameError\u001b[0m                                 Traceback (most recent call last)",
      "\u001b[0;32m<ipython-input-15-bcf90dc460df>\u001b[0m in \u001b[0;36m<module>\u001b[0;34m\u001b[0m\n\u001b[1;32m      4\u001b[0m     \u001b[0mtmp\u001b[0m\u001b[0;34m[\u001b[0m\u001b[0;34m'idx7'\u001b[0m\u001b[0;34m]\u001b[0m\u001b[0;34m=\u001b[0m\u001b[0;34m\"lib7_\"\u001b[0m\u001b[0;34m+\u001b[0m\u001b[0mstr\u001b[0m\u001b[0;34m(\u001b[0m\u001b[0midxs\u001b[0m\u001b[0;34m[\u001b[0m\u001b[0mi\u001b[0m\u001b[0;34m]\u001b[0m\u001b[0;34m)\u001b[0m\u001b[0;34m\u001b[0m\u001b[0m\n\u001b[1;32m      5\u001b[0m     \u001b[0mtmp\u001b[0m\u001b[0;34m[\u001b[0m\u001b[0;34m'idx5'\u001b[0m\u001b[0;34m]\u001b[0m\u001b[0;34m=\u001b[0m\u001b[0;34m'lib5_'\u001b[0m\u001b[0;34m+\u001b[0m\u001b[0mstr\u001b[0m\u001b[0;34m(\u001b[0m\u001b[0midxs\u001b[0m\u001b[0;34m[\u001b[0m\u001b[0;34m-\u001b[0m\u001b[0mi\u001b[0m\u001b[0;34m]\u001b[0m\u001b[0;34m)\u001b[0m\u001b[0;34m\u001b[0m\u001b[0m\n\u001b[0;32m----> 6\u001b[0;31m     \u001b[0mAdaptorA\u001b[0m\u001b[0;34m=\u001b[0m\u001b[0mp7_w\u001b[0m\u001b[0;34m+\u001b[0m\u001b[0midxs\u001b[0m\u001b[0;34m[\u001b[0m\u001b[0mi\u001b[0m\u001b[0;34m]\u001b[0m\u001b[0;34m+\u001b[0m\u001b[0mNT_s7_w\u001b[0m\u001b[0;34m+\u001b[0m\u001b[0mampli_universal\u001b[0m\u001b[0;34m\u001b[0m\u001b[0m\n\u001b[0m\u001b[1;32m      7\u001b[0m     \u001b[0mAdaptorB\u001b[0m\u001b[0;34m=\u001b[0m\u001b[0mp5_w\u001b[0m\u001b[0;34m+\u001b[0m\u001b[0midxs\u001b[0m\u001b[0;34m[\u001b[0m\u001b[0;34m-\u001b[0m\u001b[0mi\u001b[0m\u001b[0;34m]\u001b[0m\u001b[0;34m+\u001b[0m\u001b[0mNT_s5_w\u001b[0m\u001b[0;34m+\u001b[0m\u001b[0mampli_universal\u001b[0m\u001b[0;34m\u001b[0m\u001b[0m\n\u001b[1;32m      8\u001b[0m     \u001b[0mtmp\u001b[0m\u001b[0;34m[\u001b[0m\u001b[0;34m'libprimer7'\u001b[0m\u001b[0;34m]\u001b[0m\u001b[0;34m=\u001b[0m\u001b[0mstr\u001b[0m\u001b[0;34m(\u001b[0m\u001b[0mAdaptorA\u001b[0m\u001b[0;34m)\u001b[0m\u001b[0;34m\u001b[0m\u001b[0m\n",
      "\u001b[0;31mNameError\u001b[0m: name 'NT_s7_w' is not defined"
     ]
    }
   ],
   "source": [
    "ampli_lib_primer=dict()\n",
    "for i in range(96):\n",
    "    tmp=dict()\n",
    "    tmp['idx7']=\"lib7_\"+str(idxs[i])\n",
    "    tmp['idx5']='lib5_'+str(idxs[-i])\n",
    "    AdaptorA=p7_c+idxs[i]+NT_s7_c+ampli_universal\n",
    "    AdaptorB=p5_w+idxs[-i]+NT_s5_w+ampli_universal\n",
    "    tmp['libprimer7']=str(AdaptorA)\n",
    "    tmp['libprimer5']=str(AdaptorB)\n",
    "    ampli_lib_primer[i]=tmp\n",
    "\n"
   ]
  },
  {
   "cell_type": "code",
   "execution_count": 14,
   "metadata": {},
   "outputs": [],
   "source": [
    "dftt=pd.DataFrame.from_dict(ampli_lib_primer,orient='index')\n",
    "outname='./ampli_lib_primer_fixed.xlsx'\n",
    "dftt.to_excel(outname)"
   ]
  },
  {
   "cell_type": "code",
   "execution_count": 50,
   "metadata": {},
   "outputs": [],
   "source": [
    "dftt[['idx7', 'libprimer7']][:12].to_csv('7.csv')"
   ]
  },
  {
   "cell_type": "code",
   "execution_count": 51,
   "metadata": {},
   "outputs": [],
   "source": [
    "dftt[['idx5', 'libprimer5']][:16].to_csv('5.csv')"
   ]
  },
  {
   "cell_type": "code",
   "execution_count": null,
   "metadata": {},
   "outputs": [],
   "source": [
    "# for "
   ]
  },
  {
   "cell_type": "code",
   "execution_count": 15,
   "metadata": {},
   "outputs": [],
   "source": [
    "    read2=NT_s7_w+ampli_universal+'TAA'\n",
    "    read1=NT_s5_w+ampli_universal+'TAA'\n",
    "    index1=rc(read2)\n",
    "    index2=rc(read1)\n",
    "    "
   ]
  },
  {
   "cell_type": "code",
   "execution_count": 16,
   "metadata": {},
   "outputs": [
    {
     "name": "stdout",
     "output_type": "stream",
     "text": [
      "ampli_read1seqprimer, TCGTCGGCAGCGTCTAGTGGGATTCCTGCTGTCAGTTAA\n",
      "ampli_read2seqprimer, GTCTCGTGGGCTCGGTAGTGGGATTCCTGCTGTCAGTTAA\n",
      "ampli_index1primer, TTAACTGACAGCAGGAATCCCACTACCGAGCCCACGAGAC\n",
      "ampli_index2primer, TTAACTGACAGCAGGAATCCCACTAGACGCTGCCGACGA\n"
     ]
    }
   ],
   "source": [
    "print (\"ampli_read1seqprimer,\", read1)\n",
    "print (\"ampli_read2seqprimer,\", read2)\n",
    "print (\"ampli_index1primer,\", index1)\n",
    "print (\"ampli_index2primer,\", index2)\n"
   ]
  },
  {
   "cell_type": "markdown",
   "metadata": {},
   "source": [
    "## for bar lig adaptor "
   ]
  },
  {
   "cell_type": "code",
   "execution_count": 39,
   "metadata": {},
   "outputs": [],
   "source": [
    "    read2=NT_s7_w+ampli_universal\n",
    "    read1=NT_s5_w+ampli_universal\n",
    "    index1=rc(read2)\n",
    "    index2=rc(read1)\n",
    "    "
   ]
  },
  {
   "cell_type": "code",
   "execution_count": 40,
   "metadata": {},
   "outputs": [
    {
     "name": "stdout",
     "output_type": "stream",
     "text": [
      "ampli_bar_read1seqprimer, TCGTCGGCAGCGTCTAGTGGGATTCCTGCTGTCAGT\n",
      "ampli_bar_read2seqprimer, GTCTCGTGGGCTCGGTAGTGGGATTCCTGCTGTCAGT\n",
      "ampli_bar_index1primer, ACTGACAGCAGGAATCCCACTACCGAGCCCACGAGAC\n",
      "ampli_bar_index2primer, ACTGACAGCAGGAATCCCACTAGACGCTGCCGACGA\n"
     ]
    }
   ],
   "source": [
    "print (\"ampli_bar_read1seqprimer,\", read1)\n",
    "print (\"ampli_bar_read2seqprimer,\", read2)\n",
    "print (\"ampli_bar_index1primer,\", index1)\n",
    "print (\"ampli_bar_index2primer,\", index2)"
   ]
  },
  {
   "cell_type": "code",
   "execution_count": null,
   "metadata": {},
   "outputs": [],
   "source": []
  }
 ],
 "metadata": {
  "kernelspec": {
   "display_name": "Python 3",
   "language": "python",
   "name": "python3"
  },
  "language_info": {
   "codemirror_mode": {
    "name": "ipython",
    "version": 3
   },
   "file_extension": ".py",
   "mimetype": "text/x-python",
   "name": "python",
   "nbconvert_exporter": "python",
   "pygments_lexer": "ipython3",
   "version": "3.6.3"
  }
 },
 "nbformat": 4,
 "nbformat_minor": 4
}
