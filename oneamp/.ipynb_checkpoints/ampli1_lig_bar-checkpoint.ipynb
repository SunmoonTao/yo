{
 "cells": [
  {
   "cell_type": "code",
   "execution_count": 21,
   "metadata": {},
   "outputs": [],
   "source": [
    "\n",
    "import sys\n",
    "\n",
    "sys.path.append(\"/gstore/project/paneldesign/pkg\")\n",
    "\n",
    "sys.path.append(\"/gstore/home/taol9/gitsss/yo/tao\")\n",
    "# import primer3\n",
    "from Bio import SeqIO\n",
    "from Bio.Seq import Seq\n",
    "from Bio import Entrez\n",
    "import csv\n",
    "import pandas as pd\n",
    "from collections import defaultdict,OrderedDict\n",
    "from collections import Counter\n",
    "import matplotlib.pyplot as plt\n",
    "\n",
    "import pandas as pd\n",
    "import os\n",
    "import pickle\n",
    "from Bio import SeqIO\n",
    "from Bio.Seq import Seq\n",
    "from Bio import Entrez\n",
    "import csv\n",
    "import pandas as pd\n",
    "from collections import defaultdict,OrderedDict\n",
    "from collections import Counter\n",
    "import matplotlib.pyplot as plt\n",
    "import csv\n",
    "from Bio.Seq import Seq\n",
    "import barcode\n",
    "\n",
    "from myfunc import *\n",
    "# from myfunc import primers2mips, rc\n"
   ]
  },
  {
   "cell_type": "code",
   "execution_count": 20,
   "metadata": {},
   "outputs": [
    {
     "name": "stdout",
     "output_type": "stream",
     "text": [
      "Collecting barcode\n",
      "  Using cached barcode-1.0.2-py3-none-any.whl\n",
      "Collecting python-Levenshtein>=0.12.0\n",
      "  Using cached python_Levenshtein-0.20.9-py3-none-any.whl (9.4 kB)\n",
      "Collecting Levenshtein==0.20.9\n",
      "  Using cached Levenshtein-0.20.9-cp36-cp36m-manylinux_2_17_x86_64.manylinux2014_x86_64.whl (177 kB)\n",
      "Collecting rapidfuzz<3.0.0,>=2.3.0\n",
      "  Using cached rapidfuzz-2.11.1-cp36-cp36m-manylinux_2_17_x86_64.manylinux2014_x86_64.whl (2.2 MB)\n",
      "Installing collected packages: rapidfuzz, Levenshtein, python-Levenshtein, barcode\n",
      "Successfully installed Levenshtein-0.20.9 barcode-1.0.2 python-Levenshtein-0.20.9 rapidfuzz-2.11.1\n",
      "\u001b[33mWARNING: Target directory /gstore/project/paneldesign/pkg/rapidfuzz already exists. Specify --upgrade to force replacement.\u001b[0m\n",
      "\u001b[33mWARNING: Target directory /gstore/project/paneldesign/pkg/rapidfuzz-2.11.1.dist-info already exists. Specify --upgrade to force replacement.\u001b[0m\n",
      "\u001b[33mWARNING: Target directory /gstore/project/paneldesign/pkg/Levenshtein-0.20.9.dist-info already exists. Specify --upgrade to force replacement.\u001b[0m\n",
      "\u001b[33mWARNING: Target directory /gstore/project/paneldesign/pkg/Levenshtein already exists. Specify --upgrade to force replacement.\u001b[0m\n",
      "\u001b[33mWARNING: Target directory /gstore/project/paneldesign/pkg/python_Levenshtein-0.20.9.dist-info already exists. Specify --upgrade to force replacement.\u001b[0m\n",
      "\u001b[33mWARNING: Target directory /gstore/project/paneldesign/pkg/barcode already exists. Specify --upgrade to force replacement.\u001b[0m\n",
      "\u001b[33mWARNING: Target directory /gstore/project/paneldesign/pkg/barcode-1.0.2.dist-info already exists. Specify --upgrade to force replacement.\u001b[0m\n",
      "\u001b[33mWARNING: Target directory /gstore/project/paneldesign/pkg/bin already exists. Specify --upgrade to force replacement.\u001b[0m\n"
     ]
    }
   ],
   "source": [
    "!pip install --target /gstore/project/paneldesign/pkg barcode \n"
   ]
  },
  {
   "cell_type": "code",
   "execution_count": 9,
   "metadata": {},
   "outputs": [
    {
     "name": "stdout",
     "output_type": "stream",
     "text": [
      "[Errno 2] No such file or directory: '/home/jupyter/gitsss/notebooks/'\n",
      "/gstore/home/taol9/gitsss/yo/oneamp\n"
     ]
    }
   ],
   "source": [
    "cd /home/jupyter/gitsss/notebooks/"
   ]
  },
  {
   "cell_type": "code",
   "execution_count": 10,
   "metadata": {},
   "outputs": [
    {
     "data": {
      "text/plain": [
       "'/gstore/home/taol9/gitsss/yo/oneamp'"
      ]
     },
     "execution_count": 10,
     "metadata": {},
     "output_type": "execute_result"
    }
   ],
   "source": [
    "pwd"
   ]
  },
  {
   "cell_type": "code",
   "execution_count": 35,
   "metadata": {},
   "outputs": [
    {
     "data": {
      "text/plain": [
       "250"
      ]
     },
     "execution_count": 35,
     "metadata": {},
     "output_type": "execute_result"
    }
   ],
   "source": [
    "len(set(lig_barcodes))"
   ]
  },
  {
   "cell_type": "markdown",
   "metadata": {},
   "source": [
    "# barcoded ligation"
   ]
  },
  {
   "cell_type": "code",
   "execution_count": 38,
   "metadata": {},
   "outputs": [],
   "source": [
    "# Methy compitalbe ligation adaptors: \n",
    "ligation_strand='TAGTGGGATTCCTGCTGTCAGT'.replace(\"C\",\"G\")\n",
    "lig_barcodes=bgen(10,maxstretch=1,distance=3)\n",
    "lig_barcodes=[b for b in lig_barcodes if b[-1]!='T']  # rule out barcodes T is the last base\n",
    "lig_barcodes=[b.replace('C','A') for b in lig_barcodes] # rule out C bases for all positions\n",
    "lig_barcodes=list(set(lig_barcodes))\n",
    "umi='WW'  # AT\n",
    "rcumi='SS' # CG\n",
    "candidates=dict()\n",
    "for bar in lig_barcodes:\n",
    "    tmp=dict()\n",
    "    long_strand=ligation_strand+umi+bar\n",
    "    short_strand=\"TA\"+rc(bar)+rcumi\n",
    "    tmp[\"long_strand\"]=long_strand\n",
    "    tmp[\"short_strand\"]=short_strand\n",
    "    candidates[bar]=tmp\n",
    "    "
   ]
  },
  {
   "cell_type": "code",
   "execution_count": null,
   "metadata": {},
   "outputs": [],
   "source": [
    "# !mkdir ../oneamp"
   ]
  },
  {
   "cell_type": "code",
   "execution_count": 42,
   "metadata": {},
   "outputs": [
    {
     "data": {
      "text/plain": [
       "'TAGTGGGATTGGTGGTGTGAGT'"
      ]
     },
     "execution_count": 42,
     "metadata": {},
     "output_type": "execute_result"
    }
   ],
   "source": [
    "ligation_strand"
   ]
  },
  {
   "cell_type": "code",
   "execution_count": 89,
   "metadata": {},
   "outputs": [],
   "source": [
    "dftt=pd.DataFrame.from_dict(candidates,orient='index')\n",
    "outname='../oneamp/oneamp_bar_lig_adaptor.xlsx'\n",
    "dftt.to_excel(outname)"
   ]
  },
  {
   "cell_type": "code",
   "execution_count": 90,
   "metadata": {},
   "outputs": [],
   "source": [
    "df = dftt.sample(n=24)\n",
    "outname='../oneamp/oneamp_bar_lig_adaptor_24.xlsx'\n",
    "df.to_excel(outname)"
   ]
  },
  {
   "cell_type": "markdown",
   "metadata": {},
   "source": [
    "# pcr amp primer for stnd ampliwga kit, can be shared with bar lig libs"
   ]
  },
  {
   "cell_type": "code",
   "execution_count": 41,
   "metadata": {},
   "outputs": [],
   "source": [
    "# ampli1_MseLig_21=\"AGTGGGATTCCGCATGCTAGC\"\n",
    "\n",
    "ampli_universal=\"TAGTGGGATTCCTGCTGTCAGT\"\n",
    "ampli1_kit_adaptor=\"AGTGGGATTCCTGCTGTCAGT\"\n",
    "HT_R1SP_w ='ACACTCTTTCCCTACACGACGCTCTTCCGATCT'\n",
    "HT_R2SP_w ='AGATCGGAAGAGCACACGTCTGAACTCCAGTCAC'\n",
    "\n",
    "p5_w = \"AATGATACGGCGACCACCGAGATCTACAC\"\n",
    "p7_w = 'ATCTCGTATGCCGTCTTCTGCTTG'\n",
    "\n",
    "\n",
    "ME_w=\"AGATGTGTATAAGAGACAG\"\n",
    "\n",
    "NT_s5_w=\"TCGTCGGCAGCGTC\"\n",
    "NT_s7_c=\"GTCTCGTGGGCTCGG\"\n",
    "\n",
    "HT_R2SP_c =  rc(HT_R2SP_w) \n",
    "HT_R1SP_c =rc(HT_R1SP_w)\n",
    "\n",
    "p7_c = rc(p7_w)\n",
    "p5_c = rc(p5_w)\n",
    "\n",
    "ME_w=\"AGATGTGTATAAGAGACAG\"\n",
    "\n",
    "NT_s5_w=\"TCGTCGGCAGCGTC\"\n",
    "NT_s7_c=\"GTCTCGTGGGCTCGG\"\n",
    "T7_w=\"TAATACGACTCACTATAG\""
   ]
  },
  {
   "cell_type": "code",
   "execution_count": 43,
   "metadata": {},
   "outputs": [],
   "source": [
    "def bgen(length,maxstretch=3,distance=3,):\n",
    "    candi=[]\n",
    "    for i in range(30000):\n",
    "        x=str(RandomDNA(length))\n",
    "        if 45<GC(x)<55:\n",
    "            candi.append(x)\n",
    "    candi=barcode.filter_stretches(candi, maxstretch)\n",
    "    candi=barcode.filter_distance(candi, distance)\n",
    "    return candi"
   ]
  },
  {
   "cell_type": "code",
   "execution_count": 44,
   "metadata": {},
   "outputs": [
    {
     "data": {
      "text/plain": [
       "411"
      ]
     },
     "execution_count": 44,
     "metadata": {},
     "output_type": "execute_result"
    }
   ],
   "source": [
    "idxs=bgen(8,3)\n",
    "len(idxs)"
   ]
  },
  {
   "cell_type": "code",
   "execution_count": 46,
   "metadata": {},
   "outputs": [],
   "source": [
    "ampli_lib_primer=dict()\n",
    "for i in range(96):\n",
    "    tmp=dict()\n",
    "    tmp['idx7']=\"lib7_\"+str(idxs[i])\n",
    "    tmp['idx5']='lib5_'+str(idxs[-i])\n",
    "    AdaptorA=p7_c+idxs[i]+NT_s7_c+ligation_strand\n",
    "    AdaptorB=p5_w+idxs[-i]+NT_s5_w+ligation_strand\n",
    "    tmp['libprimer7']=str(AdaptorA)\n",
    "    tmp['libprimer5']=str(AdaptorB)\n",
    "    ampli_lib_primer[i]=tmp\n",
    "\n"
   ]
  },
  {
   "cell_type": "code",
   "execution_count": 47,
   "metadata": {},
   "outputs": [],
   "source": [
    "dftt=pd.DataFrame.from_dict(ampli_lib_primer,orient='index')\n",
    "outname='./oneamp_lib_primer.xlsx'\n",
    "dftt.to_excel(outname)"
   ]
  },
  {
   "cell_type": "markdown",
   "metadata": {},
   "source": [
    "# for oneamp"
   ]
  },
  {
   "cell_type": "code",
   "execution_count": 88,
   "metadata": {},
   "outputs": [
    {
     "name": "stdout",
     "output_type": "stream",
     "text": [
      "oneamp_read1seqprimer, GCAGCGTCTAGTGGGATTGGTGGTGTGAGT\n",
      "oneamp_read2seqprimer, GCTCGGTAGTGGGATTGGTGGTGTGAGT\n",
      "oneamp_index1primer, CCAATCCCACTACCGAGCCCACGAGAC\n",
      "oneamp_index2primer, ACCAATCCCACTAGACGCTGCCGACGA\n"
     ]
    }
   ],
   "source": [
    "    read2=(NT_s7_c+ligation_strand)\n",
    "    read1=(NT_s5_w+ligation_strand)\n",
    "    index1=rc(read2)[-33:]\n",
    "    index2=rc(read1)[-33:]\n",
    "print (\"oneamp_read1seqprimer,\", read1[-30:])\n",
    "print (\"oneamp_read2seqprimer,\", read2[-28:])\n",
    "print (\"oneamp_index1primer,\", index1[-27:])\n",
    "print (\"oneamp_index2primer,\", index2[-27:])"
   ]
  },
  {
   "cell_type": "markdown",
   "metadata": {},
   "source": [
    "## for ampliwgs "
   ]
  },
  {
   "cell_type": "code",
   "execution_count": 86,
   "metadata": {},
   "outputs": [
    {
     "name": "stdout",
     "output_type": "stream",
     "text": [
      "ampli_bar_read1seqprimer, GGCAGCGTCTAGTGGGATTCCTGCTGTCAGTTAA\n",
      "ampli_bar_read2seqprimer, GGCTCGGTAGTGGGATTCCTGCTGTCAGTTAA\n",
      "ampli_bar_index1primer, GGAATCCCACTACCGAGCCCACGAGAC\n",
      "ampli_bar_index2primer, GGAATCCCACTAGACGCTGCCGACGA\n"
     ]
    }
   ],
   "source": [
    "    read1=(NT_s5_w+ampli_universal+\"TAA\")\n",
    "    read2=(NT_s7_c+ampli_universal+'TAA')\n",
    "    index1=rc(read2)[-27:]\n",
    "    index2=rc(read1)[-26:]\n",
    "print (\"ampli_bar_read1seqprimer,\", read1[-34:])\n",
    "print (\"ampli_bar_read2seqprimer,\", read2[-32:])\n",
    "print (\"ampli_bar_index1primer,\", index1)\n",
    "print (\"ampli_bar_index2primer,\", index2)    "
   ]
  },
  {
   "cell_type": "code",
   "execution_count": null,
   "metadata": {},
   "outputs": [],
   "source": []
  }
 ],
 "metadata": {
  "kernelspec": {
   "display_name": "Python 3",
   "language": "python",
   "name": "python3"
  },
  "language_info": {
   "codemirror_mode": {
    "name": "ipython",
    "version": 3
   },
   "file_extension": ".py",
   "mimetype": "text/x-python",
   "name": "python",
   "nbconvert_exporter": "python",
   "pygments_lexer": "ipython3",
   "version": "3.6.3"
  }
 },
 "nbformat": 4,
 "nbformat_minor": 4
}
