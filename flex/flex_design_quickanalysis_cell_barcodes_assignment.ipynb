{
 "cells": [
  {
   "cell_type": "code",
   "execution_count": 1,
   "metadata": {},
   "outputs": [],
   "source": [
    "import sys\n",
    "\n",
    "sys.path.append(\"/gstore/project/paneldesign/pkg\")\n",
    "\n",
    "sys.path.append(\"/gstore/home/taol9/gitsss/yo/tao\")\n",
    "# import primer3\n",
    "from Bio import SeqIO\n",
    "from Bio.Seq import Seq\n",
    "from Bio import Entrez\n",
    "import csv\n",
    "import pandas as pd\n",
    "from collections import defaultdict,OrderedDict\n",
    "from collections import Counter\n",
    "import matplotlib.pyplot as plt\n",
    "\n",
    "import pandas as pd\n",
    "import os\n",
    "import pickle\n",
    "\n"
   ]
  },
  {
   "cell_type": "code",
   "execution_count": 2,
   "metadata": {},
   "outputs": [
    {
     "name": "stdout",
     "output_type": "stream",
     "text": [
      "Collecting dill\n",
      "  Using cached dill-0.3.4-py2.py3-none-any.whl (86 kB)\n",
      "Installing collected packages: dill\n",
      "Successfully installed dill-0.3.4\n",
      "\u001b[33mWARNING: Target directory /gstore/project/paneldesign/pkg/dill already exists. Specify --upgrade to force replacement.\u001b[0m\n",
      "\u001b[31mERROR: Exception:\n",
      "Traceback (most recent call last):\n",
      "  File \"/gstore/apps/Anaconda3/5.0.1/lib/python3.6/shutil.py\", line 544, in move\n",
      "    os.rename(src, real_dst)\n",
      "OSError: [Errno 18] Invalid cross-device link: '/local/3007171/pip-target-hzkvhodm/lib/python/dill-0.3.4.dist-info' -> '/gstore/project/paneldesign/pkg/dill-0.3.4.dist-info'\n",
      "\n",
      "During handling of the above exception, another exception occurred:\n",
      "\n",
      "Traceback (most recent call last):\n",
      "  File \"/gstore/apps/Python-dev/1.0.0-Python-3.6.3/lib/python3.6/site-packages/pip/_internal/cli/base_command.py\", line 164, in exc_logging_wrapper\n",
      "    status = run_func(*args)\n",
      "  File \"/gstore/apps/Python-dev/1.0.0-Python-3.6.3/lib/python3.6/site-packages/pip/_internal/cli/req_command.py\", line 205, in wrapper\n",
      "    return func(self, options, args)\n",
      "  File \"/gstore/apps/Python-dev/1.0.0-Python-3.6.3/lib/python3.6/site-packages/pip/_internal/commands/install.py\", line 464, in run\n",
      "    options.target_dir, target_temp_dir, options.upgrade\n",
      "  File \"/gstore/apps/Python-dev/1.0.0-Python-3.6.3/lib/python3.6/site-packages/pip/_internal/commands/install.py\", line 522, in _handle_target_dir\n",
      "    shutil.move(os.path.join(lib_dir, item), target_item_dir)\n",
      "  File \"/gstore/apps/Anaconda3/5.0.1/lib/python3.6/shutil.py\", line 555, in move\n",
      "    symlinks=True)\n",
      "  File \"/gstore/apps/Anaconda3/5.0.1/lib/python3.6/shutil.py\", line 359, in copytree\n",
      "    raise Error(errors)\n",
      "shutil.Error: [('/local/3007171/pip-target-hzkvhodm/lib/python/dill-0.3.4.dist-info/DESCRIPTION.rst', '/gstore/project/paneldesign/pkg/dill-0.3.4.dist-info/DESCRIPTION.rst', '[Errno 122] Disk quota exceeded'), ('/local/3007171/pip-target-hzkvhodm/lib/python/dill-0.3.4.dist-info/METADATA', '/gstore/project/paneldesign/pkg/dill-0.3.4.dist-info/METADATA', '[Errno 122] Disk quota exceeded'), ('/local/3007171/pip-target-hzkvhodm/lib/python/dill-0.3.4.dist-info/RECORD', '/gstore/project/paneldesign/pkg/dill-0.3.4.dist-info/RECORD', '[Errno 122] Disk quota exceeded')]\u001b[0m\n",
      "Note: you may need to restart the kernel to use updated packages.\n"
     ]
    }
   ],
   "source": [
    "!pip install --target /gstore/project/paneldesign/pkg dill"
   ]
  },
  {
   "cell_type": "code",
   "execution_count": 2,
   "metadata": {},
   "outputs": [],
   "source": [
    "# pip install --target /gstore/project/paneldesign/pkg biopython"
   ]
  },
  {
   "cell_type": "markdown",
   "metadata": {
    "jp-MarkdownHeadingCollapsed": true,
    "tags": []
   },
   "source": [
    "# flex probe Design\n",
    "\n",
    "When designing custom probes, consider the\n",
    "following:\n",
    "• GC content should be between 44 − 72% for each\n",
    "25 bp probe half.\n",
    "• Avoid homopolymer repeats.\n",
    "• Avoid overlap with annotated repeat or low complexity\n",
    "sequences.\n",
    "• If possible, design probes for coding regions of\n",
    "mRNA as opposed to untranslated regions.\n",
    "# The 25th nucleotide of the probe (3' most nucleotide of the LHS probe) must be a T. The complementary nucleotide in the target RNAmust be an A.\n",
    "• Avoid common single nucleotide polymorphisms\n",
    "(SNPs) and potential mismatches at the ligation\n",
    "junction. Refer to the UCSC Genome Browser and\n",
    "the Single Nucleotide Polymorphism Database\n",
    "(dbSNP). If avoiding SNPs is not possible, SNPs and\n",
    "mismatches should be at least four bp away from\n",
    "the ligation junction.\n",
    "• If probes can bind to sequences other than the\n",
    "target mRNA sequence, off-target signal may be\n",
    "observed. To check for off-target homology, align\n",
    "the probe sequence to the reference transcriptome\n",
    "using the Basic Local Alignment Search Tool\n",
    "(BLAST). Matches to off-target genes should have\n",
    "at least five mismatches in at least one of the LHS\n",
    "or RHS probes to prevent efficient hybridization.\n",
    "• Designing three probe pairs per target mRNA\n",
    "is recommended, especially for low expressing\n",
    "genes. However, if the gene is not long enough or\n",
    "there aren't enough specific 50 bp regions, fewer\n",
    "than three probe pairs is acceptable.\n",
    "## Probe pairs should not overlap to avoid competition\n",
    "between probes for the same binding site in\n",
    "the target RNA.\n",
    "• Add new probe sequences to the probe set reference\n",
    "CSV file. Refer to the Analysis section for\n",
    "more information."
   ]
  },
  {
   "cell_type": "markdown",
   "metadata": {
    "tags": []
   },
   "source": [
    "# structure\n",
    "\n",
    "left_arm=\"CCTTGGCACCCGAGAATTCCA\"+target_LHS\n",
    "right_arm=\"/5Phos/\"+target_RHS+\"ACGCGGTTAGCACGTA-NN\"+probeset_barcode_8nt+\"CGGTCCTAGCAA\"\n",
    "\n",
    "fulllib:\n",
    "p7+i7+left_arm+right_arm+10xumi+10xcellbarcode+read1seqprimer+i5+p5\n",
    "\n",
    "left_arm_snv=snv_dialout_adaptor+\"CCTTGGCACCCGAGAATTCCA\"+target_LHS\n",
    "padlock=right_arm+left_arm_snv"
   ]
  },
  {
   "cell_type": "markdown",
   "metadata": {
    "tags": []
   },
   "source": [
    "# check strand,make sure statred with ATG\n",
    "mRNA is the template strand, starting from ATG....\n",
    "# probe strand is cs of mRNA strand"
   ]
  },
  {
   "cell_type": "code",
   "execution_count": 2,
   "metadata": {},
   "outputs": [],
   "source": [
    "#check GC\n",
    "\n",
    "#https://biopython.org/docs/1.75/api/Bio.SeqUtils.MeltingTemp.html\n",
    "from Bio.SeqUtils import MeltingTemp as mt\n",
    "from Bio.Seq import Seq\n"
   ]
  },
  {
   "cell_type": "code",
   "execution_count": 3,
   "metadata": {},
   "outputs": [],
   "source": [
    "# mutation codes are 1 based index, python is 0 based, convert that!\n",
    "# for rna probes, use shorter arm\n",
    "def get_target_LHS(template,mutation):\n",
    "    mutation_position=int(mutation[2:-3])-1\n",
    "    ref_base=mutation[-3]\n",
    "    mutation_base=mutation[-1]\n",
    "    if template[mutation_position]==ref_base:\n",
    "        for l in range(25,28,1):\n",
    "#         for l in range(22,23,1):\n",
    "\n",
    "            mystring=Seq(template[mutation_position:mutation_position+l])\n",
    "            gc=mt.Tm_GC(mystring)\n",
    "            if 44<gc<70:\n",
    "                return (str(mystring.reverse_complement()), \n",
    "                       str(Seq(mutation_base+str(mystring[:-1])).reverse_complement()))\n",
    "                break\n",
    "    else:\n",
    "        return \"wrong input\", mutation_position, mutation_base, ref_base,mutation"
   ]
  },
  {
   "cell_type": "code",
   "execution_count": 286,
   "metadata": {},
   "outputs": [],
   "source": [
    "def get_target_RHS(template,mutation):\n",
    "    mutation_position=int(mutation[2:-3])-1\n",
    "    ref_base=mutation[-3]\n",
    "    mutation_base=mutation[-1]\n",
    "    if template[mutation_position]==ref_base:\n",
    "        for l in range(25,28,1):\n",
    "#         for l in range(22,23,1):\n",
    "            mystring=Seq(template[mutation_position-l:mutation_position])\n",
    "            gc=mt.Tm_GC(mystring)\n",
    "            if 44<gc<70:\n",
    "                return str(mystring.reverse_complement())\n",
    "                break\n",
    "    else:\n",
    "        return \"wrong input\", mutation_base, ref_base, mutation"
   ]
  },
  {
   "cell_type": "markdown",
   "metadata": {
    "tags": []
   },
   "source": [
    "## define adaptor\n"
   ]
  },
  {
   "cell_type": "code",
   "execution_count": 67,
   "metadata": {},
   "outputs": [
    {
     "name": "stdout",
     "output_type": "stream",
     "text": [
      "BC001 = \"ACTTTAGG\"\n",
      "BC002 = \"AACGGGAA\"\n",
      "BC003 = \"AGTAGGCT\"\n",
      "BC004 = \"ATGTTGAC\"\n",
      "BC005 = \"ACAGACCT\"\n",
      "BC006 = \"ATCCCAAC\"\n",
      "BC007 = \"AAGTAGAG\"\n",
      "BC008 = \"AGCTGTGA\"\n",
      "BC009 = \"ACAGTCTG\"\n",
      "BC010 = \"AGTGAGTG\"\n",
      "BC011 = \"AGAGGCAA\"\n",
      "BC012 = \"ACTACTCA\"\n",
      "BC013 = \"ATACGTCA\"\n",
      "BC014 = \"ATCATGTG\"\n",
      "BC015 = \"AACGCCGA\"\n",
      "BC016 = \"ATTCGGTT\"\n"
     ]
    }
   ],
   "source": [
    "barcodes=pd.read_csv('probe-barcodes-fixed-rna-profiling.txt',sep='\\t', header=None)\n",
    "barcodes=barcodes[[1,2]].drop_duplicates()\n",
    "for i,r in barcodes.iterrows():\n",
    "    print (r[2],'=', '\"'+r[1]+'\"')"
   ]
  },
  {
   "cell_type": "code",
   "execution_count": 287,
   "metadata": {},
   "outputs": [],
   "source": [
    "BC001 = \"ACTTTAGG\"\n",
    "BC002 = \"AACGGGAA\"\n",
    "BC003 = \"AGTAGGCT\"\n",
    "BC004 = \"ATGTTGAC\"\n",
    "BC005 = \"ACAGACCT\"\n",
    "BC006 = \"ATCCCAAC\"\n",
    "BC007 = \"AAGTAGAG\"\n",
    "BC008 = \"AGCTGTGA\"\n",
    "BC009 = \"ACAGTCTG\"\n",
    "BC010 = \"AGTGAGTG\"\n",
    "BC011 = \"AGAGGCAA\"\n",
    "BC012 = \"ACTACTCA\"\n",
    "BC013 = \"ATACGTCA\"\n",
    "BC014 = \"ATCATGTG\"\n",
    "BC015 = \"AACGCCGA\"\n",
    "BC016 = \"ATTCGGTT\""
   ]
  },
  {
   "cell_type": "code",
   "execution_count": 227,
   "metadata": {},
   "outputs": [
    {
     "data": {
      "text/plain": [
       "13"
      ]
     },
     "execution_count": 227,
     "metadata": {},
     "output_type": "execute_result"
    }
   ],
   "source": [
    "len('ACCATGGCCTGTA')"
   ]
  },
  {
   "cell_type": "code",
   "execution_count": 254,
   "metadata": {},
   "outputs": [
    {
     "data": {
      "text/plain": [
       "15"
      ]
     },
     "execution_count": 254,
     "metadata": {},
     "output_type": "execute_result"
    }
   ],
   "source": [
    "len(\"GACTCCACACTCATA\")"
   ]
  },
  {
   "cell_type": "code",
   "execution_count": 288,
   "metadata": {},
   "outputs": [],
   "source": [
    "# use B013\n",
    "# use LNA base primer for snv_dialout when run with rna probes\n",
    "# max lenght set to 120 for rna probes\n",
    "BC013 = \"ATACGTCA\"\n",
    "snv_dialout_adaptor=Mly1_F_w='GCAACGACTCCACACTCATA'\n",
    "\n",
    "def flex_padlock(template,mutation,probeset_barcode_8nt=\"ATACGTCA\",snv_dialout_adaptor='GCAACGACTCCACACTCATA'):\n",
    "    target_LHS=get_target_LHS(template,mutation)\n",
    "\n",
    "    target_RHS=get_target_RHS(template,mutation)\n",
    "    left_arm0=snv_dialout_adaptor+\"CCTTGGCACCCGAGAATTCCA\"+target_LHS[0]\n",
    "    left_arm1=snv_dialout_adaptor+\"CCTTGGCACCCGAGAATTCCA\"+target_LHS[1]\n",
    "\n",
    "    right_arm=\"/5Phos/\"+target_RHS+\"ACGCGGTTAGCACGTANN\"+probeset_barcode_8nt+\"CGGTCCTAGCAA\"\n",
    "    #fulllib:\n",
    "    #p7+i7+left_arm+right_arm+10xumi+10xcellbarcode+read1seqprimer+i5+p5\n",
    "#     left_arm_snv=snv_dialout_adaptor+\"CCTTGGCACCCGAGAATTCCA\"+target_LHS\n",
    "    padlock_ref=right_arm+snv_dialout_adaptor+\"CCTTGGCACCCGAGAATTCCA\"+target_LHS[0]\n",
    "    padlock_alt=right_arm+snv_dialout_adaptor+\"CCTTGGCACCCGAGAATTCCA\"+target_LHS[1]\n",
    "#     print (len(target_RHS+\"ACGCGGTTAGCACGTANN\"+probeset_barcode_8nt+\"CGGTCCTAGCAA\")+len(left_arm0), len(target_LHS[0]),len(target_RHS))\n",
    "\n",
    "    return {'LHS_ref':left_arm0, 'target_LHS_ref':target_LHS[0], 'LHS_mut':left_arm1, 'target_LHS_mut':target_LHS[1],'target_RHS':target_RHS,\"RHS\":right_arm, \"padlock_ref\":padlock_ref, \"padlock_alt\":padlock_alt,}"
   ]
  },
  {
   "cell_type": "code",
   "execution_count": 219,
   "metadata": {},
   "outputs": [],
   "source": [
    "# convert to padlock probe"
   ]
  },
  {
   "cell_type": "code",
   "execution_count": 245,
   "metadata": {},
   "outputs": [],
   "source": [
    "KRAS_CDS='''ATGACTGAATATAAACTTGTGGTAGTTGGAGCTGGTGGCGTAGGCAAGAGTGCCTTGACGATACAGCTAATTCAGAATCATTTTGTGGACGAATATGATCCAACAATAGAGGATTCCTAC\n",
    "AGGAAGCAAGTAGTAATTGATGGAGAAACCTGTCTCTTGGATATTCTCGACACAGCAGGT\n",
    "CAAGAGGAGTACAGTGCAATGAGGGACCAGTACATGAGGACTGGGGAGGGCTTTCTTTGT\n",
    "GTATTTGCCATAAATAATACTAAATCATTTGAAGATATTCACCATTATAGAGAACAAATT\n",
    "AAAAGAGTTAAGGACTCTGAAGATGTACCTATGGTCCTAGTAGGAAATAAATGTGATTTG\n",
    "CCTTCTAGAACAGTAGACACAAAACAGGCTCAGGACTTAGCAAGAAGTTATGGAATTCCT\n",
    "TTTATTGAAACATCAGCAAAGACAAGACAGAGAGTGGAGGATGCTTTTTATACATTGGTG\n",
    "AGAGAGATCCGACAATACAGATTGAAAAAAATCAGCAAAGAAGAAAAGACTCCTGGCTGT\n",
    "GTGAAAATTAAAAAATGCATTATAATGTAA'''\n",
    "KRAS_CDS=KRAS_CDS.replace('\\n','')\n",
    "\n"
   ]
  },
  {
   "cell_type": "code",
   "execution_count": 260,
   "metadata": {},
   "outputs": [
    {
     "name": "stdout",
     "output_type": "stream",
     "text": [
      "118 22 22\n"
     ]
    },
    {
     "data": {
      "text/plain": [
       "{'LHS_ref': 'GACTCCACACTCATACCTTGGCACCCGAGAATTCCAAGGCACTCTTGCCTACGCCACC',\n",
       " 'target_LHS_ref': 'AGGCACTCTTGCCTACGCCACC',\n",
       " 'LHS_mut': 'GACTCCACACTCATACCTTGGCACCCGAGAATTCCAGGCACTCTTGCCTACGCCACCA',\n",
       " 'target_LHS_mut': 'GGCACTCTTGCCTACGCCACCA',\n",
       " 'target_RHS': 'AGCTCCAACTACCACAAGTTTA',\n",
       " 'RHS': '/5Phos/AGCTCCAACTACCACAAGTTTAACGCGGTTAGCACGTANNATACGTCACGGTCCTAGCAA',\n",
       " 'padlock_ref': '/5Phos/AGCTCCAACTACCACAAGTTTAACGCGGTTAGCACGTANNATACGTCACGGTCCTAGCAAGACTCCACACTCATACCTTGGCACCCGAGAATTCCAAGGCACTCTTGCCTACGCCACC',\n",
       " 'padlock_alt': '/5Phos/AGCTCCAACTACCACAAGTTTAACGCGGTTAGCACGTANNATACGTCACGGTCCTAGCAAGACTCCACACTCATACCTTGGCACCCGAGAATTCCAGGCACTCTTGCCTACGCCACCA'}"
      ]
     },
     "execution_count": 260,
     "metadata": {},
     "output_type": "execute_result"
    }
   ],
   "source": [
    "KRAS_flex=flex_padlock(KRAS_CDS,'c.34G>T')\n",
    "KRAS_flex"
   ]
  },
  {
   "cell_type": "code",
   "execution_count": 91,
   "metadata": {},
   "outputs": [],
   "source": [
    "TP63_CDS='''ATGAATTTTGAAACTTCACGGTGTGCCACCCTACAGTACTGCCCTGACCCTTACATCCAGCGTTTCGTAG\n",
    "AAACCCCAGCTCATTTCTCTTGGAAAGAAAGTTATTACCGATCCACCATGTCCCAGAGCACACAGACAAA\n",
    "TGAATTCCTCAGTCCAGAGGTTTTCCAGCATATCTGGGATTTTCTGGAACAGCCTATATGTTCAGTTCAG\n",
    "CCCATTGACTTGAACTTTGTGGATGAACCATCAGAAGATGGTGCGACAAACAAGATTGAGATTAGCATGG\n",
    "ACTGTATCCGCATGCAGGACTCGGACCTGAGTGACCCCATGTGGCCACAGTACACGAACCTGGGGCTCCT\n",
    "GAACAGCATGGACCAGCAGATTCAGAACGGCTCCTCGTCCACCAGTCCCTATAACACAGACCACGCGCAG\n",
    "AACAGCGTCACGGCGCCCTCGCCCTACGCACAGCCCAGCTCCACCTTCGATGCTCTCTCTCCATCACCCG\n",
    "CCATCCCCTCCAACACCGACTACCCAGGCCCGCACAGTTTCGACGTGTCCTTCCAGCAGTCGAGCACCGC\n",
    "CAAGTCGGCCACCTGGACGTATTCCACTGAACTGAAGAAACTCTACTGCCAAATTGCAAAGACATGCCCC\n",
    "ATCCAGATCAAGGTGATGACCCCACCTCCTCAGGGAGCTGTTATCCGCGCCATGCCTGTCTACAAAAAAG\n",
    "CTGAGCACGTCACGGAGGTGGTGAAGCGGTGCCCCAACCATGAGCTGAGCCGTGAATTCAACGAGGGACA\n",
    "GATTGCCCCTCCTAGTCATTTGATTCGAGTAGAGGGGAACAGCCATGCCCAGTATGTAGAAGATCCCATC\n",
    "ACAGGAAGACAGAGTGTGCTGGTACCTTATGAGCCACCCCAGGTTGGCACTGAATTCACGACAGTCTTGT\n",
    "ACAATTTCATGTGTAACAGCAGTTGTGTTGGAGGGATGAACCGCCGTCCAATTTTAATCATTGTTACTCT\n",
    "GGAAACCAGAGATGGGCAAGTCCTGGGCCGACGCTGCTTTGAGGCCCGGATCTGTGCTTGCCCAGGAAGA\n",
    "GACAGGAAGGCGGATGAAGATAGCATCAGAAAGCAGCAAGTTTCGGACAGTACAAAGAACGGTGATGGTA\n",
    "CGAAGCGCCCGTTTCGTCAGAACACACATGGTATCCAGATGACATCCATCAAGAAACGAAGATCCCCAGA\n",
    "TGATGAACTGTTATACTTACCAGTGAGGGGCCGTGAGACTTATGAAATGCTGTTGAAGATCAAAGAGTCC\n",
    "CTGGAACTCATGCAGTACCTTCCTCAGCACACAATTGAAACGTACAGGCAACAGCAACAGCAGCAGCACC\n",
    "AGCACTTACTTCAGAAACAGACCTCAATACAGTCTCCATCTTCATATGGTAACAGCTCCCCACCTCTGAA\n",
    "CAAAATGAACAGCATGAACAAGCTGCCTTCTGTGAGCCAGCTTATCAACCCTCAGCAGCGCAACGCCCTC\n",
    "ACTCCTACAACCATTCCTGATGGCATGGGAGCCAACATTCCCATGATGGGCACCCACATGCCAATGGCTG\n",
    "GAGACATGAATGGACTCAGCCCCACCCAGGCACTCCCTCCCCCACTCTCCATGCCATCCACCTCCCACTG\n",
    "CACACCCCCACCTCCGTATCCCACAGATTGCAGCATTGTCAGTTTCTTAGCGAGGTTGGGCTGTTCATCA\n",
    "TGTCTGGACTATTTCACGACCCAGGGGCTGACCACCATCTATCAGATTGAGCATTACTCCATGGATGATC\n",
    "TGGCAAGTCTGAAAATCCCTGAGCAATTTCGACATGCGATCTGGAAGGGCATCCTGGACCACCGGCAGCT\n",
    "CCACGAATTCTCCTCCCCTTCTCATCTCCTGCGGACCCCAAGCAGTGCCTCTACAGTCAGTGTGGGCTCC\n",
    "AGTGAGACCCGGGGTGAGCGTGTTATTGATGCTGTGCGATTCACCCTCCGCCAGACCATCTCTTTCCCAC\n",
    "CCCGAGATGAGTGGAATGACTTCAACTTTGACATGGATGCTCGCCGCAATAAGCAACAGCGCATCAAAGA\n",
    "GGAGGGGGAGTGA'''.replace('\\n','')"
   ]
  },
  {
   "cell_type": "code",
   "execution_count": 250,
   "metadata": {},
   "outputs": [
    {
     "name": "stdout",
     "output_type": "stream",
     "text": [
      "118 22 22\n"
     ]
    },
    {
     "data": {
      "text/plain": [
       "{'LHS_ref': 'GACTCCACACTCATACCTTGGCACCCGAGAATTCCACGTTCTTTGTACTGTCCGAAAC',\n",
       " 'target_LHS_ref': 'CGTTCTTTGTACTGTCCGAAAC',\n",
       " 'LHS_mut': 'GACTCCACACTCATACCTTGGCACCCGAGAATTCCAGTTCTTTGTACTGTCCGAAACT',\n",
       " 'target_LHS_mut': 'GTTCTTTGTACTGTCCGAAACT',\n",
       " 'target_RHS': 'TTGCTGCTTTCTGATGCTATCT',\n",
       " 'RHS': '/5Phos/TTGCTGCTTTCTGATGCTATCTACGCGGTTAGCACGTANNATACGTCACGGTCCTAGCAA',\n",
       " 'padlock_ref': '/5Phos/TTGCTGCTTTCTGATGCTATCTACGCGGTTAGCACGTANNATACGTCACGGTCCTAGCAAGACTCCACACTCATACCTTGGCACCCGAGAATTCCACGTTCTTTGTACTGTCCGAAAC',\n",
       " 'padlock_alt': '/5Phos/TTGCTGCTTTCTGATGCTATCTACGCGGTTAGCACGTANNATACGTCACGGTCCTAGCAAGACTCCACACTCATACCTTGGCACCCGAGAATTCCAGTTCTTTGTACTGTCCGAAACT'}"
      ]
     },
     "execution_count": 250,
     "metadata": {},
     "output_type": "execute_result"
    }
   ],
   "source": [
    "TP63_flex=flex_padlock(TP63_CDS,'c.1090G>A')\n",
    "TP63_flex"
   ]
  },
  {
   "cell_type": "code",
   "execution_count": 93,
   "metadata": {},
   "outputs": [],
   "source": [
    "FGFR1_CDS='''ATGGAGGCAAGGGTCAGTTTGAAAAGGAGGATCGAGCTCACTGTGGAGTATCCATGGAGATGTGGAGCCT\n",
    "TGTCACCAACCTCTAACTGCAGAACTGGGATGTGGAGCTGGAAGTGCCTCCTCTTCTGGGCTGTGCTGGT\n",
    "CACAGCCACACTCTGCACCGCTAGGCCGTCCCCGACCTTGCCTGAACAAGCCCAGCCCTGGGGAGCCCCT\n",
    "GTGGAAGTGGAGTCCTTCCTGGTCCACCCCGGTGACCTGCTGCAGCTTCGCTGTCGGCTGCGGGACGATG\n",
    "TGCAGAGCATCAACTGGCTGCGGGACGGGGTGCAGCTGGCGGAAAGCAACCGCACCCGCATCACAGGGGA\n",
    "GGAGGTGGAGGTGCAGGACTCCGTGCCCGCAGACTCCGGCCTCTATGCTTGCGTAACCAGCAGCCCCTCG\n",
    "GGCAGTGACACCACCTACTTCTCCGTCAATGTTTCAGATGCTCTCCCCTCCTCGGAGGATGATGATGATG\n",
    "ATGATGACTCCTCTTCAGAGGAGAAAGAAACAGATAACACCAAACCAAACCCCGTAGCTCCATATTGGAC\n",
    "ATCCCCAGAAAAGATGGAAAAGAAATTGCATGCAGTGCCGGCTGCCAAGACAGTGAAGTTCAAATGCCCT\n",
    "TCCAGTGGGACCCCAAACCCCACACTGCGCTGGTTGAAAAATGGCAAAGAATTCAAACCTGACCACAGAA\n",
    "TTGGAGGCTACAAGGTCCGTTATGCCACCTGGAGCATCATAATGGACTCTGTGGTGCCCTCTGACAAGGG\n",
    "CAACTACACCTGCATTGTGGAGAATGAGTACGGCAGCATCAACCACACATACCAGCTGGATGTCGTGGAG\n",
    "CGGTCCCCTCACCGGCCCATCCTGCAAGCAGGGTTGCCCGCCAACAAAACAGTGGCCCTGGGTAGCAACG\n",
    "TGGAGTTCATGTGTAAGGTGTACAGTGACCCGCAGCCGCACATCCAGTGGCTAAAGCACATCGAGGTGAA\n",
    "TGGGAGCAAGATTGGCCCAGACAACCTGCCTTATGTCCAGATCTTGAAGACTGCTGGAGTTAATACCACC\n",
    "GACAAAGAGATGGAGGTGCTTCACTTAAGAAATGTCTCCTTTGAGGACGCAGGGGAGTATACGTGCTTGG\n",
    "CGGGTAACTCTATCGGACTCTCCCATCACTCTGCATGGTTGACCGTTCTGGAAGCCCTGGAAGAGAGGCC\n",
    "GGCAGTGATGACCTCGCCCCTGTACCTGGAGATCATCATCTATTGCACAGGGGCCTTCCTCATCTCCTGC\n",
    "ATGGTGGGGTCGGTCATCGTCTACAAGATGAAGAGTGGTACCAAGAAGAGTGACTTCCACAGCCAGATGG\n",
    "CTGTGCACAAGCTGGCCAAGAGCATCCCTCTGCGCAGACAGGTAACAGTGTCTGCTGACTCCAGTGCATC\n",
    "CATGAACTCTGGGGTTCTTCTGGTTCGGCCATCACGGCTCTCCTCCAGTGGGACTCCCATGCTAGCAGGG\n",
    "GTCTCTGAGTATGAGCTTCCCGAAGACCCTCGCTGGGAGCTGCCTCGGGACAGACTGGTCTTAGGCAAAC\n",
    "CCCTGGGAGAGGGCTGCTTTGGGCAGGTGGTGTTGGCAGAGGCTATCGGGCTGGACAAGGACAAACCCAA\n",
    "CCGTGTGACCAAAGTGGCTGTGAAGATGTTGAAGTCGGACGCAACAGAGAAAGACTTGTCAGACCTGATC\n",
    "TCAGAAATGGAGATGATGAAGATGATCGGGAAGCATAAGAATATCATCAACCTGCTGGGGGCCTGCACGC\n",
    "AGGATGGTCCCTTGTATGTCATCGTGGAGTATGCCTCCAAGGGCAACCTGCGGGAGTACCTGCAGGCCCG\n",
    "GAGGCCCCCAGGGCTGGAATACTGCTACAACCCCAGCCACAACCCAGAGGAGCAGCTCTCCTCCAAGGAC\n",
    "CTGGTGTCCTGCGCCTACCAGGTGGCCCGAGGCATGGAGTATCTGGCCTCCAAGAAGTGCATACACCGAG\n",
    "ACCTGGCAGCCAGGAATGTCCTGGTGACAGAGGACAATGTGATGAAGATAGCAGACTTTGGCCTCGCACG\n",
    "GGACATTCACCACATCGACTACTATAAAAAGACAACCAACGGCCGACTGCCTGTGAAGTGGATGGCACCC\n",
    "GAGGCATTATTTGACCGGATCTACACCCACCAGAGTGATGTGTGGTCTTTCGGGGTGCTCCTGTGGGAGA\n",
    "TCTTCACTCTGGGCGGCTCCCCATACCCCGGTGTGCCTGTGGAGGAACTTTTCAAGCTGCTGAAGGAGGG\n",
    "TCACCGCATGGACAAGCCCAGTAACTGCACCAACGAGCTGTACATGATGATGCGGGACTGCTGGCATGCA\n",
    "GTGCCCTCACAGAGACCCACCTTCAAGCAGCTGGTGGAAGACCTGGACCGCATCGTGGCCTTGACCTCCA\n",
    "ACCAGGAGTACCTGGACCTGTCCATGCCCCTGGACCAGTACTCCCCCAGCTTTCCCGACACCCGGAGCTC\n",
    "TACGTGCTCCTCAGGGGAGGATTCCGTCTTCTCTCATGAGCCGCTGCCCGAGGAGCCCTGCCTGCCCCGA\n",
    "CACCCAGCCCAGCTTGCCAATGGCGGACTCAAACGCCGCTGA'''.replace('\\n','')"
   ]
  },
  {
   "cell_type": "code",
   "execution_count": 251,
   "metadata": {},
   "outputs": [
    {
     "name": "stdout",
     "output_type": "stream",
     "text": [
      "118 22 22\n"
     ]
    },
    {
     "data": {
      "text/plain": [
       "{'LHS_ref': 'GACTCCACACTCATACCTTGGCACCCGAGAATTCCAATGATGCTCCAGGTGGCATAAC',\n",
       " 'target_LHS_ref': 'ATGATGCTCCAGGTGGCATAAC',\n",
       " 'LHS_mut': 'GACTCCACACTCATACCTTGGCACCCGAGAATTCCATGATGCTCCAGGTGGCATAACT',\n",
       " 'target_LHS_mut': 'TGATGCTCCAGGTGGCATAACT',\n",
       " 'target_RHS': 'GGACCTTGTAGCCTCCAATTCT',\n",
       " 'RHS': '/5Phos/GGACCTTGTAGCCTCCAATTCTACGCGGTTAGCACGTANNATACGTCACGGTCCTAGCAA',\n",
       " 'padlock_ref': '/5Phos/GGACCTTGTAGCCTCCAATTCTACGCGGTTAGCACGTANNATACGTCACGGTCCTAGCAAGACTCCACACTCATACCTTGGCACCCGAGAATTCCAATGATGCTCCAGGTGGCATAAC',\n",
       " 'padlock_alt': '/5Phos/GGACCTTGTAGCCTCCAATTCTACGCGGTTAGCACGTANNATACGTCACGGTCCTAGCAAGACTCCACACTCATACCTTGGCACCCGAGAATTCCATGATGCTCCAGGTGGCATAACT'}"
      ]
     },
     "execution_count": 251,
     "metadata": {},
     "output_type": "execute_result"
    }
   ],
   "source": [
    "FGFR1_flex=flex_padlock(FGFR1_CDS, \"c.719G>A\")\n",
    "FGFR1_flex"
   ]
  },
  {
   "cell_type": "code",
   "execution_count": null,
   "metadata": {},
   "outputs": [],
   "source": [
    "### https://cancer.sanger.ac.uk/cosmic/mutation/overview?id=130818805"
   ]
  },
  {
   "cell_type": "code",
   "execution_count": 200,
   "metadata": {},
   "outputs": [],
   "source": [
    "PTPRC='''ATGACCATGTATTTGTGGCTTAAACTCTTGGCATTTGGCTTTGCCTTTCTGGACACAGAAGTATTTGTGA\n",
    "CAGGGCAAAGCCCAACACCTTCCCCCACTGGATTGACTACAGCAAAGATGCCCAGTGTTCCACTTTCAAG\n",
    "TGACCCCTTACCTACTCACACCACTGCATTCTCACCCGCAAGCACCTTTGAAAGAGAAAATGACTTCTCA\n",
    "GAGACCACAACTTCTCTTAGTCCAGACAATACTTCCACCCAAGTATCCCCGGACTCTTTGGATAATGCTA\n",
    "GTGCTTTTAATACCACAGGTGTTTCATCAGTACAGACGCCTCACCTTCCCACGCACGCAGACTCGCAGAC\n",
    "GCCCTCTGCTGGAACTGACACGCAGACATTCAGCGGCTCCGCCGCCAATGCAAAACTCAACCCTACCCCA\n",
    "GGCAGCAATGCTATCTCAGATGTCCCAGGAGAGAGGAGTACAGCCAGCACCTTTCCTACAGACCCAGTTT\n",
    "CCCCATTGACAACCACCCTCAGCCTTGCACACCACAGCTCTGCTGCCTTACCTGCACGCACCTCCAACAC\n",
    "CACCATCACAGCGAACACCTCAGATGCCTACCTTAATGCCTCTGAAACAACCACTCTGAGCCCTTCTGGA\n",
    "AGCGCTGTCATTTCAACCACAACAATAGCTACTACTCCATCTAAGCCAACATGTGATGAAAAATATGCAA\n",
    "ACATCACTGTGGATTACTTATATAACAAGGAAACTAAATTATTTACAGCAAAGCTAAATGTTAATGAGAA\n",
    "TGTGGAATGTGGAAACAATACTTGCACAAACAATGAGGTGCATAACCTTACAGAATGTAAAAATGCGTCT\n",
    "GTTTCCATATCTCATAATTCATGTACTGCTCCTGATAAGACATTAATATTAGATGTGCCACCAGGGGTTG\n",
    "AAAAGTTTCAGTTACATGATTGTACACAAGTTGAAAAAGCAGATACTACTATTTGTTTAAAATGGAAAAA\n",
    "TATTGAAACCTTTACTTGTGATACACAGAATATTACCTACAGATTTCAGTGTGGTAATATGATATTTGAT\n",
    "AATAAAGAAATTAAATTAGAAAACCTTGAACCCGAACATGAGTATAAGTGTGACTCAGAAATACTCTATA\n",
    "ATAACCACAAGTTTACTAACGCAAGTAAAATTATTAAAACAGATTTTGGGAGTCCAGGAGAGCCTCAGAT\n",
    "TATTTTTTGTAGAAGTGAAGCTGCACATCAAGGAGTAATTACCTGGAATCCCCCTCAAAGATCATTTCAT\n",
    "AATTTTACCCTCTGTTATATAAAAGAGACAGAAAAAGATTGCCTCAATCTGGATAAAAACCTGATCAAAT\n",
    "ATGATTTGCAAAATTTAAAACCTTATACGAAATATGTTTTATCATTACATGCCTACATCATTGCAAAAGT\n",
    "GCAACGTAATGGAAGTGCTGCAATGTGTCATTTCACAACTAAAAGTGCTCCTCCAAGCCAGGTCTGGAAC\n",
    "ATGACTGTCTCCATGACATCAGATAATAGTATGCATGTCAAGTGTAGGCCTCCCAGGGACCGTAATGGCC\n",
    "CCCATGAACGTTACCATTTGGAAGTTGAAGCTGGAAATACTCTGGTTAGAAATGAGTCGCATAAGAATTG\n",
    "CGATTTCCGTGTAAAAGATCTTCAATATTCAACAGACTACACTTTTAAGGCCTATTTTCACAATGGAGAC\n",
    "TATCCTGGAGAACCCTTTATTTTACATCATTCAACATCTTATAATTCTAAGGCACTGATAGCATTTCTGG\n",
    "CATTTCTGATTATTGTGACATCAATAGCCCTGCTTGTTGTTCTCTACAAAATCTATGATCTACATAAGAA\n",
    "AAGATCCTGCAATTTAGATGAACAGCAGGAGCTTGTTGAAAGGGATGATGAAAAACAACTGATGAATGTG\n",
    "GAGCCAATCCATGCAGATATTTTGTTGGAAACTTATAAGAGGAAGATTGCTGATGAAGGAAGACTTTTTC\n",
    "TGGCTGAATTTCAGAGCATCCCGCGGGTGTTCAGCAAGTTTCCTATAAAGGAAGCTCGAAAGCCCTTTAA\n",
    "CCAGAATAAAAACCGTTATGTTGACATTCTTCCTTATGATTATAACCGTGTTGAACTCTCTGAGATAAAC\n",
    "GGAGATGCAGGGTCAAACTACATAAATGCCAGCTATATTGATGGTTTCAAAGAACCCAGGAAATACATTG\n",
    "CTGCACAAGGTCCCAGGGATGAAACTGTTGATGATTTCTGGAGGATGATTTGGGAACAGAAAGCCACAGT\n",
    "TATTGTCATGGTCACTCGATGTGAAGAAGGAAACAGGAACAAGTGTGCAGAATACTGGCCGTCAATGGAA\n",
    "GAGGGCACTCGGGCTTTTGGAGATGTTGTTGTAAAGATCAACCAGCACAAAAGATGTCCAGATTACATCA\n",
    "TTCAGAAATTGAACATTGTAAATAAAAAAGAAAAAGCAACTGGAAGAGAGGTGACTCACATTCAGTTCAC\n",
    "CAGCTGGCCAGACCACGGGGTGCCTGAGGATCCTCACTTGCTCCTCAAACTGAGAAGGAGAGTGAATGCC\n",
    "TTCAGCAATTTCTTCAGTGGTCCCATTGTGGTGCACTGCAGTGCTGGTGTTGGGCGCACAGGAACCTATA\n",
    "TCGGAATTGATGCCATGCTAGAAGGCCTGGAAGCCGAGAACAAAGTGGATGTTTATGGTTATGTTGTCAA\n",
    "GCTAAGGCGACAGAGATGCCTGATGGTTCAAGTAGAGGCCCAGTACATCTTGATCCATCAGGCTTTGGTG\n",
    "GAATACAATCAGTTTGGAGAAACAGAAGTGAATTTGTCTGAATTACATCCATATCTACATAACATGAAGA\n",
    "AAAGGGATCCACCCAGTGAGCCGTCTCCACTAGAGGCTGAATTCCAGAGACTTCCTTCATATAGGAGCTG\n",
    "GAGGACACAGCACATTGGAAATCAAGAAGAAAATAAAAGTAAAAACAGGAATTCTAATGTCATCCCATAT\n",
    "GACTATAACAGAGTGCCACTTAAACATGAGCTGGAAATGAGTAAAGAGAGTGAGCATGATTCAGATGAAT\n",
    "CCTCTGATGATGACAGTGATTCAGAGGAACCAAGCAAATACATCAATGCATCTTTTATAATGAGCTACTG\n",
    "GAAACCTGAAGTGATGATTGCTGCTCAGGGACCACTGAAGGAGACCATTGGTGACTTTTGGCAGATGATC\n",
    "TTCCAAAGAAAAGTCAAAGTTATTGTTATGCTGACAGAACTGAAACATGGAGACCAGGAAATCTGTGCTC\n",
    "AGTACTGGGGAGAAGGAAAGCAAACATATGGAGATATTGAAGTTGACCTGAAAGACACAGACAAATCTTC\n",
    "AACTTATACCCTTCGTGTCTTTGAACTGAGACATTCCAAGAGGAAAGACTCTCGAACTGTGTACCAGTAC\n",
    "CAATATACAAACTGGAGTGTGGAGCAGCTTCCTGCAGAACCCAAGGAATTAATCTCTATGATTCAGGTCG\n",
    "TCAAACAAAAACTTCCCCAGAAGAATTCCTCTGAAGGGAACAAGCATCACAAGAGTACACCTCTACTCAT\n",
    "TCACTGCAGGGATGGATCTCAGCAAACGGGAATATTTTGTGCTTTGTTAAATCTCTTAGAAAGTGCGGAA\n",
    "ACAGAAGAGGTAGTGGATATTTTTCAAGTGGTAAAAGCTCTACGCAAAGCTAGGCCAGGCATGGTTTCCA\n",
    "CATTCGAGCAATATCAATTCCTATATGACGTCATTGCCAGCACCTACCCTGCTCAGAATGGACAAGTAAA\n",
    "GAAAAACAACCATCAAGAAGATAAAATTGAATTTGATAATGAAGTGGACAAAGTAAAGCAGGATGCTAAT\n",
    "TGTGTTAATCCACTTGGTGCCCCAGAAAAGCTCCCTGAAGCAAAGGAACAGGCTGAAGGTTCTGAACCCA\n",
    "CGAGTGGCACTGAGGGGCCAGAACATTCTGTCAATGGTCCTGCAAGTCCAGCTTTAAATCAAGGTTCATA\n",
    "G'''.replace('\\n','')"
   ]
  },
  {
   "cell_type": "markdown",
   "metadata": {},
   "source": [
    "COSMIC: p.M769I; \"c.2307G>A\"\n",
    "Bing: M769K, T>A, \"c.2306T>A\""
   ]
  },
  {
   "cell_type": "code",
   "execution_count": null,
   "metadata": {},
   "outputs": [],
   "source": []
  },
  {
   "cell_type": "code",
   "execution_count": 252,
   "metadata": {},
   "outputs": [
    {
     "name": "stdout",
     "output_type": "stream",
     "text": [
      "118 22 22\n"
     ]
    },
    {
     "data": {
      "text/plain": [
       "{'LHS_ref': 'GACTCCACACTCATACCTTGGCACCCGAGAATTCCAAAAGCCCGAGTGCCCTCTTCCA',\n",
       " 'target_LHS_ref': 'AAAGCCCGAGTGCCCTCTTCCA',\n",
       " 'LHS_mut': 'GACTCCACACTCATACCTTGGCACCCGAGAATTCCAAAGCCCGAGTGCCCTCTTCCAT',\n",
       " 'target_LHS_mut': 'AAGCCCGAGTGCCCTCTTCCAT',\n",
       " 'target_RHS': 'TTGACGGCCAGTATTCTGCACA',\n",
       " 'RHS': '/5Phos/TTGACGGCCAGTATTCTGCACAACGCGGTTAGCACGTANNATACGTCACGGTCCTAGCAA',\n",
       " 'padlock_ref': '/5Phos/TTGACGGCCAGTATTCTGCACAACGCGGTTAGCACGTANNATACGTCACGGTCCTAGCAAGACTCCACACTCATACCTTGGCACCCGAGAATTCCAAAAGCCCGAGTGCCCTCTTCCA',\n",
       " 'padlock_alt': '/5Phos/TTGACGGCCAGTATTCTGCACAACGCGGTTAGCACGTANNATACGTCACGGTCCTAGCAAGACTCCACACTCATACCTTGGCACCCGAGAATTCCAAAGCCCGAGTGCCCTCTTCCAT'}"
      ]
     },
     "execution_count": 252,
     "metadata": {},
     "output_type": "execute_result"
    }
   ],
   "source": [
    "PTPRC_flex=flex_padlock(PTPRC, \"c.2306T>A\")\n",
    "PTPRC_flex"
   ]
  },
  {
   "cell_type": "markdown",
   "metadata": {},
   "source": [
    "# order probes in 200uM DDW, hplc if possible"
   ]
  },
  {
   "cell_type": "code",
   "execution_count": null,
   "metadata": {},
   "outputs": [],
   "source": []
  },
  {
   "cell_type": "markdown",
   "metadata": {},
   "source": [
    "# entrez\n",
    "\n",
    "https://www.ncbi.nlm.nih.gov/books/NBK25499/#chapter4.EFetch"
   ]
  },
  {
   "cell_type": "markdown",
   "metadata": {
    "jp-MarkdownHeadingCollapsed": true,
    "tags": []
   },
   "source": [
    "# get human cds"
   ]
  },
  {
   "cell_type": "code",
   "execution_count": 178,
   "metadata": {},
   "outputs": [],
   "source": [
    "def get_cds(gene,organism='human'):\n",
    "    records=[]\n",
    "    #query ids\n",
    "    handle = Entrez.esearch(db=\"nuccore\", term=\"{}[Orgn] AND {}[Gene]\".format(organism,gene))\n",
    "    record = Entrez.read(handle)\n",
    "    for idx in record[\"IdList\"]:\n",
    "        try:\n",
    "            Entrez.email = \"A.N.Other@example.com\"     # Always tell NCBI who you are\n",
    "            handle = Entrez.efetch(db=\"nuccore\", id=idx, rettype=\"fasta_cds_na\", retmode=\"text\")\n",
    "            filename = gene+str(idx)+\".fasta\"\n",
    "            if not os.path.isfile(filename):\n",
    "                with open(filename, \"w\") as out_handle:\n",
    "                    out_handle.write(handle.read())\n",
    "                print(gene,idx,\" Saved\")\n",
    "\n",
    "                print(\"Parsing...\")\n",
    "                record = SeqIO.read(filename, \"fasta\")\n",
    "                records.append(record)\n",
    "        except:\n",
    "            continue\n",
    "    return records"
   ]
  },
  {
   "cell_type": "code",
   "execution_count": 179,
   "metadata": {},
   "outputs": [
    {
     "name": "stdout",
     "output_type": "stream",
     "text": [
      "DNAJB1 1890333839  Saved\n",
      "Parsing...\n",
      "DNAJB1 1890327943  Saved\n",
      "Parsing...\n",
      "DNAJB1 1519245283  Saved\n",
      "Parsing...\n",
      "DNAJB1 2194972797  Saved\n",
      "Parsing...\n",
      "DNAJB1 568815579  Saved\n",
      "Parsing...\n",
      "DNAJB1 2217320975  Saved\n",
      "Parsing...\n",
      "DNAJB1 2217320973  Saved\n",
      "Parsing...\n",
      "DNAJB1 2217320972  Saved\n",
      "Parsing...\n",
      "DNAJB1 2217320971  Saved\n",
      "Parsing...\n",
      "DNAJB1 329299062  Saved\n",
      "Parsing...\n",
      "DNAJB1 74273663  Saved\n",
      "Parsing...\n",
      "DNAJB1 71515761  Saved\n",
      "Parsing...\n",
      "DNAJB1 38197192  Saved\n",
      "Parsing...\n",
      "DNAJB1 18044281  Saved\n",
      "Parsing...\n",
      "DNAJB1 39760203  Saved\n",
      "Parsing...\n",
      "DNAJB1 49456314  Saved\n",
      "Parsing...\n",
      "DNAJB1 49168457  Saved\n",
      "Parsing...\n",
      "DNAJB1 208966143  Saved\n",
      "Parsing...\n",
      "DNAJB1 168150060  Saved\n",
      "Parsing...\n",
      "DNAJB1 168150059  Saved\n",
      "Parsing...\n"
     ]
    }
   ],
   "source": [
    "DNAJB1=get_cds(\"DNAJB1\")"
   ]
  },
  {
   "cell_type": "code",
   "execution_count": 183,
   "metadata": {},
   "outputs": [],
   "source": [
    "for r in DNAJB1:\n",
    "    if 'CCDS12312.1' in r.description:\n",
    "        DNAJB1_CDS=r.seq"
   ]
  },
  {
   "cell_type": "code",
   "execution_count": 187,
   "metadata": {},
   "outputs": [
    {
     "data": {
      "text/plain": [
       "557"
      ]
     },
     "execution_count": 187,
     "metadata": {},
     "output_type": "execute_result"
    }
   ],
   "source": [
    "186*3-1"
   ]
  },
  {
   "cell_type": "code",
   "execution_count": 194,
   "metadata": {},
   "outputs": [
    {
     "data": {
      "text/plain": [
       "Seq('TCC')"
      ]
     },
     "execution_count": 194,
     "metadata": {},
     "output_type": "execute_result"
    }
   ],
   "source": [
    "DNAJB1_CDS[555:186*3]"
   ]
  },
  {
   "cell_type": "code",
   "execution_count": 264,
   "metadata": {},
   "outputs": [
    {
     "name": "stdout",
     "output_type": "stream",
     "text": [
      "118 22 22\n"
     ]
    }
   ],
   "source": [
    "# control probes\n",
    "# DNAJB1, S186S, \n",
    "DNAJB1_flex=flex_padlock(DNAJB1_CDS, \"c.558C>A\")"
   ]
  },
  {
   "cell_type": "code",
   "execution_count": null,
   "metadata": {},
   "outputs": [],
   "source": [
    "# write to file"
   ]
  },
  {
   "cell_type": "code",
   "execution_count": null,
   "metadata": {},
   "outputs": [],
   "source": [
    "KRAS_flex=flex_padlock(KRAS_CDS,'c.34G>T')\n",
    "FGFR1_flex=flex_padlock(FGFR1_CDS, \"c.719G>A\")\n",
    "TP63_flex=flex_padlock(TP63_CDS,'c.1090G>A')\n",
    "PTPRC_flex=flex_padlock(PTPRC, \"c.2306T>A\")\n",
    "DNAJB1_flex=flex_padlock(DNAJB1_CDS, \"c.558C>A\")"
   ]
  },
  {
   "cell_type": "code",
   "execution_count": 289,
   "metadata": {},
   "outputs": [],
   "source": [
    "targets={'KRAS':{'CDS':KRAS_CDS,'mutation_list':['c.34G>T',]},\n",
    "         'FGFR1':{'CDS':FGFR1_CDS, 'mutation_list':[\"c.719G>A\",]},\n",
    "         'TP63':{'CDS':TP63_CDS,'mutation_list':['c.1090G>A',]},\n",
    "         \"PTPRC\":{'CDS':PTPRC, 'mutation_list':[\"c.2306T>A\",]},\n",
    "         \"DNAJB1\":{'CDS':DNAJB1_CDS, 'mutation_list':[\"c.558C>A\",]},\n",
    "          }"
   ]
  },
  {
   "cell_type": "code",
   "execution_count": 290,
   "metadata": {},
   "outputs": [],
   "source": [
    "output=dict()\n",
    "for gene, info in targets.items():\n",
    "    CDS=info['CDS']\n",
    "    mutation_list=info['mutation_list']\n",
    "    for mut in mutation_list:\n",
    "        output[gene+\"_\"+mut]=flex_padlock(CDS, mut)\n",
    "df=pd.DataFrame.from_dict(output,orient='index')\n"
   ]
  },
  {
   "cell_type": "code",
   "execution_count": 291,
   "metadata": {},
   "outputs": [],
   "source": [
    "df.to_csv('flex_dna_probes_230300.csv')"
   ]
  },
  {
   "cell_type": "code",
   "execution_count": 298,
   "metadata": {},
   "outputs": [],
   "source": [
    "to_order={}\n",
    "for k, i in output.items():\n",
    "    for kk,ii in i.items():\n",
    "        to_order[kk+'_'+k]=ii\n",
    "ddf=pd.DataFrame.from_dict(to_order,orient=\"index\")\n"
   ]
  },
  {
   "cell_type": "code",
   "execution_count": 300,
   "metadata": {},
   "outputs": [],
   "source": [
    "ddf['len']=ddf[0].apply(len)"
   ]
  },
  {
   "cell_type": "code",
   "execution_count": 304,
   "metadata": {},
   "outputs": [],
   "source": [
    "ddf.sort_index(inplace=True)"
   ]
  },
  {
   "cell_type": "code",
   "execution_count": 306,
   "metadata": {},
   "outputs": [],
   "source": [
    "ddf.to_csv('flex_dan_probes_230310_toorder.csv')"
   ]
  },
  {
   "cell_type": "markdown",
   "metadata": {
    "tags": []
   },
   "source": [
    "# quick data analysis"
   ]
  },
  {
   "cell_type": "code",
   "execution_count": 3,
   "metadata": {},
   "outputs": [],
   "source": [
    "ref=pd.read_csv('flex_dna_probes_230300.csv')"
   ]
  },
  {
   "cell_type": "code",
   "execution_count": 4,
   "metadata": {},
   "outputs": [],
   "source": [
    "# ref.to_csv('flex_dna_230310_ref.csv')"
   ]
  },
  {
   "cell_type": "code",
   "execution_count": 5,
   "metadata": {},
   "outputs": [
    {
     "data": {
      "text/plain": [
       "'TCAAGGCACTCTTGCCTACGCCACC'"
      ]
     },
     "execution_count": 5,
     "metadata": {},
     "output_type": "execute_result"
    }
   ],
   "source": [
    "ref['target_LHS_ref'][2]"
   ]
  },
  {
   "cell_type": "code",
   "execution_count": 6,
   "metadata": {},
   "outputs": [],
   "source": [
    "ref['amplicon_ref']=ref['target_LHS_ref']+ref['target_RHS']\n",
    "ref['amplicon_mut']=ref['target_LHS_mut']+ref['target_RHS']\n",
    "# ref['cds_ref']=ref['target_LHS_mut']+ref['target_RHS']"
   ]
  },
  {
   "cell_type": "code",
   "execution_count": 7,
   "metadata": {},
   "outputs": [
    {
     "data": {
      "text/plain": [
       "Seq('GGTGGCGTAGGCAAGAGTGCCTTGA')"
      ]
     },
     "execution_count": 7,
     "metadata": {},
     "output_type": "execute_result"
    }
   ],
   "source": [
    "Seq(\"TCAAGGCACTCTTGCCTACGCCACC\").reverse_complement()"
   ]
  },
  {
   "cell_type": "code",
   "execution_count": 8,
   "metadata": {},
   "outputs": [],
   "source": [
    "target_dict={}\n",
    "for i,r in ref.iterrows():\n",
    "    \n",
    "    gene=r['Unnamed: 0']\n",
    "    refs=r['amplicon_ref']\n",
    "    muts=r['amplicon_mut']\n",
    "    target_dict[gene+'_wt']=refs\n",
    "    target_dict[gene+'_mt']=muts\n",
    "    \n"
   ]
  },
  {
   "cell_type": "code",
   "execution_count": null,
   "metadata": {},
   "outputs": [],
   "source": []
  },
  {
   "cell_type": "code",
   "execution_count": 10,
   "metadata": {},
   "outputs": [],
   "source": [
    "# fastq= '/gstore/data/dnaseq/processed_runs/R9173/results/LIB5468564_HITS5485163_S4_L001_R2_001.fastq.gz'"
   ]
  },
  {
   "cell_type": "code",
   "execution_count": 11,
   "metadata": {},
   "outputs": [],
   "source": [
    "# fastq= '/gstore/home/taol9/repeats_ultima/LIB5468564_HITS5485163_S4_L001_R2_001.fastq'"
   ]
  },
  {
   "cell_type": "code",
   "execution_count": 12,
   "metadata": {},
   "outputs": [],
   "source": [
    "# fastq=  \"/gstore/data/ctgbioinfo/taol9/flex/25/LIB5469834_SAM24431961_S5_L002_R2_001.fastq\""
   ]
  },
  {
   "cell_type": "code",
   "execution_count": 17,
   "metadata": {},
   "outputs": [],
   "source": [
    "# fastq=  \"/gstore/data/ctgbioinfo/taol9/flex/40/LIB5472587_SAM24434098_S1_L001_R2_001.fastq\"  # linear probe\n"
   ]
  },
  {
   "cell_type": "code",
   "execution_count": 10,
   "metadata": {},
   "outputs": [],
   "source": [
    "from Bio import SeqIO\n",
    "# record_dict = SeqIO.index(fastq,'fastq')\n",
    "# len(record_dict)"
   ]
  },
  {
   "cell_type": "code",
   "execution_count": 14,
   "metadata": {},
   "outputs": [
    {
     "data": {
      "text/plain": [
       "15507195"
      ]
     },
     "execution_count": 14,
     "metadata": {},
     "output_type": "execute_result"
    }
   ],
   "source": [
    "len(record_dict)"
   ]
  },
  {
   "cell_type": "code",
   "execution_count": 9,
   "metadata": {},
   "outputs": [],
   "source": [
    "def mapper(k):\n",
    "    ontarget=0\n",
    "    parsedreads=0\n",
    "    aligns=list()\n",
    "    for i in list(record_dict.keys())[:10000]:\n",
    "        record=record_dict[i]\n",
    "        seq=record.seq\n",
    "        tar=target_dict[k]\n",
    "        if ontarget < 10000:\n",
    "            parsedreads+=1\n",
    "            if str(tar) in str(seq):\n",
    "                aligns.append(record.id)\n",
    "                ontarget+=1   \n",
    "            else:\n",
    "                continue\n",
    "    print (k, ontarget, parsedreads)\n",
    "    return {k:aligns}\n",
    "    "
   ]
  },
  {
   "cell_type": "code",
   "execution_count": 18,
   "metadata": {},
   "outputs": [
    {
     "name": "stdout",
     "output_type": "stream",
     "text": [
      "DNAJB1_c.558C>A_wt 53 1500000\n",
      "DNAJB1_c.558C>A_mt 50 1500000\n",
      "FGFR1_c.719G>A_wt 0 1500000\n",
      "FGFR1_c.719G>A_mt 2 1500000\n",
      "KRAS_c.34G>T_wt 32 1500000\n",
      "KRAS_c.34G>T_mt 10 1500000\n",
      "PTPRC_c.2306T>A_wt 2 1500000\n",
      "PTPRC_c.2306T>A_mt 0 1500000\n",
      "TP63_c.1090G>A_wt 36 1500000\n",
      "TP63_c.1090G>A_mt 1 1500000\n"
     ]
    }
   ],
   "source": [
    "keys=list(target_dict.keys())\n",
    "output1={}\n",
    "for k in keys:\n",
    "    x=mapper(k)\n",
    "    output1.update(x)\n",
    "#     ontarget=0\n",
    "#     parsedreads=0\n",
    "#     for i in list(record_dict.keys())[:100000]:\n",
    "#         record=record_dict[i]\n",
    "#         seq=record.seq\n",
    "#         tar=target_dict[k]\n",
    "#         if ontarget < 3 or parsedreads < 100000:\n",
    "#             parsedreads+=1\n",
    "#             if str(tar) in str(seq):\n",
    "#                 aligns[k].append(record.id)\n",
    "#                 ontarget+=1   \n",
    "#             else:\n",
    "#                 continue\n",
    "#     print (k, ontarget,parsedreads)\n",
    "    "
   ]
  },
  {
   "cell_type": "code",
   "execution_count": null,
   "metadata": {},
   "outputs": [],
   "source": [
    "#25 cyc\n",
    "DNAJB1_c.558C>A_wt 53 1500000\n",
    "DNAJB1_c.558C>A_mt 50 1500000\n",
    "FGFR1_c.719G>A_wt 0 1500000\n",
    "FGFR1_c.719G>A_mt 2 1500000\n",
    "KRAS_c.34G>T_wt 32 1500000\n",
    "KRAS_c.34G>T_mt 10 1500000\n",
    "PTPRC_c.2306T>A_wt 2 1500000\n",
    "PTPRC_c.2306T>A_mt 0 1500000\n",
    "TP63_c.1090G>A_wt 36 1500000\n",
    "TP63_c.1090G>A_mt 1 1500000"
   ]
  },
  {
   "cell_type": "code",
   "execution_count": 22,
   "metadata": {},
   "outputs": [
    {
     "name": "stdout",
     "output_type": "stream",
     "text": [
      "DNAJB1_c.558C>A_wt 100 2046\n",
      "DNAJB1_c.558C>A_mt 0 1500000\n",
      "FGFR1_c.719G>A_wt 34 1500000\n",
      "FGFR1_c.719G>A_mt 0 1500000\n",
      "KRAS_c.34G>T_wt 100 786\n",
      "KRAS_c.34G>T_mt 100 244874\n",
      "PTPRC_c.2306T>A_wt 100 1040910\n",
      "PTPRC_c.2306T>A_mt 0 1500000\n",
      "TP63_c.1090G>A_wt 100 1611\n",
      "TP63_c.1090G>A_mt 100 401705\n"
     ]
    }
   ],
   "source": [
    "#40C linear\n",
    "keys=list(target_dict.keys())\n",
    "output1={}\n",
    "for k in keys:\n",
    "    x=mapper(k)\n",
    "    output1.update(x)"
   ]
  },
  {
   "cell_type": "markdown",
   "metadata": {
    "tags": []
   },
   "source": [
    "# 40 padlock mutation matrix\n"
   ]
  },
  {
   "cell_type": "code",
   "execution_count": 118,
   "metadata": {},
   "outputs": [
    {
     "data": {
      "text/plain": [
       "'/gstore/home/taol9/gitsss/yo/flex'"
      ]
     },
     "execution_count": 118,
     "metadata": {},
     "output_type": "execute_result"
    }
   ],
   "source": [
    "pwd"
   ]
  },
  {
   "cell_type": "markdown",
   "metadata": {},
   "source": [
    "## cell barcodes white list"
   ]
  },
  {
   "cell_type": "code",
   "execution_count": 122,
   "metadata": {},
   "outputs": [],
   "source": [
    "whitelist=\"/gstore/home/taol9/gitsss/yo/flex/737K-fixed-rna-profiling.txt\"\n",
    "wl=[]\n",
    "f=open(whitelist,\"r\")\n",
    "wl=[l.strip() for l in f.readlines()]\n",
    "f.close()"
   ]
  },
  {
   "cell_type": "code",
   "execution_count": 123,
   "metadata": {},
   "outputs": [
    {
     "data": {
      "text/plain": [
       "737280"
      ]
     },
     "execution_count": 123,
     "metadata": {},
     "output_type": "execute_result"
    }
   ],
   "source": [
    "len(wl)"
   ]
  },
  {
   "cell_type": "code",
   "execution_count": 124,
   "metadata": {},
   "outputs": [
    {
     "data": {
      "text/plain": [
       "'AAACAAGCAAACAAGA'"
      ]
     },
     "execution_count": 124,
     "metadata": {},
     "output_type": "execute_result"
    }
   ],
   "source": [
    "wl[0]"
   ]
  },
  {
   "cell_type": "code",
   "execution_count": 16,
   "metadata": {},
   "outputs": [],
   "source": [
    "# 40 padlock\n",
    "fastq=  \"/gstore/data/ctgbioinfo/taol9/flex/40/LIB5472588_SAM24434099_S2_L001_R2_001.fastq\"  # padloc probe\n",
    "barcodes=  \"/gstore/data/ctgbioinfo/taol9/flex/40/LIB5472588_SAM24434099_S2_L001_R1_001.fastq\"  # padloc probe\n",
    "barcodes_dict = SeqIO.index(barcodes,'fastq')\n",
    "record_dict = SeqIO.index(fastq,'fastq')\n",
    "\n",
    "# with open('output1_40_padlock.pkl', 'wb') as file:\n",
    "#     pickle.dump(output1, file)"
   ]
  },
  {
   "cell_type": "code",
   "execution_count": 51,
   "metadata": {},
   "outputs": [
    {
     "data": {
      "text/plain": [
       "41056602"
      ]
     },
     "execution_count": 51,
     "metadata": {},
     "output_type": "execute_result"
    }
   ],
   "source": [
    "len(record_dict)"
   ]
  },
  {
   "cell_type": "code",
   "execution_count": 52,
   "metadata": {},
   "outputs": [],
   "source": [
    "from collections import defaultdict\n",
    "mutation_matrix=defaultdict(lambda: defaultdict(list))\n",
    "\n",
    "for i in list(record_dict.keys()):\n",
    "    record=record_dict[i]\n",
    "    seq=record.seq\n",
    "    try:\n",
    "        barcode_record=barcodes_dict[i]\n",
    "        barcode_seq=barcode_record.seq\n",
    "        barcode=str(barcode_seq[:16])\n",
    "        umi=str(barcode_seq[16:])\n",
    "    \n",
    "        for tar_k, tar in target_dict.items():\n",
    "            if str(tar) in str(seq):\n",
    "                mutation_matrix[barcode][tar_k].append(umi)   \n",
    "            else:\n",
    "                continue\n",
    "    except:\n",
    "        continue\n"
   ]
  },
  {
   "cell_type": "code",
   "execution_count": 126,
   "metadata": {},
   "outputs": [],
   "source": [
    "to_df=dict()\n",
    "for k,i in mutation_matrix.items():\n",
    "    if k in wl:\n",
    "        tmp={}\n",
    "        for kk,ii in i.items():\n",
    "            tmp[kk]=len(Counter(ii))\n",
    "        to_df[k]=tmp\n",
    "df=pd.DataFrame.from_dict(to_df, orient='index')\n"
   ]
  },
  {
   "cell_type": "code",
   "execution_count": 125,
   "metadata": {},
   "outputs": [
    {
     "data": {
      "text/plain": [
       "48999"
      ]
     },
     "execution_count": 125,
     "metadata": {},
     "output_type": "execute_result"
    }
   ],
   "source": [
    "# without filter by white list len(df): 48999"
   ]
  },
  {
   "cell_type": "code",
   "execution_count": 127,
   "metadata": {},
   "outputs": [
    {
     "data": {
      "text/plain": [
       "18631"
      ]
     },
     "execution_count": 127,
     "metadata": {},
     "output_type": "execute_result"
    }
   ],
   "source": [
    "len(df)"
   ]
  },
  {
   "cell_type": "code",
   "execution_count": 128,
   "metadata": {},
   "outputs": [
    {
     "data": {
      "text/html": [
       "<div>\n",
       "<style>\n",
       "    .dataframe thead tr:only-child th {\n",
       "        text-align: right;\n",
       "    }\n",
       "\n",
       "    .dataframe thead th {\n",
       "        text-align: left;\n",
       "    }\n",
       "\n",
       "    .dataframe tbody tr th {\n",
       "        vertical-align: top;\n",
       "    }\n",
       "</style>\n",
       "<table border=\"1\" class=\"dataframe\">\n",
       "  <thead>\n",
       "    <tr style=\"text-align: right;\">\n",
       "      <th></th>\n",
       "      <th>DNAJB1_c.558C&gt;A_wt</th>\n",
       "      <th>PTPRC_c.2306T&gt;A_wt</th>\n",
       "      <th>KRAS_c.34G&gt;T_wt</th>\n",
       "      <th>TP63_c.1090G&gt;A_mt</th>\n",
       "      <th>FGFR1_c.719G&gt;A_mt</th>\n",
       "      <th>TP63_c.1090G&gt;A_wt</th>\n",
       "      <th>DNAJB1_c.558C&gt;A_mt</th>\n",
       "      <th>KRAS_c.34G&gt;T_mt</th>\n",
       "      <th>PTPRC_c.2306T&gt;A_mt</th>\n",
       "      <th>FGFR1_c.719G&gt;A_wt</th>\n",
       "    </tr>\n",
       "  </thead>\n",
       "  <tbody>\n",
       "    <tr>\n",
       "      <th>AAACAAGCAAACACGC</th>\n",
       "      <td>2.0</td>\n",
       "      <td>NaN</td>\n",
       "      <td>1.0</td>\n",
       "      <td>NaN</td>\n",
       "      <td>NaN</td>\n",
       "      <td>NaN</td>\n",
       "      <td>NaN</td>\n",
       "      <td>NaN</td>\n",
       "      <td>NaN</td>\n",
       "      <td>NaN</td>\n",
       "    </tr>\n",
       "    <tr>\n",
       "      <th>AAACAAGCAATAACCG</th>\n",
       "      <td>NaN</td>\n",
       "      <td>NaN</td>\n",
       "      <td>3.0</td>\n",
       "      <td>NaN</td>\n",
       "      <td>NaN</td>\n",
       "      <td>NaN</td>\n",
       "      <td>NaN</td>\n",
       "      <td>NaN</td>\n",
       "      <td>NaN</td>\n",
       "      <td>NaN</td>\n",
       "    </tr>\n",
       "    <tr>\n",
       "      <th>AAACAAGCACCATACT</th>\n",
       "      <td>NaN</td>\n",
       "      <td>NaN</td>\n",
       "      <td>1.0</td>\n",
       "      <td>NaN</td>\n",
       "      <td>NaN</td>\n",
       "      <td>NaN</td>\n",
       "      <td>NaN</td>\n",
       "      <td>NaN</td>\n",
       "      <td>NaN</td>\n",
       "      <td>NaN</td>\n",
       "    </tr>\n",
       "    <tr>\n",
       "      <th>AAACAAGCAGCCATTT</th>\n",
       "      <td>1.0</td>\n",
       "      <td>NaN</td>\n",
       "      <td>1.0</td>\n",
       "      <td>NaN</td>\n",
       "      <td>NaN</td>\n",
       "      <td>1.0</td>\n",
       "      <td>NaN</td>\n",
       "      <td>NaN</td>\n",
       "      <td>NaN</td>\n",
       "      <td>NaN</td>\n",
       "    </tr>\n",
       "    <tr>\n",
       "      <th>AAACAAGCATAATGAC</th>\n",
       "      <td>NaN</td>\n",
       "      <td>NaN</td>\n",
       "      <td>2.0</td>\n",
       "      <td>NaN</td>\n",
       "      <td>NaN</td>\n",
       "      <td>NaN</td>\n",
       "      <td>NaN</td>\n",
       "      <td>NaN</td>\n",
       "      <td>NaN</td>\n",
       "      <td>NaN</td>\n",
       "    </tr>\n",
       "    <tr>\n",
       "      <th>AAACAAGCATTCTGTA</th>\n",
       "      <td>NaN</td>\n",
       "      <td>NaN</td>\n",
       "      <td>1.0</td>\n",
       "      <td>NaN</td>\n",
       "      <td>NaN</td>\n",
       "      <td>NaN</td>\n",
       "      <td>NaN</td>\n",
       "      <td>NaN</td>\n",
       "      <td>NaN</td>\n",
       "      <td>NaN</td>\n",
       "    </tr>\n",
       "    <tr>\n",
       "      <th>AAACCAATCATGGAAC</th>\n",
       "      <td>NaN</td>\n",
       "      <td>NaN</td>\n",
       "      <td>NaN</td>\n",
       "      <td>3.0</td>\n",
       "      <td>NaN</td>\n",
       "      <td>NaN</td>\n",
       "      <td>1.0</td>\n",
       "      <td>NaN</td>\n",
       "      <td>NaN</td>\n",
       "      <td>NaN</td>\n",
       "    </tr>\n",
       "    <tr>\n",
       "      <th>AAACCAATCCAACTTG</th>\n",
       "      <td>NaN</td>\n",
       "      <td>1.0</td>\n",
       "      <td>2.0</td>\n",
       "      <td>NaN</td>\n",
       "      <td>NaN</td>\n",
       "      <td>NaN</td>\n",
       "      <td>NaN</td>\n",
       "      <td>NaN</td>\n",
       "      <td>NaN</td>\n",
       "      <td>NaN</td>\n",
       "    </tr>\n",
       "    <tr>\n",
       "      <th>AAACCAATCCAATACT</th>\n",
       "      <td>NaN</td>\n",
       "      <td>NaN</td>\n",
       "      <td>NaN</td>\n",
       "      <td>NaN</td>\n",
       "      <td>NaN</td>\n",
       "      <td>1.0</td>\n",
       "      <td>NaN</td>\n",
       "      <td>NaN</td>\n",
       "      <td>NaN</td>\n",
       "      <td>NaN</td>\n",
       "    </tr>\n",
       "    <tr>\n",
       "      <th>AAACCAATCCACAATT</th>\n",
       "      <td>NaN</td>\n",
       "      <td>NaN</td>\n",
       "      <td>NaN</td>\n",
       "      <td>NaN</td>\n",
       "      <td>1.0</td>\n",
       "      <td>NaN</td>\n",
       "      <td>NaN</td>\n",
       "      <td>NaN</td>\n",
       "      <td>NaN</td>\n",
       "      <td>NaN</td>\n",
       "    </tr>\n",
       "  </tbody>\n",
       "</table>\n",
       "</div>"
      ],
      "text/plain": [
       "                  DNAJB1_c.558C>A_wt  PTPRC_c.2306T>A_wt  KRAS_c.34G>T_wt  \\\n",
       "AAACAAGCAAACACGC                 2.0                 NaN              1.0   \n",
       "AAACAAGCAATAACCG                 NaN                 NaN              3.0   \n",
       "AAACAAGCACCATACT                 NaN                 NaN              1.0   \n",
       "AAACAAGCAGCCATTT                 1.0                 NaN              1.0   \n",
       "AAACAAGCATAATGAC                 NaN                 NaN              2.0   \n",
       "AAACAAGCATTCTGTA                 NaN                 NaN              1.0   \n",
       "AAACCAATCATGGAAC                 NaN                 NaN              NaN   \n",
       "AAACCAATCCAACTTG                 NaN                 1.0              2.0   \n",
       "AAACCAATCCAATACT                 NaN                 NaN              NaN   \n",
       "AAACCAATCCACAATT                 NaN                 NaN              NaN   \n",
       "\n",
       "                  TP63_c.1090G>A_mt  FGFR1_c.719G>A_mt  TP63_c.1090G>A_wt  \\\n",
       "AAACAAGCAAACACGC                NaN                NaN                NaN   \n",
       "AAACAAGCAATAACCG                NaN                NaN                NaN   \n",
       "AAACAAGCACCATACT                NaN                NaN                NaN   \n",
       "AAACAAGCAGCCATTT                NaN                NaN                1.0   \n",
       "AAACAAGCATAATGAC                NaN                NaN                NaN   \n",
       "AAACAAGCATTCTGTA                NaN                NaN                NaN   \n",
       "AAACCAATCATGGAAC                3.0                NaN                NaN   \n",
       "AAACCAATCCAACTTG                NaN                NaN                NaN   \n",
       "AAACCAATCCAATACT                NaN                NaN                1.0   \n",
       "AAACCAATCCACAATT                NaN                1.0                NaN   \n",
       "\n",
       "                  DNAJB1_c.558C>A_mt  KRAS_c.34G>T_mt  PTPRC_c.2306T>A_mt  \\\n",
       "AAACAAGCAAACACGC                 NaN              NaN                 NaN   \n",
       "AAACAAGCAATAACCG                 NaN              NaN                 NaN   \n",
       "AAACAAGCACCATACT                 NaN              NaN                 NaN   \n",
       "AAACAAGCAGCCATTT                 NaN              NaN                 NaN   \n",
       "AAACAAGCATAATGAC                 NaN              NaN                 NaN   \n",
       "AAACAAGCATTCTGTA                 NaN              NaN                 NaN   \n",
       "AAACCAATCATGGAAC                 1.0              NaN                 NaN   \n",
       "AAACCAATCCAACTTG                 NaN              NaN                 NaN   \n",
       "AAACCAATCCAATACT                 NaN              NaN                 NaN   \n",
       "AAACCAATCCACAATT                 NaN              NaN                 NaN   \n",
       "\n",
       "                  FGFR1_c.719G>A_wt  \n",
       "AAACAAGCAAACACGC                NaN  \n",
       "AAACAAGCAATAACCG                NaN  \n",
       "AAACAAGCACCATACT                NaN  \n",
       "AAACAAGCAGCCATTT                NaN  \n",
       "AAACAAGCATAATGAC                NaN  \n",
       "AAACAAGCATTCTGTA                NaN  \n",
       "AAACCAATCATGGAAC                NaN  \n",
       "AAACCAATCCAACTTG                NaN  \n",
       "AAACCAATCCAATACT                NaN  \n",
       "AAACCAATCCACAATT                NaN  "
      ]
     },
     "execution_count": 128,
     "metadata": {},
     "output_type": "execute_result"
    }
   ],
   "source": [
    "df.head(10)"
   ]
  },
  {
   "cell_type": "code",
   "execution_count": 60,
   "metadata": {},
   "outputs": [
    {
     "data": {
      "text/plain": [
       "Index(['DNAJB1_c.558C>A_wt', 'PTPRC_c.2306T>A_wt', 'KRAS_c.34G>T_wt',\n",
       "       'TP63_c.1090G>A_mt', 'FGFR1_c.719G>A_mt', 'TP63_c.1090G>A_wt',\n",
       "       'DNAJB1_c.558C>A_mt', 'KRAS_c.34G>T_mt', 'PTPRC_c.2306T>A_mt',\n",
       "       'FGFR1_c.719G>A_wt'],\n",
       "      dtype='object')"
      ]
     },
     "execution_count": 60,
     "metadata": {},
     "output_type": "execute_result"
    }
   ],
   "source": [
    "df.columns"
   ]
  },
  {
   "cell_type": "code",
   "execution_count": 58,
   "metadata": {},
   "outputs": [
    {
     "data": {
      "text/plain": [
       "48999"
      ]
     },
     "execution_count": 58,
     "metadata": {},
     "output_type": "execute_result"
    }
   ],
   "source": [
    "len(df)"
   ]
  },
  {
   "cell_type": "code",
   "execution_count": 130,
   "metadata": {},
   "outputs": [],
   "source": [
    "df.sort_index(axis = 1, inplace=True)\n"
   ]
  },
  {
   "cell_type": "code",
   "execution_count": 131,
   "metadata": {},
   "outputs": [],
   "source": [
    "condition=((df['DNAJB1_c.558C>A_wt']>0)\n",
    "# &(df['PTPRC_c.2306T>A_wt']>0)\n",
    "# &(df['KRAS_c.34G>T_wt']>0)\n",
    "# &(df['KRAS_c.34G>T_mt']>0)\n",
    "# &(df['TP63_c.1090G>A_wt']>0)\n",
    "# &(df['FGFR1_c.719G>A_wt']>0)\n",
    "          )"
   ]
  },
  {
   "cell_type": "code",
   "execution_count": 222,
   "metadata": {},
   "outputs": [],
   "source": [
    "condition=(\n",
    "    # (df['DNAJB1_c.558C>A_mt']>0)\n",
    "# &(df['PTPRC_c.2306T>A_wt']>0)\n",
    "# &\n",
    "    (df['KRAS_c.34G>T_wt']>0)\n",
    "# &\n",
    "    # (df['KRAS_c.34G>T_mt']>0)\n",
    "# &(df['TP63_c.1090G>A_wt']>0)\n",
    "# &(df['FGFR1_c.719G>A_wt']>0)\n",
    "          )"
   ]
  },
  {
   "cell_type": "code",
   "execution_count": 135,
   "metadata": {},
   "outputs": [],
   "source": [
    "condition=((df['DNAJB1_c.558C>A_wt']>0)\n",
    "           &(df['DNAJB1_c.558C>A_mt']>0)\n",
    "# &(df['PTPRC_c.2306T>A_wt']>0)\n",
    "# &(df['KRAS_c.34G>T_wt']>0)\n",
    "# &(df['KRAS_c.34G>T_mt']>0)\n",
    "# &(df['TP63_c.1090G>A_wt']>0)\n",
    "# &(df['FGFR1_c.719G>A_wt']>0)\n",
    "          )"
   ]
  },
  {
   "cell_type": "code",
   "execution_count": 174,
   "metadata": {},
   "outputs": [
    {
     "data": {
      "text/plain": [
       "632"
      ]
     },
     "execution_count": 174,
     "metadata": {},
     "output_type": "execute_result"
    }
   ],
   "source": [
    "len(df[condition])"
   ]
  },
  {
   "cell_type": "code",
   "execution_count": 134,
   "metadata": {},
   "outputs": [
    {
     "data": {
      "text/plain": [
       "2785"
      ]
     },
     "execution_count": 134,
     "metadata": {},
     "output_type": "execute_result"
    }
   ],
   "source": [
    "len(df[condition])"
   ]
  },
  {
   "cell_type": "code",
   "execution_count": 136,
   "metadata": {},
   "outputs": [
    {
     "data": {
      "text/plain": [
       "1561"
      ]
     },
     "execution_count": 136,
     "metadata": {},
     "output_type": "execute_result"
    }
   ],
   "source": [
    "len(df[condition])"
   ]
  },
  {
   "cell_type": "code",
   "execution_count": 224,
   "metadata": {},
   "outputs": [
    {
     "data": {
      "text/html": [
       "<div>\n",
       "<style>\n",
       "    .dataframe thead tr:only-child th {\n",
       "        text-align: right;\n",
       "    }\n",
       "\n",
       "    .dataframe thead th {\n",
       "        text-align: left;\n",
       "    }\n",
       "\n",
       "    .dataframe tbody tr th {\n",
       "        vertical-align: top;\n",
       "    }\n",
       "</style>\n",
       "<table border=\"1\" class=\"dataframe\">\n",
       "  <thead>\n",
       "    <tr style=\"text-align: right;\">\n",
       "      <th></th>\n",
       "      <th>DNAJB1_c.558C&gt;A_mt</th>\n",
       "      <th>DNAJB1_c.558C&gt;A_wt</th>\n",
       "      <th>FGFR1_c.719G&gt;A_mt</th>\n",
       "      <th>FGFR1_c.719G&gt;A_wt</th>\n",
       "      <th>KRAS_c.34G&gt;T_mt</th>\n",
       "      <th>KRAS_c.34G&gt;T_wt</th>\n",
       "      <th>PTPRC_c.2306T&gt;A_mt</th>\n",
       "      <th>PTPRC_c.2306T&gt;A_wt</th>\n",
       "      <th>TP63_c.1090G&gt;A_mt</th>\n",
       "      <th>TP63_c.1090G&gt;A_wt</th>\n",
       "    </tr>\n",
       "  </thead>\n",
       "  <tbody>\n",
       "    <tr>\n",
       "      <th>AAACCAGGTCTACCAG</th>\n",
       "      <td>NaN</td>\n",
       "      <td>7.0</td>\n",
       "      <td>3.0</td>\n",
       "      <td>NaN</td>\n",
       "      <td>8.0</td>\n",
       "      <td>4.0</td>\n",
       "      <td>NaN</td>\n",
       "      <td>NaN</td>\n",
       "      <td>2.0</td>\n",
       "      <td>1.0</td>\n",
       "    </tr>\n",
       "    <tr>\n",
       "      <th>AAAGATGCATCCTTGG</th>\n",
       "      <td>NaN</td>\n",
       "      <td>NaN</td>\n",
       "      <td>1.0</td>\n",
       "      <td>NaN</td>\n",
       "      <td>5.0</td>\n",
       "      <td>NaN</td>\n",
       "      <td>NaN</td>\n",
       "      <td>NaN</td>\n",
       "      <td>NaN</td>\n",
       "      <td>1.0</td>\n",
       "    </tr>\n",
       "    <tr>\n",
       "      <th>AAAGCATGTGACCTAT</th>\n",
       "      <td>NaN</td>\n",
       "      <td>1.0</td>\n",
       "      <td>NaN</td>\n",
       "      <td>NaN</td>\n",
       "      <td>1.0</td>\n",
       "      <td>2.0</td>\n",
       "      <td>NaN</td>\n",
       "      <td>NaN</td>\n",
       "      <td>NaN</td>\n",
       "      <td>NaN</td>\n",
       "    </tr>\n",
       "    <tr>\n",
       "      <th>AAAGCCTAGTGGACCA</th>\n",
       "      <td>2.0</td>\n",
       "      <td>2.0</td>\n",
       "      <td>NaN</td>\n",
       "      <td>NaN</td>\n",
       "      <td>5.0</td>\n",
       "      <td>1.0</td>\n",
       "      <td>NaN</td>\n",
       "      <td>NaN</td>\n",
       "      <td>NaN</td>\n",
       "      <td>NaN</td>\n",
       "    </tr>\n",
       "    <tr>\n",
       "      <th>AAAGTAGCAATGTTCC</th>\n",
       "      <td>NaN</td>\n",
       "      <td>NaN</td>\n",
       "      <td>1.0</td>\n",
       "      <td>NaN</td>\n",
       "      <td>1.0</td>\n",
       "      <td>NaN</td>\n",
       "      <td>NaN</td>\n",
       "      <td>NaN</td>\n",
       "      <td>NaN</td>\n",
       "      <td>NaN</td>\n",
       "    </tr>\n",
       "    <tr>\n",
       "      <th>AAAGTGCTCTAATGAG</th>\n",
       "      <td>NaN</td>\n",
       "      <td>NaN</td>\n",
       "      <td>NaN</td>\n",
       "      <td>NaN</td>\n",
       "      <td>1.0</td>\n",
       "      <td>NaN</td>\n",
       "      <td>NaN</td>\n",
       "      <td>NaN</td>\n",
       "      <td>NaN</td>\n",
       "      <td>NaN</td>\n",
       "    </tr>\n",
       "    <tr>\n",
       "      <th>AAATCACCACAGGCTG</th>\n",
       "      <td>NaN</td>\n",
       "      <td>1.0</td>\n",
       "      <td>1.0</td>\n",
       "      <td>NaN</td>\n",
       "      <td>2.0</td>\n",
       "      <td>1.0</td>\n",
       "      <td>NaN</td>\n",
       "      <td>NaN</td>\n",
       "      <td>NaN</td>\n",
       "      <td>NaN</td>\n",
       "    </tr>\n",
       "    <tr>\n",
       "      <th>AACCTCATCCATTAAC</th>\n",
       "      <td>NaN</td>\n",
       "      <td>6.0</td>\n",
       "      <td>6.0</td>\n",
       "      <td>NaN</td>\n",
       "      <td>1.0</td>\n",
       "      <td>1.0</td>\n",
       "      <td>NaN</td>\n",
       "      <td>NaN</td>\n",
       "      <td>NaN</td>\n",
       "      <td>NaN</td>\n",
       "    </tr>\n",
       "    <tr>\n",
       "      <th>AACCTGCTCTGGCCCA</th>\n",
       "      <td>NaN</td>\n",
       "      <td>7.0</td>\n",
       "      <td>NaN</td>\n",
       "      <td>NaN</td>\n",
       "      <td>1.0</td>\n",
       "      <td>1.0</td>\n",
       "      <td>NaN</td>\n",
       "      <td>NaN</td>\n",
       "      <td>NaN</td>\n",
       "      <td>4.0</td>\n",
       "    </tr>\n",
       "    <tr>\n",
       "      <th>AACGGCTCACGCCACT</th>\n",
       "      <td>NaN</td>\n",
       "      <td>1.0</td>\n",
       "      <td>NaN</td>\n",
       "      <td>NaN</td>\n",
       "      <td>1.0</td>\n",
       "      <td>NaN</td>\n",
       "      <td>NaN</td>\n",
       "      <td>NaN</td>\n",
       "      <td>NaN</td>\n",
       "      <td>NaN</td>\n",
       "    </tr>\n",
       "    <tr>\n",
       "      <th>AACTAAGTCCATTAGT</th>\n",
       "      <td>NaN</td>\n",
       "      <td>1.0</td>\n",
       "      <td>NaN</td>\n",
       "      <td>NaN</td>\n",
       "      <td>1.0</td>\n",
       "      <td>NaN</td>\n",
       "      <td>NaN</td>\n",
       "      <td>NaN</td>\n",
       "      <td>1.0</td>\n",
       "      <td>NaN</td>\n",
       "    </tr>\n",
       "    <tr>\n",
       "      <th>AACTTGTTCAACCGCT</th>\n",
       "      <td>NaN</td>\n",
       "      <td>2.0</td>\n",
       "      <td>NaN</td>\n",
       "      <td>NaN</td>\n",
       "      <td>1.0</td>\n",
       "      <td>2.0</td>\n",
       "      <td>NaN</td>\n",
       "      <td>NaN</td>\n",
       "      <td>NaN</td>\n",
       "      <td>1.0</td>\n",
       "    </tr>\n",
       "    <tr>\n",
       "      <th>AAGCCTCTCATGTCAT</th>\n",
       "      <td>NaN</td>\n",
       "      <td>NaN</td>\n",
       "      <td>NaN</td>\n",
       "      <td>NaN</td>\n",
       "      <td>1.0</td>\n",
       "      <td>2.0</td>\n",
       "      <td>NaN</td>\n",
       "      <td>NaN</td>\n",
       "      <td>NaN</td>\n",
       "      <td>NaN</td>\n",
       "    </tr>\n",
       "    <tr>\n",
       "      <th>AAGCGCTCAAACTTGG</th>\n",
       "      <td>NaN</td>\n",
       "      <td>NaN</td>\n",
       "      <td>NaN</td>\n",
       "      <td>NaN</td>\n",
       "      <td>1.0</td>\n",
       "      <td>NaN</td>\n",
       "      <td>NaN</td>\n",
       "      <td>NaN</td>\n",
       "      <td>NaN</td>\n",
       "      <td>NaN</td>\n",
       "    </tr>\n",
       "    <tr>\n",
       "      <th>AAGGAACCACATAAAC</th>\n",
       "      <td>NaN</td>\n",
       "      <td>1.0</td>\n",
       "      <td>NaN</td>\n",
       "      <td>NaN</td>\n",
       "      <td>1.0</td>\n",
       "      <td>NaN</td>\n",
       "      <td>NaN</td>\n",
       "      <td>NaN</td>\n",
       "      <td>NaN</td>\n",
       "      <td>NaN</td>\n",
       "    </tr>\n",
       "    <tr>\n",
       "      <th>AAGGACAAGTTTCAGT</th>\n",
       "      <td>NaN</td>\n",
       "      <td>NaN</td>\n",
       "      <td>NaN</td>\n",
       "      <td>NaN</td>\n",
       "      <td>1.0</td>\n",
       "      <td>1.0</td>\n",
       "      <td>NaN</td>\n",
       "      <td>NaN</td>\n",
       "      <td>NaN</td>\n",
       "      <td>NaN</td>\n",
       "    </tr>\n",
       "    <tr>\n",
       "      <th>AAGGCCATCGTGATTT</th>\n",
       "      <td>NaN</td>\n",
       "      <td>NaN</td>\n",
       "      <td>1.0</td>\n",
       "      <td>NaN</td>\n",
       "      <td>3.0</td>\n",
       "      <td>4.0</td>\n",
       "      <td>NaN</td>\n",
       "      <td>NaN</td>\n",
       "      <td>NaN</td>\n",
       "      <td>NaN</td>\n",
       "    </tr>\n",
       "    <tr>\n",
       "      <th>AAGGCCCAGGTGGATT</th>\n",
       "      <td>NaN</td>\n",
       "      <td>NaN</td>\n",
       "      <td>NaN</td>\n",
       "      <td>NaN</td>\n",
       "      <td>4.0</td>\n",
       "      <td>1.0</td>\n",
       "      <td>NaN</td>\n",
       "      <td>NaN</td>\n",
       "      <td>NaN</td>\n",
       "      <td>NaN</td>\n",
       "    </tr>\n",
       "    <tr>\n",
       "      <th>AAGGGAGGTACGTTCG</th>\n",
       "      <td>NaN</td>\n",
       "      <td>1.0</td>\n",
       "      <td>2.0</td>\n",
       "      <td>NaN</td>\n",
       "      <td>3.0</td>\n",
       "      <td>2.0</td>\n",
       "      <td>NaN</td>\n",
       "      <td>NaN</td>\n",
       "      <td>NaN</td>\n",
       "      <td>5.0</td>\n",
       "    </tr>\n",
       "    <tr>\n",
       "      <th>AAGGTATGTCGAGGCA</th>\n",
       "      <td>NaN</td>\n",
       "      <td>NaN</td>\n",
       "      <td>1.0</td>\n",
       "      <td>NaN</td>\n",
       "      <td>6.0</td>\n",
       "      <td>NaN</td>\n",
       "      <td>NaN</td>\n",
       "      <td>NaN</td>\n",
       "      <td>NaN</td>\n",
       "      <td>NaN</td>\n",
       "    </tr>\n",
       "  </tbody>\n",
       "</table>\n",
       "</div>"
      ],
      "text/plain": [
       "                  DNAJB1_c.558C>A_mt  DNAJB1_c.558C>A_wt  FGFR1_c.719G>A_mt  \\\n",
       "AAACCAGGTCTACCAG                 NaN                 7.0                3.0   \n",
       "AAAGATGCATCCTTGG                 NaN                 NaN                1.0   \n",
       "AAAGCATGTGACCTAT                 NaN                 1.0                NaN   \n",
       "AAAGCCTAGTGGACCA                 2.0                 2.0                NaN   \n",
       "AAAGTAGCAATGTTCC                 NaN                 NaN                1.0   \n",
       "AAAGTGCTCTAATGAG                 NaN                 NaN                NaN   \n",
       "AAATCACCACAGGCTG                 NaN                 1.0                1.0   \n",
       "AACCTCATCCATTAAC                 NaN                 6.0                6.0   \n",
       "AACCTGCTCTGGCCCA                 NaN                 7.0                NaN   \n",
       "AACGGCTCACGCCACT                 NaN                 1.0                NaN   \n",
       "AACTAAGTCCATTAGT                 NaN                 1.0                NaN   \n",
       "AACTTGTTCAACCGCT                 NaN                 2.0                NaN   \n",
       "AAGCCTCTCATGTCAT                 NaN                 NaN                NaN   \n",
       "AAGCGCTCAAACTTGG                 NaN                 NaN                NaN   \n",
       "AAGGAACCACATAAAC                 NaN                 1.0                NaN   \n",
       "AAGGACAAGTTTCAGT                 NaN                 NaN                NaN   \n",
       "AAGGCCATCGTGATTT                 NaN                 NaN                1.0   \n",
       "AAGGCCCAGGTGGATT                 NaN                 NaN                NaN   \n",
       "AAGGGAGGTACGTTCG                 NaN                 1.0                2.0   \n",
       "AAGGTATGTCGAGGCA                 NaN                 NaN                1.0   \n",
       "\n",
       "                  FGFR1_c.719G>A_wt  KRAS_c.34G>T_mt  KRAS_c.34G>T_wt  \\\n",
       "AAACCAGGTCTACCAG                NaN              8.0              4.0   \n",
       "AAAGATGCATCCTTGG                NaN              5.0              NaN   \n",
       "AAAGCATGTGACCTAT                NaN              1.0              2.0   \n",
       "AAAGCCTAGTGGACCA                NaN              5.0              1.0   \n",
       "AAAGTAGCAATGTTCC                NaN              1.0              NaN   \n",
       "AAAGTGCTCTAATGAG                NaN              1.0              NaN   \n",
       "AAATCACCACAGGCTG                NaN              2.0              1.0   \n",
       "AACCTCATCCATTAAC                NaN              1.0              1.0   \n",
       "AACCTGCTCTGGCCCA                NaN              1.0              1.0   \n",
       "AACGGCTCACGCCACT                NaN              1.0              NaN   \n",
       "AACTAAGTCCATTAGT                NaN              1.0              NaN   \n",
       "AACTTGTTCAACCGCT                NaN              1.0              2.0   \n",
       "AAGCCTCTCATGTCAT                NaN              1.0              2.0   \n",
       "AAGCGCTCAAACTTGG                NaN              1.0              NaN   \n",
       "AAGGAACCACATAAAC                NaN              1.0              NaN   \n",
       "AAGGACAAGTTTCAGT                NaN              1.0              1.0   \n",
       "AAGGCCATCGTGATTT                NaN              3.0              4.0   \n",
       "AAGGCCCAGGTGGATT                NaN              4.0              1.0   \n",
       "AAGGGAGGTACGTTCG                NaN              3.0              2.0   \n",
       "AAGGTATGTCGAGGCA                NaN              6.0              NaN   \n",
       "\n",
       "                  PTPRC_c.2306T>A_mt  PTPRC_c.2306T>A_wt  TP63_c.1090G>A_mt  \\\n",
       "AAACCAGGTCTACCAG                 NaN                 NaN                2.0   \n",
       "AAAGATGCATCCTTGG                 NaN                 NaN                NaN   \n",
       "AAAGCATGTGACCTAT                 NaN                 NaN                NaN   \n",
       "AAAGCCTAGTGGACCA                 NaN                 NaN                NaN   \n",
       "AAAGTAGCAATGTTCC                 NaN                 NaN                NaN   \n",
       "AAAGTGCTCTAATGAG                 NaN                 NaN                NaN   \n",
       "AAATCACCACAGGCTG                 NaN                 NaN                NaN   \n",
       "AACCTCATCCATTAAC                 NaN                 NaN                NaN   \n",
       "AACCTGCTCTGGCCCA                 NaN                 NaN                NaN   \n",
       "AACGGCTCACGCCACT                 NaN                 NaN                NaN   \n",
       "AACTAAGTCCATTAGT                 NaN                 NaN                1.0   \n",
       "AACTTGTTCAACCGCT                 NaN                 NaN                NaN   \n",
       "AAGCCTCTCATGTCAT                 NaN                 NaN                NaN   \n",
       "AAGCGCTCAAACTTGG                 NaN                 NaN                NaN   \n",
       "AAGGAACCACATAAAC                 NaN                 NaN                NaN   \n",
       "AAGGACAAGTTTCAGT                 NaN                 NaN                NaN   \n",
       "AAGGCCATCGTGATTT                 NaN                 NaN                NaN   \n",
       "AAGGCCCAGGTGGATT                 NaN                 NaN                NaN   \n",
       "AAGGGAGGTACGTTCG                 NaN                 NaN                NaN   \n",
       "AAGGTATGTCGAGGCA                 NaN                 NaN                NaN   \n",
       "\n",
       "                  TP63_c.1090G>A_wt  \n",
       "AAACCAGGTCTACCAG                1.0  \n",
       "AAAGATGCATCCTTGG                1.0  \n",
       "AAAGCATGTGACCTAT                NaN  \n",
       "AAAGCCTAGTGGACCA                NaN  \n",
       "AAAGTAGCAATGTTCC                NaN  \n",
       "AAAGTGCTCTAATGAG                NaN  \n",
       "AAATCACCACAGGCTG                NaN  \n",
       "AACCTCATCCATTAAC                NaN  \n",
       "AACCTGCTCTGGCCCA                4.0  \n",
       "AACGGCTCACGCCACT                NaN  \n",
       "AACTAAGTCCATTAGT                NaN  \n",
       "AACTTGTTCAACCGCT                1.0  \n",
       "AAGCCTCTCATGTCAT                NaN  \n",
       "AAGCGCTCAAACTTGG                NaN  \n",
       "AAGGAACCACATAAAC                NaN  \n",
       "AAGGACAAGTTTCAGT                NaN  \n",
       "AAGGCCATCGTGATTT                NaN  \n",
       "AAGGCCCAGGTGGATT                NaN  \n",
       "AAGGGAGGTACGTTCG                5.0  \n",
       "AAGGTATGTCGAGGCA                NaN  "
      ]
     },
     "execution_count": 224,
     "metadata": {},
     "output_type": "execute_result"
    }
   ],
   "source": [
    "df[condition].head(20)"
   ]
  },
  {
   "cell_type": "markdown",
   "metadata": {
    "tags": []
   },
   "source": [
    "# TO DO: flex standard umi counts for these genes.\n",
    "## How many cells we can genotypes correctly"
   ]
  },
  {
   "cell_type": "code",
   "execution_count": 3,
   "metadata": {},
   "outputs": [],
   "source": [
    "import sys\n",
    "sys.path.append('/gstore/home/taol9/tmppythonpackage')\n",
    "sys.path.append(\"/gstore/project/paneldesign/pkg\")\n",
    "sys.path.append('/gstore/home/taol9/gitsss/yo/tao')\n",
    "sys.path.append('/gstore/home/taol9/.local/bin')\n",
    "\n",
    "import pegasusio as io\n",
    "import pegasus as pg\n",
    "import scanpy as sc"
   ]
  },
  {
   "cell_type": "code",
   "execution_count": 4,
   "metadata": {},
   "outputs": [],
   "source": [
    "# genematrix=\"/gstore/scratch/u/lauj22/NGS5110_Linear_Padlock_40C/Padlock40C_GEX/LIB5472590_SAM24434101/outs/per_sample_outs/LIB5472590_SAM24434101/count/sample_filtered_feature_bc_matrix.h5\"\n",
    "# gm=pd.read_hdf(genematrix)"
   ]
  },
  {
   "cell_type": "code",
   "execution_count": 5,
   "metadata": {},
   "outputs": [
    {
     "ename": "NameError",
     "evalue": "name 'df' is not defined",
     "output_type": "error",
     "traceback": [
      "\u001b[0;31m---------------------------------------------------------------------------\u001b[0m",
      "\u001b[0;31mNameError\u001b[0m                                 Traceback (most recent call last)",
      "Input \u001b[0;32mIn [5]\u001b[0m, in \u001b[0;36m<cell line: 2>\u001b[0;34m()\u001b[0m\n\u001b[1;32m      1\u001b[0m \u001b[38;5;28;01mimport\u001b[39;00m \u001b[38;5;21;01mpickle\u001b[39;00m\n\u001b[1;32m      2\u001b[0m \u001b[38;5;28;01mwith\u001b[39;00m \u001b[38;5;28mopen\u001b[39m(\u001b[38;5;124m'\u001b[39m\u001b[38;5;124mmutation_matrix_padlock_40.pkl\u001b[39m\u001b[38;5;124m'\u001b[39m, \u001b[38;5;124m'\u001b[39m\u001b[38;5;124mwb\u001b[39m\u001b[38;5;124m'\u001b[39m) \u001b[38;5;28;01mas\u001b[39;00m file:\n\u001b[0;32m----> 3\u001b[0m     pickle\u001b[38;5;241m.\u001b[39mdump(\u001b[43mdf\u001b[49m, file)\n",
      "\u001b[0;31mNameError\u001b[0m: name 'df' is not defined"
     ]
    }
   ],
   "source": [
    "import pickle\n",
    "with open('mutation_matrix_padlock_40.pkl', 'wb') as file:\n",
    "    pickle.dump(df, file)"
   ]
  },
  {
   "cell_type": "code",
   "execution_count": null,
   "metadata": {},
   "outputs": [],
   "source": [
    "# define a function to do all steps\n"
   ]
  },
  {
   "cell_type": "code",
   "execution_count": 14,
   "metadata": {},
   "outputs": [],
   "source": [
    "import gzip\n",
    "\n",
    "def flex_mutation_mapper(fastqR1, fastqR2,target_dict,pickle_name,whitelist=\"/gstore/home/taol9/gitsss/yo/flex/737K-fixed-rna-profiling.txt\"):\n",
    "    from collections import defaultdict\n",
    "    import pandas as pd\n",
    "    import pickle\n",
    "    wl=[]\n",
    "    f=open(whitelist,\"r\")\n",
    "    wl=[l.strip() for l in f.readlines()]\n",
    "    f.close()\n",
    "    barcodes_dict = SeqIO.index(fastqR1,'fastq')\n",
    "    record_dict = SeqIO.index(fastqR2,'fastq')\n",
    "    mutation_matrix=defaultdict(lambda: defaultdict(list))\n",
    "\n",
    "    for i in list(record_dict.keys()):\n",
    "        record=record_dict[i]\n",
    "        seq=record.seq\n",
    "        try:\n",
    "            barcode_record=barcodes_dict[i]\n",
    "            barcode_seq=barcode_record.seq\n",
    "            barcode=str(barcode_seq[:16])\n",
    "            umi=str(barcode_seq[16:])\n",
    "    \n",
    "            for tar_k, tar in target_dict.items():\n",
    "                if str(tar) in str(seq) and barcode in wl:\n",
    "                    mutation_matrix[barcode][tar_k].append(umi)   \n",
    "                else:\n",
    "                    continue\n",
    "        except:\n",
    "            continue\n",
    "            \n",
    "    to_df=dict()\n",
    "    for k,i in mutation_matrix.items():\n",
    "        tmp={}\n",
    "        for kk,ii in i.items():\n",
    "            tmp[kk]=len(Counter(ii))\n",
    "        to_df[k]=tmp\n",
    "    df=pd.DataFrame.from_dict(to_df, orient='index')\n",
    "    df.sort_index(axis = 1, inplace=True)\n",
    "\n",
    "    with open(pickle_name, 'wb') as file:\n",
    "        pickle.dump(df, file)\n",
    "        \n",
    "    return df, mutation_matrix"
   ]
  },
  {
   "cell_type": "code",
   "execution_count": null,
   "metadata": {},
   "outputs": [],
   "source": [
    "# add cell filter from cellranger valid barcodes"
   ]
  },
  {
   "cell_type": "markdown",
   "metadata": {
    "jp-MarkdownHeadingCollapsed": true,
    "tags": []
   },
   "source": [
    "# linear probes:\n"
   ]
  },
  {
   "cell_type": "code",
   "execution_count": null,
   "metadata": {},
   "outputs": [],
   "source": []
  },
  {
   "cell_type": "code",
   "execution_count": 79,
   "metadata": {},
   "outputs": [],
   "source": [
    "#linear probes:\n",
    "fastqR1=\"/gstore/data/ctgbioinfo/taol9/flex/40/LIB5472587_SAM24434098_S1_L001_R1_001.fastq\" \n",
    "fastqR2=\"/gstore/data/ctgbioinfo/taol9/flex/40/LIB5472587_SAM24434098_S1_L001_R2_001.fastq\" \n",
    "pickle_name='linear_probe_40.pkl'\n",
    "linear_df, linear_mm=flex_mutation_mapper(fastqR1,fastqR2,target_dict,pickle_name)"
   ]
  },
  {
   "cell_type": "code",
   "execution_count": 141,
   "metadata": {},
   "outputs": [
    {
     "data": {
      "text/plain": [
       "6307"
      ]
     },
     "execution_count": 141,
     "metadata": {},
     "output_type": "execute_result"
    }
   ],
   "source": [
    "len(linear_df)  # no wl filter 36190"
   ]
  },
  {
   "cell_type": "code",
   "execution_count": 129,
   "metadata": {},
   "outputs": [],
   "source": [
    "to_df=dict()\n",
    "for k,i in linear_mm.items():\n",
    "    if k in wl:\n",
    "        tmp={}\n",
    "        for kk,ii in i.items():\n",
    "            tmp[kk]=len(Counter(ii))\n",
    "        to_df[k]=tmp\n",
    "linear_df=pd.DataFrame.from_dict(to_df, orient='index')"
   ]
  },
  {
   "cell_type": "code",
   "execution_count": 170,
   "metadata": {},
   "outputs": [],
   "source": [
    "condition1=(\n",
    "# (linear_df['DNAJB1_c.558C>A_mt']>0)\n",
    "# (linear_df['DNAJB1_c.558C>A_wt']>0)\n",
    "# &(linear_df['PTPRC_c.2306T>A_wt']>0)\n",
    "# &(linear_df['KRAS_c.34G>T_wt']>0)\n",
    "# & \n",
    "    (linear_df['KRAS_c.34G>T_mt']>0)\n",
    "# &(linear_df['TP63_c.1090G>A_wt']>0)\n",
    "# &(linear_df['FGFR1_c.719G>A_wt']>0)\n",
    "          )"
   ]
  },
  {
   "cell_type": "code",
   "execution_count": 142,
   "metadata": {},
   "outputs": [
    {
     "data": {
      "text/html": [
       "<div>\n",
       "<style>\n",
       "    .dataframe thead tr:only-child th {\n",
       "        text-align: right;\n",
       "    }\n",
       "\n",
       "    .dataframe thead th {\n",
       "        text-align: left;\n",
       "    }\n",
       "\n",
       "    .dataframe tbody tr th {\n",
       "        vertical-align: top;\n",
       "    }\n",
       "</style>\n",
       "<table border=\"1\" class=\"dataframe\">\n",
       "  <thead>\n",
       "    <tr style=\"text-align: right;\">\n",
       "      <th></th>\n",
       "      <th>TP63_c.1090G&gt;A_wt</th>\n",
       "      <th>KRAS_c.34G&gt;T_wt</th>\n",
       "      <th>DNAJB1_c.558C&gt;A_wt</th>\n",
       "      <th>PTPRC_c.2306T&gt;A_wt</th>\n",
       "      <th>KRAS_c.34G&gt;T_mt</th>\n",
       "      <th>FGFR1_c.719G&gt;A_wt</th>\n",
       "      <th>TP63_c.1090G&gt;A_mt</th>\n",
       "    </tr>\n",
       "  </thead>\n",
       "  <tbody>\n",
       "    <tr>\n",
       "      <th>AAACAAGCAAGCCTCC</th>\n",
       "      <td>NaN</td>\n",
       "      <td>NaN</td>\n",
       "      <td>2.0</td>\n",
       "      <td>NaN</td>\n",
       "      <td>NaN</td>\n",
       "      <td>NaN</td>\n",
       "      <td>NaN</td>\n",
       "    </tr>\n",
       "    <tr>\n",
       "      <th>AAACAAGCAAGCTAAT</th>\n",
       "      <td>NaN</td>\n",
       "      <td>NaN</td>\n",
       "      <td>16.0</td>\n",
       "      <td>NaN</td>\n",
       "      <td>NaN</td>\n",
       "      <td>NaN</td>\n",
       "      <td>NaN</td>\n",
       "    </tr>\n",
       "    <tr>\n",
       "      <th>AAACCAATCACAACAA</th>\n",
       "      <td>NaN</td>\n",
       "      <td>12.0</td>\n",
       "      <td>1.0</td>\n",
       "      <td>NaN</td>\n",
       "      <td>NaN</td>\n",
       "      <td>NaN</td>\n",
       "      <td>NaN</td>\n",
       "    </tr>\n",
       "    <tr>\n",
       "      <th>AAACCAATCAGGAGCC</th>\n",
       "      <td>NaN</td>\n",
       "      <td>1.0</td>\n",
       "      <td>NaN</td>\n",
       "      <td>NaN</td>\n",
       "      <td>NaN</td>\n",
       "      <td>NaN</td>\n",
       "      <td>NaN</td>\n",
       "    </tr>\n",
       "    <tr>\n",
       "      <th>AAACCAATCCTCCCAC</th>\n",
       "      <td>NaN</td>\n",
       "      <td>3.0</td>\n",
       "      <td>NaN</td>\n",
       "      <td>NaN</td>\n",
       "      <td>NaN</td>\n",
       "      <td>NaN</td>\n",
       "      <td>NaN</td>\n",
       "    </tr>\n",
       "  </tbody>\n",
       "</table>\n",
       "</div>"
      ],
      "text/plain": [
       "                  TP63_c.1090G>A_wt  KRAS_c.34G>T_wt  DNAJB1_c.558C>A_wt  \\\n",
       "AAACAAGCAAGCCTCC                NaN              NaN                 2.0   \n",
       "AAACAAGCAAGCTAAT                NaN              NaN                16.0   \n",
       "AAACCAATCACAACAA                NaN             12.0                 1.0   \n",
       "AAACCAATCAGGAGCC                NaN              1.0                 NaN   \n",
       "AAACCAATCCTCCCAC                NaN              3.0                 NaN   \n",
       "\n",
       "                  PTPRC_c.2306T>A_wt  KRAS_c.34G>T_mt  FGFR1_c.719G>A_wt  \\\n",
       "AAACAAGCAAGCCTCC                 NaN              NaN                NaN   \n",
       "AAACAAGCAAGCTAAT                 NaN              NaN                NaN   \n",
       "AAACCAATCACAACAA                 NaN              NaN                NaN   \n",
       "AAACCAATCAGGAGCC                 NaN              NaN                NaN   \n",
       "AAACCAATCCTCCCAC                 NaN              NaN                NaN   \n",
       "\n",
       "                  TP63_c.1090G>A_mt  \n",
       "AAACAAGCAAGCCTCC                NaN  \n",
       "AAACAAGCAAGCTAAT                NaN  \n",
       "AAACCAATCACAACAA                NaN  \n",
       "AAACCAATCAGGAGCC                NaN  \n",
       "AAACCAATCCTCCCAC                NaN  "
      ]
     },
     "execution_count": 142,
     "metadata": {},
     "output_type": "execute_result"
    }
   ],
   "source": [
    "linear_df.head()"
   ]
  },
  {
   "cell_type": "code",
   "execution_count": 143,
   "metadata": {},
   "outputs": [],
   "source": [
    "linear_df.sort_index(axis = 1, inplace=True)\n"
   ]
  },
  {
   "cell_type": "code",
   "execution_count": 171,
   "metadata": {},
   "outputs": [
    {
     "data": {
      "text/plain": [
       "32"
      ]
     },
     "execution_count": 171,
     "metadata": {},
     "output_type": "execute_result"
    }
   ],
   "source": [
    "len(linear_df[condition1])"
   ]
  },
  {
   "cell_type": "code",
   "execution_count": 172,
   "metadata": {},
   "outputs": [
    {
     "data": {
      "text/html": [
       "<div>\n",
       "<style>\n",
       "    .dataframe thead tr:only-child th {\n",
       "        text-align: right;\n",
       "    }\n",
       "\n",
       "    .dataframe thead th {\n",
       "        text-align: left;\n",
       "    }\n",
       "\n",
       "    .dataframe tbody tr th {\n",
       "        vertical-align: top;\n",
       "    }\n",
       "</style>\n",
       "<table border=\"1\" class=\"dataframe\">\n",
       "  <thead>\n",
       "    <tr style=\"text-align: right;\">\n",
       "      <th></th>\n",
       "      <th>DNAJB1_c.558C&gt;A_wt</th>\n",
       "      <th>FGFR1_c.719G&gt;A_wt</th>\n",
       "      <th>KRAS_c.34G&gt;T_mt</th>\n",
       "      <th>KRAS_c.34G&gt;T_wt</th>\n",
       "      <th>PTPRC_c.2306T&gt;A_wt</th>\n",
       "      <th>TP63_c.1090G&gt;A_mt</th>\n",
       "      <th>TP63_c.1090G&gt;A_wt</th>\n",
       "    </tr>\n",
       "  </thead>\n",
       "  <tbody>\n",
       "    <tr>\n",
       "      <th>AACGGTTAGGAGGCCT</th>\n",
       "      <td>NaN</td>\n",
       "      <td>NaN</td>\n",
       "      <td>1.0</td>\n",
       "      <td>4.0</td>\n",
       "      <td>NaN</td>\n",
       "      <td>NaN</td>\n",
       "      <td>NaN</td>\n",
       "    </tr>\n",
       "    <tr>\n",
       "      <th>AAGGCACGTGGAAGCT</th>\n",
       "      <td>NaN</td>\n",
       "      <td>NaN</td>\n",
       "      <td>1.0</td>\n",
       "      <td>16.0</td>\n",
       "      <td>NaN</td>\n",
       "      <td>NaN</td>\n",
       "      <td>NaN</td>\n",
       "    </tr>\n",
       "    <tr>\n",
       "      <th>ACGTCAACAGGGATGA</th>\n",
       "      <td>4.0</td>\n",
       "      <td>NaN</td>\n",
       "      <td>1.0</td>\n",
       "      <td>NaN</td>\n",
       "      <td>NaN</td>\n",
       "      <td>NaN</td>\n",
       "      <td>NaN</td>\n",
       "    </tr>\n",
       "    <tr>\n",
       "      <th>AGAAAGGTCAATCCTG</th>\n",
       "      <td>NaN</td>\n",
       "      <td>NaN</td>\n",
       "      <td>1.0</td>\n",
       "      <td>3.0</td>\n",
       "      <td>NaN</td>\n",
       "      <td>NaN</td>\n",
       "      <td>1.0</td>\n",
       "    </tr>\n",
       "    <tr>\n",
       "      <th>AGATTAGTCCCTGGTG</th>\n",
       "      <td>NaN</td>\n",
       "      <td>NaN</td>\n",
       "      <td>4.0</td>\n",
       "      <td>NaN</td>\n",
       "      <td>NaN</td>\n",
       "      <td>NaN</td>\n",
       "      <td>NaN</td>\n",
       "    </tr>\n",
       "    <tr>\n",
       "      <th>AGGCGAGAGGATGCAT</th>\n",
       "      <td>2.0</td>\n",
       "      <td>NaN</td>\n",
       "      <td>4.0</td>\n",
       "      <td>5.0</td>\n",
       "      <td>NaN</td>\n",
       "      <td>NaN</td>\n",
       "      <td>NaN</td>\n",
       "    </tr>\n",
       "    <tr>\n",
       "      <th>AGGGCTATCGCATTTG</th>\n",
       "      <td>NaN</td>\n",
       "      <td>NaN</td>\n",
       "      <td>1.0</td>\n",
       "      <td>NaN</td>\n",
       "      <td>NaN</td>\n",
       "      <td>NaN</td>\n",
       "      <td>NaN</td>\n",
       "    </tr>\n",
       "    <tr>\n",
       "      <th>AGTTGGCCAAGCGAAG</th>\n",
       "      <td>1.0</td>\n",
       "      <td>NaN</td>\n",
       "      <td>1.0</td>\n",
       "      <td>19.0</td>\n",
       "      <td>NaN</td>\n",
       "      <td>NaN</td>\n",
       "      <td>NaN</td>\n",
       "    </tr>\n",
       "    <tr>\n",
       "      <th>ATTGCATTCCAGAAAC</th>\n",
       "      <td>NaN</td>\n",
       "      <td>NaN</td>\n",
       "      <td>1.0</td>\n",
       "      <td>NaN</td>\n",
       "      <td>NaN</td>\n",
       "      <td>NaN</td>\n",
       "      <td>NaN</td>\n",
       "    </tr>\n",
       "    <tr>\n",
       "      <th>CAGGTTTGTAGCCATT</th>\n",
       "      <td>NaN</td>\n",
       "      <td>NaN</td>\n",
       "      <td>1.0</td>\n",
       "      <td>6.0</td>\n",
       "      <td>NaN</td>\n",
       "      <td>NaN</td>\n",
       "      <td>NaN</td>\n",
       "    </tr>\n",
       "    <tr>\n",
       "      <th>CAGTATTTCGTGATGG</th>\n",
       "      <td>NaN</td>\n",
       "      <td>NaN</td>\n",
       "      <td>2.0</td>\n",
       "      <td>2.0</td>\n",
       "      <td>NaN</td>\n",
       "      <td>NaN</td>\n",
       "      <td>NaN</td>\n",
       "    </tr>\n",
       "    <tr>\n",
       "      <th>CCTACCTGTTAGCGGG</th>\n",
       "      <td>NaN</td>\n",
       "      <td>NaN</td>\n",
       "      <td>3.0</td>\n",
       "      <td>12.0</td>\n",
       "      <td>NaN</td>\n",
       "      <td>NaN</td>\n",
       "      <td>7.0</td>\n",
       "    </tr>\n",
       "    <tr>\n",
       "      <th>CCTATTTGTTACCGTG</th>\n",
       "      <td>4.0</td>\n",
       "      <td>NaN</td>\n",
       "      <td>3.0</td>\n",
       "      <td>NaN</td>\n",
       "      <td>NaN</td>\n",
       "      <td>NaN</td>\n",
       "      <td>NaN</td>\n",
       "    </tr>\n",
       "    <tr>\n",
       "      <th>CGACCGTGTCATCCCT</th>\n",
       "      <td>NaN</td>\n",
       "      <td>NaN</td>\n",
       "      <td>1.0</td>\n",
       "      <td>7.0</td>\n",
       "      <td>NaN</td>\n",
       "      <td>NaN</td>\n",
       "      <td>NaN</td>\n",
       "    </tr>\n",
       "    <tr>\n",
       "      <th>GACCAGGGTCGTAAAG</th>\n",
       "      <td>NaN</td>\n",
       "      <td>NaN</td>\n",
       "      <td>4.0</td>\n",
       "      <td>1.0</td>\n",
       "      <td>NaN</td>\n",
       "      <td>NaN</td>\n",
       "      <td>NaN</td>\n",
       "    </tr>\n",
       "    <tr>\n",
       "      <th>GCCGTGACAGCTTTCG</th>\n",
       "      <td>NaN</td>\n",
       "      <td>NaN</td>\n",
       "      <td>5.0</td>\n",
       "      <td>1.0</td>\n",
       "      <td>NaN</td>\n",
       "      <td>NaN</td>\n",
       "      <td>NaN</td>\n",
       "    </tr>\n",
       "    <tr>\n",
       "      <th>GCGTTTGGTATTGACC</th>\n",
       "      <td>1.0</td>\n",
       "      <td>NaN</td>\n",
       "      <td>1.0</td>\n",
       "      <td>2.0</td>\n",
       "      <td>NaN</td>\n",
       "      <td>NaN</td>\n",
       "      <td>NaN</td>\n",
       "    </tr>\n",
       "    <tr>\n",
       "      <th>GGACCAGGTAGGTTTC</th>\n",
       "      <td>NaN</td>\n",
       "      <td>NaN</td>\n",
       "      <td>5.0</td>\n",
       "      <td>2.0</td>\n",
       "      <td>NaN</td>\n",
       "      <td>NaN</td>\n",
       "      <td>1.0</td>\n",
       "    </tr>\n",
       "    <tr>\n",
       "      <th>GGCCTAAAGGTATAGC</th>\n",
       "      <td>NaN</td>\n",
       "      <td>NaN</td>\n",
       "      <td>2.0</td>\n",
       "      <td>3.0</td>\n",
       "      <td>NaN</td>\n",
       "      <td>NaN</td>\n",
       "      <td>NaN</td>\n",
       "    </tr>\n",
       "    <tr>\n",
       "      <th>GTCATCCAGGTTAGGT</th>\n",
       "      <td>NaN</td>\n",
       "      <td>NaN</td>\n",
       "      <td>1.0</td>\n",
       "      <td>NaN</td>\n",
       "      <td>NaN</td>\n",
       "      <td>NaN</td>\n",
       "      <td>NaN</td>\n",
       "    </tr>\n",
       "    <tr>\n",
       "      <th>GTCCTTAAGTATGGGT</th>\n",
       "      <td>NaN</td>\n",
       "      <td>NaN</td>\n",
       "      <td>4.0</td>\n",
       "      <td>NaN</td>\n",
       "      <td>NaN</td>\n",
       "      <td>NaN</td>\n",
       "      <td>NaN</td>\n",
       "    </tr>\n",
       "    <tr>\n",
       "      <th>GTTGTTCCATCATAGG</th>\n",
       "      <td>NaN</td>\n",
       "      <td>NaN</td>\n",
       "      <td>8.0</td>\n",
       "      <td>2.0</td>\n",
       "      <td>NaN</td>\n",
       "      <td>NaN</td>\n",
       "      <td>11.0</td>\n",
       "    </tr>\n",
       "    <tr>\n",
       "      <th>TAACGTTTCAGCGAAT</th>\n",
       "      <td>NaN</td>\n",
       "      <td>NaN</td>\n",
       "      <td>3.0</td>\n",
       "      <td>9.0</td>\n",
       "      <td>NaN</td>\n",
       "      <td>NaN</td>\n",
       "      <td>NaN</td>\n",
       "    </tr>\n",
       "    <tr>\n",
       "      <th>TACCTTTGTCAACAAG</th>\n",
       "      <td>3.0</td>\n",
       "      <td>NaN</td>\n",
       "      <td>3.0</td>\n",
       "      <td>5.0</td>\n",
       "      <td>NaN</td>\n",
       "      <td>NaN</td>\n",
       "      <td>1.0</td>\n",
       "    </tr>\n",
       "    <tr>\n",
       "      <th>TATGACTTCCTGATCA</th>\n",
       "      <td>3.0</td>\n",
       "      <td>NaN</td>\n",
       "      <td>3.0</td>\n",
       "      <td>4.0</td>\n",
       "      <td>NaN</td>\n",
       "      <td>NaN</td>\n",
       "      <td>NaN</td>\n",
       "    </tr>\n",
       "    <tr>\n",
       "      <th>TCGAACCTCATGATGA</th>\n",
       "      <td>3.0</td>\n",
       "      <td>NaN</td>\n",
       "      <td>1.0</td>\n",
       "      <td>NaN</td>\n",
       "      <td>NaN</td>\n",
       "      <td>NaN</td>\n",
       "      <td>NaN</td>\n",
       "    </tr>\n",
       "    <tr>\n",
       "      <th>TGCCGGTGTACCTCAG</th>\n",
       "      <td>2.0</td>\n",
       "      <td>NaN</td>\n",
       "      <td>3.0</td>\n",
       "      <td>NaN</td>\n",
       "      <td>NaN</td>\n",
       "      <td>NaN</td>\n",
       "      <td>1.0</td>\n",
       "    </tr>\n",
       "    <tr>\n",
       "      <th>TGCGGAATCATGCGGA</th>\n",
       "      <td>NaN</td>\n",
       "      <td>NaN</td>\n",
       "      <td>3.0</td>\n",
       "      <td>2.0</td>\n",
       "      <td>NaN</td>\n",
       "      <td>NaN</td>\n",
       "      <td>NaN</td>\n",
       "    </tr>\n",
       "    <tr>\n",
       "      <th>TGTTAGTTCAGTAGCG</th>\n",
       "      <td>NaN</td>\n",
       "      <td>NaN</td>\n",
       "      <td>4.0</td>\n",
       "      <td>NaN</td>\n",
       "      <td>NaN</td>\n",
       "      <td>NaN</td>\n",
       "      <td>1.0</td>\n",
       "    </tr>\n",
       "    <tr>\n",
       "      <th>TTCCTCCCATCATGCT</th>\n",
       "      <td>1.0</td>\n",
       "      <td>NaN</td>\n",
       "      <td>1.0</td>\n",
       "      <td>15.0</td>\n",
       "      <td>NaN</td>\n",
       "      <td>NaN</td>\n",
       "      <td>3.0</td>\n",
       "    </tr>\n",
       "    <tr>\n",
       "      <th>TTGAGCGAGGGTTGCA</th>\n",
       "      <td>NaN</td>\n",
       "      <td>NaN</td>\n",
       "      <td>1.0</td>\n",
       "      <td>4.0</td>\n",
       "      <td>NaN</td>\n",
       "      <td>NaN</td>\n",
       "      <td>NaN</td>\n",
       "    </tr>\n",
       "    <tr>\n",
       "      <th>TTGAGTAAGGATCCCT</th>\n",
       "      <td>NaN</td>\n",
       "      <td>NaN</td>\n",
       "      <td>1.0</td>\n",
       "      <td>1.0</td>\n",
       "      <td>NaN</td>\n",
       "      <td>NaN</td>\n",
       "      <td>6.0</td>\n",
       "    </tr>\n",
       "  </tbody>\n",
       "</table>\n",
       "</div>"
      ],
      "text/plain": [
       "                  DNAJB1_c.558C>A_wt  FGFR1_c.719G>A_wt  KRAS_c.34G>T_mt  \\\n",
       "AACGGTTAGGAGGCCT                 NaN                NaN              1.0   \n",
       "AAGGCACGTGGAAGCT                 NaN                NaN              1.0   \n",
       "ACGTCAACAGGGATGA                 4.0                NaN              1.0   \n",
       "AGAAAGGTCAATCCTG                 NaN                NaN              1.0   \n",
       "AGATTAGTCCCTGGTG                 NaN                NaN              4.0   \n",
       "AGGCGAGAGGATGCAT                 2.0                NaN              4.0   \n",
       "AGGGCTATCGCATTTG                 NaN                NaN              1.0   \n",
       "AGTTGGCCAAGCGAAG                 1.0                NaN              1.0   \n",
       "ATTGCATTCCAGAAAC                 NaN                NaN              1.0   \n",
       "CAGGTTTGTAGCCATT                 NaN                NaN              1.0   \n",
       "CAGTATTTCGTGATGG                 NaN                NaN              2.0   \n",
       "CCTACCTGTTAGCGGG                 NaN                NaN              3.0   \n",
       "CCTATTTGTTACCGTG                 4.0                NaN              3.0   \n",
       "CGACCGTGTCATCCCT                 NaN                NaN              1.0   \n",
       "GACCAGGGTCGTAAAG                 NaN                NaN              4.0   \n",
       "GCCGTGACAGCTTTCG                 NaN                NaN              5.0   \n",
       "GCGTTTGGTATTGACC                 1.0                NaN              1.0   \n",
       "GGACCAGGTAGGTTTC                 NaN                NaN              5.0   \n",
       "GGCCTAAAGGTATAGC                 NaN                NaN              2.0   \n",
       "GTCATCCAGGTTAGGT                 NaN                NaN              1.0   \n",
       "GTCCTTAAGTATGGGT                 NaN                NaN              4.0   \n",
       "GTTGTTCCATCATAGG                 NaN                NaN              8.0   \n",
       "TAACGTTTCAGCGAAT                 NaN                NaN              3.0   \n",
       "TACCTTTGTCAACAAG                 3.0                NaN              3.0   \n",
       "TATGACTTCCTGATCA                 3.0                NaN              3.0   \n",
       "TCGAACCTCATGATGA                 3.0                NaN              1.0   \n",
       "TGCCGGTGTACCTCAG                 2.0                NaN              3.0   \n",
       "TGCGGAATCATGCGGA                 NaN                NaN              3.0   \n",
       "TGTTAGTTCAGTAGCG                 NaN                NaN              4.0   \n",
       "TTCCTCCCATCATGCT                 1.0                NaN              1.0   \n",
       "TTGAGCGAGGGTTGCA                 NaN                NaN              1.0   \n",
       "TTGAGTAAGGATCCCT                 NaN                NaN              1.0   \n",
       "\n",
       "                  KRAS_c.34G>T_wt  PTPRC_c.2306T>A_wt  TP63_c.1090G>A_mt  \\\n",
       "AACGGTTAGGAGGCCT              4.0                 NaN                NaN   \n",
       "AAGGCACGTGGAAGCT             16.0                 NaN                NaN   \n",
       "ACGTCAACAGGGATGA              NaN                 NaN                NaN   \n",
       "AGAAAGGTCAATCCTG              3.0                 NaN                NaN   \n",
       "AGATTAGTCCCTGGTG              NaN                 NaN                NaN   \n",
       "AGGCGAGAGGATGCAT              5.0                 NaN                NaN   \n",
       "AGGGCTATCGCATTTG              NaN                 NaN                NaN   \n",
       "AGTTGGCCAAGCGAAG             19.0                 NaN                NaN   \n",
       "ATTGCATTCCAGAAAC              NaN                 NaN                NaN   \n",
       "CAGGTTTGTAGCCATT              6.0                 NaN                NaN   \n",
       "CAGTATTTCGTGATGG              2.0                 NaN                NaN   \n",
       "CCTACCTGTTAGCGGG             12.0                 NaN                NaN   \n",
       "CCTATTTGTTACCGTG              NaN                 NaN                NaN   \n",
       "CGACCGTGTCATCCCT              7.0                 NaN                NaN   \n",
       "GACCAGGGTCGTAAAG              1.0                 NaN                NaN   \n",
       "GCCGTGACAGCTTTCG              1.0                 NaN                NaN   \n",
       "GCGTTTGGTATTGACC              2.0                 NaN                NaN   \n",
       "GGACCAGGTAGGTTTC              2.0                 NaN                NaN   \n",
       "GGCCTAAAGGTATAGC              3.0                 NaN                NaN   \n",
       "GTCATCCAGGTTAGGT              NaN                 NaN                NaN   \n",
       "GTCCTTAAGTATGGGT              NaN                 NaN                NaN   \n",
       "GTTGTTCCATCATAGG              2.0                 NaN                NaN   \n",
       "TAACGTTTCAGCGAAT              9.0                 NaN                NaN   \n",
       "TACCTTTGTCAACAAG              5.0                 NaN                NaN   \n",
       "TATGACTTCCTGATCA              4.0                 NaN                NaN   \n",
       "TCGAACCTCATGATGA              NaN                 NaN                NaN   \n",
       "TGCCGGTGTACCTCAG              NaN                 NaN                NaN   \n",
       "TGCGGAATCATGCGGA              2.0                 NaN                NaN   \n",
       "TGTTAGTTCAGTAGCG              NaN                 NaN                NaN   \n",
       "TTCCTCCCATCATGCT             15.0                 NaN                NaN   \n",
       "TTGAGCGAGGGTTGCA              4.0                 NaN                NaN   \n",
       "TTGAGTAAGGATCCCT              1.0                 NaN                NaN   \n",
       "\n",
       "                  TP63_c.1090G>A_wt  \n",
       "AACGGTTAGGAGGCCT                NaN  \n",
       "AAGGCACGTGGAAGCT                NaN  \n",
       "ACGTCAACAGGGATGA                NaN  \n",
       "AGAAAGGTCAATCCTG                1.0  \n",
       "AGATTAGTCCCTGGTG                NaN  \n",
       "AGGCGAGAGGATGCAT                NaN  \n",
       "AGGGCTATCGCATTTG                NaN  \n",
       "AGTTGGCCAAGCGAAG                NaN  \n",
       "ATTGCATTCCAGAAAC                NaN  \n",
       "CAGGTTTGTAGCCATT                NaN  \n",
       "CAGTATTTCGTGATGG                NaN  \n",
       "CCTACCTGTTAGCGGG                7.0  \n",
       "CCTATTTGTTACCGTG                NaN  \n",
       "CGACCGTGTCATCCCT                NaN  \n",
       "GACCAGGGTCGTAAAG                NaN  \n",
       "GCCGTGACAGCTTTCG                NaN  \n",
       "GCGTTTGGTATTGACC                NaN  \n",
       "GGACCAGGTAGGTTTC                1.0  \n",
       "GGCCTAAAGGTATAGC                NaN  \n",
       "GTCATCCAGGTTAGGT                NaN  \n",
       "GTCCTTAAGTATGGGT                NaN  \n",
       "GTTGTTCCATCATAGG               11.0  \n",
       "TAACGTTTCAGCGAAT                NaN  \n",
       "TACCTTTGTCAACAAG                1.0  \n",
       "TATGACTTCCTGATCA                NaN  \n",
       "TCGAACCTCATGATGA                NaN  \n",
       "TGCCGGTGTACCTCAG                1.0  \n",
       "TGCGGAATCATGCGGA                NaN  \n",
       "TGTTAGTTCAGTAGCG                1.0  \n",
       "TTCCTCCCATCATGCT                3.0  \n",
       "TTGAGCGAGGGTTGCA                NaN  \n",
       "TTGAGTAAGGATCCCT                6.0  "
      ]
     },
     "execution_count": 172,
     "metadata": {},
     "output_type": "execute_result"
    }
   ],
   "source": [
    "linear_df[condition1].head(50)"
   ]
  },
  {
   "cell_type": "code",
   "execution_count": 220,
   "metadata": {},
   "outputs": [
    {
     "name": "stdout",
     "output_type": "stream",
     "text": [
      "DNAJB1_c.558C>A_wt\n"
     ]
    },
    {
     "data": {
      "image/png": "[encoded data removed]",
      "text/plain": [
       "<matplotlib.figure.Figure at 0x2aae4dc99b38>"
      ]
     },
     "metadata": {},
     "output_type": "display_data"
    },
    {
     "name": "stdout",
     "output_type": "stream",
     "text": [
      "FGFR1_c.719G>A_wt\n"
     ]
    },
    {
     "data": {
      "image/png": "[encoded data removed]",
      "text/plain": [
       "<matplotlib.figure.Figure at 0x2aae4e10b550>"
      ]
     },
     "metadata": {},
     "output_type": "display_data"
    },
    {
     "name": "stdout",
     "output_type": "stream",
     "text": [
      "KRAS_c.34G>T_mt\n"
     ]
    },
    {
     "data": {
      "image/png": "[encoded data removed]",
      "text/plain": [
       "<matplotlib.figure.Figure at 0x2aae4e319630>"
      ]
     },
     "metadata": {},
     "output_type": "display_data"
    },
    {
     "name": "stdout",
     "output_type": "stream",
     "text": [
      "KRAS_c.34G>T_wt\n"
     ]
    },
    {
     "data": {
      "image/png": "[encoded data removed]",
      "text/plain": [
       "<matplotlib.figure.Figure at 0x2aae4e3498d0>"
      ]
     },
     "metadata": {},
     "output_type": "display_data"
    },
    {
     "name": "stdout",
     "output_type": "stream",
     "text": [
      "PTPRC_c.2306T>A_wt\n"
     ]
    },
    {
     "data": {
      "image/png": "[encoded data removed]",
      "text/plain": [
       "<matplotlib.figure.Figure at 0x2aae4e2eb2b0>"
      ]
     },
     "metadata": {},
     "output_type": "display_data"
    },
    {
     "name": "stdout",
     "output_type": "stream",
     "text": [
      "TP63_c.1090G>A_mt\n"
     ]
    },
    {
     "data": {
      "image/png": "[encoded data removed]",
      "text/plain": [
       "<matplotlib.figure.Figure at 0x2aae4e4d0208>"
      ]
     },
     "metadata": {},
     "output_type": "display_data"
    },
    {
     "name": "stdout",
     "output_type": "stream",
     "text": [
      "TP63_c.1090G>A_wt\n"
     ]
    },
    {
     "data": {
      "image/png": "[encoded data removed]",
      "text/plain": [
       "<matplotlib.figure.Figure at 0x2aae4e503a90>"
      ]
     },
     "metadata": {},
     "output_type": "display_data"
    }
   ],
   "source": [
    "import matplotlib.pyplot as plt\n",
    "import seaborn as sns\n",
    "\n",
    "for c in linear_df.columns:\n",
    "    fig, ax = plt.subplots(figsize=(10, 6))\n",
    "\n",
    "    print (c)\n",
    "    ax.legend()\n",
    "\n",
    "    linear_df[c].value_counts().plot(kind='bar',color=\"red\")\n",
    "    # df[c].value_counts().plot(kind='bar')\n",
    "    plt.show()"
   ]
  },
  {
   "cell_type": "code",
   "execution_count": 221,
   "metadata": {},
   "outputs": [
    {
     "name": "stdout",
     "output_type": "stream",
     "text": [
      "DNAJB1_c.558C>A_mt\n"
     ]
    },
    {
     "data": {
      "image/png": "[encoded data removed]",
      "text/plain": [
       "<matplotlib.figure.Figure at 0x2aae4dc99a90>"
      ]
     },
     "metadata": {},
     "output_type": "display_data"
    },
    {
     "name": "stdout",
     "output_type": "stream",
     "text": [
      "DNAJB1_c.558C>A_wt\n"
     ]
    },
    {
     "data": {
      "image/png": "[encoded data removed]",
      "text/plain": [
       "<matplotlib.figure.Figure at 0x2aae4e6ad898>"
      ]
     },
     "metadata": {},
     "output_type": "display_data"
    },
    {
     "name": "stdout",
     "output_type": "stream",
     "text": [
      "FGFR1_c.719G>A_mt\n"
     ]
    },
    {
     "data": {
      "image/png": "[encoded data removed]",
      "text/plain": [
       "<matplotlib.figure.Figure at 0x2aae4e4d0ba8>"
      ]
     },
     "metadata": {},
     "output_type": "display_data"
    },
    {
     "name": "stdout",
     "output_type": "stream",
     "text": [
      "FGFR1_c.719G>A_wt\n"
     ]
    },
    {
     "data": {
      "image/png": "[encoded data removed]",
      "text/plain": [
       "<matplotlib.figure.Figure at 0x2aae4e83bbe0>"
      ]
     },
     "metadata": {},
     "output_type": "display_data"
    },
    {
     "name": "stdout",
     "output_type": "stream",
     "text": [
      "KRAS_c.34G>T_mt\n"
     ]
    },
    {
     "data": {
      "image/png": "[encoded data removed]",
      "text/plain": [
       "<matplotlib.figure.Figure at 0x2aae4e867550>"
      ]
     },
     "metadata": {},
     "output_type": "display_data"
    },
    {
     "name": "stdout",
     "output_type": "stream",
     "text": [
      "KRAS_c.34G>T_wt\n"
     ]
    },
    {
     "data": {
      "image/png": "[encoded data removed]",
      "text/plain": [
       "<matplotlib.figure.Figure at 0x2aae4e860588>"
      ]
     },
     "metadata": {},
     "output_type": "display_data"
    },
    {
     "name": "stdout",
     "output_type": "stream",
     "text": [
      "PTPRC_c.2306T>A_mt\n"
     ]
    },
    {
     "data": {
      "image/png": "[encoded data removed]",
      "text/plain": [
       "<matplotlib.figure.Figure at 0x2aae4e7e5048>"
      ]
     },
     "metadata": {},
     "output_type": "display_data"
    },
    {
     "name": "stdout",
     "output_type": "stream",
     "text": [
      "PTPRC_c.2306T>A_wt\n"
     ]
    },
    {
     "data": {
      "image/png": "[encoded data removed]",
      "text/plain": [
       "<matplotlib.figure.Figure at 0x2aae4ea16208>"
      ]
     },
     "metadata": {},
     "output_type": "display_data"
    },
    {
     "name": "stdout",
     "output_type": "stream",
     "text": [
      "TP63_c.1090G>A_mt\n"
     ]
    },
    {
     "data": {
      "image/png": "[encoded data removed]",
      "text/plain": [
       "<matplotlib.figure.Figure at 0x2aae4ea582b0>"
      ]
     },
     "metadata": {},
     "output_type": "display_data"
    },
    {
     "name": "stdout",
     "output_type": "stream",
     "text": [
      "TP63_c.1090G>A_wt\n"
     ]
    },
    {
     "data": {
      "image/png": "[encoded data removed]",
      "text/plain": [
       "<matplotlib.figure.Figure at 0x2aae4eb1ada0>"
      ]
     },
     "metadata": {},
     "output_type": "display_data"
    }
   ],
   "source": [
    "\n",
    "for c in df.columns:\n",
    "    fig, ax = plt.subplots(figsize=(10, 6))\n",
    "\n",
    "    print (c)\n",
    "    ax.legend()\n",
    "\n",
    "    df[c].value_counts().plot(kind='bar')\n",
    "    plt.show()"
   ]
  },
  {
   "cell_type": "markdown",
   "metadata": {},
   "source": [
    "# ddpadlock"
   ]
  },
  {
   "cell_type": "code",
   "execution_count": 13,
   "metadata": {},
   "outputs": [],
   "source": [
    "target_dict={'DNAJB1_c.558C>A_gap': 'TCCGTCGGGGTTTAGCCGCTTGTGGAGATTTTCATCTTCTTGGTACAGC',\n",
    " 'DNAJB1_c.558C>A_mt': 'TCCGTCGGGGTTTAGCCGCTTGTGTGAGATTTTCATCTTCTTGGTACAGC',\n",
    " 'DNAJB1_c.558C>A_wt': 'TCCGTCGGGGTTTAGCCGCTTGTGGGAGATTTTCATCTTCTTGGTACAGC',\n",
    " 'FGFR1_c.719G>A_gap': 'ATTATGATGCTCCAGGTGGCATAAGGACCTTGTAGCCTCCAATTCTGTG',\n",
    " 'FGFR1_c.719G>A_mt': 'ATTATGATGCTCCAGGTGGCATAATGGACCTTGTAGCCTCCAATTCTGTG',\n",
    " 'FGFR1_c.719G>A_wt': 'ATTATGATGCTCCAGGTGGCATAACGGACCTTGTAGCCTCCAATTCTGTG',\n",
    " 'KRAS_c.34G>T_gap': 'TCAAGGCACTCTTGCCTACGCCACAGCTCCAACTACCACAAGTTTATAT',\n",
    " 'KRAS_c.34G>T_mt': 'TCAAGGCACTCTTGCCTACGCCACAAGCTCCAACTACCACAAGTTTATAT',\n",
    " 'KRAS_c.34G>T_wt': 'TCAAGGCACTCTTGCCTACGCCACCAGCTCCAACTACCACAAGTTTATAT',\n",
    " 'PTPRC_c.2306T>A_gap': 'CCAAAAGCCCGAGTGCCCTCTTCCTTGACGGCCAGTATTCTGCACACTT',\n",
    " 'PTPRC_c.2306T>A_mt': 'CCAAAAGCCCGAGTGCCCTCTTCCTTTGACGGCCAGTATTCTGCACACTT',\n",
    " 'PTPRC_c.2306T>A_wt': 'CCAAAAGCCCGAGTGCCCTCTTCCATTGACGGCCAGTATTCTGCACACTT',\n",
    " 'TP63_c.1090G>A_gap': 'CACCGTTCTTTGTACTGTCCGAAATTGCTGCTTTCTGATGCTATCTTCA',\n",
    " 'TP63_c.1090G>A_mt': 'CACCGTTCTTTGTACTGTCCGAAATTTGCTGCTTTCTGATGCTATCTTCA',\n",
    " 'TP63_c.1090G>A_wt': 'CACCGTTCTTTGTACTGTCCGAAACTTGCTGCTTTCTGATGCTATCTTCA'}"
   ]
  },
  {
   "cell_type": "code",
   "execution_count": 20,
   "metadata": {},
   "outputs": [],
   "source": [
    "mut_only=\"/gne/data/dnaseq/processed_runs/R9922/results/LIB6221274_SAM24439398_S13_L002_R2_001.fastq.gz\"\n",
    "# mix_mut_R2='/gne/data/dnaseq/processed_runs/R9922/results/LIB6221273_SAM24439397_S12_L002_R2_001.fastq.gz'\n",
    "# mix_mut_R1='/gne/data/dnaseq/processed_runs/R9922/results/LIB6221273_SAM24439397_S12_L002_R1_001.fastq.gz'\n",
    "mix_mut_valid_cb='/gstore/scratch/u/lauj22/NGS5110_ddPadlock/10X_ddpadlock_Mutation/LIB6221273_SAM24439397/outs/per_sample_outs/LIB6221273_SAM24439397/count/sample_filtered_barcodes.csv'"
   ]
  },
  {
   "cell_type": "code",
   "execution_count": 8,
   "metadata": {},
   "outputs": [
    {
     "name": "stdout",
     "output_type": "stream",
     "text": [
      "LIB6221273_SAM24439397_S12_L002_R1_001.fastq\n",
      "LIB6221273_SAM24439397_S12_L002_R2_001.fastq\n",
      "LIB6221274_SAM24439398_S13_L001_R1_001.fastq.bgz\n",
      "LIB6221274_SAM24439398_S13_L001_R1_001.md5\n",
      "LIB6221274_SAM24439398_S13_L001_R2_001.fastq.bgz\n",
      "LIB6221274_SAM24439398_S13_L001_R2_001.md5\n",
      "LIB6221274_SAM24439398_S13_L002_R1_001.fastq.bgz\n",
      "LIB6221274_SAM24439398_S13_L002_R1_001.md5\n",
      "LIB6221274_SAM24439398_S13_L002_R2_001.fastq.bgz\n",
      "LIB6221274_SAM24439398_S13_L002_R2_001.md5\n"
     ]
    }
   ],
   "source": [
    "ls /gstore/home/taol9/ctgbioinfo/taol9/flex/ddpadlock/R9922/"
   ]
  },
  {
   "cell_type": "code",
   "execution_count": 15,
   "metadata": {},
   "outputs": [],
   "source": [
    "# !gunzip /gstore/home/taol9/ctgbioinfo/taol9/flex/ddpadlock/R9922/*.gz"
   ]
  },
  {
   "cell_type": "code",
   "execution_count": null,
   "metadata": {},
   "outputs": [],
   "source": [
    "#zcat foo.gz | bgzip -c > foo.bgz"
   ]
  },
  {
   "cell_type": "code",
   "execution_count": 16,
   "metadata": {},
   "outputs": [],
   "source": [
    "mix_mut_R2='/gstore/home/taol9/ctgbioinfo/taol9/flex/ddpadlock/R9922/LIB6221273_SAM24439397_S12_L002_R2_001.fastq'\n",
    "mix_mut_R1='/gstore/home/taol9/ctgbioinfo/taol9/flex/ddpadlock/R9922/LIB6221273_SAM24439397_S12_L002_R1_001.fastq'"
   ]
  },
  {
   "cell_type": "code",
   "execution_count": null,
   "metadata": {},
   "outputs": [],
   "source": [
    "ddpadlock_df, ddpadlock_mm=flex_mutation_mapper(mix_mut_R1, mix_mut_R2,target_dict=target_dict,pickle_name='ddpadlock_mix_mut.pickle',whitelist=\"/gstore/home/taol9/gitsss/yo/flex/737K-fixed-rna-profiling.txt\")"
   ]
  },
  {
   "cell_type": "code",
   "execution_count": null,
   "metadata": {},
   "outputs": [],
   "source": [
    "len(ddpadlock_df)"
   ]
  },
  {
   "cell_type": "code",
   "execution_count": null,
   "metadata": {},
   "outputs": [],
   "source": [
    "cbcr=[x[:-2] for x in pd.read_csv(mix_mut_valid_cb, header=None)[1].to_list()]\n",
    "to_df={}\n",
    "for k,i in ddpadlock_mm.items():\n",
    "    tmp={}\n",
    "    if k in cbcr:\n",
    "        for kk,ii in i.items():\n",
    "            tmp[kk]=len(Counter(ii))\n",
    "        to_df[k]=tmp"
   ]
  },
  {
   "cell_type": "code",
   "execution_count": null,
   "metadata": {},
   "outputs": [],
   "source": [
    "ddpadlock_df"
   ]
  },
  {
   "cell_type": "code",
   "execution_count": null,
   "metadata": {},
   "outputs": [],
   "source": [
    "df=pd.DataFrame.from_dict(to_df,orient='index')"
   ]
  },
  {
   "cell_type": "code",
   "execution_count": null,
   "metadata": {},
   "outputs": [],
   "source": [
    "df.columns.to_list()"
   ]
  },
  {
   "cell_type": "code",
   "execution_count": 70,
   "metadata": {},
   "outputs": [
    {
     "name": "stdout",
     "output_type": "stream",
     "text": [
      "SORTED DATAFRAME\n"
     ]
    },
    {
     "data": {
      "text/html": [
       "<div>\n",
       "<style scoped>\n",
       "    .dataframe tbody tr th:only-of-type {\n",
       "        vertical-align: middle;\n",
       "    }\n",
       "\n",
       "    .dataframe tbody tr th {\n",
       "        vertical-align: top;\n",
       "    }\n",
       "\n",
       "    .dataframe thead th {\n",
       "        text-align: right;\n",
       "    }\n",
       "</style>\n",
       "<table border=\"1\" class=\"dataframe\">\n",
       "  <thead>\n",
       "    <tr style=\"text-align: right;\">\n",
       "      <th></th>\n",
       "      <th>KRAS_c.34G&gt;T_mt</th>\n",
       "      <th>KRAS_c.34G&gt;T_wt</th>\n",
       "      <th>TP63_c.1090G&gt;A_wt</th>\n",
       "      <th>DNAJB1_c.558C&gt;A_wt</th>\n",
       "      <th>TP63_c.1090G&gt;A_mt</th>\n",
       "      <th>DNAJB1_c.558C&gt;A_mt</th>\n",
       "    </tr>\n",
       "  </thead>\n",
       "  <tbody>\n",
       "    <tr>\n",
       "      <th>0</th>\n",
       "      <td>NaN</td>\n",
       "      <td>NaN</td>\n",
       "      <td>NaN</td>\n",
       "      <td>NaN</td>\n",
       "      <td>NaN</td>\n",
       "      <td>1.0</td>\n",
       "    </tr>\n",
       "    <tr>\n",
       "      <th>1</th>\n",
       "      <td>NaN</td>\n",
       "      <td>NaN</td>\n",
       "      <td>NaN</td>\n",
       "      <td>NaN</td>\n",
       "      <td>NaN</td>\n",
       "      <td>2.0</td>\n",
       "    </tr>\n",
       "    <tr>\n",
       "      <th>2</th>\n",
       "      <td>NaN</td>\n",
       "      <td>NaN</td>\n",
       "      <td>NaN</td>\n",
       "      <td>NaN</td>\n",
       "      <td>NaN</td>\n",
       "      <td>3.0</td>\n",
       "    </tr>\n",
       "    <tr>\n",
       "      <th>3</th>\n",
       "      <td>NaN</td>\n",
       "      <td>NaN</td>\n",
       "      <td>NaN</td>\n",
       "      <td>NaN</td>\n",
       "      <td>NaN</td>\n",
       "      <td>7.0</td>\n",
       "    </tr>\n",
       "    <tr>\n",
       "      <th>4</th>\n",
       "      <td>NaN</td>\n",
       "      <td>NaN</td>\n",
       "      <td>NaN</td>\n",
       "      <td>NaN</td>\n",
       "      <td>NaN</td>\n",
       "      <td>8.0</td>\n",
       "    </tr>\n",
       "    <tr>\n",
       "      <th>...</th>\n",
       "      <td>...</td>\n",
       "      <td>...</td>\n",
       "      <td>...</td>\n",
       "      <td>...</td>\n",
       "      <td>...</td>\n",
       "      <td>...</td>\n",
       "    </tr>\n",
       "    <tr>\n",
       "      <th>672</th>\n",
       "      <td>54.0</td>\n",
       "      <td>4.0</td>\n",
       "      <td>NaN</td>\n",
       "      <td>NaN</td>\n",
       "      <td>NaN</td>\n",
       "      <td>NaN</td>\n",
       "    </tr>\n",
       "    <tr>\n",
       "      <th>673</th>\n",
       "      <td>55.0</td>\n",
       "      <td>3.0</td>\n",
       "      <td>NaN</td>\n",
       "      <td>NaN</td>\n",
       "      <td>NaN</td>\n",
       "      <td>NaN</td>\n",
       "    </tr>\n",
       "    <tr>\n",
       "      <th>674</th>\n",
       "      <td>56.0</td>\n",
       "      <td>5.0</td>\n",
       "      <td>NaN</td>\n",
       "      <td>1.0</td>\n",
       "      <td>NaN</td>\n",
       "      <td>NaN</td>\n",
       "    </tr>\n",
       "    <tr>\n",
       "      <th>675</th>\n",
       "      <td>58.0</td>\n",
       "      <td>5.0</td>\n",
       "      <td>NaN</td>\n",
       "      <td>NaN</td>\n",
       "      <td>NaN</td>\n",
       "      <td>NaN</td>\n",
       "    </tr>\n",
       "    <tr>\n",
       "      <th>676</th>\n",
       "      <td>97.0</td>\n",
       "      <td>5.0</td>\n",
       "      <td>NaN</td>\n",
       "      <td>NaN</td>\n",
       "      <td>NaN</td>\n",
       "      <td>NaN</td>\n",
       "    </tr>\n",
       "  </tbody>\n",
       "</table>\n",
       "<p>677 rows × 6 columns</p>\n",
       "</div>"
      ],
      "text/plain": [
       "     KRAS_c.34G>T_mt  KRAS_c.34G>T_wt  TP63_c.1090G>A_wt  DNAJB1_c.558C>A_wt  \\\n",
       "0                NaN              NaN                NaN                 NaN   \n",
       "1                NaN              NaN                NaN                 NaN   \n",
       "2                NaN              NaN                NaN                 NaN   \n",
       "3                NaN              NaN                NaN                 NaN   \n",
       "4                NaN              NaN                NaN                 NaN   \n",
       "..               ...              ...                ...                 ...   \n",
       "672             54.0              4.0                NaN                 NaN   \n",
       "673             55.0              3.0                NaN                 NaN   \n",
       "674             56.0              5.0                NaN                 1.0   \n",
       "675             58.0              5.0                NaN                 NaN   \n",
       "676             97.0              5.0                NaN                 NaN   \n",
       "\n",
       "     TP63_c.1090G>A_mt  DNAJB1_c.558C>A_mt  \n",
       "0                  NaN                 1.0  \n",
       "1                  NaN                 2.0  \n",
       "2                  NaN                 3.0  \n",
       "3                  NaN                 7.0  \n",
       "4                  NaN                 8.0  \n",
       "..                 ...                 ...  \n",
       "672                NaN                 NaN  \n",
       "673                NaN                 NaN  \n",
       "674                NaN                 NaN  \n",
       "675                NaN                 NaN  \n",
       "676                NaN                 NaN  \n",
       "\n",
       "[677 rows x 6 columns]"
      ]
     },
     "execution_count": 70,
     "metadata": {},
     "output_type": "execute_result"
    }
   ],
   "source": []
  },
  {
   "cell_type": "code",
   "execution_count": 71,
   "metadata": {},
   "outputs": [],
   "source": [
    "def loci(x):\n",
    "    l=0\n",
    "    for i in x:\n",
    "        if i>0:\n",
    "            l+=1\n",
    "    return l\n",
    "    "
   ]
  },
  {
   "cell_type": "code",
   "execution_count": 76,
   "metadata": {},
   "outputs": [],
   "source": [
    "df['loci']=df.apply(loci, axis=1)"
   ]
  },
  {
   "cell_type": "code",
   "execution_count": 79,
   "metadata": {},
   "outputs": [
    {
     "data": {
      "text/plain": [
       "1    409\n",
       "2    241\n",
       "3     21\n",
       "4      6\n",
       "Name: loci, dtype: int64"
      ]
     },
     "execution_count": 79,
     "metadata": {},
     "output_type": "execute_result"
    }
   ],
   "source": [
    "df['loci'].value_counts()"
   ]
  },
  {
   "cell_type": "code",
   "execution_count": 78,
   "metadata": {},
   "outputs": [
    {
     "name": "stdout",
     "output_type": "stream",
     "text": [
      "SORTED DATAFRAME\n"
     ]
    },
    {
     "data": {
      "text/html": [
       "<div>\n",
       "<style scoped>\n",
       "    .dataframe tbody tr th:only-of-type {\n",
       "        vertical-align: middle;\n",
       "    }\n",
       "\n",
       "    .dataframe tbody tr th {\n",
       "        vertical-align: top;\n",
       "    }\n",
       "\n",
       "    .dataframe thead th {\n",
       "        text-align: right;\n",
       "    }\n",
       "</style>\n",
       "<table border=\"1\" class=\"dataframe\">\n",
       "  <thead>\n",
       "    <tr style=\"text-align: right;\">\n",
       "      <th></th>\n",
       "      <th>KRAS_c.34G&gt;T_mt</th>\n",
       "      <th>KRAS_c.34G&gt;T_wt</th>\n",
       "      <th>TP63_c.1090G&gt;A_wt</th>\n",
       "      <th>DNAJB1_c.558C&gt;A_wt</th>\n",
       "      <th>TP63_c.1090G&gt;A_mt</th>\n",
       "      <th>DNAJB1_c.558C&gt;A_mt</th>\n",
       "      <th>loci</th>\n",
       "    </tr>\n",
       "  </thead>\n",
       "  <tbody>\n",
       "    <tr>\n",
       "      <th>0</th>\n",
       "      <td>1.0</td>\n",
       "      <td>1.0</td>\n",
       "      <td>NaN</td>\n",
       "      <td>57.0</td>\n",
       "      <td>NaN</td>\n",
       "      <td>4.0</td>\n",
       "      <td>4</td>\n",
       "    </tr>\n",
       "    <tr>\n",
       "      <th>1</th>\n",
       "      <td>10.0</td>\n",
       "      <td>1.0</td>\n",
       "      <td>29.0</td>\n",
       "      <td>NaN</td>\n",
       "      <td>1.0</td>\n",
       "      <td>NaN</td>\n",
       "      <td>4</td>\n",
       "    </tr>\n",
       "    <tr>\n",
       "      <th>2</th>\n",
       "      <td>8.0</td>\n",
       "      <td>1.0</td>\n",
       "      <td>2.0</td>\n",
       "      <td>NaN</td>\n",
       "      <td>34.0</td>\n",
       "      <td>NaN</td>\n",
       "      <td>4</td>\n",
       "    </tr>\n",
       "    <tr>\n",
       "      <th>3</th>\n",
       "      <td>5.0</td>\n",
       "      <td>1.0</td>\n",
       "      <td>1.0</td>\n",
       "      <td>NaN</td>\n",
       "      <td>16.0</td>\n",
       "      <td>NaN</td>\n",
       "      <td>4</td>\n",
       "    </tr>\n",
       "    <tr>\n",
       "      <th>4</th>\n",
       "      <td>1.0</td>\n",
       "      <td>1.0</td>\n",
       "      <td>48.0</td>\n",
       "      <td>3.0</td>\n",
       "      <td>NaN</td>\n",
       "      <td>NaN</td>\n",
       "      <td>4</td>\n",
       "    </tr>\n",
       "    <tr>\n",
       "      <th>...</th>\n",
       "      <td>...</td>\n",
       "      <td>...</td>\n",
       "      <td>...</td>\n",
       "      <td>...</td>\n",
       "      <td>...</td>\n",
       "      <td>...</td>\n",
       "      <td>...</td>\n",
       "    </tr>\n",
       "    <tr>\n",
       "      <th>672</th>\n",
       "      <td>1.0</td>\n",
       "      <td>NaN</td>\n",
       "      <td>NaN</td>\n",
       "      <td>NaN</td>\n",
       "      <td>NaN</td>\n",
       "      <td>NaN</td>\n",
       "      <td>1</td>\n",
       "    </tr>\n",
       "    <tr>\n",
       "      <th>673</th>\n",
       "      <td>1.0</td>\n",
       "      <td>NaN</td>\n",
       "      <td>NaN</td>\n",
       "      <td>NaN</td>\n",
       "      <td>NaN</td>\n",
       "      <td>NaN</td>\n",
       "      <td>1</td>\n",
       "    </tr>\n",
       "    <tr>\n",
       "      <th>674</th>\n",
       "      <td>1.0</td>\n",
       "      <td>NaN</td>\n",
       "      <td>NaN</td>\n",
       "      <td>NaN</td>\n",
       "      <td>NaN</td>\n",
       "      <td>NaN</td>\n",
       "      <td>1</td>\n",
       "    </tr>\n",
       "    <tr>\n",
       "      <th>675</th>\n",
       "      <td>1.0</td>\n",
       "      <td>NaN</td>\n",
       "      <td>NaN</td>\n",
       "      <td>NaN</td>\n",
       "      <td>NaN</td>\n",
       "      <td>NaN</td>\n",
       "      <td>1</td>\n",
       "    </tr>\n",
       "    <tr>\n",
       "      <th>676</th>\n",
       "      <td>NaN</td>\n",
       "      <td>NaN</td>\n",
       "      <td>NaN</td>\n",
       "      <td>NaN</td>\n",
       "      <td>NaN</td>\n",
       "      <td>2.0</td>\n",
       "      <td>1</td>\n",
       "    </tr>\n",
       "  </tbody>\n",
       "</table>\n",
       "<p>677 rows × 7 columns</p>\n",
       "</div>"
      ],
      "text/plain": [
       "     KRAS_c.34G>T_mt  KRAS_c.34G>T_wt  TP63_c.1090G>A_wt  DNAJB1_c.558C>A_wt  \\\n",
       "0                1.0              1.0                NaN                57.0   \n",
       "1               10.0              1.0               29.0                 NaN   \n",
       "2                8.0              1.0                2.0                 NaN   \n",
       "3                5.0              1.0                1.0                 NaN   \n",
       "4                1.0              1.0               48.0                 3.0   \n",
       "..               ...              ...                ...                 ...   \n",
       "672              1.0              NaN                NaN                 NaN   \n",
       "673              1.0              NaN                NaN                 NaN   \n",
       "674              1.0              NaN                NaN                 NaN   \n",
       "675              1.0              NaN                NaN                 NaN   \n",
       "676              NaN              NaN                NaN                 NaN   \n",
       "\n",
       "     TP63_c.1090G>A_mt  DNAJB1_c.558C>A_mt  loci  \n",
       "0                  NaN                 4.0     4  \n",
       "1                  1.0                 NaN     4  \n",
       "2                 34.0                 NaN     4  \n",
       "3                 16.0                 NaN     4  \n",
       "4                  NaN                 NaN     4  \n",
       "..                 ...                 ...   ...  \n",
       "672                NaN                 NaN     1  \n",
       "673                NaN                 NaN     1  \n",
       "674                NaN                 NaN     1  \n",
       "675                NaN                 NaN     1  \n",
       "676                NaN                 2.0     1  \n",
       "\n",
       "[677 rows x 7 columns]"
      ]
     },
     "execution_count": 78,
     "metadata": {},
     "output_type": "execute_result"
    }
   ],
   "source": [
    "\n",
    "print('SORTED DATAFRAME')\n",
    "df.sort_values(by = 'loci', axis=0, ascending=[False], inplace=False,\n",
    "               kind='quicksort', na_position='first', ignore_index=True, key=None)"
   ]
  },
  {
   "cell_type": "code",
   "execution_count": 58,
   "metadata": {},
   "outputs": [
    {
     "data": {
      "text/plain": [
       "1.0    13\n",
       "2.0     2\n",
       "8.0     2\n",
       "4.0     1\n",
       "6.0     1\n",
       "7.0     1\n",
       "5.0     1\n",
       "3.0     1\n",
       "Name: DNAJB1_c.558C>A_mt, dtype: int64"
      ]
     },
     "execution_count": 58,
     "metadata": {},
     "output_type": "execute_result"
    }
   ],
   "source": [
    "ddpadlock_df['DNAJB1_c.558C>A_mt'].value_counts()"
   ]
  },
  {
   "cell_type": "code",
   "execution_count": 52,
   "metadata": {},
   "outputs": [
    {
     "data": {
      "text/plain": [
       "1.0    11\n",
       "8.0     2\n",
       "4.0     1\n",
       "7.0     1\n",
       "3.0     1\n",
       "2.0     1\n",
       "Name: DNAJB1_c.558C>A_mt, dtype: int64"
      ]
     },
     "execution_count": 52,
     "metadata": {},
     "output_type": "execute_result"
    }
   ],
   "source": [
    "df['DNAJB1_c.558C>A_mt'].value_counts()"
   ]
  },
  {
   "cell_type": "code",
   "execution_count": 46,
   "metadata": {},
   "outputs": [
    {
     "data": {
      "text/plain": [
       "DNAJB1_c.558C>A_wt  DNAJB1_c.558C>A_mt\n",
       "1.0                 1.0                   1\n",
       "5.0                 1.0                   1\n",
       "6.0                 1.0                   1\n",
       "7.0                 1.0                   1\n",
       "8.0                 1.0                   1\n",
       "9.0                 1.0                   1\n",
       "13.0                1.0                   1\n",
       "14.0                2.0                   1\n",
       "16.0                1.0                   1\n",
       "20.0                1.0                   1\n",
       "34.0                1.0                   1\n",
       "57.0                4.0                   1\n",
       "dtype: int64"
      ]
     },
     "execution_count": 46,
     "metadata": {},
     "output_type": "execute_result"
    }
   ],
   "source": [
    "ddpadlock_df[['DNAJB1_c.558C>A_wt','DNAJB1_c.558C>A_mt']].value_counts()"
   ]
  },
  {
   "cell_type": "code",
   "execution_count": 53,
   "metadata": {},
   "outputs": [
    {
     "data": {
      "text/plain": [
       "DNAJB1_c.558C>A_wt  DNAJB1_c.558C>A_mt\n",
       "1.0                 1.0                   1\n",
       "5.0                 1.0                   1\n",
       "6.0                 1.0                   1\n",
       "7.0                 1.0                   1\n",
       "9.0                 1.0                   1\n",
       "13.0                1.0                   1\n",
       "16.0                1.0                   1\n",
       "20.0                1.0                   1\n",
       "34.0                1.0                   1\n",
       "57.0                4.0                   1\n",
       "dtype: int64"
      ]
     },
     "execution_count": 53,
     "metadata": {},
     "output_type": "execute_result"
    }
   ],
   "source": [
    "df[['DNAJB1_c.558C>A_wt','DNAJB1_c.558C>A_mt']].value_counts()"
   ]
  },
  {
   "cell_type": "code",
   "execution_count": null,
   "metadata": {},
   "outputs": [],
   "source": [
    "import matplotlib.pyplot as plt\n",
    "import seaborn as sns\n",
    "\n",
    "for c in linear_df.columns:\n",
    "    fig, ax = plt.subplots(figsize=(10, 6))\n",
    "\n",
    "    print (c)\n",
    "    ax.legend()\n",
    "\n",
    "    linear_df[c].value_counts().plot(kind='bar',color=\"red\")\n",
    "    # df[c].value_counts().plot(kind='bar')\n",
    "    plt.show()"
   ]
  }
 ],
 "metadata": {
  "kernelspec": {
   "display_name": "gpyprd38",
   "language": "python",
   "name": "gpyprd38"
  },
  "language_info": {
   "codemirror_mode": {
    "name": "ipython",
    "version": 3
   },
   "file_extension": ".py",
   "mimetype": "text/x-python",
   "name": "python",
   "nbconvert_exporter": "python",
   "pygments_lexer": "ipython3",
   "version": "3.9.12"
  }
 },
 "nbformat": 4,
 "nbformat_minor": 4
}
