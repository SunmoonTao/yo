{
 "cells": [
  {
   "cell_type": "code",
   "execution_count": 1,
   "metadata": {},
   "outputs": [],
   "source": [
    "import sys\n",
    "\n",
    "sys.path.append(\"/gstore/project/paneldesign/pkg\")\n",
    "\n",
    "sys.path.append(\"/gstore/home/taol9/gitsss/yo/tao\")\n",
    "# import primer3\n",
    "from Bio import SeqIO\n",
    "from Bio.Seq import Seq\n",
    "from Bio import Entrez\n",
    "import csv\n",
    "import pandas as pd\n",
    "from collections import defaultdict,OrderedDict\n",
    "from collections import Counter\n",
    "import matplotlib.pyplot as plt\n",
    "\n",
    "import pandas as pd\n",
    "import os\n",
    "import pickle\n",
    "\n",
    "#check GC\n",
    "\n",
    "#https://biopython.org/docs/1.75/api/Bio.SeqUtils.MeltingTemp.html\n",
    "from Bio.SeqUtils import MeltingTemp as mt\n",
    "from Bio.Seq import Seq"
   ]
  },
  {
   "cell_type": "code",
   "execution_count": 2,
   "metadata": {},
   "outputs": [],
   "source": [
    "# !pip install --target /gstore/project/paneldesign/pkg dill"
   ]
  },
  {
   "cell_type": "code",
   "execution_count": 2,
   "metadata": {},
   "outputs": [],
   "source": [
    "# pip install --target /gstore/project/paneldesign/pkg biopython"
   ]
  },
  {
   "cell_type": "markdown",
   "metadata": {},
   "source": [
    "# flex probe Design\n",
    "\n",
    "When designing custom probes, consider the\n",
    "following:\n",
    "• GC content should be between 44 − 72% for each\n",
    "25 bp probe half.\n",
    "• Avoid homopolymer repeats.\n",
    "• Avoid overlap with annotated repeat or low complexity\n",
    "sequences.\n",
    "• If possible, design probes for coding regions of\n",
    "mRNA as opposed to untranslated regions.\n",
    "# The 25th nucleotide of the probe (3' most nucleotide of the LHS probe) must be a T. The complementary nucleotide in the target RNAmust be an A.\n",
    "• Avoid common single nucleotide polymorphisms\n",
    "(SNPs) and potential mismatches at the ligation\n",
    "junction. Refer to the UCSC Genome Browser and\n",
    "the Single Nucleotide Polymorphism Database\n",
    "(dbSNP). If avoiding SNPs is not possible, SNPs and\n",
    "mismatches should be at least four bp away from\n",
    "the ligation junction.\n",
    "• If probes can bind to sequences other than the\n",
    "target mRNA sequence, off-target signal may be\n",
    "observed. To check for off-target homology, align\n",
    "the probe sequence to the reference transcriptome\n",
    "using the Basic Local Alignment Search Tool\n",
    "(BLAST). Matches to off-target genes should have\n",
    "at least five mismatches in at least one of the LHS\n",
    "or RHS probes to prevent efficient hybridization.\n",
    "• Designing three probe pairs per target mRNA\n",
    "is recommended, especially for low expressing\n",
    "genes. However, if the gene is not long enough or\n",
    "there aren't enough specific 50 bp regions, fewer\n",
    "than three probe pairs is acceptable.\n",
    "## Probe pairs should not overlap to avoid competition\n",
    "between probes for the same binding site in\n",
    "the target RNA.\n",
    "• Add new probe sequences to the probe set reference\n",
    "CSV file. Refer to the Analysis section for\n",
    "more information."
   ]
  },
  {
   "cell_type": "markdown",
   "metadata": {},
   "source": [
    "# structure\n",
    "\n",
    "left_arm=\"CCTTGGCACCCGAGAATTCCA\"+target_LHS\n",
    "right_arm=\"/5Phos/\"+target_RHS+\"ACGCGGTTAGCACGTA-NN\"+probeset_barcode_8nt+\"CGGTCCTAGCAA\"\n",
    "\n",
    "fulllib:\n",
    "p7+i7+left_arm+right_arm+10xumi+10xcellbarcode+read1seqprimer+i5+p5\n",
    "\n",
    "left_arm_snv=snv_dialout_adaptor+\"CCTTGGCACCCGAGAATTCCA\"+target_LHS\n",
    "padlock=right_arm+left_arm_snv"
   ]
  },
  {
   "cell_type": "markdown",
   "metadata": {},
   "source": [
    "# check strand,make sure statred with ATG\n",
    "mRNA is the template strand, starting from ATG....\n",
    "# probe strand is cs of mRNA strand"
   ]
  },
  {
   "cell_type": "code",
   "execution_count": 21,
   "metadata": {},
   "outputs": [],
   "source": [
    "# mutation codes are 1 based index, python is 0 based, convert that!\n",
    "# for rna probes, use shorter arm\n",
    "\n",
    "# add one bp gap for the mutation position\n",
    "def get_target_LHS(template,mutation,gap=1):\n",
    "    mutation_position=int(mutation[2:-3])-1\n",
    "    ref_base=mutation[-3]\n",
    "    mutation_base=mutation[-1]\n",
    "    if template[mutation_position]==ref_base:\n",
    "        for l in range(25+gap,28+gap,1):\n",
    "#         for l in range(22,23,1):\n",
    "\n",
    "            mystring=Seq(template[mutation_position:mutation_position+l])\n",
    "            # print (mystring)\n",
    "            gc=mt.Tm_GC(mystring)\n",
    "            if 44<gc<70:\n",
    "                return (str(mystring.reverse_complement()), \n",
    "                       str(Seq(mutation_base+str(mystring[1:])).reverse_complement()))\n",
    "                  \n",
    "                break\n",
    "    else:\n",
    "        return \"wrong input\", mutation_position, mutation_base, ref_base,mutation"
   ]
  },
  {
   "cell_type": "code",
   "execution_count": 20,
   "metadata": {},
   "outputs": [],
   "source": [
    "#add extra gap for the size of gap - 1\n",
    "\n",
    "def get_target_RHS(template,mutation,gap=2):\n",
    "    mutation_position=int(mutation[2:-3])-1\n",
    "    ref_base=mutation[-3]\n",
    "    mutation_base=mutation[-1]\n",
    "    if template[mutation_position]==ref_base:\n",
    "        for l in range(25+gap,28+gap,1):\n",
    "#         for l in range(22,23,1):\n",
    "            mystring=Seq(template[mutation_position-l:mutation_position])\n",
    "            gc=mt.Tm_GC(mystring)\n",
    "            if 44<gc<70:\n",
    "                return str(mystring.reverse_complement())\n",
    "                break\n",
    "    else:\n",
    "        return \"wrong input\", mutation_base, ref_base, mutation"
   ]
  },
  {
   "cell_type": "markdown",
   "metadata": {
    "tags": []
   },
   "source": [
    "# junction frequency\n",
    "\n",
    "Counter({'AA': 135,\n",
    "         'AC': 119,\n",
    "         'AG': 184,\n",
    "         'AT': 5916,\n",
    "         'CA': 11022,\n",
    "         'CC': 129,\n",
    "         'CG': 169,\n",
    "         'CT': 8252,\n",
    "         'GA': 146,\n",
    "         'GC': 109,\n",
    "         'GG': 157,\n",
    "         'GT': 132,\n",
    "         'TA': 4313,\n",
    "         'TC': 7254,\n",
    "         'TG': 9497,\n",
    "         'TT': 6423})"
   ]
  },
  {
   "cell_type": "code",
   "execution_count": 11,
   "metadata": {
    "tags": []
   },
   "outputs": [],
   "source": [
    "from collections import Counter"
   ]
  },
  {
   "cell_type": "code",
   "execution_count": 16,
   "metadata": {
    "tags": []
   },
   "outputs": [
    {
     "data": {
      "text/plain": [
       "Counter({'AA': 135,\n",
       "         'AC': 119,\n",
       "         'AG': 184,\n",
       "         'AT': 5916,\n",
       "         'CA': 11022,\n",
       "         'CC': 129,\n",
       "         'CG': 169,\n",
       "         'CT': 8252,\n",
       "         'GA': 146,\n",
       "         'GC': 109,\n",
       "         'GG': 157,\n",
       "         'GT': 132,\n",
       "         'TA': 4313,\n",
       "         'TC': 7254,\n",
       "         'TG': 9497,\n",
       "         'TT': 6423})"
      ]
     },
     "execution_count": 16,
     "metadata": {},
     "output_type": "execute_result"
    }
   ],
   "source": [
    "(Counter(sorted(x)))\n"
   ]
  },
  {
   "cell_type": "markdown",
   "metadata": {},
   "source": [
    "## define adaptor\n"
   ]
  },
  {
   "cell_type": "code",
   "execution_count": 4,
   "metadata": {},
   "outputs": [
    {
     "name": "stdout",
     "output_type": "stream",
     "text": [
      "BC001 = \"ACTTTAGG\"\n",
      "BC002 = \"AACGGGAA\"\n",
      "BC003 = \"AGTAGGCT\"\n",
      "BC004 = \"ATGTTGAC\"\n",
      "BC005 = \"ACAGACCT\"\n",
      "BC006 = \"ATCCCAAC\"\n",
      "BC007 = \"AAGTAGAG\"\n",
      "BC008 = \"AGCTGTGA\"\n",
      "BC009 = \"ACAGTCTG\"\n",
      "BC010 = \"AGTGAGTG\"\n",
      "BC011 = \"AGAGGCAA\"\n",
      "BC012 = \"ACTACTCA\"\n",
      "BC013 = \"ATACGTCA\"\n",
      "BC014 = \"ATCATGTG\"\n",
      "BC015 = \"AACGCCGA\"\n",
      "BC016 = \"ATTCGGTT\"\n"
     ]
    }
   ],
   "source": [
    "barcodes=pd.read_csv('probe-barcodes-fixed-rna-profiling.txt',sep='\\t', header=None)\n",
    "barcodes=barcodes[[1,2]].drop_duplicates()\n",
    "for i,r in barcodes.iterrows():\n",
    "    print (r[2],'=', '\"'+r[1]+'\"')"
   ]
  },
  {
   "cell_type": "code",
   "execution_count": 5,
   "metadata": {},
   "outputs": [],
   "source": [
    "BC001 = \"ACTTTAGG\"\n",
    "BC002 = \"AACGGGAA\"\n",
    "BC003 = \"AGTAGGCT\"\n",
    "BC004 = \"ATGTTGAC\"\n",
    "BC005 = \"ACAGACCT\"\n",
    "BC006 = \"ATCCCAAC\"\n",
    "BC007 = \"AAGTAGAG\"\n",
    "BC008 = \"AGCTGTGA\"\n",
    "BC009 = \"ACAGTCTG\"\n",
    "BC010 = \"AGTGAGTG\"\n",
    "BC011 = \"AGAGGCAA\"\n",
    "BC012 = \"ACTACTCA\"\n",
    "BC013 = \"ATACGTCA\"\n",
    "BC014 = \"ATCATGTG\"\n",
    "BC015 = \"AACGCCGA\"\n",
    "BC016 = \"ATTCGGTT\""
   ]
  },
  {
   "cell_type": "code",
   "execution_count": 22,
   "metadata": {},
   "outputs": [],
   "source": [
    "# use B013\n",
    "# use LNA base primer for snv_dialout when run with rna probes\n",
    "# max lenght set to 120 for rna probes\n",
    "BC013 = \"ATACGTCA\"\n",
    "snv_dialout_adaptor=Mly1_F_w='GCAACGACTCCACACTCATA'\n",
    "\n",
    "def flex_padlock_gap(template,mutation,probeset_barcode_8nt=\"ATACGTCA\",snv_dialout_adaptor='GCAACGACTCCACACTCATA'):\n",
    "    target_LHS=get_target_LHS(template,mutation)\n",
    "\n",
    "    target_RHS=get_target_RHS(template,mutation)\n",
    "    # left_arm0=snv_dialout_adaptor+\"CCTTGGCACCCGAGAATTCCA\"+target_LHS[0]\n",
    "    # left_arm1=snv_dialout_adaptor+\"CCTTGGCACCCGAGAATTCCA\"+target_LHS[1]\n",
    "    left_arm=snv_dialout_adaptor+\"CCTTGGCACCCGAGAATTCCA\"+target_LHS[0][:-1]\n",
    "    # left_arm1=snv_dialout_adaptor+\"CCTTGGCACCCGAGAATTCCA\"+target_LHS[1]\n",
    "    right_arm=\"/5Phos/\"+target_RHS[2:]+\"ACGCGGTTAGCACGTANN\"+probeset_barcode_8nt+\"CGGTCCTAGCAA\"\n",
    "    #fulllib:\n",
    "    #p7+i7+left_arm+right_arm+10xumi+10xcellbarcode+read1seqprimer+i5+p5\n",
    "#     left_arm_snv=snv_dialout_adaptor+\"CCTTGGCACCCGAGAATTCCA\"+target_LHS\n",
    "    # padlock_ref=right_arm+snv_dialout_adaptor+\"CCTTGGCACCCGAGAATTCCA\"+target_LHS[0]\n",
    "    # padlock_alt=right_arm+snv_dialout_adaptor+\"CCTTGGCACCCGAGAATTCCA\"+target_LHS[1]\n",
    "    padlock=right_arm+snv_dialout_adaptor+\"CCTTGGCACCCGAGAATTCCA\"+target_LHS[0][:-1]\n",
    "\n",
    "#     print (len(target_RHS+\"ACGCGGTTAGCACGTANN\"+probeset_barcode_8nt+\"CGGTCCTAGCAA\")+len(left_arm0), len(target_LHS[0]),len(target_RHS))\n",
    "\n",
    "    return {'LHS':left_arm, 'target_LHS_ref':target_LHS[0], 'target_LHS_mut':target_LHS[1],'target_RHS':target_RHS,\"RHS\":right_arm, \"padlock\":padlock}"
   ]
  },
  {
   "cell_type": "code",
   "execution_count": 10,
   "metadata": {},
   "outputs": [],
   "source": [
    "# convert to padlock probe"
   ]
  },
  {
   "cell_type": "code",
   "execution_count": 23,
   "metadata": {},
   "outputs": [],
   "source": [
    "KRAS_CDS='''ATGACTGAATATAAACTTGTGGTAGTTGGAGCTGGTGGCGTAGGCAAGAGTGCCTTGACGATACAGCTAATTCAGAATCATTTTGTGGACGAATATGATCCAACAATAGAGGATTCCTAC\n",
    "AGGAAGCAAGTAGTAATTGATGGAGAAACCTGTCTCTTGGATATTCTCGACACAGCAGGT\n",
    "CAAGAGGAGTACAGTGCAATGAGGGACCAGTACATGAGGACTGGGGAGGGCTTTCTTTGT\n",
    "GTATTTGCCATAAATAATACTAAATCATTTGAAGATATTCACCATTATAGAGAACAAATT\n",
    "AAAAGAGTTAAGGACTCTGAAGATGTACCTATGGTCCTAGTAGGAAATAAATGTGATTTG\n",
    "CCTTCTAGAACAGTAGACACAAAACAGGCTCAGGACTTAGCAAGAAGTTATGGAATTCCT\n",
    "TTTATTGAAACATCAGCAAAGACAAGACAGAGAGTGGAGGATGCTTTTTATACATTGGTG\n",
    "AGAGAGATCCGACAATACAGATTGAAAAAAATCAGCAAAGAAGAAAAGACTCCTGGCTGT\n",
    "GTGAAAATTAAAAAATGCATTATAATGTAA'''\n",
    "KRAS_CDS=KRAS_CDS.replace('\\n','')\n",
    "\n"
   ]
  },
  {
   "cell_type": "code",
   "execution_count": 23,
   "metadata": {},
   "outputs": [
    {
     "data": {
      "text/plain": [
       "'G'"
      ]
     },
     "execution_count": 23,
     "metadata": {},
     "output_type": "execute_result"
    }
   ],
   "source": [
    "KRAS_CDS[34]"
   ]
  },
  {
   "cell_type": "code",
   "execution_count": 24,
   "metadata": {},
   "outputs": [],
   "source": [
    "KRAS_flex=flex_padlock_gap(KRAS_CDS,'c.34G>T')\n"
   ]
  },
  {
   "cell_type": "code",
   "execution_count": 25,
   "metadata": {},
   "outputs": [
    {
     "data": {
      "text/plain": [
       "{'LHS_mut': 'GCAACGACTCCACACTCATACCTTGGCACCCGAGAATTCCATCAAGGCACTCTTGCCTACGCCACA',\n",
       " 'LHS_ref': 'GCAACGACTCCACACTCATACCTTGGCACCCGAGAATTCCATCAAGGCACTCTTGCCTACGCCACC',\n",
       " 'RHS': '/5Phos/AGCTCCAACTACCACAAGTTTATATACGCGGTTAGCACGTANNATACGTCACGGTCCTAGCAA',\n",
       " 'padlock_alt': '/5Phos/AGCTCCAACTACCACAAGTTTATATACGCGGTTAGCACGTANNATACGTCACGGTCCTAGCAAGCAACGACTCCACACTCATACCTTGGCACCCGAGAATTCCATCAAGGCACTCTTGCCTACGCCACA',\n",
       " 'padlock_ref': '/5Phos/AGCTCCAACTACCACAAGTTTATATACGCGGTTAGCACGTANNATACGTCACGGTCCTAGCAAGCAACGACTCCACACTCATACCTTGGCACCCGAGAATTCCATCAAGGCACTCTTGCCTACGCCACC',\n",
       " 'target_LHS_mut': 'TCAAGGCACTCTTGCCTACGCCACA',\n",
       " 'target_LHS_ref': 'TCAAGGCACTCTTGCCTACGCCACC',\n",
       " 'target_RHS': 'AGCTCCAACTACCACAAGTTTATAT'}"
      ]
     },
     "execution_count": 25,
     "metadata": {},
     "output_type": "execute_result"
    }
   ],
   "source": [
    "KRAS_flex"
   ]
  },
  {
   "cell_type": "code",
   "execution_count": 25,
   "metadata": {},
   "outputs": [
    {
     "data": {
      "text/plain": [
       "{'LHS': 'GCAACGACTCCACACTCATACCTTGGCACCCGAGAATTCCAGTCAAGGCACTCTTGCCTACGCCAC',\n",
       " 'target_LHS_ref': 'GTCAAGGCACTCTTGCCTACGCCACC',\n",
       " 'target_LHS_mut': 'GTCAAGGCACTCTTGCCTACGCCACA',\n",
       " 'target_RHS': 'AGCTCCAACTACCACAAGTTTATATTC',\n",
       " 'RHS': '/5Phos/CTCCAACTACCACAAGTTTATATTCACGCGGTTAGCACGTANNATACGTCACGGTCCTAGCAA',\n",
       " 'padlock': '/5Phos/CTCCAACTACCACAAGTTTATATTCACGCGGTTAGCACGTANNATACGTCACGGTCCTAGCAAGCAACGACTCCACACTCATACCTTGGCACCCGAGAATTCCAGTCAAGGCACTCTTGCCTACGCCAC'}"
      ]
     },
     "execution_count": 25,
     "metadata": {},
     "output_type": "execute_result"
    }
   ],
   "source": [
    "KRAS_flex_gap=flex_padlock_gap(KRAS_CDS,'c.34G>T')\n",
    "KRAS_flex_gap"
   ]
  },
  {
   "cell_type": "code",
   "execution_count": 26,
   "metadata": {},
   "outputs": [],
   "source": [
    "TP63_CDS='''ATGAATTTTGAAACTTCACGGTGTGCCACCCTACAGTACTGCCCTGACCCTTACATCCAGCGTTTCGTAG\n",
    "AAACCCCAGCTCATTTCTCTTGGAAAGAAAGTTATTACCGATCCACCATGTCCCAGAGCACACAGACAAA\n",
    "TGAATTCCTCAGTCCAGAGGTTTTCCAGCATATCTGGGATTTTCTGGAACAGCCTATATGTTCAGTTCAG\n",
    "CCCATTGACTTGAACTTTGTGGATGAACCATCAGAAGATGGTGCGACAAACAAGATTGAGATTAGCATGG\n",
    "ACTGTATCCGCATGCAGGACTCGGACCTGAGTGACCCCATGTGGCCACAGTACACGAACCTGGGGCTCCT\n",
    "GAACAGCATGGACCAGCAGATTCAGAACGGCTCCTCGTCCACCAGTCCCTATAACACAGACCACGCGCAG\n",
    "AACAGCGTCACGGCGCCCTCGCCCTACGCACAGCCCAGCTCCACCTTCGATGCTCTCTCTCCATCACCCG\n",
    "CCATCCCCTCCAACACCGACTACCCAGGCCCGCACAGTTTCGACGTGTCCTTCCAGCAGTCGAGCACCGC\n",
    "CAAGTCGGCCACCTGGACGTATTCCACTGAACTGAAGAAACTCTACTGCCAAATTGCAAAGACATGCCCC\n",
    "ATCCAGATCAAGGTGATGACCCCACCTCCTCAGGGAGCTGTTATCCGCGCCATGCCTGTCTACAAAAAAG\n",
    "CTGAGCACGTCACGGAGGTGGTGAAGCGGTGCCCCAACCATGAGCTGAGCCGTGAATTCAACGAGGGACA\n",
    "GATTGCCCCTCCTAGTCATTTGATTCGAGTAGAGGGGAACAGCCATGCCCAGTATGTAGAAGATCCCATC\n",
    "ACAGGAAGACAGAGTGTGCTGGTACCTTATGAGCCACCCCAGGTTGGCACTGAATTCACGACAGTCTTGT\n",
    "ACAATTTCATGTGTAACAGCAGTTGTGTTGGAGGGATGAACCGCCGTCCAATTTTAATCATTGTTACTCT\n",
    "GGAAACCAGAGATGGGCAAGTCCTGGGCCGACGCTGCTTTGAGGCCCGGATCTGTGCTTGCCCAGGAAGA\n",
    "GACAGGAAGGCGGATGAAGATAGCATCAGAAAGCAGCAAGTTTCGGACAGTACAAAGAACGGTGATGGTA\n",
    "CGAAGCGCCCGTTTCGTCAGAACACACATGGTATCCAGATGACATCCATCAAGAAACGAAGATCCCCAGA\n",
    "TGATGAACTGTTATACTTACCAGTGAGGGGCCGTGAGACTTATGAAATGCTGTTGAAGATCAAAGAGTCC\n",
    "CTGGAACTCATGCAGTACCTTCCTCAGCACACAATTGAAACGTACAGGCAACAGCAACAGCAGCAGCACC\n",
    "AGCACTTACTTCAGAAACAGACCTCAATACAGTCTCCATCTTCATATGGTAACAGCTCCCCACCTCTGAA\n",
    "CAAAATGAACAGCATGAACAAGCTGCCTTCTGTGAGCCAGCTTATCAACCCTCAGCAGCGCAACGCCCTC\n",
    "ACTCCTACAACCATTCCTGATGGCATGGGAGCCAACATTCCCATGATGGGCACCCACATGCCAATGGCTG\n",
    "GAGACATGAATGGACTCAGCCCCACCCAGGCACTCCCTCCCCCACTCTCCATGCCATCCACCTCCCACTG\n",
    "CACACCCCCACCTCCGTATCCCACAGATTGCAGCATTGTCAGTTTCTTAGCGAGGTTGGGCTGTTCATCA\n",
    "TGTCTGGACTATTTCACGACCCAGGGGCTGACCACCATCTATCAGATTGAGCATTACTCCATGGATGATC\n",
    "TGGCAAGTCTGAAAATCCCTGAGCAATTTCGACATGCGATCTGGAAGGGCATCCTGGACCACCGGCAGCT\n",
    "CCACGAATTCTCCTCCCCTTCTCATCTCCTGCGGACCCCAAGCAGTGCCTCTACAGTCAGTGTGGGCTCC\n",
    "AGTGAGACCCGGGGTGAGCGTGTTATTGATGCTGTGCGATTCACCCTCCGCCAGACCATCTCTTTCCCAC\n",
    "CCCGAGATGAGTGGAATGACTTCAACTTTGACATGGATGCTCGCCGCAATAAGCAACAGCGCATCAAAGA\n",
    "GGAGGGGGAGTGA'''.replace('\\n','')"
   ]
  },
  {
   "cell_type": "code",
   "execution_count": 28,
   "metadata": {},
   "outputs": [
    {
     "data": {
      "text/plain": [
       "{'LHS_mut': 'GCAACGACTCCACACTCATACCTTGGCACCCGAGAATTCCACACCGTTCTTTGTACTGTCCGAAAT',\n",
       " 'LHS_ref': 'GCAACGACTCCACACTCATACCTTGGCACCCGAGAATTCCACACCGTTCTTTGTACTGTCCGAAAC',\n",
       " 'RHS': '/5Phos/TTGCTGCTTTCTGATGCTATCTTCAACGCGGTTAGCACGTANNATACGTCACGGTCCTAGCAA',\n",
       " 'padlock_alt': '/5Phos/TTGCTGCTTTCTGATGCTATCTTCAACGCGGTTAGCACGTANNATACGTCACGGTCCTAGCAAGCAACGACTCCACACTCATACCTTGGCACCCGAGAATTCCACACCGTTCTTTGTACTGTCCGAAAT',\n",
       " 'padlock_ref': '/5Phos/TTGCTGCTTTCTGATGCTATCTTCAACGCGGTTAGCACGTANNATACGTCACGGTCCTAGCAAGCAACGACTCCACACTCATACCTTGGCACCCGAGAATTCCACACCGTTCTTTGTACTGTCCGAAAC',\n",
       " 'target_LHS_mut': 'CACCGTTCTTTGTACTGTCCGAAAT',\n",
       " 'target_LHS_ref': 'CACCGTTCTTTGTACTGTCCGAAAC',\n",
       " 'target_RHS': 'TTGCTGCTTTCTGATGCTATCTTCA'}"
      ]
     },
     "execution_count": 28,
     "metadata": {},
     "output_type": "execute_result"
    }
   ],
   "source": [
    "TP63_flex=flex_padlock(TP63_CDS,'c.1090G>A')\n",
    "TP63_flex"
   ]
  },
  {
   "cell_type": "code",
   "execution_count": 27,
   "metadata": {},
   "outputs": [],
   "source": [
    "FGFR1_CDS='''ATGGAGGCAAGGGTCAGTTTGAAAAGGAGGATCGAGCTCACTGTGGAGTATCCATGGAGATGTGGAGCCT\n",
    "TGTCACCAACCTCTAACTGCAGAACTGGGATGTGGAGCTGGAAGTGCCTCCTCTTCTGGGCTGTGCTGGT\n",
    "CACAGCCACACTCTGCACCGCTAGGCCGTCCCCGACCTTGCCTGAACAAGCCCAGCCCTGGGGAGCCCCT\n",
    "GTGGAAGTGGAGTCCTTCCTGGTCCACCCCGGTGACCTGCTGCAGCTTCGCTGTCGGCTGCGGGACGATG\n",
    "TGCAGAGCATCAACTGGCTGCGGGACGGGGTGCAGCTGGCGGAAAGCAACCGCACCCGCATCACAGGGGA\n",
    "GGAGGTGGAGGTGCAGGACTCCGTGCCCGCAGACTCCGGCCTCTATGCTTGCGTAACCAGCAGCCCCTCG\n",
    "GGCAGTGACACCACCTACTTCTCCGTCAATGTTTCAGATGCTCTCCCCTCCTCGGAGGATGATGATGATG\n",
    "ATGATGACTCCTCTTCAGAGGAGAAAGAAACAGATAACACCAAACCAAACCCCGTAGCTCCATATTGGAC\n",
    "ATCCCCAGAAAAGATGGAAAAGAAATTGCATGCAGTGCCGGCTGCCAAGACAGTGAAGTTCAAATGCCCT\n",
    "TCCAGTGGGACCCCAAACCCCACACTGCGCTGGTTGAAAAATGGCAAAGAATTCAAACCTGACCACAGAA\n",
    "TTGGAGGCTACAAGGTCCGTTATGCCACCTGGAGCATCATAATGGACTCTGTGGTGCCCTCTGACAAGGG\n",
    "CAACTACACCTGCATTGTGGAGAATGAGTACGGCAGCATCAACCACACATACCAGCTGGATGTCGTGGAG\n",
    "CGGTCCCCTCACCGGCCCATCCTGCAAGCAGGGTTGCCCGCCAACAAAACAGTGGCCCTGGGTAGCAACG\n",
    "TGGAGTTCATGTGTAAGGTGTACAGTGACCCGCAGCCGCACATCCAGTGGCTAAAGCACATCGAGGTGAA\n",
    "TGGGAGCAAGATTGGCCCAGACAACCTGCCTTATGTCCAGATCTTGAAGACTGCTGGAGTTAATACCACC\n",
    "GACAAAGAGATGGAGGTGCTTCACTTAAGAAATGTCTCCTTTGAGGACGCAGGGGAGTATACGTGCTTGG\n",
    "CGGGTAACTCTATCGGACTCTCCCATCACTCTGCATGGTTGACCGTTCTGGAAGCCCTGGAAGAGAGGCC\n",
    "GGCAGTGATGACCTCGCCCCTGTACCTGGAGATCATCATCTATTGCACAGGGGCCTTCCTCATCTCCTGC\n",
    "ATGGTGGGGTCGGTCATCGTCTACAAGATGAAGAGTGGTACCAAGAAGAGTGACTTCCACAGCCAGATGG\n",
    "CTGTGCACAAGCTGGCCAAGAGCATCCCTCTGCGCAGACAGGTAACAGTGTCTGCTGACTCCAGTGCATC\n",
    "CATGAACTCTGGGGTTCTTCTGGTTCGGCCATCACGGCTCTCCTCCAGTGGGACTCCCATGCTAGCAGGG\n",
    "GTCTCTGAGTATGAGCTTCCCGAAGACCCTCGCTGGGAGCTGCCTCGGGACAGACTGGTCTTAGGCAAAC\n",
    "CCCTGGGAGAGGGCTGCTTTGGGCAGGTGGTGTTGGCAGAGGCTATCGGGCTGGACAAGGACAAACCCAA\n",
    "CCGTGTGACCAAAGTGGCTGTGAAGATGTTGAAGTCGGACGCAACAGAGAAAGACTTGTCAGACCTGATC\n",
    "TCAGAAATGGAGATGATGAAGATGATCGGGAAGCATAAGAATATCATCAACCTGCTGGGGGCCTGCACGC\n",
    "AGGATGGTCCCTTGTATGTCATCGTGGAGTATGCCTCCAAGGGCAACCTGCGGGAGTACCTGCAGGCCCG\n",
    "GAGGCCCCCAGGGCTGGAATACTGCTACAACCCCAGCCACAACCCAGAGGAGCAGCTCTCCTCCAAGGAC\n",
    "CTGGTGTCCTGCGCCTACCAGGTGGCCCGAGGCATGGAGTATCTGGCCTCCAAGAAGTGCATACACCGAG\n",
    "ACCTGGCAGCCAGGAATGTCCTGGTGACAGAGGACAATGTGATGAAGATAGCAGACTTTGGCCTCGCACG\n",
    "GGACATTCACCACATCGACTACTATAAAAAGACAACCAACGGCCGACTGCCTGTGAAGTGGATGGCACCC\n",
    "GAGGCATTATTTGACCGGATCTACACCCACCAGAGTGATGTGTGGTCTTTCGGGGTGCTCCTGTGGGAGA\n",
    "TCTTCACTCTGGGCGGCTCCCCATACCCCGGTGTGCCTGTGGAGGAACTTTTCAAGCTGCTGAAGGAGGG\n",
    "TCACCGCATGGACAAGCCCAGTAACTGCACCAACGAGCTGTACATGATGATGCGGGACTGCTGGCATGCA\n",
    "GTGCCCTCACAGAGACCCACCTTCAAGCAGCTGGTGGAAGACCTGGACCGCATCGTGGCCTTGACCTCCA\n",
    "ACCAGGAGTACCTGGACCTGTCCATGCCCCTGGACCAGTACTCCCCCAGCTTTCCCGACACCCGGAGCTC\n",
    "TACGTGCTCCTCAGGGGAGGATTCCGTCTTCTCTCATGAGCCGCTGCCCGAGGAGCCCTGCCTGCCCCGA\n",
    "CACCCAGCCCAGCTTGCCAATGGCGGACTCAAACGCCGCTGA'''.replace('\\n','')"
   ]
  },
  {
   "cell_type": "code",
   "execution_count": 30,
   "metadata": {},
   "outputs": [
    {
     "data": {
      "text/plain": [
       "{'LHS_mut': 'GCAACGACTCCACACTCATACCTTGGCACCCGAGAATTCCAATTATGATGCTCCAGGTGGCATAAT',\n",
       " 'LHS_ref': 'GCAACGACTCCACACTCATACCTTGGCACCCGAGAATTCCAATTATGATGCTCCAGGTGGCATAAC',\n",
       " 'RHS': '/5Phos/GGACCTTGTAGCCTCCAATTCTGTGACGCGGTTAGCACGTANNATACGTCACGGTCCTAGCAA',\n",
       " 'padlock_alt': '/5Phos/GGACCTTGTAGCCTCCAATTCTGTGACGCGGTTAGCACGTANNATACGTCACGGTCCTAGCAAGCAACGACTCCACACTCATACCTTGGCACCCGAGAATTCCAATTATGATGCTCCAGGTGGCATAAT',\n",
       " 'padlock_ref': '/5Phos/GGACCTTGTAGCCTCCAATTCTGTGACGCGGTTAGCACGTANNATACGTCACGGTCCTAGCAAGCAACGACTCCACACTCATACCTTGGCACCCGAGAATTCCAATTATGATGCTCCAGGTGGCATAAC',\n",
       " 'target_LHS_mut': 'ATTATGATGCTCCAGGTGGCATAAT',\n",
       " 'target_LHS_ref': 'ATTATGATGCTCCAGGTGGCATAAC',\n",
       " 'target_RHS': 'GGACCTTGTAGCCTCCAATTCTGTG'}"
      ]
     },
     "execution_count": 30,
     "metadata": {},
     "output_type": "execute_result"
    }
   ],
   "source": [
    "FGFR1_flex=flex_padlock(FGFR1_CDS, \"c.719G>A\")\n",
    "FGFR1_flex"
   ]
  },
  {
   "cell_type": "code",
   "execution_count": 31,
   "metadata": {},
   "outputs": [],
   "source": [
    "### https://cancer.sanger.ac.uk/cosmic/mutation/overview?id=130818805"
   ]
  },
  {
   "cell_type": "code",
   "execution_count": 28,
   "metadata": {},
   "outputs": [],
   "source": [
    "PTPRC='''ATGACCATGTATTTGTGGCTTAAACTCTTGGCATTTGGCTTTGCCTTTCTGGACACAGAAGTATTTGTGA\n",
    "CAGGGCAAAGCCCAACACCTTCCCCCACTGGATTGACTACAGCAAAGATGCCCAGTGTTCCACTTTCAAG\n",
    "TGACCCCTTACCTACTCACACCACTGCATTCTCACCCGCAAGCACCTTTGAAAGAGAAAATGACTTCTCA\n",
    "GAGACCACAACTTCTCTTAGTCCAGACAATACTTCCACCCAAGTATCCCCGGACTCTTTGGATAATGCTA\n",
    "GTGCTTTTAATACCACAGGTGTTTCATCAGTACAGACGCCTCACCTTCCCACGCACGCAGACTCGCAGAC\n",
    "GCCCTCTGCTGGAACTGACACGCAGACATTCAGCGGCTCCGCCGCCAATGCAAAACTCAACCCTACCCCA\n",
    "GGCAGCAATGCTATCTCAGATGTCCCAGGAGAGAGGAGTACAGCCAGCACCTTTCCTACAGACCCAGTTT\n",
    "CCCCATTGACAACCACCCTCAGCCTTGCACACCACAGCTCTGCTGCCTTACCTGCACGCACCTCCAACAC\n",
    "CACCATCACAGCGAACACCTCAGATGCCTACCTTAATGCCTCTGAAACAACCACTCTGAGCCCTTCTGGA\n",
    "AGCGCTGTCATTTCAACCACAACAATAGCTACTACTCCATCTAAGCCAACATGTGATGAAAAATATGCAA\n",
    "ACATCACTGTGGATTACTTATATAACAAGGAAACTAAATTATTTACAGCAAAGCTAAATGTTAATGAGAA\n",
    "TGTGGAATGTGGAAACAATACTTGCACAAACAATGAGGTGCATAACCTTACAGAATGTAAAAATGCGTCT\n",
    "GTTTCCATATCTCATAATTCATGTACTGCTCCTGATAAGACATTAATATTAGATGTGCCACCAGGGGTTG\n",
    "AAAAGTTTCAGTTACATGATTGTACACAAGTTGAAAAAGCAGATACTACTATTTGTTTAAAATGGAAAAA\n",
    "TATTGAAACCTTTACTTGTGATACACAGAATATTACCTACAGATTTCAGTGTGGTAATATGATATTTGAT\n",
    "AATAAAGAAATTAAATTAGAAAACCTTGAACCCGAACATGAGTATAAGTGTGACTCAGAAATACTCTATA\n",
    "ATAACCACAAGTTTACTAACGCAAGTAAAATTATTAAAACAGATTTTGGGAGTCCAGGAGAGCCTCAGAT\n",
    "TATTTTTTGTAGAAGTGAAGCTGCACATCAAGGAGTAATTACCTGGAATCCCCCTCAAAGATCATTTCAT\n",
    "AATTTTACCCTCTGTTATATAAAAGAGACAGAAAAAGATTGCCTCAATCTGGATAAAAACCTGATCAAAT\n",
    "ATGATTTGCAAAATTTAAAACCTTATACGAAATATGTTTTATCATTACATGCCTACATCATTGCAAAAGT\n",
    "GCAACGTAATGGAAGTGCTGCAATGTGTCATTTCACAACTAAAAGTGCTCCTCCAAGCCAGGTCTGGAAC\n",
    "ATGACTGTCTCCATGACATCAGATAATAGTATGCATGTCAAGTGTAGGCCTCCCAGGGACCGTAATGGCC\n",
    "CCCATGAACGTTACCATTTGGAAGTTGAAGCTGGAAATACTCTGGTTAGAAATGAGTCGCATAAGAATTG\n",
    "CGATTTCCGTGTAAAAGATCTTCAATATTCAACAGACTACACTTTTAAGGCCTATTTTCACAATGGAGAC\n",
    "TATCCTGGAGAACCCTTTATTTTACATCATTCAACATCTTATAATTCTAAGGCACTGATAGCATTTCTGG\n",
    "CATTTCTGATTATTGTGACATCAATAGCCCTGCTTGTTGTTCTCTACAAAATCTATGATCTACATAAGAA\n",
    "AAGATCCTGCAATTTAGATGAACAGCAGGAGCTTGTTGAAAGGGATGATGAAAAACAACTGATGAATGTG\n",
    "GAGCCAATCCATGCAGATATTTTGTTGGAAACTTATAAGAGGAAGATTGCTGATGAAGGAAGACTTTTTC\n",
    "TGGCTGAATTTCAGAGCATCCCGCGGGTGTTCAGCAAGTTTCCTATAAAGGAAGCTCGAAAGCCCTTTAA\n",
    "CCAGAATAAAAACCGTTATGTTGACATTCTTCCTTATGATTATAACCGTGTTGAACTCTCTGAGATAAAC\n",
    "GGAGATGCAGGGTCAAACTACATAAATGCCAGCTATATTGATGGTTTCAAAGAACCCAGGAAATACATTG\n",
    "CTGCACAAGGTCCCAGGGATGAAACTGTTGATGATTTCTGGAGGATGATTTGGGAACAGAAAGCCACAGT\n",
    "TATTGTCATGGTCACTCGATGTGAAGAAGGAAACAGGAACAAGTGTGCAGAATACTGGCCGTCAATGGAA\n",
    "GAGGGCACTCGGGCTTTTGGAGATGTTGTTGTAAAGATCAACCAGCACAAAAGATGTCCAGATTACATCA\n",
    "TTCAGAAATTGAACATTGTAAATAAAAAAGAAAAAGCAACTGGAAGAGAGGTGACTCACATTCAGTTCAC\n",
    "CAGCTGGCCAGACCACGGGGTGCCTGAGGATCCTCACTTGCTCCTCAAACTGAGAAGGAGAGTGAATGCC\n",
    "TTCAGCAATTTCTTCAGTGGTCCCATTGTGGTGCACTGCAGTGCTGGTGTTGGGCGCACAGGAACCTATA\n",
    "TCGGAATTGATGCCATGCTAGAAGGCCTGGAAGCCGAGAACAAAGTGGATGTTTATGGTTATGTTGTCAA\n",
    "GCTAAGGCGACAGAGATGCCTGATGGTTCAAGTAGAGGCCCAGTACATCTTGATCCATCAGGCTTTGGTG\n",
    "GAATACAATCAGTTTGGAGAAACAGAAGTGAATTTGTCTGAATTACATCCATATCTACATAACATGAAGA\n",
    "AAAGGGATCCACCCAGTGAGCCGTCTCCACTAGAGGCTGAATTCCAGAGACTTCCTTCATATAGGAGCTG\n",
    "GAGGACACAGCACATTGGAAATCAAGAAGAAAATAAAAGTAAAAACAGGAATTCTAATGTCATCCCATAT\n",
    "GACTATAACAGAGTGCCACTTAAACATGAGCTGGAAATGAGTAAAGAGAGTGAGCATGATTCAGATGAAT\n",
    "CCTCTGATGATGACAGTGATTCAGAGGAACCAAGCAAATACATCAATGCATCTTTTATAATGAGCTACTG\n",
    "GAAACCTGAAGTGATGATTGCTGCTCAGGGACCACTGAAGGAGACCATTGGTGACTTTTGGCAGATGATC\n",
    "TTCCAAAGAAAAGTCAAAGTTATTGTTATGCTGACAGAACTGAAACATGGAGACCAGGAAATCTGTGCTC\n",
    "AGTACTGGGGAGAAGGAAAGCAAACATATGGAGATATTGAAGTTGACCTGAAAGACACAGACAAATCTTC\n",
    "AACTTATACCCTTCGTGTCTTTGAACTGAGACATTCCAAGAGGAAAGACTCTCGAACTGTGTACCAGTAC\n",
    "CAATATACAAACTGGAGTGTGGAGCAGCTTCCTGCAGAACCCAAGGAATTAATCTCTATGATTCAGGTCG\n",
    "TCAAACAAAAACTTCCCCAGAAGAATTCCTCTGAAGGGAACAAGCATCACAAGAGTACACCTCTACTCAT\n",
    "TCACTGCAGGGATGGATCTCAGCAAACGGGAATATTTTGTGCTTTGTTAAATCTCTTAGAAAGTGCGGAA\n",
    "ACAGAAGAGGTAGTGGATATTTTTCAAGTGGTAAAAGCTCTACGCAAAGCTAGGCCAGGCATGGTTTCCA\n",
    "CATTCGAGCAATATCAATTCCTATATGACGTCATTGCCAGCACCTACCCTGCTCAGAATGGACAAGTAAA\n",
    "GAAAAACAACCATCAAGAAGATAAAATTGAATTTGATAATGAAGTGGACAAAGTAAAGCAGGATGCTAAT\n",
    "TGTGTTAATCCACTTGGTGCCCCAGAAAAGCTCCCTGAAGCAAAGGAACAGGCTGAAGGTTCTGAACCCA\n",
    "CGAGTGGCACTGAGGGGCCAGAACATTCTGTCAATGGTCCTGCAAGTCCAGCTTTAAATCAAGGTTCATA\n",
    "G'''.replace('\\n','')"
   ]
  },
  {
   "cell_type": "markdown",
   "metadata": {},
   "source": [
    "COSMIC: p.M769I; \"c.2307G>A\"\n",
    "Bing: M769K, T>A, \"c.2306T>A\""
   ]
  },
  {
   "cell_type": "code",
   "execution_count": 33,
   "metadata": {},
   "outputs": [
    {
     "data": {
      "text/plain": [
       "{'LHS_mut': 'GCAACGACTCCACACTCATACCTTGGCACCCGAGAATTCCACCAAAAGCCCGAGTGCCCTCTTCCT',\n",
       " 'LHS_ref': 'GCAACGACTCCACACTCATACCTTGGCACCCGAGAATTCCACCAAAAGCCCGAGTGCCCTCTTCCA',\n",
       " 'RHS': '/5Phos/TTGACGGCCAGTATTCTGCACACTTACGCGGTTAGCACGTANNATACGTCACGGTCCTAGCAA',\n",
       " 'padlock_alt': '/5Phos/TTGACGGCCAGTATTCTGCACACTTACGCGGTTAGCACGTANNATACGTCACGGTCCTAGCAAGCAACGACTCCACACTCATACCTTGGCACCCGAGAATTCCACCAAAAGCCCGAGTGCCCTCTTCCT',\n",
       " 'padlock_ref': '/5Phos/TTGACGGCCAGTATTCTGCACACTTACGCGGTTAGCACGTANNATACGTCACGGTCCTAGCAAGCAACGACTCCACACTCATACCTTGGCACCCGAGAATTCCACCAAAAGCCCGAGTGCCCTCTTCCA',\n",
       " 'target_LHS_mut': 'CCAAAAGCCCGAGTGCCCTCTTCCT',\n",
       " 'target_LHS_ref': 'CCAAAAGCCCGAGTGCCCTCTTCCA',\n",
       " 'target_RHS': 'TTGACGGCCAGTATTCTGCACACTT'}"
      ]
     },
     "execution_count": 33,
     "metadata": {},
     "output_type": "execute_result"
    }
   ],
   "source": [
    "PTPRC_flex=flex_padlock(PTPRC, \"c.2306T>A\")\n",
    "PTPRC_flex"
   ]
  },
  {
   "cell_type": "code",
   "execution_count": 35,
   "metadata": {},
   "outputs": [
    {
     "data": {
      "text/plain": [
       "{'LHS_mut': 'GCAACGACTCCACACTCATACCTTGGCACCCGAGAATTCCACCAAAAGCCCGAGTGCCCTCTTCCT',\n",
       " 'LHS_ref': 'GCAACGACTCCACACTCATACCTTGGCACCCGAGAATTCCACCAAAAGCCCGAGTGCCCTCTTCCA',\n",
       " 'RHS': '/5Phos/TTGACGGCCAGTATTCTGCACACTTACGCGGTTAGCACGTANNATACGTCACGGTCCTAGCAA',\n",
       " 'padlock_alt': '/5Phos/TTGACGGCCAGTATTCTGCACACTTACGCGGTTAGCACGTANNATACGTCACGGTCCTAGCAAGCAACGACTCCACACTCATACCTTGGCACCCGAGAATTCCACCAAAAGCCCGAGTGCCCTCTTCCT',\n",
       " 'padlock_ref': '/5Phos/TTGACGGCCAGTATTCTGCACACTTACGCGGTTAGCACGTANNATACGTCACGGTCCTAGCAAGCAACGACTCCACACTCATACCTTGGCACCCGAGAATTCCACCAAAAGCCCGAGTGCCCTCTTCCA',\n",
       " 'target_LHS_mut': 'CCAAAAGCCCGAGTGCCCTCTTCCT',\n",
       " 'target_LHS_ref': 'CCAAAAGCCCGAGTGCCCTCTTCCA',\n",
       " 'target_RHS': 'TTGACGGCCAGTATTCTGCACACTT'}"
      ]
     },
     "execution_count": 35,
     "metadata": {},
     "output_type": "execute_result"
    }
   ],
   "source": [
    "PTPRC_flex=flex_padlock(PTPRC, \"c.2306T>A\")\n",
    "PTPRC_flex"
   ]
  },
  {
   "cell_type": "markdown",
   "metadata": {},
   "source": [
    "# order probes in 200uM DDW, hplc if possible"
   ]
  },
  {
   "cell_type": "code",
   "execution_count": null,
   "metadata": {},
   "outputs": [],
   "source": []
  },
  {
   "cell_type": "markdown",
   "metadata": {
    "jp-MarkdownHeadingCollapsed": true,
    "tags": []
   },
   "source": [
    "# entrez\n",
    "\n",
    "https://www.ncbi.nlm.nih.gov/books/NBK25499/#chapter4.EFetch"
   ]
  },
  {
   "cell_type": "markdown",
   "metadata": {
    "tags": []
   },
   "source": [
    "# get human cds"
   ]
  },
  {
   "cell_type": "code",
   "execution_count": 50,
   "metadata": {},
   "outputs": [],
   "source": [
    "def get_cds(gene,organism='human'):\n",
    "    records=[]\n",
    "    #query ids\n",
    "    handle = Entrez.esearch(db=\"nuccore\", term=\"{}[Orgn] AND {}[Gene]\".format(organism,gene))\n",
    "    record = Entrez.read(handle)\n",
    "    for idx in record[\"IdList\"]:\n",
    "        try:\n",
    "            Entrez.email = \"A.N.Other@example.com\"     # Always tell NCBI who you are\n",
    "            handle = Entrez.efetch(db=\"nuccore\", id=idx, rettype=\"fasta_cds_na\", retmode=\"text\")\n",
    "            filename = gene+str(idx)+\".fasta\"\n",
    "            if not os.path.isfile(filename):\n",
    "                with open(filename, \"w\") as out_handle:\n",
    "                    out_handle.write(handle.read())\n",
    "                print(gene,idx,\" Saved\")\n",
    "\n",
    "                print(\"Parsing...\")\n",
    "                record = SeqIO.read(filename, \"fasta\")\n",
    "                records.append(record)\n",
    "        except:\n",
    "            continue\n",
    "    return records"
   ]
  },
  {
   "cell_type": "code",
   "execution_count": 51,
   "metadata": {},
   "outputs": [],
   "source": [
    "DNAJB1=get_cds(\"DNAJB1\")"
   ]
  },
  {
   "cell_type": "code",
   "execution_count": 29,
   "metadata": {},
   "outputs": [],
   "source": [
    "DNAJB1_CDS='''\n",
    "ATGGGTAAAGACTACTACCAGACGTTGGGCCTGGCCCGCGGCGCGTCGGACGAGGAGATCAAGCGGGCCT\n",
    "ACCGCCGCCAGGCGCTGCGCTACCACCCGGACAAGAACAAGGAGCCCGGCGCCGAGGAGAAGTTCAAGGA\n",
    "GATCGCTGAGGCCTACGACGTGCTCAGCGACCCGCGCAAGCGCGAGATCTTCGACCGCTACGGGGAGGAA\n",
    "GGCCTAAAGGGGAGTGGCCCCAGTGGCGGTAGCGGCGGTGGTGCCAATGGTACCTCTTTCAGCTACACAT\n",
    "TCCATGGAGACCCTCATGCCATGTTTGCTGAGTTCTTCGGTGGCAGAAATCCCTTTGACACCTTTTTTGG\n",
    "GCAGCGGAACGGGGAGGAAGGCATGGACATTGATGACCCATTCTCTGGCTTCCCTATGGGCATGGGTGGC\n",
    "TTCACCAACGTGAACTTTGGCCGCTCCCGCTCTGCCCAAGAGCCCGCCCGAAAGAAGCAAGATCCCCCAG\n",
    "TCACCCACGACCTTCGAGTCTCCCTTGAAGAGATCTACAGCGGCTGTACCAAGAAGATGAAAATCTCCCA\n",
    "CAAGCGGCTAAACCCCGACGGAAAGAGCATTCGAAACGAAGACAAAATATTGACCATCGAAGTGAAGAAG\n",
    "GGGTGGAAAGAAGGAACCAAAATCACTTTCCCCAAGGAAGGAGACCAGACCTCCAACAACATTCCAGCTG\n",
    "ATATCGTCTTTGTTTTAAAGGACAAGCCCCACAATATCTTTAAGAGAGATGGCTCTGATGTCATTTATCC\n",
    "TGCCAGGATCAGCCTCCGGGAGGCTCTGTGTGGCTGCACAGTGAACGTCCCCACTCTGGACGGCAGGACG\n",
    "ATACCCGTCGTATTCAAAGATGTTATCAGGCCTGGCATGCGGCGAAAAGTTCCTGGAGAAGGCCTCCCCC\n",
    "TCCCCAAAACACCCGAGAAACGTGGGGACCTCATTATTGAGTTTGAAGTGATCTTCCCCGAAAGGATTCC\n",
    "CCAGACATCAAGAACCGTACTTGAGCAGGTTCTTCCAATATAG'''.replace('\\n','')"
   ]
  },
  {
   "cell_type": "code",
   "execution_count": 47,
   "metadata": {},
   "outputs": [],
   "source": [
    "# for r in DNAJB1:\n",
    "#     if 'CCDS12312.1' in r.description:\n",
    "#         DNAJB1_CDS=r.seq"
   ]
  },
  {
   "cell_type": "code",
   "execution_count": 62,
   "metadata": {},
   "outputs": [
    {
     "data": {
      "text/plain": [
       "'ATGGGTAAAGACTACTACCAGACGTTGGGCCTGGCCCGCGGCGCGTCGGACGAGGAGATCAAGCGGGCCTACCGCCGCCAGGCGCTGCGCTACCACCCGGACAAGAACAAGGAGCCCGGCGCCGAGGAGAAGTTCAAGGAGATCGCTGAGGCCTACGACGTGCTCAGCGACCCGCGCAAGCGCGAGATCTTCGACCGCTACGGGGAGGAAGGCCTAAAGGGGAGTGGCCCCAGTGGCGGTAGCGGCGGTGGTGCCAATGGTACCTCTTTCAGCTACACATTCCATGGAGACCCTCATGCCATGTTTGCTGAGTTCTTCGGTGGCAGAAATCCCTTTGACACCTTTTTTGGGCAGCGGAACGGGGAGGAAGGCATGGACATTGATGACCCATTCTCTGGCTTCCCTATGGGCATGGGTGGCTTCACCAACGTGAACTTTGGCCGCTCCCGCTCTGCCCAAGAGCCCGCCCGAAAGAAGCAAGATCCCCCAGTCACCCACGACCTTCGAGTCTCCCTTGAAGAGATCTACAGCGGCTGTACCAAGAAGATGAAAATCTCCCACAAGCGGCTAAACCCCGACGGAAAGAGCATTCGAAACGAAGACAAAATATTGACCATCGAAGTGAAGAAGGGGTGGAAAGAAGGAACCAAAATCACTTTCCCCAAGGAAGGAGACCAGACCTCCAACAACATTCCAGCTGATATCGTCTTTGTTTTAAAGGACAAGCCCCACAATATCTTTAAGAGAGATGGCTCTGATGTCATTTATCCTGCCAGGATCAGCCTCCGGGAGGCTCTGTGTGGCTGCACAGTGAACGTCCCCACTCTGGACGGCAGGACGATACCCGTCGTATTCAAAGATGTTATCAGGCCTGGCATGCGGCGAAAAGTTCCTGGAGAAGGCCTCCCCCTCCCCAAAACACCCGAGAAACGTGGGGACCTCATTATTGAGTTTGAAGTGATCTTCCCCGAAAGGATTCCCCAGACATCAAGAACCGTACTTGAGCAGGTTCTTCCAATATAG'"
      ]
     },
     "execution_count": 62,
     "metadata": {},
     "output_type": "execute_result"
    }
   ],
   "source": [
    "DNAJB1_CDS"
   ]
  },
  {
   "cell_type": "code",
   "execution_count": 63,
   "metadata": {},
   "outputs": [
    {
     "data": {
      "text/plain": [
       "'TCC'"
      ]
     },
     "execution_count": 63,
     "metadata": {},
     "output_type": "execute_result"
    }
   ],
   "source": [
    "DNAJB1_CDS[555:186*3]\n"
   ]
  },
  {
   "cell_type": "code",
   "execution_count": 64,
   "metadata": {},
   "outputs": [],
   "source": [
    "# control probes\n",
    "# DNAJB1, S186S, \n",
    "DNAJB1_flex=flex_padlock(DNAJB1_CDS, \"c.558C>A\")"
   ]
  },
  {
   "cell_type": "code",
   "execution_count": 65,
   "metadata": {},
   "outputs": [
    {
     "data": {
      "text/plain": [
       "{'LHS_mut': 'GCAACGACTCCACACTCATACCTTGGCACCCGAGAATTCCATCCGTCGGGGTTTAGCCGCTTGTGT',\n",
       " 'LHS_ref': 'GCAACGACTCCACACTCATACCTTGGCACCCGAGAATTCCATCCGTCGGGGTTTAGCCGCTTGTGG',\n",
       " 'RHS': '/5Phos/GAGATTTTCATCTTCTTGGTACAGCACGCGGTTAGCACGTANNATACGTCACGGTCCTAGCAA',\n",
       " 'padlock_alt': '/5Phos/GAGATTTTCATCTTCTTGGTACAGCACGCGGTTAGCACGTANNATACGTCACGGTCCTAGCAAGCAACGACTCCACACTCATACCTTGGCACCCGAGAATTCCATCCGTCGGGGTTTAGCCGCTTGTGT',\n",
       " 'padlock_ref': '/5Phos/GAGATTTTCATCTTCTTGGTACAGCACGCGGTTAGCACGTANNATACGTCACGGTCCTAGCAAGCAACGACTCCACACTCATACCTTGGCACCCGAGAATTCCATCCGTCGGGGTTTAGCCGCTTGTGG',\n",
       " 'target_LHS_mut': 'TCCGTCGGGGTTTAGCCGCTTGTGT',\n",
       " 'target_LHS_ref': 'TCCGTCGGGGTTTAGCCGCTTGTGG',\n",
       " 'target_RHS': 'GAGATTTTCATCTTCTTGGTACAGC'}"
      ]
     },
     "execution_count": 65,
     "metadata": {},
     "output_type": "execute_result"
    }
   ],
   "source": [
    "DNAJB1_flex"
   ]
  },
  {
   "cell_type": "code",
   "execution_count": null,
   "metadata": {},
   "outputs": [],
   "source": [
    "# write to file"
   ]
  },
  {
   "cell_type": "code",
   "execution_count": 66,
   "metadata": {},
   "outputs": [],
   "source": [
    "KRAS_flex=flex_padlock(KRAS_CDS,'c.34G>T')\n",
    "FGFR1_flex=flex_padlock(FGFR1_CDS, \"c.719G>A\")\n",
    "TP63_flex=flex_padlock(TP63_CDS,'c.1090G>A')\n",
    "PTPRC_flex=flex_padlock(PTPRC, \"c.2306T>A\")\n",
    "DNAJB1_flex=flex_padlock(DNAJB1_CDS, \"c.558C>A\")"
   ]
  },
  {
   "cell_type": "code",
   "execution_count": 30,
   "metadata": {},
   "outputs": [],
   "source": [
    "targets={'KRAS':{'CDS':KRAS_CDS,'mutation_list':['c.34G>T',]},\n",
    "         'FGFR1':{'CDS':FGFR1_CDS, 'mutation_list':[\"c.719G>A\",]},\n",
    "         'TP63':{'CDS':TP63_CDS,'mutation_list':['c.1090G>A',]},\n",
    "         \"PTPRC\":{'CDS':PTPRC, 'mutation_list':[\"c.2306T>A\",]},\n",
    "         \"DNAJB1\":{'CDS':DNAJB1_CDS, 'mutation_list':[\"c.558C>A\",]},\n",
    "          }"
   ]
  },
  {
   "cell_type": "code",
   "execution_count": 31,
   "metadata": {},
   "outputs": [],
   "source": [
    "output=dict()\n",
    "for gene, info in targets.items():\n",
    "    CDS=info['CDS']\n",
    "    mutation_list=info['mutation_list']\n",
    "    for mut in mutation_list:\n",
    "        output[gene+\"_\"+mut]=flex_padlock_gap(CDS, mut)\n",
    "df=pd.DataFrame.from_dict(output,orient='index')\n"
   ]
  },
  {
   "cell_type": "code",
   "execution_count": 81,
   "metadata": {},
   "outputs": [],
   "source": [
    "# dd_probe=dict()\n",
    "# for k, i in output.items():\n",
    "#     if i['LHS_mut'][:-1]==i['LHS_ref'][:-1]:\n",
    "#         i['ddLHS']=i['LHS_mut'][:-1]\n",
    "#     if i['padlock_alt'][:-1]==i['padlock_ref'][:-1]:\n",
    "#         i['ddpadlock']=i['padlock_alt'][:-1] \n",
    "#     i['ddRHS']=i['RHS']\n",
    "#     dd_probe[k]=i\n",
    "    \n"
   ]
  },
  {
   "cell_type": "code",
   "execution_count": 32,
   "metadata": {
    "tags": []
   },
   "outputs": [
    {
     "data": {
      "text/html": [
       "<div>\n",
       "<style scoped>\n",
       "    .dataframe tbody tr th:only-of-type {\n",
       "        vertical-align: middle;\n",
       "    }\n",
       "\n",
       "    .dataframe tbody tr th {\n",
       "        vertical-align: top;\n",
       "    }\n",
       "\n",
       "    .dataframe thead th {\n",
       "        text-align: right;\n",
       "    }\n",
       "</style>\n",
       "<table border=\"1\" class=\"dataframe\">\n",
       "  <thead>\n",
       "    <tr style=\"text-align: right;\">\n",
       "      <th></th>\n",
       "      <th>LHS</th>\n",
       "      <th>target_LHS_ref</th>\n",
       "      <th>target_LHS_mut</th>\n",
       "      <th>target_RHS</th>\n",
       "      <th>RHS</th>\n",
       "      <th>padlock</th>\n",
       "    </tr>\n",
       "  </thead>\n",
       "  <tbody>\n",
       "    <tr>\n",
       "      <th>KRAS_c.34G&gt;T</th>\n",
       "      <td>GCAACGACTCCACACTCATACCTTGGCACCCGAGAATTCCAGTCAA...</td>\n",
       "      <td>GTCAAGGCACTCTTGCCTACGCCACC</td>\n",
       "      <td>GTCAAGGCACTCTTGCCTACGCCACA</td>\n",
       "      <td>AGCTCCAACTACCACAAGTTTATATTC</td>\n",
       "      <td>/5Phos/CTCCAACTACCACAAGTTTATATTCACGCGGTTAGCACG...</td>\n",
       "      <td>/5Phos/CTCCAACTACCACAAGTTTATATTCACGCGGTTAGCACG...</td>\n",
       "    </tr>\n",
       "    <tr>\n",
       "      <th>FGFR1_c.719G&gt;A</th>\n",
       "      <td>GCAACGACTCCACACTCATACCTTGGCACCCGAGAATTCCACATTA...</td>\n",
       "      <td>CATTATGATGCTCCAGGTGGCATAAC</td>\n",
       "      <td>CATTATGATGCTCCAGGTGGCATAAT</td>\n",
       "      <td>GGACCTTGTAGCCTCCAATTCTGTGGT</td>\n",
       "      <td>/5Phos/ACCTTGTAGCCTCCAATTCTGTGGTACGCGGTTAGCACG...</td>\n",
       "      <td>/5Phos/ACCTTGTAGCCTCCAATTCTGTGGTACGCGGTTAGCACG...</td>\n",
       "    </tr>\n",
       "    <tr>\n",
       "      <th>TP63_c.1090G&gt;A</th>\n",
       "      <td>GCAACGACTCCACACTCATACCTTGGCACCCGAGAATTCCATCACC...</td>\n",
       "      <td>TCACCGTTCTTTGTACTGTCCGAAAC</td>\n",
       "      <td>TCACCGTTCTTTGTACTGTCCGAAAT</td>\n",
       "      <td>TTGCTGCTTTCTGATGCTATCTTCATC</td>\n",
       "      <td>/5Phos/GCTGCTTTCTGATGCTATCTTCATCACGCGGTTAGCACG...</td>\n",
       "      <td>/5Phos/GCTGCTTTCTGATGCTATCTTCATCACGCGGTTAGCACG...</td>\n",
       "    </tr>\n",
       "    <tr>\n",
       "      <th>PTPRC_c.2306T&gt;A</th>\n",
       "      <td>GCAACGACTCCACACTCATACCTTGGCACCCGAGAATTCCATCCAA...</td>\n",
       "      <td>TCCAAAAGCCCGAGTGCCCTCTTCCA</td>\n",
       "      <td>TCCAAAAGCCCGAGTGCCCTCTTCCT</td>\n",
       "      <td>TTGACGGCCAGTATTCTGCACACTTGT</td>\n",
       "      <td>/5Phos/GACGGCCAGTATTCTGCACACTTGTACGCGGTTAGCACG...</td>\n",
       "      <td>/5Phos/GACGGCCAGTATTCTGCACACTTGTACGCGGTTAGCACG...</td>\n",
       "    </tr>\n",
       "    <tr>\n",
       "      <th>DNAJB1_c.558C&gt;A</th>\n",
       "      <td>GCAACGACTCCACACTCATACCTTGGCACCCGAGAATTCCATTCCG...</td>\n",
       "      <td>TTCCGTCGGGGTTTAGCCGCTTGTGG</td>\n",
       "      <td>TTCCGTCGGGGTTTAGCCGCTTGTGT</td>\n",
       "      <td>GAGATTTTCATCTTCTTGGTACAGCCG</td>\n",
       "      <td>/5Phos/GATTTTCATCTTCTTGGTACAGCCGACGCGGTTAGCACG...</td>\n",
       "      <td>/5Phos/GATTTTCATCTTCTTGGTACAGCCGACGCGGTTAGCACG...</td>\n",
       "    </tr>\n",
       "  </tbody>\n",
       "</table>\n",
       "</div>"
      ],
      "text/plain": [
       "                                                               LHS  \\\n",
       "KRAS_c.34G>T     GCAACGACTCCACACTCATACCTTGGCACCCGAGAATTCCAGTCAA...   \n",
       "FGFR1_c.719G>A   GCAACGACTCCACACTCATACCTTGGCACCCGAGAATTCCACATTA...   \n",
       "TP63_c.1090G>A   GCAACGACTCCACACTCATACCTTGGCACCCGAGAATTCCATCACC...   \n",
       "PTPRC_c.2306T>A  GCAACGACTCCACACTCATACCTTGGCACCCGAGAATTCCATCCAA...   \n",
       "DNAJB1_c.558C>A  GCAACGACTCCACACTCATACCTTGGCACCCGAGAATTCCATTCCG...   \n",
       "\n",
       "                             target_LHS_ref              target_LHS_mut  \\\n",
       "KRAS_c.34G>T     GTCAAGGCACTCTTGCCTACGCCACC  GTCAAGGCACTCTTGCCTACGCCACA   \n",
       "FGFR1_c.719G>A   CATTATGATGCTCCAGGTGGCATAAC  CATTATGATGCTCCAGGTGGCATAAT   \n",
       "TP63_c.1090G>A   TCACCGTTCTTTGTACTGTCCGAAAC  TCACCGTTCTTTGTACTGTCCGAAAT   \n",
       "PTPRC_c.2306T>A  TCCAAAAGCCCGAGTGCCCTCTTCCA  TCCAAAAGCCCGAGTGCCCTCTTCCT   \n",
       "DNAJB1_c.558C>A  TTCCGTCGGGGTTTAGCCGCTTGTGG  TTCCGTCGGGGTTTAGCCGCTTGTGT   \n",
       "\n",
       "                                  target_RHS  \\\n",
       "KRAS_c.34G>T     AGCTCCAACTACCACAAGTTTATATTC   \n",
       "FGFR1_c.719G>A   GGACCTTGTAGCCTCCAATTCTGTGGT   \n",
       "TP63_c.1090G>A   TTGCTGCTTTCTGATGCTATCTTCATC   \n",
       "PTPRC_c.2306T>A  TTGACGGCCAGTATTCTGCACACTTGT   \n",
       "DNAJB1_c.558C>A  GAGATTTTCATCTTCTTGGTACAGCCG   \n",
       "\n",
       "                                                               RHS  \\\n",
       "KRAS_c.34G>T     /5Phos/CTCCAACTACCACAAGTTTATATTCACGCGGTTAGCACG...   \n",
       "FGFR1_c.719G>A   /5Phos/ACCTTGTAGCCTCCAATTCTGTGGTACGCGGTTAGCACG...   \n",
       "TP63_c.1090G>A   /5Phos/GCTGCTTTCTGATGCTATCTTCATCACGCGGTTAGCACG...   \n",
       "PTPRC_c.2306T>A  /5Phos/GACGGCCAGTATTCTGCACACTTGTACGCGGTTAGCACG...   \n",
       "DNAJB1_c.558C>A  /5Phos/GATTTTCATCTTCTTGGTACAGCCGACGCGGTTAGCACG...   \n",
       "\n",
       "                                                           padlock  \n",
       "KRAS_c.34G>T     /5Phos/CTCCAACTACCACAAGTTTATATTCACGCGGTTAGCACG...  \n",
       "FGFR1_c.719G>A   /5Phos/ACCTTGTAGCCTCCAATTCTGTGGTACGCGGTTAGCACG...  \n",
       "TP63_c.1090G>A   /5Phos/GCTGCTTTCTGATGCTATCTTCATCACGCGGTTAGCACG...  \n",
       "PTPRC_c.2306T>A  /5Phos/GACGGCCAGTATTCTGCACACTTGTACGCGGTTAGCACG...  \n",
       "DNAJB1_c.558C>A  /5Phos/GATTTTCATCTTCTTGGTACAGCCGACGCGGTTAGCACG...  "
      ]
     },
     "execution_count": 32,
     "metadata": {},
     "output_type": "execute_result"
    }
   ],
   "source": [
    "df"
   ]
  },
  {
   "cell_type": "code",
   "execution_count": 34,
   "metadata": {},
   "outputs": [],
   "source": [
    "# df=pd.DataFrame.from_dict(dd_probe,orient='index')\n",
    "df.to_csv('flex_dd_padlock_3gap_231117.csv')"
   ]
  },
  {
   "cell_type": "code",
   "execution_count": 35,
   "metadata": {},
   "outputs": [],
   "source": [
    "to_order={}\n",
    "for k, i in df.items():\n",
    "    for kk,ii in i.items():\n",
    "        to_order[kk+'_'+k]=ii\n",
    "ddf=pd.DataFrame.from_dict(to_order,orient=\"index\")\n",
    "ddf['len']=ddf[0].apply(len)\n",
    "ddf.sort_index(inplace=True)\n",
    "ddf.to_csv('flex_dd_padlock_3gap_231117_toorder.csv')"
   ]
  },
  {
   "cell_type": "code",
   "execution_count": 36,
   "metadata": {},
   "outputs": [
    {
     "data": {
      "text/html": [
       "<div>\n",
       "<style scoped>\n",
       "    .dataframe tbody tr th:only-of-type {\n",
       "        vertical-align: middle;\n",
       "    }\n",
       "\n",
       "    .dataframe tbody tr th {\n",
       "        vertical-align: top;\n",
       "    }\n",
       "\n",
       "    .dataframe thead th {\n",
       "        text-align: right;\n",
       "    }\n",
       "</style>\n",
       "<table border=\"1\" class=\"dataframe\">\n",
       "  <thead>\n",
       "    <tr style=\"text-align: right;\">\n",
       "      <th></th>\n",
       "      <th>0</th>\n",
       "      <th>len</th>\n",
       "    </tr>\n",
       "  </thead>\n",
       "  <tbody>\n",
       "    <tr>\n",
       "      <th>DNAJB1_c.558C&gt;A_LHS</th>\n",
       "      <td>GCAACGACTCCACACTCATACCTTGGCACCCGAGAATTCCATTCCG...</td>\n",
       "      <td>66</td>\n",
       "    </tr>\n",
       "    <tr>\n",
       "      <th>DNAJB1_c.558C&gt;A_RHS</th>\n",
       "      <td>/5Phos/GATTTTCATCTTCTTGGTACAGCCGACGCGGTTAGCACG...</td>\n",
       "      <td>70</td>\n",
       "    </tr>\n",
       "    <tr>\n",
       "      <th>DNAJB1_c.558C&gt;A_padlock</th>\n",
       "      <td>/5Phos/GATTTTCATCTTCTTGGTACAGCCGACGCGGTTAGCACG...</td>\n",
       "      <td>136</td>\n",
       "    </tr>\n",
       "    <tr>\n",
       "      <th>DNAJB1_c.558C&gt;A_target_LHS_mut</th>\n",
       "      <td>TTCCGTCGGGGTTTAGCCGCTTGTGT</td>\n",
       "      <td>26</td>\n",
       "    </tr>\n",
       "    <tr>\n",
       "      <th>DNAJB1_c.558C&gt;A_target_LHS_ref</th>\n",
       "      <td>TTCCGTCGGGGTTTAGCCGCTTGTGG</td>\n",
       "      <td>26</td>\n",
       "    </tr>\n",
       "    <tr>\n",
       "      <th>DNAJB1_c.558C&gt;A_target_RHS</th>\n",
       "      <td>GAGATTTTCATCTTCTTGGTACAGCCG</td>\n",
       "      <td>27</td>\n",
       "    </tr>\n",
       "    <tr>\n",
       "      <th>FGFR1_c.719G&gt;A_LHS</th>\n",
       "      <td>GCAACGACTCCACACTCATACCTTGGCACCCGAGAATTCCACATTA...</td>\n",
       "      <td>66</td>\n",
       "    </tr>\n",
       "    <tr>\n",
       "      <th>FGFR1_c.719G&gt;A_RHS</th>\n",
       "      <td>/5Phos/ACCTTGTAGCCTCCAATTCTGTGGTACGCGGTTAGCACG...</td>\n",
       "      <td>70</td>\n",
       "    </tr>\n",
       "    <tr>\n",
       "      <th>FGFR1_c.719G&gt;A_padlock</th>\n",
       "      <td>/5Phos/ACCTTGTAGCCTCCAATTCTGTGGTACGCGGTTAGCACG...</td>\n",
       "      <td>136</td>\n",
       "    </tr>\n",
       "    <tr>\n",
       "      <th>FGFR1_c.719G&gt;A_target_LHS_mut</th>\n",
       "      <td>CATTATGATGCTCCAGGTGGCATAAT</td>\n",
       "      <td>26</td>\n",
       "    </tr>\n",
       "    <tr>\n",
       "      <th>FGFR1_c.719G&gt;A_target_LHS_ref</th>\n",
       "      <td>CATTATGATGCTCCAGGTGGCATAAC</td>\n",
       "      <td>26</td>\n",
       "    </tr>\n",
       "    <tr>\n",
       "      <th>FGFR1_c.719G&gt;A_target_RHS</th>\n",
       "      <td>GGACCTTGTAGCCTCCAATTCTGTGGT</td>\n",
       "      <td>27</td>\n",
       "    </tr>\n",
       "    <tr>\n",
       "      <th>KRAS_c.34G&gt;T_LHS</th>\n",
       "      <td>GCAACGACTCCACACTCATACCTTGGCACCCGAGAATTCCAGTCAA...</td>\n",
       "      <td>66</td>\n",
       "    </tr>\n",
       "    <tr>\n",
       "      <th>KRAS_c.34G&gt;T_RHS</th>\n",
       "      <td>/5Phos/CTCCAACTACCACAAGTTTATATTCACGCGGTTAGCACG...</td>\n",
       "      <td>70</td>\n",
       "    </tr>\n",
       "    <tr>\n",
       "      <th>KRAS_c.34G&gt;T_padlock</th>\n",
       "      <td>/5Phos/CTCCAACTACCACAAGTTTATATTCACGCGGTTAGCACG...</td>\n",
       "      <td>136</td>\n",
       "    </tr>\n",
       "    <tr>\n",
       "      <th>KRAS_c.34G&gt;T_target_LHS_mut</th>\n",
       "      <td>GTCAAGGCACTCTTGCCTACGCCACA</td>\n",
       "      <td>26</td>\n",
       "    </tr>\n",
       "    <tr>\n",
       "      <th>KRAS_c.34G&gt;T_target_LHS_ref</th>\n",
       "      <td>GTCAAGGCACTCTTGCCTACGCCACC</td>\n",
       "      <td>26</td>\n",
       "    </tr>\n",
       "    <tr>\n",
       "      <th>KRAS_c.34G&gt;T_target_RHS</th>\n",
       "      <td>AGCTCCAACTACCACAAGTTTATATTC</td>\n",
       "      <td>27</td>\n",
       "    </tr>\n",
       "    <tr>\n",
       "      <th>PTPRC_c.2306T&gt;A_LHS</th>\n",
       "      <td>GCAACGACTCCACACTCATACCTTGGCACCCGAGAATTCCATCCAA...</td>\n",
       "      <td>66</td>\n",
       "    </tr>\n",
       "    <tr>\n",
       "      <th>PTPRC_c.2306T&gt;A_RHS</th>\n",
       "      <td>/5Phos/GACGGCCAGTATTCTGCACACTTGTACGCGGTTAGCACG...</td>\n",
       "      <td>70</td>\n",
       "    </tr>\n",
       "    <tr>\n",
       "      <th>PTPRC_c.2306T&gt;A_padlock</th>\n",
       "      <td>/5Phos/GACGGCCAGTATTCTGCACACTTGTACGCGGTTAGCACG...</td>\n",
       "      <td>136</td>\n",
       "    </tr>\n",
       "    <tr>\n",
       "      <th>PTPRC_c.2306T&gt;A_target_LHS_mut</th>\n",
       "      <td>TCCAAAAGCCCGAGTGCCCTCTTCCT</td>\n",
       "      <td>26</td>\n",
       "    </tr>\n",
       "    <tr>\n",
       "      <th>PTPRC_c.2306T&gt;A_target_LHS_ref</th>\n",
       "      <td>TCCAAAAGCCCGAGTGCCCTCTTCCA</td>\n",
       "      <td>26</td>\n",
       "    </tr>\n",
       "    <tr>\n",
       "      <th>PTPRC_c.2306T&gt;A_target_RHS</th>\n",
       "      <td>TTGACGGCCAGTATTCTGCACACTTGT</td>\n",
       "      <td>27</td>\n",
       "    </tr>\n",
       "    <tr>\n",
       "      <th>TP63_c.1090G&gt;A_LHS</th>\n",
       "      <td>GCAACGACTCCACACTCATACCTTGGCACCCGAGAATTCCATCACC...</td>\n",
       "      <td>66</td>\n",
       "    </tr>\n",
       "    <tr>\n",
       "      <th>TP63_c.1090G&gt;A_RHS</th>\n",
       "      <td>/5Phos/GCTGCTTTCTGATGCTATCTTCATCACGCGGTTAGCACG...</td>\n",
       "      <td>70</td>\n",
       "    </tr>\n",
       "    <tr>\n",
       "      <th>TP63_c.1090G&gt;A_padlock</th>\n",
       "      <td>/5Phos/GCTGCTTTCTGATGCTATCTTCATCACGCGGTTAGCACG...</td>\n",
       "      <td>136</td>\n",
       "    </tr>\n",
       "    <tr>\n",
       "      <th>TP63_c.1090G&gt;A_target_LHS_mut</th>\n",
       "      <td>TCACCGTTCTTTGTACTGTCCGAAAT</td>\n",
       "      <td>26</td>\n",
       "    </tr>\n",
       "    <tr>\n",
       "      <th>TP63_c.1090G&gt;A_target_LHS_ref</th>\n",
       "      <td>TCACCGTTCTTTGTACTGTCCGAAAC</td>\n",
       "      <td>26</td>\n",
       "    </tr>\n",
       "    <tr>\n",
       "      <th>TP63_c.1090G&gt;A_target_RHS</th>\n",
       "      <td>TTGCTGCTTTCTGATGCTATCTTCATC</td>\n",
       "      <td>27</td>\n",
       "    </tr>\n",
       "  </tbody>\n",
       "</table>\n",
       "</div>"
      ],
      "text/plain": [
       "                                                                                0  \\\n",
       "DNAJB1_c.558C>A_LHS             GCAACGACTCCACACTCATACCTTGGCACCCGAGAATTCCATTCCG...   \n",
       "DNAJB1_c.558C>A_RHS             /5Phos/GATTTTCATCTTCTTGGTACAGCCGACGCGGTTAGCACG...   \n",
       "DNAJB1_c.558C>A_padlock         /5Phos/GATTTTCATCTTCTTGGTACAGCCGACGCGGTTAGCACG...   \n",
       "DNAJB1_c.558C>A_target_LHS_mut                         TTCCGTCGGGGTTTAGCCGCTTGTGT   \n",
       "DNAJB1_c.558C>A_target_LHS_ref                         TTCCGTCGGGGTTTAGCCGCTTGTGG   \n",
       "DNAJB1_c.558C>A_target_RHS                            GAGATTTTCATCTTCTTGGTACAGCCG   \n",
       "FGFR1_c.719G>A_LHS              GCAACGACTCCACACTCATACCTTGGCACCCGAGAATTCCACATTA...   \n",
       "FGFR1_c.719G>A_RHS              /5Phos/ACCTTGTAGCCTCCAATTCTGTGGTACGCGGTTAGCACG...   \n",
       "FGFR1_c.719G>A_padlock          /5Phos/ACCTTGTAGCCTCCAATTCTGTGGTACGCGGTTAGCACG...   \n",
       "FGFR1_c.719G>A_target_LHS_mut                          CATTATGATGCTCCAGGTGGCATAAT   \n",
       "FGFR1_c.719G>A_target_LHS_ref                          CATTATGATGCTCCAGGTGGCATAAC   \n",
       "FGFR1_c.719G>A_target_RHS                             GGACCTTGTAGCCTCCAATTCTGTGGT   \n",
       "KRAS_c.34G>T_LHS                GCAACGACTCCACACTCATACCTTGGCACCCGAGAATTCCAGTCAA...   \n",
       "KRAS_c.34G>T_RHS                /5Phos/CTCCAACTACCACAAGTTTATATTCACGCGGTTAGCACG...   \n",
       "KRAS_c.34G>T_padlock            /5Phos/CTCCAACTACCACAAGTTTATATTCACGCGGTTAGCACG...   \n",
       "KRAS_c.34G>T_target_LHS_mut                            GTCAAGGCACTCTTGCCTACGCCACA   \n",
       "KRAS_c.34G>T_target_LHS_ref                            GTCAAGGCACTCTTGCCTACGCCACC   \n",
       "KRAS_c.34G>T_target_RHS                               AGCTCCAACTACCACAAGTTTATATTC   \n",
       "PTPRC_c.2306T>A_LHS             GCAACGACTCCACACTCATACCTTGGCACCCGAGAATTCCATCCAA...   \n",
       "PTPRC_c.2306T>A_RHS             /5Phos/GACGGCCAGTATTCTGCACACTTGTACGCGGTTAGCACG...   \n",
       "PTPRC_c.2306T>A_padlock         /5Phos/GACGGCCAGTATTCTGCACACTTGTACGCGGTTAGCACG...   \n",
       "PTPRC_c.2306T>A_target_LHS_mut                         TCCAAAAGCCCGAGTGCCCTCTTCCT   \n",
       "PTPRC_c.2306T>A_target_LHS_ref                         TCCAAAAGCCCGAGTGCCCTCTTCCA   \n",
       "PTPRC_c.2306T>A_target_RHS                            TTGACGGCCAGTATTCTGCACACTTGT   \n",
       "TP63_c.1090G>A_LHS              GCAACGACTCCACACTCATACCTTGGCACCCGAGAATTCCATCACC...   \n",
       "TP63_c.1090G>A_RHS              /5Phos/GCTGCTTTCTGATGCTATCTTCATCACGCGGTTAGCACG...   \n",
       "TP63_c.1090G>A_padlock          /5Phos/GCTGCTTTCTGATGCTATCTTCATCACGCGGTTAGCACG...   \n",
       "TP63_c.1090G>A_target_LHS_mut                          TCACCGTTCTTTGTACTGTCCGAAAT   \n",
       "TP63_c.1090G>A_target_LHS_ref                          TCACCGTTCTTTGTACTGTCCGAAAC   \n",
       "TP63_c.1090G>A_target_RHS                             TTGCTGCTTTCTGATGCTATCTTCATC   \n",
       "\n",
       "                                len  \n",
       "DNAJB1_c.558C>A_LHS              66  \n",
       "DNAJB1_c.558C>A_RHS              70  \n",
       "DNAJB1_c.558C>A_padlock         136  \n",
       "DNAJB1_c.558C>A_target_LHS_mut   26  \n",
       "DNAJB1_c.558C>A_target_LHS_ref   26  \n",
       "DNAJB1_c.558C>A_target_RHS       27  \n",
       "FGFR1_c.719G>A_LHS               66  \n",
       "FGFR1_c.719G>A_RHS               70  \n",
       "FGFR1_c.719G>A_padlock          136  \n",
       "FGFR1_c.719G>A_target_LHS_mut    26  \n",
       "FGFR1_c.719G>A_target_LHS_ref    26  \n",
       "FGFR1_c.719G>A_target_RHS        27  \n",
       "KRAS_c.34G>T_LHS                 66  \n",
       "KRAS_c.34G>T_RHS                 70  \n",
       "KRAS_c.34G>T_padlock            136  \n",
       "KRAS_c.34G>T_target_LHS_mut      26  \n",
       "KRAS_c.34G>T_target_LHS_ref      26  \n",
       "KRAS_c.34G>T_target_RHS          27  \n",
       "PTPRC_c.2306T>A_LHS              66  \n",
       "PTPRC_c.2306T>A_RHS              70  \n",
       "PTPRC_c.2306T>A_padlock         136  \n",
       "PTPRC_c.2306T>A_target_LHS_mut   26  \n",
       "PTPRC_c.2306T>A_target_LHS_ref   26  \n",
       "PTPRC_c.2306T>A_target_RHS       27  \n",
       "TP63_c.1090G>A_LHS               66  \n",
       "TP63_c.1090G>A_RHS               70  \n",
       "TP63_c.1090G>A_padlock          136  \n",
       "TP63_c.1090G>A_target_LHS_mut    26  \n",
       "TP63_c.1090G>A_target_LHS_ref    26  \n",
       "TP63_c.1090G>A_target_RHS        27  "
      ]
     },
     "execution_count": 36,
     "metadata": {},
     "output_type": "execute_result"
    }
   ],
   "source": [
    "ddf"
   ]
  },
  {
   "cell_type": "code",
   "execution_count": null,
   "metadata": {},
   "outputs": [],
   "source": []
  },
  {
   "cell_type": "markdown",
   "metadata": {
    "tags": []
   },
   "source": [
    "# 3 quick data analysis"
   ]
  },
  {
   "cell_type": "code",
   "execution_count": 4,
   "metadata": {},
   "outputs": [],
   "source": [
    "ref=pd.read_csv('flex_dna_probes_230300.csv')"
   ]
  },
  {
   "cell_type": "code",
   "execution_count": 5,
   "metadata": {},
   "outputs": [],
   "source": [
    "# ref.to_csv('flex_dna_230310_ref.csv')"
   ]
  },
  {
   "cell_type": "code",
   "execution_count": 6,
   "metadata": {},
   "outputs": [
    {
     "data": {
      "text/plain": [
       "'TCAAGGCACTCTTGCCTACGCCACC'"
      ]
     },
     "execution_count": 6,
     "metadata": {},
     "output_type": "execute_result"
    }
   ],
   "source": [
    "ref['target_LHS_ref'][2]"
   ]
  },
  {
   "cell_type": "code",
   "execution_count": 7,
   "metadata": {},
   "outputs": [],
   "source": [
    "ref['amplicon_ref']=ref['target_LHS_ref']+ref['target_RHS']\n",
    "ref['amplicon_mut']=ref['target_LHS_mut']+ref['target_RHS']\n",
    "# ref['cds_ref']=ref['target_LHS_mut']+ref['target_RHS']"
   ]
  },
  {
   "cell_type": "code",
   "execution_count": 8,
   "metadata": {},
   "outputs": [
    {
     "data": {
      "text/plain": [
       "Seq('GGTGGCGTAGGCAAGAGTGCCTTGA')"
      ]
     },
     "execution_count": 8,
     "metadata": {},
     "output_type": "execute_result"
    }
   ],
   "source": [
    "Seq(\"TCAAGGCACTCTTGCCTACGCCACC\").reverse_complement()"
   ]
  },
  {
   "cell_type": "code",
   "execution_count": 10,
   "metadata": {},
   "outputs": [],
   "source": [
    "target_dict={}\n",
    "for i,r in ref.iterrows():\n",
    "    \n",
    "    gene=r['Unnamed: 0']\n",
    "    refs=r['amplicon_ref']\n",
    "    muts=r['amplicon_mut']\n",
    "    target_dict[gene+'_wt']=refs\n",
    "    target_dict[gene+'_mt']=muts\n",
    "    \n"
   ]
  },
  {
   "cell_type": "code",
   "execution_count": 10,
   "metadata": {},
   "outputs": [],
   "source": [
    "# fastq= '/gstore/data/dnaseq/processed_runs/R9173/results/LIB5468564_HITS5485163_S4_L001_R2_001.fastq.gz'"
   ]
  },
  {
   "cell_type": "code",
   "execution_count": 11,
   "metadata": {},
   "outputs": [],
   "source": [
    "# fastq= '/gstore/home/taol9/repeats_ultima/LIB5468564_HITS5485163_S4_L001_R2_001.fastq'"
   ]
  },
  {
   "cell_type": "code",
   "execution_count": 12,
   "metadata": {},
   "outputs": [],
   "source": [
    "# fastq=  \"/gstore/data/ctgbioinfo/taol9/flex/25/LIB5469834_SAM24431961_S5_L002_R2_001.fastq\""
   ]
  },
  {
   "cell_type": "code",
   "execution_count": 17,
   "metadata": {},
   "outputs": [],
   "source": [
    "# fastq=  \"/gstore/data/ctgbioinfo/taol9/flex/40/LIB5472587_SAM24434098_S1_L001_R2_001.fastq\"  # linear probe\n"
   ]
  },
  {
   "cell_type": "code",
   "execution_count": 18,
   "metadata": {},
   "outputs": [
    {
     "data": {
      "text/plain": [
       "42081106"
      ]
     },
     "execution_count": 18,
     "metadata": {},
     "output_type": "execute_result"
    }
   ],
   "source": [
    "from Bio import SeqIO\n",
    "record_dict = SeqIO.index(fastq,'fastq')\n",
    "len(record_dict)"
   ]
  },
  {
   "cell_type": "code",
   "execution_count": null,
   "metadata": {},
   "outputs": [],
   "source": []
  },
  {
   "cell_type": "code",
   "execution_count": 14,
   "metadata": {},
   "outputs": [
    {
     "data": {
      "text/plain": [
       "15507195"
      ]
     },
     "execution_count": 14,
     "metadata": {},
     "output_type": "execute_result"
    }
   ],
   "source": [
    "len(record_dict)"
   ]
  },
  {
   "cell_type": "code",
   "execution_count": 12,
   "metadata": {},
   "outputs": [],
   "source": [
    "def mapper(k):\n",
    "    ontarget=0\n",
    "    parsedreads=0\n",
    "    aligns=list()\n",
    "    for i in list(record_dict.keys())[:1000000]:\n",
    "        record=record_dict[i]\n",
    "        seq=record.seq\n",
    "        tar=target_dict[k]\n",
    "        if ontarget < 100000:\n",
    "            parsedreads+=1\n",
    "            if str(tar) in str(seq):\n",
    "                aligns.append(record.id)\n",
    "                ontarget+=1   \n",
    "            else:\n",
    "                continue\n",
    "    print (k, ontarget, parsedreads)\n",
    "    return {k:aligns}\n",
    "    "
   ]
  },
  {
   "cell_type": "code",
   "execution_count": 18,
   "metadata": {},
   "outputs": [
    {
     "name": "stdout",
     "output_type": "stream",
     "text": [
      "DNAJB1_c.558C>A_wt 53 1500000\n",
      "DNAJB1_c.558C>A_mt 50 1500000\n",
      "FGFR1_c.719G>A_wt 0 1500000\n",
      "FGFR1_c.719G>A_mt 2 1500000\n",
      "KRAS_c.34G>T_wt 32 1500000\n",
      "KRAS_c.34G>T_mt 10 1500000\n",
      "PTPRC_c.2306T>A_wt 2 1500000\n",
      "PTPRC_c.2306T>A_mt 0 1500000\n",
      "TP63_c.1090G>A_wt 36 1500000\n",
      "TP63_c.1090G>A_mt 1 1500000\n"
     ]
    }
   ],
   "source": [
    "keys=list(target_dict.keys())\n",
    "output1={}\n",
    "for k in keys:\n",
    "    x=mapper(k)\n",
    "    output1.update(x)\n",
    "#     ontarget=0\n",
    "#     parsedreads=0\n",
    "#     for i in list(record_dict.keys())[:100000]:\n",
    "#         record=record_dict[i]\n",
    "#         seq=record.seq\n",
    "#         tar=target_dict[k]\n",
    "#         if ontarget < 3 or parsedreads < 100000:\n",
    "#             parsedreads+=1\n",
    "#             if str(tar) in str(seq):\n",
    "#                 aligns[k].append(record.id)\n",
    "#                 ontarget+=1   \n",
    "#             else:\n",
    "#                 continue\n",
    "#     print (k, ontarget,parsedreads)\n",
    "    "
   ]
  },
  {
   "cell_type": "code",
   "execution_count": null,
   "metadata": {},
   "outputs": [],
   "source": [
    "#25 cyc\n",
    "DNAJB1_c.558C>A_wt 53 1500000\n",
    "DNAJB1_c.558C>A_mt 50 1500000\n",
    "FGFR1_c.719G>A_wt 0 1500000\n",
    "FGFR1_c.719G>A_mt 2 1500000\n",
    "KRAS_c.34G>T_wt 32 1500000\n",
    "KRAS_c.34G>T_mt 10 1500000\n",
    "PTPRC_c.2306T>A_wt 2 1500000\n",
    "PTPRC_c.2306T>A_mt 0 1500000\n",
    "TP63_c.1090G>A_wt 36 1500000\n",
    "TP63_c.1090G>A_mt 1 1500000"
   ]
  },
  {
   "cell_type": "code",
   "execution_count": 22,
   "metadata": {},
   "outputs": [
    {
     "name": "stdout",
     "output_type": "stream",
     "text": [
      "DNAJB1_c.558C>A_wt 100 2046\n",
      "DNAJB1_c.558C>A_mt 0 1500000\n",
      "FGFR1_c.719G>A_wt 34 1500000\n",
      "FGFR1_c.719G>A_mt 0 1500000\n",
      "KRAS_c.34G>T_wt 100 786\n",
      "KRAS_c.34G>T_mt 100 244874\n",
      "PTPRC_c.2306T>A_wt 100 1040910\n",
      "PTPRC_c.2306T>A_mt 0 1500000\n",
      "TP63_c.1090G>A_wt 100 1611\n",
      "TP63_c.1090G>A_mt 100 401705\n"
     ]
    }
   ],
   "source": [
    "#40C linear\n",
    "keys=list(target_dict.keys())\n",
    "output1={}\n",
    "for k in keys:\n",
    "    x=mapper(k)\n",
    "    output1.update(x)"
   ]
  },
  {
   "cell_type": "code",
   "execution_count": 13,
   "metadata": {},
   "outputs": [
    {
     "name": "stdout",
     "output_type": "stream",
     "text": [
      "41056602\n",
      "DNAJB1_c.558C>A_wt 59652 1000000\n",
      "DNAJB1_c.558C>A_mt 13479 1000000\n",
      "FGFR1_c.719G>A_wt 30 1000000\n",
      "FGFR1_c.719G>A_mt 20780 1000000\n",
      "KRAS_c.34G>T_wt 70694 1000000\n",
      "KRAS_c.34G>T_mt 2706 1000000\n",
      "PTPRC_c.2306T>A_wt 6035 1000000\n",
      "PTPRC_c.2306T>A_mt 683 1000000\n",
      "TP63_c.1090G>A_wt 24380 1000000\n",
      "TP63_c.1090G>A_mt 6410 1000000\n"
     ]
    }
   ],
   "source": [
    "# 40 padlock\n",
    "fastq=  \"/gstore/data/ctgbioinfo/taol9/flex/40/LIB5472588_SAM24434099_S2_L001_R2_001.fastq\"  # padloc probe\n",
    "record_dict = SeqIO.index(fastq,'fastq')\n",
    "print (len(record_dict))\n",
    "keys=list(target_dict.keys())\n",
    "output1={}\n",
    "for k in keys:\n",
    "    x=mapper(k)\n",
    "    output1.update(x)\n",
    "with open('output1_40_padlock.pkl', 'wb') as file:\n",
    "    pickle.dump(output1, file)"
   ]
  },
  {
   "cell_type": "code",
   "execution_count": null,
   "metadata": {},
   "outputs": [],
   "source": [
    "import pickle\n",
    "with open('output1_25.pkl', 'wb') as file:\n",
    "    pickle.dump(output1, file)"
   ]
  },
  {
   "cell_type": "code",
   "execution_count": 27,
   "metadata": {},
   "outputs": [
    {
     "name": "stdout",
     "output_type": "stream",
     "text": [
      "DNAJB1_c.558C>A_wt 37722 1000000\n",
      "DNAJB1_c.558C>A_mt 0 1000000\n",
      "FGFR1_c.719G>A_wt 25 1000000\n",
      "FGFR1_c.719G>A_mt 0 1000000\n",
      "KRAS_c.34G>T_wt 100000 803446\n",
      "KRAS_c.34G>T_mt 436 1000000\n",
      "PTPRC_c.2306T>A_wt 98 1000000\n",
      "PTPRC_c.2306T>A_mt 0 1000000\n",
      "TP63_c.1090G>A_wt 55697 1000000\n",
      "TP63_c.1090G>A_mt 237 1000000\n"
     ]
    }
   ],
   "source": [
    "keys=list(target_dict.keys())\n",
    "output1={}\n",
    "for k in keys:\n",
    "    x=mapper(k)\n",
    "    output1.update(x)\n",
    "import pickle\n",
    "with open('output1_40.pkl', 'wb') as file:\n",
    "    pickle.dump(output1, file)"
   ]
  },
  {
   "cell_type": "code",
   "execution_count": null,
   "metadata": {},
   "outputs": [],
   "source": [
    "DNAJB1_c.558C>A_wt 37722 1000000\n",
    "DNAJB1_c.558C>A_mt 0 1000000\n",
    "KRAS_c.34G>T_wt 100000 803446\n",
    "KRAS_c.34G>T_mt 436 1000000\n",
    "PTPRC_c.2306T>A_wt 98 1000000\n",
    "PTPRC_c.2306T>A_mt 0 1000000\n",
    "TP63_c.1090G>A_wt 55697 1000000\n",
    "TP63_c.1090G>A_mt 237 1000000"
   ]
  },
  {
   "cell_type": "code",
   "execution_count": 47,
   "metadata": {},
   "outputs": [
    {
     "name": "stdout",
     "output_type": "stream",
     "text": [
      "DNAJB1_c.558C>A_wt 1000\n",
      "DNAJB1_c.558C>A_mt 622\n",
      "FGFR1_c.719G>A_wt 1\n",
      "FGFR1_c.719G>A_mt 69\n",
      "KRAS_c.34G>T_wt 501\n",
      "KRAS_c.34G>T_mt 69\n",
      "PTPRC_c.2306T>A_wt 77\n",
      "PTPRC_c.2306T>A_mt 4\n",
      "TP63_c.1090G>A_wt 301\n",
      "TP63_c.1090G>A_mt 84\n"
     ]
    }
   ],
   "source": [
    "for k, i in output1.items():\n",
    "    print (k, len(i))"
   ]
  },
  {
   "cell_type": "code",
   "execution_count": 36,
   "metadata": {},
   "outputs": [],
   "source": [
    "x=pd.DataFrame.from_dict(target_dict, orient='index')"
   ]
  },
  {
   "cell_type": "code",
   "execution_count": 52,
   "metadata": {},
   "outputs": [
    {
     "name": "stdout",
     "output_type": "stream",
     "text": [
      "x558CAw\n",
      "x558CAm\n",
      "x719GAw\n",
      "x719GAm\n",
      "xx34GTw\n",
      "xx34GTm\n",
      "2306TAw\n",
      "2306TAm\n",
      "1090GAw\n",
      "1090GAm\n"
     ]
    }
   ],
   "source": [
    "for k in target_dict.keys():\n",
    "    s=k.split('_')[1][2:]+k.split('_')[2][0]\n",
    "    s=s.replace('>','')\n",
    "    if len(s)==7:\n",
    "        print (s)\n",
    "    else:\n",
    "        print ((7-len(s))*'x'+s)"
   ]
  },
  {
   "cell_type": "code",
   "execution_count": 38,
   "metadata": {},
   "outputs": [],
   "source": [
    "x.to_csv('targets.csv')"
   ]
  },
  {
   "cell_type": "code",
   "execution_count": null,
   "metadata": {},
   "outputs": [],
   "source": [
    "# try on the rna fastqs"
   ]
  },
  {
   "cell_type": "code",
   "execution_count": 17,
   "metadata": {},
   "outputs": [],
   "source": [
    "fastqgz= '/gstore/data/dnaseq/processed_runs/R9173/results/LIB5468563_HITS5485162_S7_L001_R2_001.fastq.gz'"
   ]
  },
  {
   "cell_type": "code",
   "execution_count": null,
   "metadata": {},
   "outputs": [],
   "source": []
  },
  {
   "cell_type": "code",
   "execution_count": null,
   "metadata": {},
   "outputs": [],
   "source": [
    "\n",
    "import gzip\n",
    "from Bio import SeqIO\n",
    "aligns={}\n",
    "for k,i in target_dict.items():\n",
    "    aligns[k]=[]\n",
    "    \n",
    "ontarget=0\n",
    "parsedreads=0\n",
    "with gzip.open(fastqgz, \"rt\") as handle:\n",
    "    for record in SeqIO.parse(handle, \"fastq\"):\n",
    "        parsedreads+=1\n",
    "        if parsedreads<10000000:\n",
    "            for k,i in target_dict.items():\n",
    "                seq=record.seq\n",
    "                tar=i\n",
    "                if ontarget < 1000:\n",
    "                    if str(tar) in str(seq):\n",
    "                        aligns[k].append(record.id)\n",
    "                        ontarget+=1   \n",
    "                else:\n",
    "                    continue\n",
    "            "
   ]
  },
  {
   "cell_type": "code",
   "execution_count": null,
   "metadata": {},
   "outputs": [
    {
     "name": "stdout",
     "output_type": "stream",
     "text": [
      "DNAJB1_c.558C>A_wt 135\n",
      "DNAJB1_c.558C>A_mt 125\n",
      "FGFR1_c.719G>A_wt 0\n",
      "FGFR1_c.719G>A_mt 7\n",
      "KRAS_c.34G>T_wt 78\n",
      "KRAS_c.34G>T_mt 2\n",
      "PTPRC_c.2306T>A_wt 13\n",
      "PTPRC_c.2306T>A_mt 2\n",
      "TP63_c.1090G>A_wt 44\n",
      "TP63_c.1090G>A_mt 11\n"
     ]
    }
   ],
   "source": [
    "for k, i in aligns.items():\n",
    "    print (k, len(i))"
   ]
  },
  {
   "cell_type": "code",
   "execution_count": null,
   "metadata": {},
   "outputs": [],
   "source": [
    "import pickle\n",
    "with open('rna_aligns.pkl', 'wb') as file:\n",
    "    pickle.dump(aligns, file)"
   ]
  },
  {
   "cell_type": "code",
   "execution_count": null,
   "metadata": {},
   "outputs": [],
   "source": [
    "DNAJB1_c.558C>A_wt 1000\n",
    "DNAJB1_c.558C>A_mt 622\n",
    "FGFR1_c.719G>A_wt 1\n",
    "FGFR1_c.719G>A_mt 69\n",
    "KRAS_c.34G>T_wt 501\n",
    "KRAS_c.34G>T_mt 69\n",
    "PTPRC_c.2306T>A_wt 77\n",
    "PTPRC_c.2306T>A_mt 4\n",
    "TP63_c.1090G>A_wt 301\n",
    "TP63_c.1090G>A_mt 84"
   ]
  },
  {
   "cell_type": "code",
   "execution_count": null,
   "metadata": {},
   "outputs": [],
   "source": []
  },
  {
   "cell_type": "markdown",
   "metadata": {},
   "source": [
    "## ddpadlock"
   ]
  },
  {
   "cell_type": "code",
   "execution_count": 7,
   "metadata": {},
   "outputs": [],
   "source": [
    "ref=pd.read_csv('flex_dna_probes_230920.csv')"
   ]
  },
  {
   "cell_type": "code",
   "execution_count": 9,
   "metadata": {},
   "outputs": [
    {
     "data": {
      "text/plain": [
       "0    TCCGTCGGGGTTTAGCCGCTTGTGT\n",
       "1    ATTATGATGCTCCAGGTGGCATAAT\n",
       "2    TCAAGGCACTCTTGCCTACGCCACA\n",
       "3    CCAAAAGCCCGAGTGCCCTCTTCCT\n",
       "4    CACCGTTCTTTGTACTGTCCGAAAT\n",
       "Name: target_LHS_mut, dtype: object"
      ]
     },
     "execution_count": 9,
     "metadata": {},
     "output_type": "execute_result"
    }
   ],
   "source": [
    "ref['target_LHS_mut']"
   ]
  },
  {
   "cell_type": "code",
   "execution_count": 13,
   "metadata": {},
   "outputs": [
    {
     "data": {
      "text/plain": [
       "0    TCCGTCGGGGTTTAGCCGCTTGTGT\n",
       "1    ATTATGATGCTCCAGGTGGCATAAT\n",
       "2    TCAAGGCACTCTTGCCTACGCCACA\n",
       "3    CCAAAAGCCCGAGTGCCCTCTTCCT\n",
       "4    CACCGTTCTTTGTACTGTCCGAAAT\n",
       "Name: target_LHS_mut, dtype: object"
      ]
     },
     "execution_count": 13,
     "metadata": {},
     "output_type": "execute_result"
    }
   ],
   "source": []
  },
  {
   "cell_type": "code",
   "execution_count": 15,
   "metadata": {},
   "outputs": [],
   "source": [
    "ref['amplicon_ref']=ref['target_LHS_ref']+ref['target_RHS']\n",
    "ref['amplicon_mut']=ref['target_LHS_mut']+ref['target_RHS']\n",
    "\n",
    "# ref['cds_ref']=ref['target_LHS_mut']+ref['target_RHS']"
   ]
  },
  {
   "cell_type": "code",
   "execution_count": 49,
   "metadata": {},
   "outputs": [],
   "source": [
    "# ll=[]\n",
    "# for b in 'ATCG':\n",
    "#     for c in 'ATCG':\n",
    "#         ll.append(b+c)\n",
    "        \n",
    "# lll=list('ATCG')+ll\n",
    "# lll"
   ]
  },
  {
   "cell_type": "code",
   "execution_count": 54,
   "metadata": {},
   "outputs": [
    {
     "data": {
      "text/plain": [
       "{'DNAJB1_c.558C>A_A': 'TCCGTCGGGGTTTAGCCGCTTGTGAGAGATTTTCATCTTCTTGGTACAGC',\n",
       " 'DNAJB1_c.558C>A_C': 'TCCGTCGGGGTTTAGCCGCTTGTGCGAGATTTTCATCTTCTTGGTACAGC',\n",
       " 'DNAJB1_c.558C>A_G': 'TCCGTCGGGGTTTAGCCGCTTGTGGGAGATTTTCATCTTCTTGGTACAGC',\n",
       " 'DNAJB1_c.558C>A_T': 'TCCGTCGGGGTTTAGCCGCTTGTGTGAGATTTTCATCTTCTTGGTACAGC',\n",
       " 'DNAJB1_c.558C>A_gap': 'TCCGTCGGGGTTTAGCCGCTTGTGGAGATTTTCATCTTCTTGGTACAGC',\n",
       " 'FGFR1_c.719G>A_A': 'ATTATGATGCTCCAGGTGGCATAAAGGACCTTGTAGCCTCCAATTCTGTG',\n",
       " 'FGFR1_c.719G>A_C': 'ATTATGATGCTCCAGGTGGCATAACGGACCTTGTAGCCTCCAATTCTGTG',\n",
       " 'FGFR1_c.719G>A_G': 'ATTATGATGCTCCAGGTGGCATAAGGGACCTTGTAGCCTCCAATTCTGTG',\n",
       " 'FGFR1_c.719G>A_T': 'ATTATGATGCTCCAGGTGGCATAATGGACCTTGTAGCCTCCAATTCTGTG',\n",
       " 'FGFR1_c.719G>A_gap': 'ATTATGATGCTCCAGGTGGCATAAGGACCTTGTAGCCTCCAATTCTGTG',\n",
       " 'KRAS_c.34G>T_A': 'TCAAGGCACTCTTGCCTACGCCACAAGCTCCAACTACCACAAGTTTATAT',\n",
       " 'KRAS_c.34G>T_C': 'TCAAGGCACTCTTGCCTACGCCACCAGCTCCAACTACCACAAGTTTATAT',\n",
       " 'KRAS_c.34G>T_G': 'TCAAGGCACTCTTGCCTACGCCACGAGCTCCAACTACCACAAGTTTATAT',\n",
       " 'KRAS_c.34G>T_T': 'TCAAGGCACTCTTGCCTACGCCACTAGCTCCAACTACCACAAGTTTATAT',\n",
       " 'KRAS_c.34G>T_gap': 'TCAAGGCACTCTTGCCTACGCCACAGCTCCAACTACCACAAGTTTATAT',\n",
       " 'PTPRC_c.2306T>A_A': 'CCAAAAGCCCGAGTGCCCTCTTCCATTGACGGCCAGTATTCTGCACACTT',\n",
       " 'PTPRC_c.2306T>A_C': 'CCAAAAGCCCGAGTGCCCTCTTCCCTTGACGGCCAGTATTCTGCACACTT',\n",
       " 'PTPRC_c.2306T>A_G': 'CCAAAAGCCCGAGTGCCCTCTTCCGTTGACGGCCAGTATTCTGCACACTT',\n",
       " 'PTPRC_c.2306T>A_T': 'CCAAAAGCCCGAGTGCCCTCTTCCTTTGACGGCCAGTATTCTGCACACTT',\n",
       " 'PTPRC_c.2306T>A_gap': 'CCAAAAGCCCGAGTGCCCTCTTCCTTGACGGCCAGTATTCTGCACACTT',\n",
       " 'TP63_c.1090G>A_A': 'CACCGTTCTTTGTACTGTCCGAAAATTGCTGCTTTCTGATGCTATCTTCA',\n",
       " 'TP63_c.1090G>A_C': 'CACCGTTCTTTGTACTGTCCGAAACTTGCTGCTTTCTGATGCTATCTTCA',\n",
       " 'TP63_c.1090G>A_G': 'CACCGTTCTTTGTACTGTCCGAAAGTTGCTGCTTTCTGATGCTATCTTCA',\n",
       " 'TP63_c.1090G>A_T': 'CACCGTTCTTTGTACTGTCCGAAATTTGCTGCTTTCTGATGCTATCTTCA',\n",
       " 'TP63_c.1090G>A_gap': 'CACCGTTCTTTGTACTGTCCGAAATTGCTGCTTTCTGATGCTATCTTCA'}"
      ]
     },
     "execution_count": 54,
     "metadata": {},
     "output_type": "execute_result"
    }
   ],
   "source": [
    "target_dict={}\n",
    "for i,r in ref.iterrows():\n",
    "    gene=r['Unnamed: 0']\n",
    "    refs=r['amplicon_ref']\n",
    "    muts=r['amplicon_mut']\n",
    "    target_dict[gene+'_gap']=r['target_LHS_mut'][:-1]+r['target_RHS']\n",
    "    # target_dict[gene+'_wt']=refs\n",
    "    # target_dict[gene+'_mt']=muts\n",
    "    for b in 'ATCG':\n",
    "        target_dict[gene+'_'+b]=r['target_LHS_mut'][:-1]+b+r['target_RHS']\n",
    "target_dict"
   ]
  },
  {
   "cell_type": "code",
   "execution_count": 36,
   "metadata": {},
   "outputs": [],
   "source": [
    "bulk_ddpadlock= '/gstore/data/ctgbioinfo/taol9/flex/ddpadlock/LIB5475883_SAM24438800_S2_L002_R2_001.fastq.gz'\n"
   ]
  },
  {
   "cell_type": "code",
   "execution_count": 60,
   "metadata": {},
   "outputs": [
    {
     "name": "stdout",
     "output_type": "stream",
     "text": [
      "-rw-r--r-- 1 seqlab dnaseq 192M Nov  1 01:27 /gne/data/dnaseq/processed_runs/R9922/results/LIB6221273_SAM24439397_S12_L001_I1_001.fastq.gz\n",
      "-rw-r--r-- 1 seqlab dnaseq 209M Nov  1 01:27 /gne/data/dnaseq/processed_runs/R9922/results/LIB6221273_SAM24439397_S12_L001_I2_001.fastq.gz\n",
      "-rw-r--r-- 2 seqlab dnaseq 509M Nov  1 01:27 /gne/data/dnaseq/processed_runs/R9922/results/LIB6221273_SAM24439397_S12_L001_R1_001.fastq.gz\n",
      "-rw-r--r-- 2 seqlab dnaseq  133 Nov  1 04:13 /gne/data/dnaseq/processed_runs/R9922/results/LIB6221273_SAM24439397_S12_L001_R1_001.md5\n",
      "-rw-r--r-- 2 seqlab dnaseq 722M Nov  1 01:27 /gne/data/dnaseq/processed_runs/R9922/results/LIB6221273_SAM24439397_S12_L001_R2_001.fastq.gz\n",
      "-rw-r--r-- 2 seqlab dnaseq  133 Nov  1 04:13 /gne/data/dnaseq/processed_runs/R9922/results/LIB6221273_SAM24439397_S12_L001_R2_001.md5\n",
      "-rw-r--r-- 1 seqlab dnaseq 184M Nov  1 01:58 /gne/data/dnaseq/processed_runs/R9922/results/LIB6221273_SAM24439397_S12_L002_I1_001.fastq.gz\n",
      "-rw-r--r-- 1 seqlab dnaseq 197M Nov  1 01:58 /gne/data/dnaseq/processed_runs/R9922/results/LIB6221273_SAM24439397_S12_L002_I2_001.fastq.gz\n",
      "-rw-r--r-- 2 seqlab dnaseq 478M Nov  1 01:58 /gne/data/dnaseq/processed_runs/R9922/results/LIB6221273_SAM24439397_S12_L002_R1_001.fastq.gz\n",
      "-rw-r--r-- 2 seqlab dnaseq  133 Nov  1 04:13 /gne/data/dnaseq/processed_runs/R9922/results/LIB6221273_SAM24439397_S12_L002_R1_001.md5\n",
      "-rw-r--r-- 2 seqlab dnaseq 678M Nov  1 01:58 /gne/data/dnaseq/processed_runs/R9922/results/LIB6221273_SAM24439397_S12_L002_R2_001.fastq.gz\n",
      "-rw-r--r-- 2 seqlab dnaseq  133 Nov  1 04:13 /gne/data/dnaseq/processed_runs/R9922/results/LIB6221273_SAM24439397_S12_L002_R2_001.md5\n"
     ]
    }
   ],
   "source": [
    "ls -allh /gne/data/dnaseq/processed_runs/R9922/results/LIB6221273_SAM24439397*"
   ]
  },
  {
   "cell_type": "code",
   "execution_count": 37,
   "metadata": {},
   "outputs": [],
   "source": [
    "mut_only=\"/gne/data/dnaseq/processed_runs/R9922/results/LIB6221274_SAM24439398_S13_L002_R2_001.fastq.gz\"\n",
    "mix_mut='/gne/data/dnaseq/processed_runs/R9922/results/LIB6221273_SAM24439397_S12_L002_R2_001.fastq.gz'"
   ]
  },
  {
   "cell_type": "code",
   "execution_count": null,
   "metadata": {},
   "outputs": [],
   "source": [
    "#zcat foo.gz | bgzip -c > foo.bgz"
   ]
  },
  {
   "cell_type": "code",
   "execution_count": null,
   "metadata": {},
   "outputs": [],
   "source": []
  },
  {
   "cell_type": "code",
   "execution_count": 56,
   "metadata": {},
   "outputs": [],
   "source": [
    "# target_dict={'DNAJB1_c.558C>A_mt': 'TCCGTCGGGGTTTAGCCGCTTGTGTGAGATTTTCATCTTCTTGGTACAGC',\n",
    "#  'DNAJB1_c.558C>A_wt': 'TCCGTCGGGGTTTAGCCGCTTGTGGGAGATTTTCATCTTCTTGGTACAGC',\n",
    "#  'FGFR1_c.719G>A_mt': 'ATTATGATGCTCCAGGTGGCATAATGGACCTTGTAGCCTCCAATTCTGTG',\n",
    "#  'FGFR1_c.719G>A_wt': 'ATTATGATGCTCCAGGTGGCATAACGGACCTTGTAGCCTCCAATTCTGTG',\n",
    "#  'KRAS_c.34G>T_mt': 'TCAAGGCACTCTTGCCTACGCCACAAGCTCCAACTACCACAAGTTTATAT',\n",
    "#  'KRAS_c.34G>T_wt': 'TCAAGGCACTCTTGCCTACGCCACCAGCTCCAACTACCACAAGTTTATAT',\n",
    "#  'PTPRC_c.2306T>A_mt': 'CCAAAAGCCCGAGTGCCCTCTTCCTTTGACGGCCAGTATTCTGCACACTT',\n",
    "#  'PTPRC_c.2306T>A_wt': 'CCAAAAGCCCGAGTGCCCTCTTCCATTGACGGCCAGTATTCTGCACACTT',\n",
    "#  'TP63_c.1090G>A_mt': 'CACCGTTCTTTGTACTGTCCGAAATTTGCTGCTTTCTGATGCTATCTTCA',\n",
    "#  'TP63_c.1090G>A_wt': 'CACCGTTCTTTGTACTGTCCGAAACTTGCTGCTTTCTGATGCTATCTTCA'}\n",
    "\n",
    "def bulk_mut_counts(fastqgz,target_dict=target_dict,maxreads=1000000):\n",
    "    aligns={}\n",
    "    for k,i in target_dict.items():\n",
    "        aligns[k]=[]\n",
    "    \n",
    "    ontarget=0\n",
    "    parsedreads=0\n",
    "    with gzip.open(fastqgz, \"rt\") as handle:\n",
    "        for record in SeqIO.parse(handle, \"fastq\"):\n",
    "            parsedreads+=1\n",
    "            if parsedreads<=maxreads:\n",
    "                for k,i in target_dict.items():\n",
    "                    seq=record.seq\n",
    "                    tar=i\n",
    "                    # if ontarget < 1000:\n",
    "                    if str(tar) in str(seq):\n",
    "                        aligns[k].append(record.id)\n",
    "                            # aligns[k].append(record.seq)\n",
    "\n",
    "                        ontarget+=1   \n",
    "                    # else:\n",
    "                    #     continue\n",
    "    print ('mapping rate: ',ontarget/parsedreads)\n",
    "\n",
    "    for k, i in aligns.items():\n",
    "        print (k, len(i))"
   ]
  },
  {
   "cell_type": "code",
   "execution_count": 57,
   "metadata": {},
   "outputs": [
    {
     "name": "stdout",
     "output_type": "stream",
     "text": [
      "mapping rate:  5.184266206274591e-05\n",
      "DNAJB1_c.558C>A_gap 300\n",
      "DNAJB1_c.558C>A_A 0\n",
      "DNAJB1_c.558C>A_T 0\n",
      "DNAJB1_c.558C>A_C 0\n",
      "DNAJB1_c.558C>A_G 12\n",
      "FGFR1_c.719G>A_gap 0\n",
      "FGFR1_c.719G>A_A 0\n",
      "FGFR1_c.719G>A_T 0\n",
      "FGFR1_c.719G>A_C 0\n",
      "FGFR1_c.719G>A_G 0\n",
      "KRAS_c.34G>T_gap 0\n",
      "KRAS_c.34G>T_A 9\n",
      "KRAS_c.34G>T_T 0\n",
      "KRAS_c.34G>T_C 8\n",
      "KRAS_c.34G>T_G 0\n",
      "PTPRC_c.2306T>A_gap 2\n",
      "PTPRC_c.2306T>A_A 0\n",
      "PTPRC_c.2306T>A_T 0\n",
      "PTPRC_c.2306T>A_C 0\n",
      "PTPRC_c.2306T>A_G 0\n",
      "TP63_c.1090G>A_gap 0\n",
      "TP63_c.1090G>A_A 0\n",
      "TP63_c.1090G>A_T 0\n",
      "TP63_c.1090G>A_C 0\n",
      "TP63_c.1090G>A_G 0\n"
     ]
    }
   ],
   "source": [
    "bulk_mut_counts(bulk_ddpadlock,maxreads=1000000)"
   ]
  },
  {
   "cell_type": "code",
   "execution_count": 58,
   "metadata": {},
   "outputs": [
    {
     "name": "stdout",
     "output_type": "stream",
     "text": [
      "mapping rate:  0.012536560689524807\n",
      "DNAJB1_c.558C>A_gap 19248\n",
      "DNAJB1_c.558C>A_A 16\n",
      "DNAJB1_c.558C>A_T 684\n",
      "DNAJB1_c.558C>A_C 0\n",
      "DNAJB1_c.558C>A_G 25854\n",
      "FGFR1_c.719G>A_gap 0\n",
      "FGFR1_c.719G>A_A 0\n",
      "FGFR1_c.719G>A_T 752\n",
      "FGFR1_c.719G>A_C 0\n",
      "FGFR1_c.719G>A_G 0\n",
      "KRAS_c.34G>T_gap 11419\n",
      "KRAS_c.34G>T_A 194135\n",
      "KRAS_c.34G>T_T 5\n",
      "KRAS_c.34G>T_C 17510\n",
      "KRAS_c.34G>T_G 103\n",
      "PTPRC_c.2306T>A_gap 4326\n",
      "PTPRC_c.2306T>A_A 0\n",
      "PTPRC_c.2306T>A_T 0\n",
      "PTPRC_c.2306T>A_C 0\n",
      "PTPRC_c.2306T>A_G 0\n",
      "TP63_c.1090G>A_gap 27\n",
      "TP63_c.1090G>A_A 1\n",
      "TP63_c.1090G>A_T 13675\n",
      "TP63_c.1090G>A_C 30329\n",
      "TP63_c.1090G>A_G 519\n"
     ]
    }
   ],
   "source": [
    "bulk_mut_counts(mix_mut,maxreads=1000000)"
   ]
  },
  {
   "cell_type": "code",
   "execution_count": 59,
   "metadata": {},
   "outputs": [
    {
     "name": "stdout",
     "output_type": "stream",
     "text": [
      "mapping rate:  0.0023743818900329003\n",
      "DNAJB1_c.558C>A_gap 7963\n",
      "DNAJB1_c.558C>A_A 0\n",
      "DNAJB1_c.558C>A_T 638\n",
      "DNAJB1_c.558C>A_C 24\n",
      "DNAJB1_c.558C>A_G 7773\n",
      "FGFR1_c.719G>A_gap 0\n",
      "FGFR1_c.719G>A_A 0\n",
      "FGFR1_c.719G>A_T 37\n",
      "FGFR1_c.719G>A_C 3\n",
      "FGFR1_c.719G>A_G 0\n",
      "KRAS_c.34G>T_gap 12634\n",
      "KRAS_c.34G>T_A 30440\n",
      "KRAS_c.34G>T_T 18\n",
      "KRAS_c.34G>T_C 3864\n",
      "KRAS_c.34G>T_G 27\n",
      "PTPRC_c.2306T>A_gap 4233\n",
      "PTPRC_c.2306T>A_A 9\n",
      "PTPRC_c.2306T>A_T 0\n",
      "PTPRC_c.2306T>A_C 0\n",
      "PTPRC_c.2306T>A_G 0\n",
      "TP63_c.1090G>A_gap 136\n",
      "TP63_c.1090G>A_A 0\n",
      "TP63_c.1090G>A_T 1857\n",
      "TP63_c.1090G>A_C 3361\n",
      "TP63_c.1090G>A_G 170\n"
     ]
    }
   ],
   "source": [
    "bulk_mut_counts(mut_only,maxreads=1000000)"
   ]
  },
  {
   "cell_type": "markdown",
   "metadata": {
    "jp-MarkdownHeadingCollapsed": true,
    "tags": []
   },
   "source": [
    "# single cell"
   ]
  },
  {
   "cell_type": "code",
   "execution_count": 22,
   "metadata": {},
   "outputs": [],
   "source": [
    "import gzip\n",
    "from Bio import SeqIO\n",
    "target_dict={'DNAJB1_c.558C>A_mt': 'TCCGTCGGGGTTTAGCCGCTTGTGTGAGATTTTCATCTTCTTGGTACAGC',\n",
    " 'DNAJB1_c.558C>A_wt': 'TCCGTCGGGGTTTAGCCGCTTGTGGGAGATTTTCATCTTCTTGGTACAGC',\n",
    " 'FGFR1_c.719G>A_mt': 'ATTATGATGCTCCAGGTGGCATAATGGACCTTGTAGCCTCCAATTCTGTG',\n",
    " 'FGFR1_c.719G>A_wt': 'ATTATGATGCTCCAGGTGGCATAACGGACCTTGTAGCCTCCAATTCTGTG',\n",
    " 'KRAS_c.34G>T_mt': 'TCAAGGCACTCTTGCCTACGCCACAAGCTCCAACTACCACAAGTTTATAT',\n",
    " 'KRAS_c.34G>T_wt': 'TCAAGGCACTCTTGCCTACGCCACCAGCTCCAACTACCACAAGTTTATAT',\n",
    " 'PTPRC_c.2306T>A_mt': 'CCAAAAGCCCGAGTGCCCTCTTCCTTTGACGGCCAGTATTCTGCACACTT',\n",
    " 'PTPRC_c.2306T>A_wt': 'CCAAAAGCCCGAGTGCCCTCTTCCATTGACGGCCAGTATTCTGCACACTT',\n",
    " 'TP63_c.1090G>A_mt': 'CACCGTTCTTTGTACTGTCCGAAATTTGCTGCTTTCTGATGCTATCTTCA',\n",
    " 'TP63_c.1090G>A_wt': 'CACCGTTCTTTGTACTGTCCGAAACTTGCTGCTTTCTGATGCTATCTTCA'}\n",
    "\n",
    "def flex_mutation_mapper(fastqR1, fastqR2,target_dict,pickle_name,whitelist=\"/gstore/home/taol9/gitsss/yo/flex/737K-fixed-rna-profiling.txt\"):\n",
    "    from collections import defaultdict\n",
    "    import pandas as pd\n",
    "    import pickle\n",
    "    wl=[]\n",
    "    f=open(whitelist,\"r\")\n",
    "    wl=[l.strip() for l in f.readlines()]\n",
    "    f.close()\n",
    "    barcodes_dict = SeqIO.index(fastqR1,'fastq')\n",
    "    record_dict = SeqIO.index(fastqR2,'fastq')\n",
    "    mutation_matrix=defaultdict(lambda: defaultdict(list))\n",
    "\n",
    "    for i in list(record_dict.keys()):\n",
    "        record=record_dict[i]\n",
    "        seq=record.seq\n",
    "        try:\n",
    "            barcode_record=barcodes_dict[i]\n",
    "            barcode_seq=barcode_record.seq\n",
    "            barcode=str(barcode_seq[:16])\n",
    "            umi=str(barcode_seq[16:])\n",
    "    \n",
    "            for tar_k, tar in target_dict.items():\n",
    "                if str(tar) in str(seq) and barcode in wl:\n",
    "                    mutation_matrix[barcode][tar_k].append(umi)   \n",
    "                else:\n",
    "                    continue\n",
    "        except:\n",
    "            continue\n",
    "            \n",
    "    to_df=dict()\n",
    "    for k,i in mutation_matrix.items():\n",
    "        tmp={}\n",
    "        for kk,ii in i.items():\n",
    "            tmp[kk]=len(Counter(ii))\n",
    "        to_df[k]=tmp\n",
    "    df=pd.DataFrame.from_dict(to_df, orient='index')\n",
    "    df.sort_index(axis = 1, inplace=True)\n",
    "\n",
    "    with open(pickle_name, 'wb') as file:\n",
    "        pickle.dump(df, file)\n",
    "        \n",
    "    return df, mutation_matrix"
   ]
  },
  {
   "cell_type": "code",
   "execution_count": 3,
   "metadata": {},
   "outputs": [],
   "source": [
    "# cp  /gne/data/dnaseq/processed_runs/R9922/results/LIB6221274_SAM24439398*  /gstore/home/taol9/ctgbioinfo/taol9/flex/ddpadlock/R9922/"
   ]
  },
  {
   "cell_type": "code",
   "execution_count": 8,
   "metadata": {},
   "outputs": [],
   "source": [
    "# zcat *.gz | bgzip -c > foo.bgz"
   ]
  },
  {
   "cell_type": "code",
   "execution_count": null,
   "metadata": {},
   "outputs": [],
   "source": [
    "ls /gstore/home/taol9/ctgbioinfo/taol9/flex/ddpadlock/R9922/"
   ]
  },
  {
   "cell_type": "code",
   "execution_count": 15,
   "metadata": {},
   "outputs": [],
   "source": [
    "fastqR1=\"/gstore/home/taol9/ctgbioinfo/taol9/flex/ddpadlock/R9922/LIB6221274_SAM24439398_S13_L001_R1_001.fastq.bgz\"\n",
    "fastqR2=\"/gstore/home/taol9/ctgbioinfo/taol9/flex/ddpadlock/R9922/LIB6221274_SAM24439398_S13_L001_R2_001.fastq.bgz\"\n"
   ]
  },
  {
   "cell_type": "code",
   "execution_count": null,
   "metadata": {},
   "outputs": [],
   "source": [
    "ddpadlock_df, ddpadlock_mm=flex_mutation_mapper(fastqR1, fastqR2,target_dict=target_dict,pickle_name='mut_only_ddpadlock_mix_mut.pickle',whitelist=\"/gstore/home/taol9/gitsss/yo/flex/737K-fixed-rna-profiling.txt\")"
   ]
  },
  {
   "cell_type": "code",
   "execution_count": 17,
   "metadata": {},
   "outputs": [],
   "source": [
    "## filter by cell barcodes from cell ranger"
   ]
  },
  {
   "cell_type": "code",
   "execution_count": 62,
   "metadata": {},
   "outputs": [],
   "source": [
    "def rc(x):\n",
    "    return str(Seq(x).reverse_complement())"
   ]
  },
  {
   "cell_type": "code",
   "execution_count": 74,
   "metadata": {},
   "outputs": [],
   "source": [
    "fil_bc='/gstore/scratch/u/lauj22/NGS5110_ddPadlock/ddpadlock_only_Mutation/LIB6221274_SAM24439398/outs/per_sample_outs/LIB6221274_SAM24439398/count/sample_filtered_barcodes.csv'\n",
    "\n",
    "cbcr=[x[:-2] for x in pd.read_csv(fil_bc, header=None)[1]]\n",
    "to_df={}\n",
    "for k,i in ddpadlock_mm.items():\n",
    "    tmp={}\n",
    "    if k in cbcr:\n",
    "        for kk,ii in i.items():\n",
    "            tmp[kk]=len(Counter(ii))\n",
    "        to_df[k]=tmp"
   ]
  },
  {
   "cell_type": "code",
   "execution_count": 78,
   "metadata": {},
   "outputs": [],
   "source": [
    "df=pd.DataFrame.from_dict(to_df,orient='index')"
   ]
  },
  {
   "cell_type": "code",
   "execution_count": 27,
   "metadata": {},
   "outputs": [
    {
     "data": {
      "text/plain": [
       "1.0     44\n",
       "2.0      6\n",
       "4.0      4\n",
       "5.0      3\n",
       "3.0      2\n",
       "7.0      1\n",
       "11.0     1\n",
       "12.0     1\n",
       "10.0     1\n",
       "Name: DNAJB1_c.558C>A_mt, dtype: int64"
      ]
     },
     "execution_count": 27,
     "metadata": {},
     "output_type": "execute_result"
    }
   ],
   "source": [
    "ddpadlock_df['DNAJB1_c.558C>A_mt'].value_counts()"
   ]
  },
  {
   "cell_type": "code",
   "execution_count": 34,
   "metadata": {},
   "outputs": [],
   "source": [
    "condition=((ddpadlock_df['DNAJB1_c.558C>A_wt']>0)\n",
    "           &(ddpadlock_df['DNAJB1_c.558C>A_mt']>0)\n",
    "# &(df['PTPRC_c.2306T>A_wt']>0)\n",
    "# &(df['KRAS_c.34G>T_wt']>0)\n",
    "# &(df['KRAS_c.34G>T_mt']>0)\n",
    "# &(df['TP63_c.1090G>A_wt']>0)\n",
    "# &(df['FGFR1_c.719G>A_wt']>0)\n",
    "          )"
   ]
  },
  {
   "cell_type": "code",
   "execution_count": 81,
   "metadata": {},
   "outputs": [],
   "source": [
    "def loci(x):\n",
    "    l=0\n",
    "    for i in x:\n",
    "        if i>0:\n",
    "            l+=1\n",
    "    return l\n",
    "    "
   ]
  },
  {
   "cell_type": "code",
   "execution_count": 82,
   "metadata": {},
   "outputs": [],
   "source": [
    "ddpadlock_df['loci']=ddpadlock_df.apply(loci, axis=1)"
   ]
  },
  {
   "cell_type": "code",
   "execution_count": 83,
   "metadata": {},
   "outputs": [
    {
     "data": {
      "text/plain": [
       "1    2977\n",
       "2     274\n",
       "3      13\n",
       "Name: loci, dtype: int64"
      ]
     },
     "execution_count": 83,
     "metadata": {},
     "output_type": "execute_result"
    }
   ],
   "source": [
    "ddpadlock_df['loci'].value_counts()"
   ]
  },
  {
   "cell_type": "code",
   "execution_count": 40,
   "metadata": {},
   "outputs": [
    {
     "data": {
      "text/html": [
       "<div>\n",
       "<style>\n",
       "    .dataframe thead tr:only-child th {\n",
       "        text-align: right;\n",
       "    }\n",
       "\n",
       "    .dataframe thead th {\n",
       "        text-align: left;\n",
       "    }\n",
       "\n",
       "    .dataframe tbody tr th {\n",
       "        vertical-align: top;\n",
       "    }\n",
       "</style>\n",
       "<table border=\"1\" class=\"dataframe\">\n",
       "  <thead>\n",
       "    <tr style=\"text-align: right;\">\n",
       "      <th></th>\n",
       "      <th>DNAJB1_c.558C&gt;A_mt</th>\n",
       "      <th>DNAJB1_c.558C&gt;A_wt</th>\n",
       "      <th>FGFR1_c.719G&gt;A_mt</th>\n",
       "      <th>FGFR1_c.719G&gt;A_wt</th>\n",
       "      <th>KRAS_c.34G&gt;T_mt</th>\n",
       "      <th>KRAS_c.34G&gt;T_wt</th>\n",
       "      <th>PTPRC_c.2306T&gt;A_wt</th>\n",
       "      <th>TP63_c.1090G&gt;A_mt</th>\n",
       "      <th>TP63_c.1090G&gt;A_wt</th>\n",
       "    </tr>\n",
       "  </thead>\n",
       "  <tbody>\n",
       "    <tr>\n",
       "      <th>AAACGTTCAAGTCGCG</th>\n",
       "      <td>NaN</td>\n",
       "      <td>NaN</td>\n",
       "      <td>NaN</td>\n",
       "      <td>NaN</td>\n",
       "      <td>7.0</td>\n",
       "      <td>1.0</td>\n",
       "      <td>NaN</td>\n",
       "      <td>NaN</td>\n",
       "      <td>NaN</td>\n",
       "    </tr>\n",
       "    <tr>\n",
       "      <th>AAACGTTCAAGTTGGC</th>\n",
       "      <td>NaN</td>\n",
       "      <td>NaN</td>\n",
       "      <td>NaN</td>\n",
       "      <td>NaN</td>\n",
       "      <td>9.0</td>\n",
       "      <td>1.0</td>\n",
       "      <td>NaN</td>\n",
       "      <td>NaN</td>\n",
       "      <td>NaN</td>\n",
       "    </tr>\n",
       "    <tr>\n",
       "      <th>AAAGGCTTCATTAGTC</th>\n",
       "      <td>NaN</td>\n",
       "      <td>NaN</td>\n",
       "      <td>NaN</td>\n",
       "      <td>NaN</td>\n",
       "      <td>5.0</td>\n",
       "      <td>1.0</td>\n",
       "      <td>NaN</td>\n",
       "      <td>NaN</td>\n",
       "      <td>NaN</td>\n",
       "    </tr>\n",
       "    <tr>\n",
       "      <th>AAAGTCATCAGGCTGA</th>\n",
       "      <td>NaN</td>\n",
       "      <td>NaN</td>\n",
       "      <td>NaN</td>\n",
       "      <td>NaN</td>\n",
       "      <td>3.0</td>\n",
       "      <td>1.0</td>\n",
       "      <td>NaN</td>\n",
       "      <td>NaN</td>\n",
       "      <td>NaN</td>\n",
       "    </tr>\n",
       "    <tr>\n",
       "      <th>AACATAGTCACTATGT</th>\n",
       "      <td>NaN</td>\n",
       "      <td>NaN</td>\n",
       "      <td>NaN</td>\n",
       "      <td>NaN</td>\n",
       "      <td>3.0</td>\n",
       "      <td>1.0</td>\n",
       "      <td>NaN</td>\n",
       "      <td>NaN</td>\n",
       "      <td>NaN</td>\n",
       "    </tr>\n",
       "    <tr>\n",
       "      <th>AACCTGCTCTGCCATA</th>\n",
       "      <td>NaN</td>\n",
       "      <td>NaN</td>\n",
       "      <td>NaN</td>\n",
       "      <td>NaN</td>\n",
       "      <td>3.0</td>\n",
       "      <td>2.0</td>\n",
       "      <td>NaN</td>\n",
       "      <td>NaN</td>\n",
       "      <td>NaN</td>\n",
       "    </tr>\n",
       "    <tr>\n",
       "      <th>AACCTTTAGCGCTACT</th>\n",
       "      <td>NaN</td>\n",
       "      <td>NaN</td>\n",
       "      <td>NaN</td>\n",
       "      <td>NaN</td>\n",
       "      <td>4.0</td>\n",
       "      <td>1.0</td>\n",
       "      <td>NaN</td>\n",
       "      <td>NaN</td>\n",
       "      <td>NaN</td>\n",
       "    </tr>\n",
       "    <tr>\n",
       "      <th>AAGACAACAAGCTATG</th>\n",
       "      <td>NaN</td>\n",
       "      <td>NaN</td>\n",
       "      <td>NaN</td>\n",
       "      <td>NaN</td>\n",
       "      <td>8.0</td>\n",
       "      <td>1.0</td>\n",
       "      <td>NaN</td>\n",
       "      <td>NaN</td>\n",
       "      <td>NaN</td>\n",
       "    </tr>\n",
       "    <tr>\n",
       "      <th>AAGGAGCAGTAACGTA</th>\n",
       "      <td>NaN</td>\n",
       "      <td>NaN</td>\n",
       "      <td>NaN</td>\n",
       "      <td>NaN</td>\n",
       "      <td>7.0</td>\n",
       "      <td>1.0</td>\n",
       "      <td>NaN</td>\n",
       "      <td>NaN</td>\n",
       "      <td>NaN</td>\n",
       "    </tr>\n",
       "    <tr>\n",
       "      <th>AATCACGCATTTCGCG</th>\n",
       "      <td>NaN</td>\n",
       "      <td>NaN</td>\n",
       "      <td>NaN</td>\n",
       "      <td>NaN</td>\n",
       "      <td>1.0</td>\n",
       "      <td>1.0</td>\n",
       "      <td>NaN</td>\n",
       "      <td>NaN</td>\n",
       "      <td>NaN</td>\n",
       "    </tr>\n",
       "    <tr>\n",
       "      <th>AATCCGGAGTTTCCAG</th>\n",
       "      <td>NaN</td>\n",
       "      <td>NaN</td>\n",
       "      <td>NaN</td>\n",
       "      <td>NaN</td>\n",
       "      <td>6.0</td>\n",
       "      <td>1.0</td>\n",
       "      <td>NaN</td>\n",
       "      <td>NaN</td>\n",
       "      <td>NaN</td>\n",
       "    </tr>\n",
       "    <tr>\n",
       "      <th>ACACCGGCAGTGAGAG</th>\n",
       "      <td>NaN</td>\n",
       "      <td>NaN</td>\n",
       "      <td>NaN</td>\n",
       "      <td>NaN</td>\n",
       "      <td>12.0</td>\n",
       "      <td>1.0</td>\n",
       "      <td>NaN</td>\n",
       "      <td>NaN</td>\n",
       "      <td>NaN</td>\n",
       "    </tr>\n",
       "    <tr>\n",
       "      <th>ACACCGGCATCGGGCA</th>\n",
       "      <td>NaN</td>\n",
       "      <td>NaN</td>\n",
       "      <td>NaN</td>\n",
       "      <td>NaN</td>\n",
       "      <td>11.0</td>\n",
       "      <td>1.0</td>\n",
       "      <td>NaN</td>\n",
       "      <td>NaN</td>\n",
       "      <td>NaN</td>\n",
       "    </tr>\n",
       "    <tr>\n",
       "      <th>ACCAATAAGCACGTTC</th>\n",
       "      <td>NaN</td>\n",
       "      <td>NaN</td>\n",
       "      <td>NaN</td>\n",
       "      <td>NaN</td>\n",
       "      <td>7.0</td>\n",
       "      <td>1.0</td>\n",
       "      <td>NaN</td>\n",
       "      <td>NaN</td>\n",
       "      <td>NaN</td>\n",
       "    </tr>\n",
       "    <tr>\n",
       "      <th>ACCCAAACAATCCACT</th>\n",
       "      <td>NaN</td>\n",
       "      <td>NaN</td>\n",
       "      <td>NaN</td>\n",
       "      <td>NaN</td>\n",
       "      <td>6.0</td>\n",
       "      <td>1.0</td>\n",
       "      <td>NaN</td>\n",
       "      <td>NaN</td>\n",
       "      <td>NaN</td>\n",
       "    </tr>\n",
       "    <tr>\n",
       "      <th>ACCCTTCGTTTGTAGC</th>\n",
       "      <td>NaN</td>\n",
       "      <td>NaN</td>\n",
       "      <td>NaN</td>\n",
       "      <td>NaN</td>\n",
       "      <td>6.0</td>\n",
       "      <td>1.0</td>\n",
       "      <td>NaN</td>\n",
       "      <td>NaN</td>\n",
       "      <td>NaN</td>\n",
       "    </tr>\n",
       "    <tr>\n",
       "      <th>ACCGTTATCAAACCAA</th>\n",
       "      <td>NaN</td>\n",
       "      <td>NaN</td>\n",
       "      <td>NaN</td>\n",
       "      <td>NaN</td>\n",
       "      <td>6.0</td>\n",
       "      <td>1.0</td>\n",
       "      <td>NaN</td>\n",
       "      <td>NaN</td>\n",
       "      <td>NaN</td>\n",
       "    </tr>\n",
       "    <tr>\n",
       "      <th>ACGCAAGTCAAGGGTT</th>\n",
       "      <td>NaN</td>\n",
       "      <td>NaN</td>\n",
       "      <td>NaN</td>\n",
       "      <td>NaN</td>\n",
       "      <td>8.0</td>\n",
       "      <td>1.0</td>\n",
       "      <td>NaN</td>\n",
       "      <td>NaN</td>\n",
       "      <td>NaN</td>\n",
       "    </tr>\n",
       "    <tr>\n",
       "      <th>ACGCACGCAATGAAGA</th>\n",
       "      <td>NaN</td>\n",
       "      <td>NaN</td>\n",
       "      <td>NaN</td>\n",
       "      <td>NaN</td>\n",
       "      <td>5.0</td>\n",
       "      <td>1.0</td>\n",
       "      <td>NaN</td>\n",
       "      <td>NaN</td>\n",
       "      <td>NaN</td>\n",
       "    </tr>\n",
       "    <tr>\n",
       "      <th>ACTAAGTCAGGCGAAA</th>\n",
       "      <td>NaN</td>\n",
       "      <td>NaN</td>\n",
       "      <td>NaN</td>\n",
       "      <td>NaN</td>\n",
       "      <td>1.0</td>\n",
       "      <td>5.0</td>\n",
       "      <td>NaN</td>\n",
       "      <td>NaN</td>\n",
       "      <td>NaN</td>\n",
       "    </tr>\n",
       "    <tr>\n",
       "      <th>ACTGGGTCATCGTTCG</th>\n",
       "      <td>NaN</td>\n",
       "      <td>NaN</td>\n",
       "      <td>NaN</td>\n",
       "      <td>NaN</td>\n",
       "      <td>10.0</td>\n",
       "      <td>1.0</td>\n",
       "      <td>NaN</td>\n",
       "      <td>NaN</td>\n",
       "      <td>NaN</td>\n",
       "    </tr>\n",
       "    <tr>\n",
       "      <th>ACTTAGCGTTTGGGCC</th>\n",
       "      <td>NaN</td>\n",
       "      <td>NaN</td>\n",
       "      <td>NaN</td>\n",
       "      <td>NaN</td>\n",
       "      <td>1.0</td>\n",
       "      <td>1.0</td>\n",
       "      <td>NaN</td>\n",
       "      <td>NaN</td>\n",
       "      <td>NaN</td>\n",
       "    </tr>\n",
       "    <tr>\n",
       "      <th>ACTTGAAAGTCGTTCA</th>\n",
       "      <td>NaN</td>\n",
       "      <td>NaN</td>\n",
       "      <td>NaN</td>\n",
       "      <td>NaN</td>\n",
       "      <td>2.0</td>\n",
       "      <td>1.0</td>\n",
       "      <td>NaN</td>\n",
       "      <td>NaN</td>\n",
       "      <td>NaN</td>\n",
       "    </tr>\n",
       "    <tr>\n",
       "      <th>AGAGGAATCTAATCGT</th>\n",
       "      <td>NaN</td>\n",
       "      <td>NaN</td>\n",
       "      <td>NaN</td>\n",
       "      <td>NaN</td>\n",
       "      <td>1.0</td>\n",
       "      <td>1.0</td>\n",
       "      <td>NaN</td>\n",
       "      <td>NaN</td>\n",
       "      <td>NaN</td>\n",
       "    </tr>\n",
       "    <tr>\n",
       "      <th>AGCCCTGTCTAGTTAC</th>\n",
       "      <td>NaN</td>\n",
       "      <td>NaN</td>\n",
       "      <td>NaN</td>\n",
       "      <td>NaN</td>\n",
       "      <td>3.0</td>\n",
       "      <td>1.0</td>\n",
       "      <td>NaN</td>\n",
       "      <td>NaN</td>\n",
       "      <td>NaN</td>\n",
       "    </tr>\n",
       "    <tr>\n",
       "      <th>AGCGAACGTGGTTATC</th>\n",
       "      <td>NaN</td>\n",
       "      <td>NaN</td>\n",
       "      <td>NaN</td>\n",
       "      <td>NaN</td>\n",
       "      <td>1.0</td>\n",
       "      <td>1.0</td>\n",
       "      <td>NaN</td>\n",
       "      <td>NaN</td>\n",
       "      <td>NaN</td>\n",
       "    </tr>\n",
       "    <tr>\n",
       "      <th>AGCGACTCATTCATGC</th>\n",
       "      <td>NaN</td>\n",
       "      <td>NaN</td>\n",
       "      <td>NaN</td>\n",
       "      <td>NaN</td>\n",
       "      <td>8.0</td>\n",
       "      <td>1.0</td>\n",
       "      <td>NaN</td>\n",
       "      <td>NaN</td>\n",
       "      <td>6.0</td>\n",
       "    </tr>\n",
       "    <tr>\n",
       "      <th>AGCGATCCACCGTTTG</th>\n",
       "      <td>NaN</td>\n",
       "      <td>NaN</td>\n",
       "      <td>NaN</td>\n",
       "      <td>NaN</td>\n",
       "      <td>3.0</td>\n",
       "      <td>1.0</td>\n",
       "      <td>NaN</td>\n",
       "      <td>NaN</td>\n",
       "      <td>NaN</td>\n",
       "    </tr>\n",
       "    <tr>\n",
       "      <th>AGCTACCTCATGACCC</th>\n",
       "      <td>NaN</td>\n",
       "      <td>1.0</td>\n",
       "      <td>NaN</td>\n",
       "      <td>NaN</td>\n",
       "      <td>8.0</td>\n",
       "      <td>1.0</td>\n",
       "      <td>NaN</td>\n",
       "      <td>NaN</td>\n",
       "      <td>NaN</td>\n",
       "    </tr>\n",
       "    <tr>\n",
       "      <th>AGGATCAGTGGCGTAG</th>\n",
       "      <td>NaN</td>\n",
       "      <td>NaN</td>\n",
       "      <td>NaN</td>\n",
       "      <td>NaN</td>\n",
       "      <td>3.0</td>\n",
       "      <td>1.0</td>\n",
       "      <td>NaN</td>\n",
       "      <td>NaN</td>\n",
       "      <td>NaN</td>\n",
       "    </tr>\n",
       "    <tr>\n",
       "      <th>...</th>\n",
       "      <td>...</td>\n",
       "      <td>...</td>\n",
       "      <td>...</td>\n",
       "      <td>...</td>\n",
       "      <td>...</td>\n",
       "      <td>...</td>\n",
       "      <td>...</td>\n",
       "      <td>...</td>\n",
       "      <td>...</td>\n",
       "    </tr>\n",
       "    <tr>\n",
       "      <th>TGCCCTGAGTGATGGT</th>\n",
       "      <td>NaN</td>\n",
       "      <td>NaN</td>\n",
       "      <td>NaN</td>\n",
       "      <td>NaN</td>\n",
       "      <td>1.0</td>\n",
       "      <td>2.0</td>\n",
       "      <td>NaN</td>\n",
       "      <td>NaN</td>\n",
       "      <td>NaN</td>\n",
       "    </tr>\n",
       "    <tr>\n",
       "      <th>TGCGCCATCTCACCGG</th>\n",
       "      <td>NaN</td>\n",
       "      <td>NaN</td>\n",
       "      <td>NaN</td>\n",
       "      <td>NaN</td>\n",
       "      <td>9.0</td>\n",
       "      <td>1.0</td>\n",
       "      <td>NaN</td>\n",
       "      <td>NaN</td>\n",
       "      <td>NaN</td>\n",
       "    </tr>\n",
       "    <tr>\n",
       "      <th>TGCTCCACAATCAAGT</th>\n",
       "      <td>NaN</td>\n",
       "      <td>NaN</td>\n",
       "      <td>NaN</td>\n",
       "      <td>NaN</td>\n",
       "      <td>10.0</td>\n",
       "      <td>1.0</td>\n",
       "      <td>NaN</td>\n",
       "      <td>NaN</td>\n",
       "      <td>NaN</td>\n",
       "    </tr>\n",
       "    <tr>\n",
       "      <th>TGCTGGTTCAACTTGT</th>\n",
       "      <td>NaN</td>\n",
       "      <td>NaN</td>\n",
       "      <td>NaN</td>\n",
       "      <td>NaN</td>\n",
       "      <td>11.0</td>\n",
       "      <td>1.0</td>\n",
       "      <td>NaN</td>\n",
       "      <td>NaN</td>\n",
       "      <td>NaN</td>\n",
       "    </tr>\n",
       "    <tr>\n",
       "      <th>TGGGTCCGTGAGAAGG</th>\n",
       "      <td>NaN</td>\n",
       "      <td>NaN</td>\n",
       "      <td>NaN</td>\n",
       "      <td>NaN</td>\n",
       "      <td>7.0</td>\n",
       "      <td>1.0</td>\n",
       "      <td>NaN</td>\n",
       "      <td>NaN</td>\n",
       "      <td>NaN</td>\n",
       "    </tr>\n",
       "    <tr>\n",
       "      <th>TGGTCTATCACGAACG</th>\n",
       "      <td>NaN</td>\n",
       "      <td>NaN</td>\n",
       "      <td>NaN</td>\n",
       "      <td>NaN</td>\n",
       "      <td>6.0</td>\n",
       "      <td>1.0</td>\n",
       "      <td>NaN</td>\n",
       "      <td>NaN</td>\n",
       "      <td>NaN</td>\n",
       "    </tr>\n",
       "    <tr>\n",
       "      <th>TGGTCTATCCGTGACT</th>\n",
       "      <td>NaN</td>\n",
       "      <td>NaN</td>\n",
       "      <td>NaN</td>\n",
       "      <td>NaN</td>\n",
       "      <td>10.0</td>\n",
       "      <td>1.0</td>\n",
       "      <td>NaN</td>\n",
       "      <td>NaN</td>\n",
       "      <td>NaN</td>\n",
       "    </tr>\n",
       "    <tr>\n",
       "      <th>TGGTCTATCGAGGCAC</th>\n",
       "      <td>NaN</td>\n",
       "      <td>NaN</td>\n",
       "      <td>NaN</td>\n",
       "      <td>NaN</td>\n",
       "      <td>4.0</td>\n",
       "      <td>1.0</td>\n",
       "      <td>NaN</td>\n",
       "      <td>NaN</td>\n",
       "      <td>NaN</td>\n",
       "    </tr>\n",
       "    <tr>\n",
       "      <th>TGTCATCCATCACGAA</th>\n",
       "      <td>NaN</td>\n",
       "      <td>NaN</td>\n",
       "      <td>NaN</td>\n",
       "      <td>NaN</td>\n",
       "      <td>3.0</td>\n",
       "      <td>1.0</td>\n",
       "      <td>NaN</td>\n",
       "      <td>NaN</td>\n",
       "      <td>NaN</td>\n",
       "    </tr>\n",
       "    <tr>\n",
       "      <th>TGTCCTTTCAAGGGCC</th>\n",
       "      <td>NaN</td>\n",
       "      <td>NaN</td>\n",
       "      <td>NaN</td>\n",
       "      <td>NaN</td>\n",
       "      <td>14.0</td>\n",
       "      <td>2.0</td>\n",
       "      <td>NaN</td>\n",
       "      <td>NaN</td>\n",
       "      <td>NaN</td>\n",
       "    </tr>\n",
       "    <tr>\n",
       "      <th>TGTTCACCAAGTTTCC</th>\n",
       "      <td>NaN</td>\n",
       "      <td>NaN</td>\n",
       "      <td>NaN</td>\n",
       "      <td>NaN</td>\n",
       "      <td>5.0</td>\n",
       "      <td>1.0</td>\n",
       "      <td>NaN</td>\n",
       "      <td>NaN</td>\n",
       "      <td>NaN</td>\n",
       "    </tr>\n",
       "    <tr>\n",
       "      <th>TGTTCTTGTTAAGCCT</th>\n",
       "      <td>NaN</td>\n",
       "      <td>NaN</td>\n",
       "      <td>NaN</td>\n",
       "      <td>NaN</td>\n",
       "      <td>3.0</td>\n",
       "      <td>1.0</td>\n",
       "      <td>NaN</td>\n",
       "      <td>NaN</td>\n",
       "      <td>NaN</td>\n",
       "    </tr>\n",
       "    <tr>\n",
       "      <th>TGTTGAGCAAGGCTTA</th>\n",
       "      <td>NaN</td>\n",
       "      <td>NaN</td>\n",
       "      <td>NaN</td>\n",
       "      <td>NaN</td>\n",
       "      <td>8.0</td>\n",
       "      <td>1.0</td>\n",
       "      <td>NaN</td>\n",
       "      <td>NaN</td>\n",
       "      <td>NaN</td>\n",
       "    </tr>\n",
       "    <tr>\n",
       "      <th>TGTTGTCCAAGTAAGA</th>\n",
       "      <td>NaN</td>\n",
       "      <td>NaN</td>\n",
       "      <td>NaN</td>\n",
       "      <td>NaN</td>\n",
       "      <td>2.0</td>\n",
       "      <td>1.0</td>\n",
       "      <td>NaN</td>\n",
       "      <td>NaN</td>\n",
       "      <td>NaN</td>\n",
       "    </tr>\n",
       "    <tr>\n",
       "      <th>TTAAACCTCCTGGATC</th>\n",
       "      <td>NaN</td>\n",
       "      <td>NaN</td>\n",
       "      <td>NaN</td>\n",
       "      <td>NaN</td>\n",
       "      <td>3.0</td>\n",
       "      <td>1.0</td>\n",
       "      <td>NaN</td>\n",
       "      <td>NaN</td>\n",
       "      <td>NaN</td>\n",
       "    </tr>\n",
       "    <tr>\n",
       "      <th>TTAACCGTCTTGATCG</th>\n",
       "      <td>NaN</td>\n",
       "      <td>NaN</td>\n",
       "      <td>NaN</td>\n",
       "      <td>NaN</td>\n",
       "      <td>4.0</td>\n",
       "      <td>1.0</td>\n",
       "      <td>NaN</td>\n",
       "      <td>NaN</td>\n",
       "      <td>NaN</td>\n",
       "    </tr>\n",
       "    <tr>\n",
       "      <th>TTAACGTTCTTGAATC</th>\n",
       "      <td>NaN</td>\n",
       "      <td>NaN</td>\n",
       "      <td>NaN</td>\n",
       "      <td>NaN</td>\n",
       "      <td>3.0</td>\n",
       "      <td>1.0</td>\n",
       "      <td>NaN</td>\n",
       "      <td>NaN</td>\n",
       "      <td>NaN</td>\n",
       "    </tr>\n",
       "    <tr>\n",
       "      <th>TTAGTCGTCGTGATGG</th>\n",
       "      <td>NaN</td>\n",
       "      <td>NaN</td>\n",
       "      <td>NaN</td>\n",
       "      <td>NaN</td>\n",
       "      <td>1.0</td>\n",
       "      <td>1.0</td>\n",
       "      <td>NaN</td>\n",
       "      <td>NaN</td>\n",
       "      <td>NaN</td>\n",
       "    </tr>\n",
       "    <tr>\n",
       "      <th>TTCCTCCCAACTATCC</th>\n",
       "      <td>NaN</td>\n",
       "      <td>NaN</td>\n",
       "      <td>NaN</td>\n",
       "      <td>NaN</td>\n",
       "      <td>4.0</td>\n",
       "      <td>1.0</td>\n",
       "      <td>NaN</td>\n",
       "      <td>NaN</td>\n",
       "      <td>NaN</td>\n",
       "    </tr>\n",
       "    <tr>\n",
       "      <th>TTCGAGGAGGTATGGT</th>\n",
       "      <td>NaN</td>\n",
       "      <td>NaN</td>\n",
       "      <td>NaN</td>\n",
       "      <td>NaN</td>\n",
       "      <td>2.0</td>\n",
       "      <td>1.0</td>\n",
       "      <td>NaN</td>\n",
       "      <td>NaN</td>\n",
       "      <td>1.0</td>\n",
       "    </tr>\n",
       "    <tr>\n",
       "      <th>TTCGCCACACACTGGG</th>\n",
       "      <td>NaN</td>\n",
       "      <td>NaN</td>\n",
       "      <td>NaN</td>\n",
       "      <td>NaN</td>\n",
       "      <td>5.0</td>\n",
       "      <td>1.0</td>\n",
       "      <td>NaN</td>\n",
       "      <td>NaN</td>\n",
       "      <td>NaN</td>\n",
       "    </tr>\n",
       "    <tr>\n",
       "      <th>TTCGCGCCAATGTTCC</th>\n",
       "      <td>NaN</td>\n",
       "      <td>NaN</td>\n",
       "      <td>NaN</td>\n",
       "      <td>NaN</td>\n",
       "      <td>4.0</td>\n",
       "      <td>1.0</td>\n",
       "      <td>NaN</td>\n",
       "      <td>NaN</td>\n",
       "      <td>NaN</td>\n",
       "    </tr>\n",
       "    <tr>\n",
       "      <th>TTCGTTCTCTACTACG</th>\n",
       "      <td>NaN</td>\n",
       "      <td>1.0</td>\n",
       "      <td>NaN</td>\n",
       "      <td>NaN</td>\n",
       "      <td>6.0</td>\n",
       "      <td>1.0</td>\n",
       "      <td>NaN</td>\n",
       "      <td>NaN</td>\n",
       "      <td>NaN</td>\n",
       "    </tr>\n",
       "    <tr>\n",
       "      <th>TTGACATTCACCACAC</th>\n",
       "      <td>NaN</td>\n",
       "      <td>NaN</td>\n",
       "      <td>NaN</td>\n",
       "      <td>NaN</td>\n",
       "      <td>3.0</td>\n",
       "      <td>1.0</td>\n",
       "      <td>NaN</td>\n",
       "      <td>NaN</td>\n",
       "      <td>NaN</td>\n",
       "    </tr>\n",
       "    <tr>\n",
       "      <th>TTGAGGAGTAGCTATC</th>\n",
       "      <td>NaN</td>\n",
       "      <td>NaN</td>\n",
       "      <td>NaN</td>\n",
       "      <td>NaN</td>\n",
       "      <td>1.0</td>\n",
       "      <td>3.0</td>\n",
       "      <td>NaN</td>\n",
       "      <td>NaN</td>\n",
       "      <td>NaN</td>\n",
       "    </tr>\n",
       "    <tr>\n",
       "      <th>TTGCATCCAGACTCAA</th>\n",
       "      <td>NaN</td>\n",
       "      <td>NaN</td>\n",
       "      <td>NaN</td>\n",
       "      <td>NaN</td>\n",
       "      <td>1.0</td>\n",
       "      <td>5.0</td>\n",
       "      <td>NaN</td>\n",
       "      <td>NaN</td>\n",
       "      <td>NaN</td>\n",
       "    </tr>\n",
       "    <tr>\n",
       "      <th>TTGCGCTAGGCTAGAT</th>\n",
       "      <td>NaN</td>\n",
       "      <td>NaN</td>\n",
       "      <td>NaN</td>\n",
       "      <td>NaN</td>\n",
       "      <td>7.0</td>\n",
       "      <td>1.0</td>\n",
       "      <td>NaN</td>\n",
       "      <td>NaN</td>\n",
       "      <td>NaN</td>\n",
       "    </tr>\n",
       "    <tr>\n",
       "      <th>TTGTTGTAGATGGATC</th>\n",
       "      <td>NaN</td>\n",
       "      <td>NaN</td>\n",
       "      <td>NaN</td>\n",
       "      <td>NaN</td>\n",
       "      <td>2.0</td>\n",
       "      <td>1.0</td>\n",
       "      <td>NaN</td>\n",
       "      <td>NaN</td>\n",
       "      <td>NaN</td>\n",
       "    </tr>\n",
       "    <tr>\n",
       "      <th>TTTCACCTCACGTTCA</th>\n",
       "      <td>NaN</td>\n",
       "      <td>NaN</td>\n",
       "      <td>NaN</td>\n",
       "      <td>NaN</td>\n",
       "      <td>2.0</td>\n",
       "      <td>1.0</td>\n",
       "      <td>NaN</td>\n",
       "      <td>NaN</td>\n",
       "      <td>NaN</td>\n",
       "    </tr>\n",
       "    <tr>\n",
       "      <th>TTTGCTCTCCGAATTT</th>\n",
       "      <td>NaN</td>\n",
       "      <td>NaN</td>\n",
       "      <td>NaN</td>\n",
       "      <td>NaN</td>\n",
       "      <td>12.0</td>\n",
       "      <td>1.0</td>\n",
       "      <td>NaN</td>\n",
       "      <td>NaN</td>\n",
       "      <td>NaN</td>\n",
       "    </tr>\n",
       "  </tbody>\n",
       "</table>\n",
       "<p>190 rows × 9 columns</p>\n",
       "</div>"
      ],
      "text/plain": [
       "                  DNAJB1_c.558C>A_mt  DNAJB1_c.558C>A_wt  FGFR1_c.719G>A_mt  \\\n",
       "AAACGTTCAAGTCGCG                 NaN                 NaN                NaN   \n",
       "AAACGTTCAAGTTGGC                 NaN                 NaN                NaN   \n",
       "AAAGGCTTCATTAGTC                 NaN                 NaN                NaN   \n",
       "AAAGTCATCAGGCTGA                 NaN                 NaN                NaN   \n",
       "AACATAGTCACTATGT                 NaN                 NaN                NaN   \n",
       "AACCTGCTCTGCCATA                 NaN                 NaN                NaN   \n",
       "AACCTTTAGCGCTACT                 NaN                 NaN                NaN   \n",
       "AAGACAACAAGCTATG                 NaN                 NaN                NaN   \n",
       "AAGGAGCAGTAACGTA                 NaN                 NaN                NaN   \n",
       "AATCACGCATTTCGCG                 NaN                 NaN                NaN   \n",
       "AATCCGGAGTTTCCAG                 NaN                 NaN                NaN   \n",
       "ACACCGGCAGTGAGAG                 NaN                 NaN                NaN   \n",
       "ACACCGGCATCGGGCA                 NaN                 NaN                NaN   \n",
       "ACCAATAAGCACGTTC                 NaN                 NaN                NaN   \n",
       "ACCCAAACAATCCACT                 NaN                 NaN                NaN   \n",
       "ACCCTTCGTTTGTAGC                 NaN                 NaN                NaN   \n",
       "ACCGTTATCAAACCAA                 NaN                 NaN                NaN   \n",
       "ACGCAAGTCAAGGGTT                 NaN                 NaN                NaN   \n",
       "ACGCACGCAATGAAGA                 NaN                 NaN                NaN   \n",
       "ACTAAGTCAGGCGAAA                 NaN                 NaN                NaN   \n",
       "ACTGGGTCATCGTTCG                 NaN                 NaN                NaN   \n",
       "ACTTAGCGTTTGGGCC                 NaN                 NaN                NaN   \n",
       "ACTTGAAAGTCGTTCA                 NaN                 NaN                NaN   \n",
       "AGAGGAATCTAATCGT                 NaN                 NaN                NaN   \n",
       "AGCCCTGTCTAGTTAC                 NaN                 NaN                NaN   \n",
       "AGCGAACGTGGTTATC                 NaN                 NaN                NaN   \n",
       "AGCGACTCATTCATGC                 NaN                 NaN                NaN   \n",
       "AGCGATCCACCGTTTG                 NaN                 NaN                NaN   \n",
       "AGCTACCTCATGACCC                 NaN                 1.0                NaN   \n",
       "AGGATCAGTGGCGTAG                 NaN                 NaN                NaN   \n",
       "...                              ...                 ...                ...   \n",
       "TGCCCTGAGTGATGGT                 NaN                 NaN                NaN   \n",
       "TGCGCCATCTCACCGG                 NaN                 NaN                NaN   \n",
       "TGCTCCACAATCAAGT                 NaN                 NaN                NaN   \n",
       "TGCTGGTTCAACTTGT                 NaN                 NaN                NaN   \n",
       "TGGGTCCGTGAGAAGG                 NaN                 NaN                NaN   \n",
       "TGGTCTATCACGAACG                 NaN                 NaN                NaN   \n",
       "TGGTCTATCCGTGACT                 NaN                 NaN                NaN   \n",
       "TGGTCTATCGAGGCAC                 NaN                 NaN                NaN   \n",
       "TGTCATCCATCACGAA                 NaN                 NaN                NaN   \n",
       "TGTCCTTTCAAGGGCC                 NaN                 NaN                NaN   \n",
       "TGTTCACCAAGTTTCC                 NaN                 NaN                NaN   \n",
       "TGTTCTTGTTAAGCCT                 NaN                 NaN                NaN   \n",
       "TGTTGAGCAAGGCTTA                 NaN                 NaN                NaN   \n",
       "TGTTGTCCAAGTAAGA                 NaN                 NaN                NaN   \n",
       "TTAAACCTCCTGGATC                 NaN                 NaN                NaN   \n",
       "TTAACCGTCTTGATCG                 NaN                 NaN                NaN   \n",
       "TTAACGTTCTTGAATC                 NaN                 NaN                NaN   \n",
       "TTAGTCGTCGTGATGG                 NaN                 NaN                NaN   \n",
       "TTCCTCCCAACTATCC                 NaN                 NaN                NaN   \n",
       "TTCGAGGAGGTATGGT                 NaN                 NaN                NaN   \n",
       "TTCGCCACACACTGGG                 NaN                 NaN                NaN   \n",
       "TTCGCGCCAATGTTCC                 NaN                 NaN                NaN   \n",
       "TTCGTTCTCTACTACG                 NaN                 1.0                NaN   \n",
       "TTGACATTCACCACAC                 NaN                 NaN                NaN   \n",
       "TTGAGGAGTAGCTATC                 NaN                 NaN                NaN   \n",
       "TTGCATCCAGACTCAA                 NaN                 NaN                NaN   \n",
       "TTGCGCTAGGCTAGAT                 NaN                 NaN                NaN   \n",
       "TTGTTGTAGATGGATC                 NaN                 NaN                NaN   \n",
       "TTTCACCTCACGTTCA                 NaN                 NaN                NaN   \n",
       "TTTGCTCTCCGAATTT                 NaN                 NaN                NaN   \n",
       "\n",
       "                  FGFR1_c.719G>A_wt  KRAS_c.34G>T_mt  KRAS_c.34G>T_wt  \\\n",
       "AAACGTTCAAGTCGCG                NaN              7.0              1.0   \n",
       "AAACGTTCAAGTTGGC                NaN              9.0              1.0   \n",
       "AAAGGCTTCATTAGTC                NaN              5.0              1.0   \n",
       "AAAGTCATCAGGCTGA                NaN              3.0              1.0   \n",
       "AACATAGTCACTATGT                NaN              3.0              1.0   \n",
       "AACCTGCTCTGCCATA                NaN              3.0              2.0   \n",
       "AACCTTTAGCGCTACT                NaN              4.0              1.0   \n",
       "AAGACAACAAGCTATG                NaN              8.0              1.0   \n",
       "AAGGAGCAGTAACGTA                NaN              7.0              1.0   \n",
       "AATCACGCATTTCGCG                NaN              1.0              1.0   \n",
       "AATCCGGAGTTTCCAG                NaN              6.0              1.0   \n",
       "ACACCGGCAGTGAGAG                NaN             12.0              1.0   \n",
       "ACACCGGCATCGGGCA                NaN             11.0              1.0   \n",
       "ACCAATAAGCACGTTC                NaN              7.0              1.0   \n",
       "ACCCAAACAATCCACT                NaN              6.0              1.0   \n",
       "ACCCTTCGTTTGTAGC                NaN              6.0              1.0   \n",
       "ACCGTTATCAAACCAA                NaN              6.0              1.0   \n",
       "ACGCAAGTCAAGGGTT                NaN              8.0              1.0   \n",
       "ACGCACGCAATGAAGA                NaN              5.0              1.0   \n",
       "ACTAAGTCAGGCGAAA                NaN              1.0              5.0   \n",
       "ACTGGGTCATCGTTCG                NaN             10.0              1.0   \n",
       "ACTTAGCGTTTGGGCC                NaN              1.0              1.0   \n",
       "ACTTGAAAGTCGTTCA                NaN              2.0              1.0   \n",
       "AGAGGAATCTAATCGT                NaN              1.0              1.0   \n",
       "AGCCCTGTCTAGTTAC                NaN              3.0              1.0   \n",
       "AGCGAACGTGGTTATC                NaN              1.0              1.0   \n",
       "AGCGACTCATTCATGC                NaN              8.0              1.0   \n",
       "AGCGATCCACCGTTTG                NaN              3.0              1.0   \n",
       "AGCTACCTCATGACCC                NaN              8.0              1.0   \n",
       "AGGATCAGTGGCGTAG                NaN              3.0              1.0   \n",
       "...                             ...              ...              ...   \n",
       "TGCCCTGAGTGATGGT                NaN              1.0              2.0   \n",
       "TGCGCCATCTCACCGG                NaN              9.0              1.0   \n",
       "TGCTCCACAATCAAGT                NaN             10.0              1.0   \n",
       "TGCTGGTTCAACTTGT                NaN             11.0              1.0   \n",
       "TGGGTCCGTGAGAAGG                NaN              7.0              1.0   \n",
       "TGGTCTATCACGAACG                NaN              6.0              1.0   \n",
       "TGGTCTATCCGTGACT                NaN             10.0              1.0   \n",
       "TGGTCTATCGAGGCAC                NaN              4.0              1.0   \n",
       "TGTCATCCATCACGAA                NaN              3.0              1.0   \n",
       "TGTCCTTTCAAGGGCC                NaN             14.0              2.0   \n",
       "TGTTCACCAAGTTTCC                NaN              5.0              1.0   \n",
       "TGTTCTTGTTAAGCCT                NaN              3.0              1.0   \n",
       "TGTTGAGCAAGGCTTA                NaN              8.0              1.0   \n",
       "TGTTGTCCAAGTAAGA                NaN              2.0              1.0   \n",
       "TTAAACCTCCTGGATC                NaN              3.0              1.0   \n",
       "TTAACCGTCTTGATCG                NaN              4.0              1.0   \n",
       "TTAACGTTCTTGAATC                NaN              3.0              1.0   \n",
       "TTAGTCGTCGTGATGG                NaN              1.0              1.0   \n",
       "TTCCTCCCAACTATCC                NaN              4.0              1.0   \n",
       "TTCGAGGAGGTATGGT                NaN              2.0              1.0   \n",
       "TTCGCCACACACTGGG                NaN              5.0              1.0   \n",
       "TTCGCGCCAATGTTCC                NaN              4.0              1.0   \n",
       "TTCGTTCTCTACTACG                NaN              6.0              1.0   \n",
       "TTGACATTCACCACAC                NaN              3.0              1.0   \n",
       "TTGAGGAGTAGCTATC                NaN              1.0              3.0   \n",
       "TTGCATCCAGACTCAA                NaN              1.0              5.0   \n",
       "TTGCGCTAGGCTAGAT                NaN              7.0              1.0   \n",
       "TTGTTGTAGATGGATC                NaN              2.0              1.0   \n",
       "TTTCACCTCACGTTCA                NaN              2.0              1.0   \n",
       "TTTGCTCTCCGAATTT                NaN             12.0              1.0   \n",
       "\n",
       "                  PTPRC_c.2306T>A_wt  TP63_c.1090G>A_mt  TP63_c.1090G>A_wt  \n",
       "AAACGTTCAAGTCGCG                 NaN                NaN                NaN  \n",
       "AAACGTTCAAGTTGGC                 NaN                NaN                NaN  \n",
       "AAAGGCTTCATTAGTC                 NaN                NaN                NaN  \n",
       "AAAGTCATCAGGCTGA                 NaN                NaN                NaN  \n",
       "AACATAGTCACTATGT                 NaN                NaN                NaN  \n",
       "AACCTGCTCTGCCATA                 NaN                NaN                NaN  \n",
       "AACCTTTAGCGCTACT                 NaN                NaN                NaN  \n",
       "AAGACAACAAGCTATG                 NaN                NaN                NaN  \n",
       "AAGGAGCAGTAACGTA                 NaN                NaN                NaN  \n",
       "AATCACGCATTTCGCG                 NaN                NaN                NaN  \n",
       "AATCCGGAGTTTCCAG                 NaN                NaN                NaN  \n",
       "ACACCGGCAGTGAGAG                 NaN                NaN                NaN  \n",
       "ACACCGGCATCGGGCA                 NaN                NaN                NaN  \n",
       "ACCAATAAGCACGTTC                 NaN                NaN                NaN  \n",
       "ACCCAAACAATCCACT                 NaN                NaN                NaN  \n",
       "ACCCTTCGTTTGTAGC                 NaN                NaN                NaN  \n",
       "ACCGTTATCAAACCAA                 NaN                NaN                NaN  \n",
       "ACGCAAGTCAAGGGTT                 NaN                NaN                NaN  \n",
       "ACGCACGCAATGAAGA                 NaN                NaN                NaN  \n",
       "ACTAAGTCAGGCGAAA                 NaN                NaN                NaN  \n",
       "ACTGGGTCATCGTTCG                 NaN                NaN                NaN  \n",
       "ACTTAGCGTTTGGGCC                 NaN                NaN                NaN  \n",
       "ACTTGAAAGTCGTTCA                 NaN                NaN                NaN  \n",
       "AGAGGAATCTAATCGT                 NaN                NaN                NaN  \n",
       "AGCCCTGTCTAGTTAC                 NaN                NaN                NaN  \n",
       "AGCGAACGTGGTTATC                 NaN                NaN                NaN  \n",
       "AGCGACTCATTCATGC                 NaN                NaN                6.0  \n",
       "AGCGATCCACCGTTTG                 NaN                NaN                NaN  \n",
       "AGCTACCTCATGACCC                 NaN                NaN                NaN  \n",
       "AGGATCAGTGGCGTAG                 NaN                NaN                NaN  \n",
       "...                              ...                ...                ...  \n",
       "TGCCCTGAGTGATGGT                 NaN                NaN                NaN  \n",
       "TGCGCCATCTCACCGG                 NaN                NaN                NaN  \n",
       "TGCTCCACAATCAAGT                 NaN                NaN                NaN  \n",
       "TGCTGGTTCAACTTGT                 NaN                NaN                NaN  \n",
       "TGGGTCCGTGAGAAGG                 NaN                NaN                NaN  \n",
       "TGGTCTATCACGAACG                 NaN                NaN                NaN  \n",
       "TGGTCTATCCGTGACT                 NaN                NaN                NaN  \n",
       "TGGTCTATCGAGGCAC                 NaN                NaN                NaN  \n",
       "TGTCATCCATCACGAA                 NaN                NaN                NaN  \n",
       "TGTCCTTTCAAGGGCC                 NaN                NaN                NaN  \n",
       "TGTTCACCAAGTTTCC                 NaN                NaN                NaN  \n",
       "TGTTCTTGTTAAGCCT                 NaN                NaN                NaN  \n",
       "TGTTGAGCAAGGCTTA                 NaN                NaN                NaN  \n",
       "TGTTGTCCAAGTAAGA                 NaN                NaN                NaN  \n",
       "TTAAACCTCCTGGATC                 NaN                NaN                NaN  \n",
       "TTAACCGTCTTGATCG                 NaN                NaN                NaN  \n",
       "TTAACGTTCTTGAATC                 NaN                NaN                NaN  \n",
       "TTAGTCGTCGTGATGG                 NaN                NaN                NaN  \n",
       "TTCCTCCCAACTATCC                 NaN                NaN                NaN  \n",
       "TTCGAGGAGGTATGGT                 NaN                NaN                1.0  \n",
       "TTCGCCACACACTGGG                 NaN                NaN                NaN  \n",
       "TTCGCGCCAATGTTCC                 NaN                NaN                NaN  \n",
       "TTCGTTCTCTACTACG                 NaN                NaN                NaN  \n",
       "TTGACATTCACCACAC                 NaN                NaN                NaN  \n",
       "TTGAGGAGTAGCTATC                 NaN                NaN                NaN  \n",
       "TTGCATCCAGACTCAA                 NaN                NaN                NaN  \n",
       "TTGCGCTAGGCTAGAT                 NaN                NaN                NaN  \n",
       "TTGTTGTAGATGGATC                 NaN                NaN                NaN  \n",
       "TTTCACCTCACGTTCA                 NaN                NaN                NaN  \n",
       "TTTGCTCTCCGAATTT                 NaN                NaN                NaN  \n",
       "\n",
       "[190 rows x 9 columns]"
      ]
     },
     "execution_count": 40,
     "metadata": {},
     "output_type": "execute_result"
    }
   ],
   "source": [
    "kras=((ddpadlock_df['KRAS_c.34G>T_wt']>0)&(ddpadlock_df['KRAS_c.34G>T_mt']>0))\n",
    "ddpadlock_df[kras]"
   ]
  }
 ],
 "metadata": {
  "kernelspec": {
   "display_name": "gpyprd38",
   "language": "python",
   "name": "gpyprd38"
  },
  "language_info": {
   "codemirror_mode": {
    "name": "ipython",
    "version": 3
   },
   "file_extension": ".py",
   "mimetype": "text/x-python",
   "name": "python",
   "nbconvert_exporter": "python",
   "pygments_lexer": "ipython3",
   "version": "3.9.12"
  }
 },
 "nbformat": 4,
 "nbformat_minor": 4
}
