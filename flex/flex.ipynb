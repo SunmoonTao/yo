{
 "cells": [
  {
   "cell_type": "code",
   "execution_count": 1,
   "metadata": {},
   "outputs": [],
   "source": [
    "import sys\n",
    "sys.path.append(\"/gstore/project/paneldesign/pkg\")\n",
    "sys.path.append(\"/gstore/home/taol9/gitsss/yo/tao\")\n",
    "# import primer3\n",
    "from Bio import SeqIO\n",
    "from Bio.Seq import Seq\n",
    "from Bio import Entrez\n",
    "import csv\n",
    "import pandas as pd\n",
    "from collections import defaultdict,OrderedDict\n",
    "from collections import Counter\n",
    "import matplotlib.pyplot as plt\n",
    "\n",
    "import pandas as pd\n",
    "import os\n",
    "import pickle\n",
    "\n",
    "# from myfunc import primers2mips, rc\n",
    "# from myprimer import RandomDNA_without_sites,break2shorts"
   ]
  },
  {
   "cell_type": "markdown",
   "metadata": {},
   "source": [
    "# flex probe Design\n",
    "\n",
    "When designing custom probes, consider the\n",
    "following:\n",
    "• GC content should be between 44 − 72% for each\n",
    "25 bp probe half.\n",
    "• Avoid homopolymer repeats.\n",
    "• Avoid overlap with annotated repeat or low complexity\n",
    "sequences.\n",
    "• If possible, design probes for coding regions of\n",
    "mRNA as opposed to untranslated regions.\n",
    "# The 25th nucleotide of the probe (3' most nucleotide of the LHS probe) must be a T. The complementary nucleotide in the target RNAmust be an A.\n",
    "• Avoid common single nucleotide polymorphisms\n",
    "(SNPs) and potential mismatches at the ligation\n",
    "junction. Refer to the UCSC Genome Browser and\n",
    "the Single Nucleotide Polymorphism Database\n",
    "(dbSNP). If avoiding SNPs is not possible, SNPs and\n",
    "mismatches should be at least four bp away from\n",
    "the ligation junction.\n",
    "• If probes can bind to sequences other than the\n",
    "target mRNA sequence, off-target signal may be\n",
    "observed. To check for off-target homology, align\n",
    "the probe sequence to the reference transcriptome\n",
    "using the Basic Local Alignment Search Tool\n",
    "(BLAST). Matches to off-target genes should have\n",
    "at least five mismatches in at least one of the LHS\n",
    "or RHS probes to prevent efficient hybridization.\n",
    "• Designing three probe pairs per target mRNA\n",
    "is recommended, especially for low expressing\n",
    "genes. However, if the gene is not long enough or\n",
    "there aren't enough specific 50 bp regions, fewer\n",
    "than three probe pairs is acceptable.\n",
    "## Probe pairs should not overlap to avoid competition\n",
    "between probes for the same binding site in\n",
    "the target RNA.\n",
    "• Add new probe sequences to the probe set reference\n",
    "CSV file. Refer to the Analysis section for\n",
    "more information."
   ]
  },
  {
   "cell_type": "code",
   "execution_count": 19,
   "metadata": {},
   "outputs": [
    {
     "ename": "NameError",
     "evalue": "name 'target_LHS' is not defined",
     "output_type": "error",
     "traceback": [
      "\u001b[0;31m---------------------------------------------------------------------------\u001b[0m",
      "\u001b[0;31mNameError\u001b[0m                                 Traceback (most recent call last)",
      "\u001b[0;32m<ipython-input-19-56288dedf971>\u001b[0m in \u001b[0;36m<module>\u001b[0;34m\u001b[0m\n\u001b[0;32m----> 1\u001b[0;31m \u001b[0mleft_arm\u001b[0m\u001b[0;34m=\u001b[0m\u001b[0;34m\"CCTTGGCACCCGAGAATTCCA\"\u001b[0m\u001b[0;34m+\u001b[0m\u001b[0mtarget_LHS\u001b[0m\u001b[0;34m\u001b[0m\u001b[0m\n\u001b[0m",
      "\u001b[0;31mNameError\u001b[0m: name 'target_LHS' is not defined"
     ]
    }
   ],
   "source": [
    "#structure\n",
    "\n",
    "left_arm=\"CCTTGGCACCCGAGAATTCCA\"+target_LHS\n",
    "right_arm=\"/5Phos/\"+target_RHS+\"ACGCGGTTAGCACGTA-NN\"+probeset_barcode_8nt+\"CGGTCCTAGCAA\"\n",
    "\n",
    "fulllib:\n",
    "p7+i7+left_arm+right_arm+10xumi+10xcellbarcode+read1seqprimer+i5+p5\n",
    "\n",
    "left_arm_snv=snv_dialout_adaptor+\"CCTTGGCACCCGAGAATTCCA\"+target_LHS\n",
    "padlock=right_arm+left_arm_snv"
   ]
  },
  {
   "cell_type": "markdown",
   "metadata": {},
   "source": [
    "# check strand,make sure statred with ATG\n",
    "mRNA is the template strand, starting from ATG....\n",
    "# probe strand is cs of mRNA strand"
   ]
  },
  {
   "cell_type": "code",
   "execution_count": 73,
   "metadata": {},
   "outputs": [],
   "source": [
    "#check GC\n",
    "\n",
    "#https://biopython.org/docs/1.75/api/Bio.SeqUtils.MeltingTemp.html\n",
    "from Bio.SeqUtils import MeltingTemp as mt\n",
    "from Bio.Seq import Seq\n"
   ]
  },
  {
   "cell_type": "code",
   "execution_count": 125,
   "metadata": {},
   "outputs": [],
   "source": [
    "# mutation codes are 1 based index, python is 0 based, convert that!\n",
    "def get_target_LHS(template,mutation):\n",
    "    mutation_position=int(mutation[2:-3])\n",
    "    ref_base=mutation[-3]\n",
    "    mutation_base=mutation[-1]\n",
    "    if template[mutation_position]==ref_base:\n",
    "        for l in range(25,30,1):\n",
    "            mystring=Seq(template[mutation_position:mutation_position+l])\n",
    "            gc=mt.Tm_GC(myseq)\n",
    "            if 46<gc<70:\n",
    "                return (str(mystring.reverse_complement()), \n",
    "                       str(Seq(mutation_base+str(mystring[:-1])).reverse_complement()))\n",
    "                break\n",
    "    else:\n",
    "        return \"wrong input\""
   ]
  },
  {
   "cell_type": "code",
   "execution_count": 126,
   "metadata": {},
   "outputs": [],
   "source": [
    "def get_target_RHS(template,mutation):\n",
    "    mutation_position=int(mutation[2:-3])\n",
    "    ref_base=mutation[-3]\n",
    "    mutation_base=mutation[-1]\n",
    "    if template[mutation_position]==ref_base:\n",
    "        for l in range(25,30,1):\n",
    "            mystring=Seq(template[mutation_position-l:mutation_position])\n",
    "            gc=mt.Tm_GC(myseq)\n",
    "            if 46<gc<70:\n",
    "                return str(mystring.reverse_complement())\n",
    "                break\n",
    "    else:\n",
    "        return \"wrong input\""
   ]
  },
  {
   "cell_type": "markdown",
   "metadata": {},
   "source": [
    "## define adaptor\n"
   ]
  },
  {
   "cell_type": "code",
   "execution_count": 147,
   "metadata": {},
   "outputs": [
    {
     "name": "stdout",
     "output_type": "stream",
     "text": [
      "BC001 = \"ACTTTAGG\"\n",
      "BC002 = \"AACGGGAA\"\n",
      "BC003 = \"AGTAGGCT\"\n",
      "BC004 = \"ATGTTGAC\"\n",
      "BC005 = \"ACAGACCT\"\n",
      "BC006 = \"ATCCCAAC\"\n",
      "BC007 = \"AAGTAGAG\"\n",
      "BC008 = \"AGCTGTGA\"\n",
      "BC009 = \"ACAGTCTG\"\n",
      "BC010 = \"AGTGAGTG\"\n",
      "BC011 = \"AGAGGCAA\"\n",
      "BC012 = \"ACTACTCA\"\n",
      "BC013 = \"ATACGTCA\"\n",
      "BC014 = \"ATCATGTG\"\n",
      "BC015 = \"AACGCCGA\"\n",
      "BC016 = \"ATTCGGTT\"\n"
     ]
    }
   ],
   "source": [
    "barcodes=pd.read_csv('probe-barcodes-fixed-rna-profiling.txt',sep='\\t', header=None)\n",
    "barcodes=barcodes[[1,2]].drop_duplicates()\n",
    "for i,r in barcodes.iterrows():\n",
    "    print (r[2],'=', '\"'+r[1]+'\"')"
   ]
  },
  {
   "cell_type": "code",
   "execution_count": 149,
   "metadata": {},
   "outputs": [],
   "source": [
    "snv_dialout_adaptor=Mly1_F_w='GCAACGACTCCACACTCATA'\n",
    "BC001 = \"ACTTTAGG\"\n",
    "BC002 = \"AACGGGAA\"\n",
    "BC003 = \"AGTAGGCT\"\n",
    "BC004 = \"ATGTTGAC\"\n",
    "BC005 = \"ACAGACCT\"\n",
    "BC006 = \"ATCCCAAC\"\n",
    "BC007 = \"AAGTAGAG\"\n",
    "BC008 = \"AGCTGTGA\"\n",
    "BC009 = \"ACAGTCTG\"\n",
    "BC010 = \"AGTGAGTG\"\n",
    "BC011 = \"AGAGGCAA\"\n",
    "BC012 = \"ACTACTCA\"\n",
    "BC013 = \"ATACGTCA\"\n",
    "BC014 = \"ATCATGTG\"\n",
    "BC015 = \"AACGCCGA\"\n",
    "BC016 = \"ATTCGGTT\""
   ]
  },
  {
   "cell_type": "code",
   "execution_count": 154,
   "metadata": {},
   "outputs": [],
   "source": [
    "def flex_padlock(template,mutation,probeset_barcode_8nt=\"ACTTTAGG\",snv_dialout_adaptor='GCAACGACTCCACACTCATA'):\n",
    "    target_LHS=get_target_LHS(template,mutation)\n",
    "    target_RHS=get_target_RHS(template,mutation)\n",
    "#     left_arm=\"CCTTGGCACCCGAGAATTCCA\"+target_LHS\n",
    "    right_arm=\"/5Phos/\"+target_RHS+\"ACGCGGTTAGCACGTANN\"+probeset_barcode_8nt+\"CGGTCCTAGCAA\"\n",
    "    #fulllib:\n",
    "    #p7+i7+left_arm+right_arm+10xumi+10xcellbarcode+read1seqprimer+i5+p5\n",
    "#     left_arm_snv=snv_dialout_adaptor+\"CCTTGGCACCCGAGAATTCCA\"+target_LHS\n",
    "    padlock_ref=right_arm+snv_dialout_adaptor+\"CCTTGGCACCCGAGAATTCCA\"+target_LHS[0]\n",
    "    padlock_alt=right_arm+snv_dialout_adaptor+\"CCTTGGCACCCGAGAATTCCA\"+target_LHS[1]\n",
    "    return padlock_ref, padlock_alt"
   ]
  },
  {
   "cell_type": "code",
   "execution_count": 155,
   "metadata": {},
   "outputs": [],
   "source": [
    "# convert to padlock probe"
   ]
  },
  {
   "cell_type": "code",
   "execution_count": 156,
   "metadata": {},
   "outputs": [],
   "source": [
    "KRAS_CDS='''ATGACTGAATATAAACTTGTGGTAGTTGGAGCTGGTGGCGTAGGCAAGAGTGCCTTGACGATACAGCTAATTCAGAATCATTTTGTGGACGAATATGATCCAACAATAGAGGATTCCTAC\n",
    "AGGAAGCAAGTAGTAATTGATGGAGAAACCTGTCTCTTGGATATTCTCGACACAGCAGGT\n",
    "CAAGAGGAGTACAGTGCAATGAGGGACCAGTACATGAGGACTGGGGAGGGCTTTCTTTGT\n",
    "GTATTTGCCATAAATAATACTAAATCATTTGAAGATATTCACCATTATAGAGAACAAATT\n",
    "AAAAGAGTTAAGGACTCTGAAGATGTACCTATGGTCCTAGTAGGAAATAAATGTGATTTG\n",
    "CCTTCTAGAACAGTAGACACAAAACAGGCTCAGGACTTAGCAAGAAGTTATGGAATTCCT\n",
    "TTTATTGAAACATCAGCAAAGACAAGACAGAGAGTGGAGGATGCTTTTTATACATTGGTG\n",
    "AGAGAGATCCGACAATACAGATTGAAAAAAATCAGCAAAGAAGAAAAGACTCCTGGCTGT\n",
    "GTGAAAATTAAAAAATGCATTATAATGTAA'''\n",
    "KRAS_CDS=KRAS_CDS.replace('\\n','')\n",
    "# AA mutation \n",
    "# p.G12C (Substitution - Missense, position 12, G➞C)\n",
    "#  CDS mutation \n",
    "# c.34G>T (Substitution, position 34, G➞T)\n"
   ]
  },
  {
   "cell_type": "code",
   "execution_count": 157,
   "metadata": {},
   "outputs": [
    {
     "data": {
      "text/plain": [
       "'CAGCTCCAACTACCACAAGTTTATA'"
      ]
     },
     "execution_count": 157,
     "metadata": {},
     "output_type": "execute_result"
    }
   ],
   "source": [
    "get_target_RHS(KRAS_CDS,'c.34G>T')"
   ]
  },
  {
   "cell_type": "code",
   "execution_count": 158,
   "metadata": {},
   "outputs": [
    {
     "data": {
      "text/plain": [
       "'G'"
      ]
     },
     "execution_count": 158,
     "metadata": {},
     "output_type": "execute_result"
    }
   ],
   "source": [
    "KRAS_CDS[34]"
   ]
  },
  {
   "cell_type": "code",
   "execution_count": 159,
   "metadata": {},
   "outputs": [
    {
     "data": {
      "text/plain": [
       "('GTCAAGGCACTCTTGCCTACGCCAC', 'TCAAGGCACTCTTGCCTACGCCACA')"
      ]
     },
     "execution_count": 159,
     "metadata": {},
     "output_type": "execute_result"
    }
   ],
   "source": [
    "get_target_LHS(KRAS_CDS,'c.34G>T')"
   ]
  },
  {
   "cell_type": "code",
   "execution_count": 161,
   "metadata": {},
   "outputs": [],
   "source": [
    "KRAS_flex=flex_padlock(KRAS_CDS,'c.34G>T')"
   ]
  },
  {
   "cell_type": "code",
   "execution_count": 162,
   "metadata": {},
   "outputs": [
    {
     "data": {
      "text/plain": [
       "136"
      ]
     },
     "execution_count": 162,
     "metadata": {},
     "output_type": "execute_result"
    }
   ],
   "source": [
    "len(KRAS_flex[0])"
   ]
  },
  {
   "cell_type": "code",
   "execution_count": 163,
   "metadata": {},
   "outputs": [
    {
     "data": {
      "text/plain": [
       "('/5Phos/CAGCTCCAACTACCACAAGTTTATAACGCGGTTAGCACGTANNACTTTAGGCGGTCCTAGCAAGCAACGACTCCACACTCATACCTTGGCACCCGAGAATTCCAGTCAAGGCACTCTTGCCTACGCCAC',\n",
       " '/5Phos/CAGCTCCAACTACCACAAGTTTATAACGCGGTTAGCACGTANNACTTTAGGCGGTCCTAGCAAGCAACGACTCCACACTCATACCTTGGCACCCGAGAATTCCATCAAGGCACTCTTGCCTACGCCACA')"
      ]
     },
     "execution_count": 163,
     "metadata": {},
     "output_type": "execute_result"
    }
   ],
   "source": [
    "KRAS_flex"
   ]
  },
  {
   "cell_type": "markdown",
   "metadata": {},
   "source": [
    "# order probes in 400 nM DDW, hplc"
   ]
  },
  {
   "cell_type": "code",
   "execution_count": 108,
   "metadata": {},
   "outputs": [],
   "source": []
  },
  {
   "cell_type": "code",
   "execution_count": 4,
   "metadata": {},
   "outputs": [
    {
     "data": {
      "text/plain": [
       "Seq('AGATCGGAAGAGCACACG')"
      ]
     },
     "execution_count": 4,
     "metadata": {},
     "output_type": "execute_result"
    }
   ],
   "source": [
    "Seq('TCTAGCCTTCTCGTGTGC').reverse_complement()[::-1]"
   ]
  },
  {
   "cell_type": "code",
   "execution_count": null,
   "metadata": {},
   "outputs": [],
   "source": [
    "TCTAGCCTTCTCGTGTGC"
   ]
  }
 ],
 "metadata": {
  "kernelspec": {
   "display_name": "Python 3",
   "language": "python",
   "name": "python3"
  },
  "language_info": {
   "codemirror_mode": {
    "name": "ipython",
    "version": 3
   },
   "file_extension": ".py",
   "mimetype": "text/x-python",
   "name": "python",
   "nbconvert_exporter": "python",
   "pygments_lexer": "ipython3",
   "version": "3.6.3"
  }
 },
 "nbformat": 4,
 "nbformat_minor": 4
}
