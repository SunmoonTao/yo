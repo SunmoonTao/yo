{
 "cells": [
  {
   "cell_type": "code",
   "execution_count": 1,
   "id": "f96e0393-878d-4d17-8f70-742d4aa19281",
   "metadata": {},
   "outputs": [],
   "source": [
    "\n"
   ]
  },
  {
   "cell_type": "code",
   "execution_count": 2,
   "id": "8db9df39-37c1-4497-84a4-7680ecd1330b",
   "metadata": {},
   "outputs": [],
   "source": [
    "import csv\n",
    "import pandas as pd\n",
    "import matplotlib.pyplot as plt\n",
    "import sys\n",
    "sys.path.append('/gstore/home/taol9/tmppythonpackage')\n",
    "sys.path.append(\"/gstore/project/paneldesign/pkg\")\n",
    "sys.path.append('/gstore/home/taol9/gitsss/yo/tao')\n",
    "\n",
    "# import primer3\n",
    "# from myfunc import primers2mips\n",
    "\n",
    "import pegasusio as io\n",
    "import pandas as pd"
   ]
  },
  {
   "cell_type": "code",
   "execution_count": 3,
   "id": "ae072df3-5ab1-4a2a-8be6-15bfef6137ef",
   "metadata": {},
   "outputs": [
    {
     "data": {
      "text/plain": [
       "'/gstore/home/taol9/gitsss/yo/flex'"
      ]
     },
     "execution_count": 3,
     "metadata": {},
     "output_type": "execute_result"
    }
   ],
   "source": [
    "pwd"
   ]
  },
  {
   "cell_type": "code",
   "execution_count": null,
   "id": "04664fa5-64a4-4a0a-bcda-c158e51aa399",
   "metadata": {},
   "outputs": [],
   "source": []
  }
 ],
 "metadata": {
  "kernelspec": {
   "display_name": "gpyprd38",
   "language": "python",
   "name": "gpyprd38"
  },
  "language_info": {
   "codemirror_mode": {
    "name": "ipython",
    "version": 3
   },
   "file_extension": ".py",
   "mimetype": "text/x-python",
   "name": "python",
   "nbconvert_exporter": "python",
   "pygments_lexer": "ipython3",
   "version": "3.9.12"
  }
 },
 "nbformat": 4,
 "nbformat_minor": 5
}
