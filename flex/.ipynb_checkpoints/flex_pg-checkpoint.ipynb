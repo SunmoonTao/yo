{
 "cells": [
  {
   "cell_type": "code",
   "execution_count": 63,
   "id": "f96e0393-878d-4d17-8f70-742d4aa19281",
   "metadata": {},
   "outputs": [
    {
     "name": "stdout",
     "output_type": "stream",
     "text": [
      "Collecting pysam\n",
      "  Downloading pysam-0.21.0.tar.gz (4.1 MB)\n",
      "\u001b[2K     \u001b[90m━━━━━━━━━━━━━━━━━━━━━━━━━━━━━━━━━━━━━━━━\u001b[0m \u001b[32m4.1/4.1 MB\u001b[0m \u001b[31m3.0 MB/s\u001b[0m eta \u001b[36m0:00:00\u001b[0m00:01\u001b[0mm00:01\u001b[0m\n",
      "\u001b[?25h  Installing build dependencies ... \u001b[?25ldone\n",
      "\u001b[?25h  Getting requirements to build wheel ... \u001b[?25ldone\n",
      "\u001b[?25h  Preparing metadata (pyproject.toml) ... \u001b[?25ldone\n",
      "\u001b[?25hCollecting cython\n",
      "  Using cached Cython-0.29.34-cp310-cp310-manylinux_2_17_x86_64.manylinux2014_x86_64.manylinux_2_24_x86_64.whl (1.9 MB)\n",
      "Building wheels for collected packages: pysam\n",
      "  Building wheel for pysam (pyproject.toml) ... \u001b[?25ldone\n",
      "\u001b[?25h  Created wheel for pysam: filename=pysam-0.21.0-cp310-cp310-linux_x86_64.whl size=7629832 sha256=6e58d69faaefcb883e3cc8de6d925560d2537fe1ef7589fe24584aebcfb2bfbc\n",
      "  Stored in directory: /gstore/home/taol9/.cache/pip/wheels/f2/2a/ed/8ae79a9a0d157807542955118d5ad5cf7d18dd9e36d93548d2\n",
      "Successfully built pysam\n",
      "Installing collected packages: cython, pysam\n",
      "Successfully installed cython-0.29.34 pysam-0.21.0\n",
      "\u001b[33mWARNING: Target directory /gstore/project/paneldesign/pkg/__pycache__ already exists. Specify --upgrade to force replacement.\u001b[0m\u001b[33m\n",
      "\u001b[0m\u001b[33mWARNING: Target directory /gstore/project/paneldesign/pkg/pysam already exists. Specify --upgrade to force replacement.\u001b[0m\u001b[33m\n",
      "\u001b[0m\u001b[33mWARNING: Target directory /gstore/project/paneldesign/pkg/bin already exists. Specify --upgrade to force replacement.\u001b[0m\u001b[33m\n",
      "\u001b[0m"
     ]
    }
   ],
   "source": [
    "# export HTSLIB_CONFIGURE_OPTIONS=--enable-plugins\n",
    "\n",
    "!pip install --target /gstore/project/paneldesign/pkg pysam\n"
   ]
  },
  {
   "cell_type": "code",
   "execution_count": 2,
   "id": "8db9df39-37c1-4497-84a4-7680ecd1330b",
   "metadata": {},
   "outputs": [],
   "source": [
    "import csv\n",
    "import pandas as pd\n",
    "import matplotlib.pyplot as plt\n",
    "import sys\n",
    "sys.path.append('/gstore/home/taol9/tmppythonpackage')\n",
    "sys.path.append(\"/gstore/project/paneldesign/pkg\")\n",
    "sys.path.append('/gstore/home/taol9/gitsss/yo/tao')\n",
    "\n",
    "# import primer3\n",
    "# from myfunc import primers2mips\n",
    "\n",
    "import pegasusio as io\n",
    "import pandas as pd\n",
    "import pegasus as pg\n",
    "import scanpy as sc\n",
    "import numpy as np"
   ]
  },
  {
   "cell_type": "code",
   "execution_count": 3,
   "id": "ae072df3-5ab1-4a2a-8be6-15bfef6137ef",
   "metadata": {},
   "outputs": [
    {
     "name": "stdout",
     "output_type": "stream",
     "text": [
      "/gstore/home/taol9/ctgbioinfo/taol9/flex/Pilot_Flex_FRP/LIB5468563_HITS5485162/outs/per_sample_outs/LIB5468563_HITS5485162/metrics_summary.csv\n",
      "/gstore/home/taol9/ctgbioinfo/taol9/flex/Pilot_Flex_FRP/LIB5468563_HITS5485162/outs/per_sample_outs/LIB5468563_HITS5485162/web_summary.html\n",
      "/gstore/home/taol9/ctgbioinfo/taol9/flex/Pilot_spike/LIB5468564_HITS5485163/outs/per_sample_outs/LIB5468564_HITS5485163/metrics_summary.csv\n",
      "/gstore/home/taol9/ctgbioinfo/taol9/flex/Pilot_spike/LIB5468564_HITS5485163/outs/per_sample_outs/LIB5468564_HITS5485163/web_summary.html\n",
      "\n",
      "/gstore/home/taol9/ctgbioinfo/taol9/flex/Pilot_Flex_FRP/LIB5468563_HITS5485162/outs/per_sample_outs/LIB5468563_HITS5485162/count:\n",
      "\u001b[0m\u001b[01;34manalysis\u001b[0m/                  sample_filtered_barcodes.csv\n",
      "probe_set.csv              \u001b[01;34msample_filtered_feature_bc_matrix\u001b[0m/\n",
      "sample_alignments.bam      sample_filtered_feature_bc_matrix.h5\n",
      "sample_alignments.bam.bai  sample_molecule_info.h5\n",
      "sample_cloupe.cloupe\n",
      "\n",
      "/gstore/home/taol9/ctgbioinfo/taol9/flex/Pilot_spike/LIB5468564_HITS5485163/outs/per_sample_outs/LIB5468564_HITS5485163/count:\n",
      "\u001b[01;34manalysis\u001b[0m/                  sample_filtered_barcodes.csv\n",
      "probe_set.csv              \u001b[01;34msample_filtered_feature_bc_matrix\u001b[0m/\n",
      "sample_alignments.bam      sample_filtered_feature_bc_matrix.h5\n",
      "sample_alignments.bam.bai  sample_molecule_info.h5\n",
      "sample_cloupe.cloupe\n"
     ]
    }
   ],
   "source": [
    "ls /gstore/home/taol9/ctgbioinfo/taol9/flex/*/*/outs/per_*/*/*"
   ]
  },
  {
   "cell_type": "code",
   "execution_count": 4,
   "id": "11bd7e33-d573-43ef-ac8b-162cc6bf2217",
   "metadata": {},
   "outputs": [
    {
     "data": {
      "text/plain": [
       "'/gstore/home/taol9/gitsss/yo/flex'"
      ]
     },
     "execution_count": 4,
     "metadata": {},
     "output_type": "execute_result"
    }
   ],
   "source": [
    "pwd"
   ]
  },
  {
   "cell_type": "code",
   "execution_count": 5,
   "id": "04664fa5-64a4-4a0a-bcda-c158e51aa399",
   "metadata": {},
   "outputs": [],
   "source": [
    "frp='/gstore/home/taol9/ctgbioinfo/taol9/flex/Pilot_Flex_FRP/LIB5468563_HITS5485162/outs/per_sample_outs/LIB5468563_HITS5485162/count/sample_filtered_feature_bc_matrix.h5'\n",
    "padlock='/gstore/home/taol9/ctgbioinfo/taol9/flex/Pilot_spike/LIB5468564_HITS5485163/outs/per_sample_outs/LIB5468564_HITS5485163/count/sample_filtered_feature_bc_matrix.h5'\n",
    "\n"
   ]
  },
  {
   "cell_type": "code",
   "execution_count": 6,
   "id": "5a6d2c54-0412-47d8-82d9-3b81cd06c751",
   "metadata": {},
   "outputs": [
    {
     "name": "stdout",
     "output_type": "stream",
     "text": [
      "2023-11-02 15:00:13,298 - pegasusio.readwrite - INFO - 10x file '/gstore/home/taol9/ctgbioinfo/taol9/flex/Pilot_Flex_FRP/LIB5468563_HITS5485162/outs/per_sample_outs/LIB5468563_HITS5485162/count/sample_filtered_feature_bc_matrix.h5' is loaded.\n",
      "2023-11-02 15:00:13,302 - pegasusio.readwrite - INFO - Function 'read_input' finished in 4.30s.\n"
     ]
    }
   ],
   "source": [
    "frp=pg.read_input(frp)"
   ]
  },
  {
   "cell_type": "code",
   "execution_count": null,
   "id": "dc7f001f-0f0c-48c6-b86e-c1c6e80e1931",
   "metadata": {},
   "outputs": [],
   "source": []
  },
  {
   "cell_type": "code",
   "execution_count": 7,
   "id": "5295448d-b428-45e9-91c4-77354d13918d",
   "metadata": {},
   "outputs": [
    {
     "name": "stdout",
     "output_type": "stream",
     "text": [
      "2023-11-02 15:00:15,234 - pegasusio.readwrite - INFO - 10x file '/gstore/home/taol9/ctgbioinfo/taol9/flex/Pilot_spike/LIB5468564_HITS5485163/outs/per_sample_outs/LIB5468564_HITS5485163/count/sample_filtered_feature_bc_matrix.h5' is loaded.\n",
      "2023-11-02 15:00:15,236 - pegasusio.readwrite - INFO - Function 'read_input' finished in 1.92s.\n"
     ]
    }
   ],
   "source": [
    "padlock=pg.read_input(padlock)"
   ]
  },
  {
   "cell_type": "code",
   "execution_count": 8,
   "id": "c19e76fa-7bf0-4170-aa20-8f2b6946cb59",
   "metadata": {},
   "outputs": [],
   "source": [
    "genelist=['KRAS',\n",
    "'FGFR1',\n",
    "'TP63',\n",
    "'PTPRC',\n",
    "'DNAJB1']"
   ]
  },
  {
   "cell_type": "code",
   "execution_count": 9,
   "id": "81ba7499-6e8e-4047-af59-24c4680de6aa",
   "metadata": {},
   "outputs": [
    {
     "data": {
      "text/html": [
       "<div>\n",
       "<style scoped>\n",
       "    .dataframe tbody tr th:only-of-type {\n",
       "        vertical-align: middle;\n",
       "    }\n",
       "\n",
       "    .dataframe tbody tr th {\n",
       "        vertical-align: top;\n",
       "    }\n",
       "\n",
       "    .dataframe thead th {\n",
       "        text-align: right;\n",
       "    }\n",
       "</style>\n",
       "<table border=\"1\" class=\"dataframe\">\n",
       "  <thead>\n",
       "    <tr style=\"text-align: right;\">\n",
       "      <th></th>\n",
       "      <th>featureid</th>\n",
       "    </tr>\n",
       "    <tr>\n",
       "      <th>featurekey</th>\n",
       "      <th></th>\n",
       "    </tr>\n",
       "  </thead>\n",
       "  <tbody>\n",
       "    <tr>\n",
       "      <th>KRAS</th>\n",
       "      <td>ENSG00000133703</td>\n",
       "    </tr>\n",
       "    <tr>\n",
       "      <th>FGFR1</th>\n",
       "      <td>ENSG00000077782</td>\n",
       "    </tr>\n",
       "    <tr>\n",
       "      <th>TP63</th>\n",
       "      <td>ENSG00000073282</td>\n",
       "    </tr>\n",
       "    <tr>\n",
       "      <th>PTPRC</th>\n",
       "      <td>ENSG00000081237</td>\n",
       "    </tr>\n",
       "    <tr>\n",
       "      <th>DNAJB1</th>\n",
       "      <td>ENSG00000132002</td>\n",
       "    </tr>\n",
       "  </tbody>\n",
       "</table>\n",
       "</div>"
      ],
      "text/plain": [
       "                  featureid\n",
       "featurekey                 \n",
       "KRAS        ENSG00000133703\n",
       "FGFR1       ENSG00000077782\n",
       "TP63        ENSG00000073282\n",
       "PTPRC       ENSG00000081237\n",
       "DNAJB1      ENSG00000132002"
      ]
     },
     "execution_count": 9,
     "metadata": {},
     "output_type": "execute_result"
    }
   ],
   "source": [
    "frp.var.loc[genelist]"
   ]
  },
  {
   "cell_type": "code",
   "execution_count": 49,
   "id": "3d957ef7-f3d1-4d25-a1b9-9ee517acefe4",
   "metadata": {},
   "outputs": [
    {
     "data": {
      "text/html": [
       "<div>\n",
       "<style scoped>\n",
       "    .dataframe tbody tr th:only-of-type {\n",
       "        vertical-align: middle;\n",
       "    }\n",
       "\n",
       "    .dataframe tbody tr th {\n",
       "        vertical-align: top;\n",
       "    }\n",
       "\n",
       "    .dataframe thead th {\n",
       "        text-align: right;\n",
       "    }\n",
       "</style>\n",
       "<table border=\"1\" class=\"dataframe\">\n",
       "  <thead>\n",
       "    <tr style=\"text-align: right;\">\n",
       "      <th></th>\n",
       "    </tr>\n",
       "    <tr>\n",
       "      <th>barcodekey</th>\n",
       "    </tr>\n",
       "  </thead>\n",
       "  <tbody>\n",
       "    <tr>\n",
       "      <th>AAACAAGCAATAGAAG</th>\n",
       "    </tr>\n",
       "    <tr>\n",
       "      <th>AAACAAGCAATGAAGA</th>\n",
       "    </tr>\n",
       "    <tr>\n",
       "      <th>AAACAAGCAATTGAGT</th>\n",
       "    </tr>\n",
       "    <tr>\n",
       "      <th>AAACAAGCAGCACGTG</th>\n",
       "    </tr>\n",
       "    <tr>\n",
       "      <th>AAACAAGCAGTGAGGA</th>\n",
       "    </tr>\n",
       "    <tr>\n",
       "      <th>...</th>\n",
       "    </tr>\n",
       "    <tr>\n",
       "      <th>TTTGTGAGTCACACCA</th>\n",
       "    </tr>\n",
       "    <tr>\n",
       "      <th>TTTGTGAGTGGTGCAG</th>\n",
       "    </tr>\n",
       "    <tr>\n",
       "      <th>TTTGTGAGTGTCCAAT</th>\n",
       "    </tr>\n",
       "    <tr>\n",
       "      <th>TTTGTGAGTTCCTTTG</th>\n",
       "    </tr>\n",
       "    <tr>\n",
       "      <th>TTTGTGAGTTGGGCGA</th>\n",
       "    </tr>\n",
       "  </tbody>\n",
       "</table>\n",
       "<p>10999 rows × 0 columns</p>\n",
       "</div>"
      ],
      "text/plain": [
       "Empty DataFrame\n",
       "Columns: []\n",
       "Index: [AAACAAGCAATAGAAG, AAACAAGCAATGAAGA, AAACAAGCAATTGAGT, AAACAAGCAGCACGTG, AAACAAGCAGTGAGGA, AAACAAGCATCAATCC, AAACAAGCATTGCATC, AAACCAATCCCAAATT, AAACCAATCCCTGGAT, AAACCAATCCTGACTA, AAACCAATCGAAGGCC, AAACCAATCTTGAAAG, AAACCAATCTTGAGGG, AAACCAGGTATAGTGG, AAACCAGGTCCCTCAT, AAACCAGGTGAATCTC, AAACCAGGTGACCTTG, AAACCAGGTGCGGTTC, AAACCAGGTTCACTCC, AAACCGGTCAACCAAA, AAACCGGTCTTTGGTG, AAACGGGCAAACGGGA, AAACGGGCAGCTGCTC, AAACGTTCAATCAAAC, AAACGTTCAATTGCGA, AAACGTTCACGGTCGA, AAACGTTCAGACTCAA, AAACGTTCAGAGGCTT, AAACGTTCAGCCAGCA, AAACGTTCAGGATTGC, AAACGTTCATGCCTCA, AAACGTTCATTCCTTT, AAACTGGGTAAAGGCC, AAACTGGGTAACTACC, AAACTGGGTAGACTGA, AAACTGGGTAGTAACG, AAACTGGGTGAACGTA, AAACTGGGTGAGAAGG, AAACTGGGTTTGCATA, AAACTGTCACGTGCTC, AAACTGTCAGCTAGCG, AAACTGTCATAACCAG, AAACTGTCATGCGCAG, AAACTGTCATTCATGC, AAAGATGCAACAGCAC, AAAGATGCAAGTCGCG, AAAGATGCAATACTGG, AAAGATGCAGTTGCCC, AAAGATGCATCAGGAC, AAAGCATGTACTAACC, AAAGCATGTATGGTCT, AAAGCATGTCCAGCTA, AAAGCATGTGGCCCAT, AAAGCATGTTAGTCTA, AAAGCATGTTGGCGAG, AAAGCATGTTTACTGA, AAAGCCTAGAACCTCC, AAAGCCTAGCCCTTGG, AAAGCCTAGCTATTAC, AAAGCCTAGCTCAAGG, AAAGCGAAGACCTTTG, AAAGCGAAGCATCTTG, AAAGCGAAGCCACTCG, AAAGCGAAGCCAGAGC, AAAGCGAAGCCATTTG, AAAGCGAAGCTAAATG, AAAGCGAAGCTTATCG, AAAGCGAAGGAAGCCC, AAAGCGAAGGAAGGTA, AAAGCGAAGGAGTCAT, AAAGCGAAGGATTATG, AAAGGCAAGCAACATA, AAAGGCAAGGCCATTC, AAAGGCAAGTCAAACA, AAAGGCAAGTCGAAGT, AAAGGCAAGTTTCCAG, AAAGGCTTCAATTGGA, AAAGGGATCTATTGCG, AAAGGGATCTTTGGTG, AAAGGTACAAGTAAGA, AAAGGTACAATGGGAG, AAAGGTACAGAAACTT, AAAGGTACATAGGGTC, AAAGGTACATTTGGGA, AAAGGTGAGCGAATCG, AAAGGTGAGCGGCTTT, AAAGGTGAGGCAAGCC, AAAGGTGAGGCTTATT, AAAGGTGAGTAAACCA, AAAGGTGAGTTTGGTT, AAAGTAGCAAGGCGTT, AAAGTAGCAGCAAGCT, AAAGTCATCATTGCAT, AAAGTCATCCGTTAGC, AAAGTCATCGGCTAAG, AAAGTCATCGTTAACT, AAAGTCATCTATTCGG, AAAGTCATCTTGAATC, AAAGTGCTCATAATCC, AAAGTGCTCATCACAT, ...]\n",
       "\n",
       "[10999 rows x 0 columns]"
      ]
     },
     "execution_count": 49,
     "metadata": {},
     "output_type": "execute_result"
    }
   ],
   "source": [
    "padlock.obs"
   ]
  },
  {
   "cell_type": "code",
   "execution_count": 37,
   "id": "6c0d73d2-676c-433e-a0f9-05bdc5688371",
   "metadata": {},
   "outputs": [],
   "source": [
    "fil_bc='/gstore/scratch/u/lauj22/NGS5110_ddPadlock/ddpadlock_only_Mutation/LIB6221274_SAM24439398/outs/per_sample_outs/LIB6221274_SAM24439398/count/sample_filtered_barcodes.csv'\n",
    "cbcr=[x[:-2] for x in pd.read_csv(fil_bc, header=None)[1].to_list()]"
   ]
  },
  {
   "cell_type": "code",
   "execution_count": 46,
   "id": "51921140-665e-4abc-8f4b-ce817c165b32",
   "metadata": {},
   "outputs": [
    {
     "data": {
      "text/plain": [
       "<11189x18082 sparse matrix of type '<class 'numpy.int32'>'\n",
       "\twith 54622035 stored elements in Compressed Sparse Row format>"
      ]
     },
     "execution_count": 46,
     "metadata": {},
     "output_type": "execute_result"
    }
   ],
   "source": [
    "frp.X"
   ]
  }
 ],
 "metadata": {
  "kernelspec": {
   "display_name": "gpyprd38",
   "language": "python",
   "name": "gpyprd38"
  },
  "language_info": {
   "codemirror_mode": {
    "name": "ipython",
    "version": 3
   },
   "file_extension": ".py",
   "mimetype": "text/x-python",
   "name": "python",
   "nbconvert_exporter": "python",
   "pygments_lexer": "ipython3",
   "version": "3.9.12"
  }
 },
 "nbformat": 4,
 "nbformat_minor": 5
}
