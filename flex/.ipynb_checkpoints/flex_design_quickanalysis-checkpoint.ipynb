{
 "cells": [
  {
   "cell_type": "code",
   "execution_count": 1,
   "metadata": {},
   "outputs": [],
   "source": [
    "import sys\n",
    "\n",
    "sys.path.append(\"/gstore/project/paneldesign/pkg\")\n",
    "\n",
    "sys.path.append(\"/gstore/home/taol9/gitsss/yo/tao\")\n",
    "# import primer3\n",
    "from Bio import SeqIO\n",
    "from Bio.Seq import Seq\n",
    "from Bio import Entrez\n",
    "import csv\n",
    "import pandas as pd\n",
    "from collections import defaultdict,OrderedDict\n",
    "from collections import Counter\n",
    "import matplotlib.pyplot as plt\n",
    "\n",
    "import pandas as pd\n",
    "import os\n",
    "import pickle\n",
    "\n"
   ]
  },
  {
   "cell_type": "code",
   "execution_count": 2,
   "metadata": {},
   "outputs": [
    {
     "name": "stdout",
     "output_type": "stream",
     "text": [
      "Collecting dill\n",
      "  Using cached dill-0.3.4-py2.py3-none-any.whl (86 kB)\n",
      "Installing collected packages: dill\n",
      "Successfully installed dill-0.3.4\n",
      "\u001b[33mWARNING: Target directory /gstore/project/paneldesign/pkg/dill already exists. Specify --upgrade to force replacement.\u001b[0m\n",
      "\u001b[31mERROR: Exception:\n",
      "Traceback (most recent call last):\n",
      "  File \"/gstore/apps/Anaconda3/5.0.1/lib/python3.6/shutil.py\", line 544, in move\n",
      "    os.rename(src, real_dst)\n",
      "OSError: [Errno 18] Invalid cross-device link: '/local/3007171/pip-target-hzkvhodm/lib/python/dill-0.3.4.dist-info' -> '/gstore/project/paneldesign/pkg/dill-0.3.4.dist-info'\n",
      "\n",
      "During handling of the above exception, another exception occurred:\n",
      "\n",
      "Traceback (most recent call last):\n",
      "  File \"/gstore/apps/Python-dev/1.0.0-Python-3.6.3/lib/python3.6/site-packages/pip/_internal/cli/base_command.py\", line 164, in exc_logging_wrapper\n",
      "    status = run_func(*args)\n",
      "  File \"/gstore/apps/Python-dev/1.0.0-Python-3.6.3/lib/python3.6/site-packages/pip/_internal/cli/req_command.py\", line 205, in wrapper\n",
      "    return func(self, options, args)\n",
      "  File \"/gstore/apps/Python-dev/1.0.0-Python-3.6.3/lib/python3.6/site-packages/pip/_internal/commands/install.py\", line 464, in run\n",
      "    options.target_dir, target_temp_dir, options.upgrade\n",
      "  File \"/gstore/apps/Python-dev/1.0.0-Python-3.6.3/lib/python3.6/site-packages/pip/_internal/commands/install.py\", line 522, in _handle_target_dir\n",
      "    shutil.move(os.path.join(lib_dir, item), target_item_dir)\n",
      "  File \"/gstore/apps/Anaconda3/5.0.1/lib/python3.6/shutil.py\", line 555, in move\n",
      "    symlinks=True)\n",
      "  File \"/gstore/apps/Anaconda3/5.0.1/lib/python3.6/shutil.py\", line 359, in copytree\n",
      "    raise Error(errors)\n",
      "shutil.Error: [('/local/3007171/pip-target-hzkvhodm/lib/python/dill-0.3.4.dist-info/DESCRIPTION.rst', '/gstore/project/paneldesign/pkg/dill-0.3.4.dist-info/DESCRIPTION.rst', '[Errno 122] Disk quota exceeded'), ('/local/3007171/pip-target-hzkvhodm/lib/python/dill-0.3.4.dist-info/METADATA', '/gstore/project/paneldesign/pkg/dill-0.3.4.dist-info/METADATA', '[Errno 122] Disk quota exceeded'), ('/local/3007171/pip-target-hzkvhodm/lib/python/dill-0.3.4.dist-info/RECORD', '/gstore/project/paneldesign/pkg/dill-0.3.4.dist-info/RECORD', '[Errno 122] Disk quota exceeded')]\u001b[0m\n",
      "Note: you may need to restart the kernel to use updated packages.\n"
     ]
    }
   ],
   "source": [
    "!pip install --target /gstore/project/paneldesign/pkg dill"
   ]
  },
  {
   "cell_type": "code",
   "execution_count": 2,
   "metadata": {},
   "outputs": [],
   "source": [
    "# pip install --target /gstore/project/paneldesign/pkg biopython"
   ]
  },
  {
   "cell_type": "markdown",
   "metadata": {},
   "source": [
    "# flex probe Design\n",
    "\n",
    "When designing custom probes, consider the\n",
    "following:\n",
    "• GC content should be between 44 − 72% for each\n",
    "25 bp probe half.\n",
    "• Avoid homopolymer repeats.\n",
    "• Avoid overlap with annotated repeat or low complexity\n",
    "sequences.\n",
    "• If possible, design probes for coding regions of\n",
    "mRNA as opposed to untranslated regions.\n",
    "# The 25th nucleotide of the probe (3' most nucleotide of the LHS probe) must be a T. The complementary nucleotide in the target RNAmust be an A.\n",
    "• Avoid common single nucleotide polymorphisms\n",
    "(SNPs) and potential mismatches at the ligation\n",
    "junction. Refer to the UCSC Genome Browser and\n",
    "the Single Nucleotide Polymorphism Database\n",
    "(dbSNP). If avoiding SNPs is not possible, SNPs and\n",
    "mismatches should be at least four bp away from\n",
    "the ligation junction.\n",
    "• If probes can bind to sequences other than the\n",
    "target mRNA sequence, off-target signal may be\n",
    "observed. To check for off-target homology, align\n",
    "the probe sequence to the reference transcriptome\n",
    "using the Basic Local Alignment Search Tool\n",
    "(BLAST). Matches to off-target genes should have\n",
    "at least five mismatches in at least one of the LHS\n",
    "or RHS probes to prevent efficient hybridization.\n",
    "• Designing three probe pairs per target mRNA\n",
    "is recommended, especially for low expressing\n",
    "genes. However, if the gene is not long enough or\n",
    "there aren't enough specific 50 bp regions, fewer\n",
    "than three probe pairs is acceptable.\n",
    "## Probe pairs should not overlap to avoid competition\n",
    "between probes for the same binding site in\n",
    "the target RNA.\n",
    "• Add new probe sequences to the probe set reference\n",
    "CSV file. Refer to the Analysis section for\n",
    "more information."
   ]
  },
  {
   "cell_type": "markdown",
   "metadata": {},
   "source": [
    "# structure\n",
    "\n",
    "left_arm=\"CCTTGGCACCCGAGAATTCCA\"+target_LHS\n",
    "right_arm=\"/5Phos/\"+target_RHS+\"ACGCGGTTAGCACGTA-NN\"+probeset_barcode_8nt+\"CGGTCCTAGCAA\"\n",
    "\n",
    "fulllib:\n",
    "p7+i7+left_arm+right_arm+10xumi+10xcellbarcode+read1seqprimer+i5+p5\n",
    "\n",
    "left_arm_snv=snv_dialout_adaptor+\"CCTTGGCACCCGAGAATTCCA\"+target_LHS\n",
    "padlock=right_arm+left_arm_snv"
   ]
  },
  {
   "cell_type": "markdown",
   "metadata": {},
   "source": [
    "# check strand,make sure statred with ATG\n",
    "mRNA is the template strand, starting from ATG....\n",
    "# probe strand is cs of mRNA strand"
   ]
  },
  {
   "cell_type": "code",
   "execution_count": 2,
   "metadata": {},
   "outputs": [],
   "source": [
    "#check GC\n",
    "\n",
    "#https://biopython.org/docs/1.75/api/Bio.SeqUtils.MeltingTemp.html\n",
    "from Bio.SeqUtils import MeltingTemp as mt\n",
    "from Bio.Seq import Seq\n"
   ]
  },
  {
   "cell_type": "code",
   "execution_count": 3,
   "metadata": {},
   "outputs": [],
   "source": [
    "# mutation codes are 1 based index, python is 0 based, convert that!\n",
    "# for rna probes, use shorter arm\n",
    "def get_target_LHS(template,mutation):\n",
    "    mutation_position=int(mutation[2:-3])-1\n",
    "    ref_base=mutation[-3]\n",
    "    mutation_base=mutation[-1]\n",
    "    if template[mutation_position]==ref_base:\n",
    "        for l in range(25,28,1):\n",
    "#         for l in range(22,23,1):\n",
    "\n",
    "            mystring=Seq(template[mutation_position:mutation_position+l])\n",
    "            gc=mt.Tm_GC(mystring)\n",
    "            if 44<gc<70:\n",
    "                return (str(mystring.reverse_complement()), \n",
    "                       str(Seq(mutation_base+str(mystring[:-1])).reverse_complement()))\n",
    "                break\n",
    "    else:\n",
    "        return \"wrong input\", mutation_position, mutation_base, ref_base,mutation"
   ]
  },
  {
   "cell_type": "code",
   "execution_count": 286,
   "metadata": {},
   "outputs": [],
   "source": [
    "def get_target_RHS(template,mutation):\n",
    "    mutation_position=int(mutation[2:-3])-1\n",
    "    ref_base=mutation[-3]\n",
    "    mutation_base=mutation[-1]\n",
    "    if template[mutation_position]==ref_base:\n",
    "        for l in range(25,28,1):\n",
    "#         for l in range(22,23,1):\n",
    "            mystring=Seq(template[mutation_position-l:mutation_position])\n",
    "            gc=mt.Tm_GC(mystring)\n",
    "            if 44<gc<70:\n",
    "                return str(mystring.reverse_complement())\n",
    "                break\n",
    "    else:\n",
    "        return \"wrong input\", mutation_base, ref_base, mutation"
   ]
  },
  {
   "cell_type": "markdown",
   "metadata": {},
   "source": [
    "## define adaptor\n"
   ]
  },
  {
   "cell_type": "code",
   "execution_count": 67,
   "metadata": {},
   "outputs": [
    {
     "name": "stdout",
     "output_type": "stream",
     "text": [
      "BC001 = \"ACTTTAGG\"\n",
      "BC002 = \"AACGGGAA\"\n",
      "BC003 = \"AGTAGGCT\"\n",
      "BC004 = \"ATGTTGAC\"\n",
      "BC005 = \"ACAGACCT\"\n",
      "BC006 = \"ATCCCAAC\"\n",
      "BC007 = \"AAGTAGAG\"\n",
      "BC008 = \"AGCTGTGA\"\n",
      "BC009 = \"ACAGTCTG\"\n",
      "BC010 = \"AGTGAGTG\"\n",
      "BC011 = \"AGAGGCAA\"\n",
      "BC012 = \"ACTACTCA\"\n",
      "BC013 = \"ATACGTCA\"\n",
      "BC014 = \"ATCATGTG\"\n",
      "BC015 = \"AACGCCGA\"\n",
      "BC016 = \"ATTCGGTT\"\n"
     ]
    }
   ],
   "source": [
    "barcodes=pd.read_csv('probe-barcodes-fixed-rna-profiling.txt',sep='\\t', header=None)\n",
    "barcodes=barcodes[[1,2]].drop_duplicates()\n",
    "for i,r in barcodes.iterrows():\n",
    "    print (r[2],'=', '\"'+r[1]+'\"')"
   ]
  },
  {
   "cell_type": "code",
   "execution_count": 287,
   "metadata": {},
   "outputs": [],
   "source": [
    "BC001 = \"ACTTTAGG\"\n",
    "BC002 = \"AACGGGAA\"\n",
    "BC003 = \"AGTAGGCT\"\n",
    "BC004 = \"ATGTTGAC\"\n",
    "BC005 = \"ACAGACCT\"\n",
    "BC006 = \"ATCCCAAC\"\n",
    "BC007 = \"AAGTAGAG\"\n",
    "BC008 = \"AGCTGTGA\"\n",
    "BC009 = \"ACAGTCTG\"\n",
    "BC010 = \"AGTGAGTG\"\n",
    "BC011 = \"AGAGGCAA\"\n",
    "BC012 = \"ACTACTCA\"\n",
    "BC013 = \"ATACGTCA\"\n",
    "BC014 = \"ATCATGTG\"\n",
    "BC015 = \"AACGCCGA\"\n",
    "BC016 = \"ATTCGGTT\""
   ]
  },
  {
   "cell_type": "code",
   "execution_count": 227,
   "metadata": {},
   "outputs": [
    {
     "data": {
      "text/plain": [
       "13"
      ]
     },
     "execution_count": 227,
     "metadata": {},
     "output_type": "execute_result"
    }
   ],
   "source": [
    "len('ACCATGGCCTGTA')"
   ]
  },
  {
   "cell_type": "code",
   "execution_count": 254,
   "metadata": {},
   "outputs": [
    {
     "data": {
      "text/plain": [
       "15"
      ]
     },
     "execution_count": 254,
     "metadata": {},
     "output_type": "execute_result"
    }
   ],
   "source": [
    "len(\"GACTCCACACTCATA\")"
   ]
  },
  {
   "cell_type": "code",
   "execution_count": 288,
   "metadata": {},
   "outputs": [],
   "source": [
    "# use B013\n",
    "# use LNA base primer for snv_dialout when run with rna probes\n",
    "# max lenght set to 120 for rna probes\n",
    "BC013 = \"ATACGTCA\"\n",
    "snv_dialout_adaptor=Mly1_F_w='GCAACGACTCCACACTCATA'\n",
    "\n",
    "def flex_padlock(template,mutation,probeset_barcode_8nt=\"ATACGTCA\",snv_dialout_adaptor='GCAACGACTCCACACTCATA'):\n",
    "    target_LHS=get_target_LHS(template,mutation)\n",
    "\n",
    "    target_RHS=get_target_RHS(template,mutation)\n",
    "    left_arm0=snv_dialout_adaptor+\"CCTTGGCACCCGAGAATTCCA\"+target_LHS[0]\n",
    "    left_arm1=snv_dialout_adaptor+\"CCTTGGCACCCGAGAATTCCA\"+target_LHS[1]\n",
    "\n",
    "    right_arm=\"/5Phos/\"+target_RHS+\"ACGCGGTTAGCACGTANN\"+probeset_barcode_8nt+\"CGGTCCTAGCAA\"\n",
    "    #fulllib:\n",
    "    #p7+i7+left_arm+right_arm+10xumi+10xcellbarcode+read1seqprimer+i5+p5\n",
    "#     left_arm_snv=snv_dialout_adaptor+\"CCTTGGCACCCGAGAATTCCA\"+target_LHS\n",
    "    padlock_ref=right_arm+snv_dialout_adaptor+\"CCTTGGCACCCGAGAATTCCA\"+target_LHS[0]\n",
    "    padlock_alt=right_arm+snv_dialout_adaptor+\"CCTTGGCACCCGAGAATTCCA\"+target_LHS[1]\n",
    "#     print (len(target_RHS+\"ACGCGGTTAGCACGTANN\"+probeset_barcode_8nt+\"CGGTCCTAGCAA\")+len(left_arm0), len(target_LHS[0]),len(target_RHS))\n",
    "\n",
    "    return {'LHS_ref':left_arm0, 'target_LHS_ref':target_LHS[0], 'LHS_mut':left_arm1, 'target_LHS_mut':target_LHS[1],'target_RHS':target_RHS,\"RHS\":right_arm, \"padlock_ref\":padlock_ref, \"padlock_alt\":padlock_alt,}"
   ]
  },
  {
   "cell_type": "code",
   "execution_count": 219,
   "metadata": {},
   "outputs": [],
   "source": [
    "# convert to padlock probe"
   ]
  },
  {
   "cell_type": "code",
   "execution_count": 245,
   "metadata": {},
   "outputs": [],
   "source": [
    "KRAS_CDS='''ATGACTGAATATAAACTTGTGGTAGTTGGAGCTGGTGGCGTAGGCAAGAGTGCCTTGACGATACAGCTAATTCAGAATCATTTTGTGGACGAATATGATCCAACAATAGAGGATTCCTAC\n",
    "AGGAAGCAAGTAGTAATTGATGGAGAAACCTGTCTCTTGGATATTCTCGACACAGCAGGT\n",
    "CAAGAGGAGTACAGTGCAATGAGGGACCAGTACATGAGGACTGGGGAGGGCTTTCTTTGT\n",
    "GTATTTGCCATAAATAATACTAAATCATTTGAAGATATTCACCATTATAGAGAACAAATT\n",
    "AAAAGAGTTAAGGACTCTGAAGATGTACCTATGGTCCTAGTAGGAAATAAATGTGATTTG\n",
    "CCTTCTAGAACAGTAGACACAAAACAGGCTCAGGACTTAGCAAGAAGTTATGGAATTCCT\n",
    "TTTATTGAAACATCAGCAAAGACAAGACAGAGAGTGGAGGATGCTTTTTATACATTGGTG\n",
    "AGAGAGATCCGACAATACAGATTGAAAAAAATCAGCAAAGAAGAAAAGACTCCTGGCTGT\n",
    "GTGAAAATTAAAAAATGCATTATAATGTAA'''\n",
    "KRAS_CDS=KRAS_CDS.replace('\\n','')\n",
    "\n"
   ]
  },
  {
   "cell_type": "code",
   "execution_count": 260,
   "metadata": {},
   "outputs": [
    {
     "name": "stdout",
     "output_type": "stream",
     "text": [
      "118 22 22\n"
     ]
    },
    {
     "data": {
      "text/plain": [
       "{'LHS_ref': 'GACTCCACACTCATACCTTGGCACCCGAGAATTCCAAGGCACTCTTGCCTACGCCACC',\n",
       " 'target_LHS_ref': 'AGGCACTCTTGCCTACGCCACC',\n",
       " 'LHS_mut': 'GACTCCACACTCATACCTTGGCACCCGAGAATTCCAGGCACTCTTGCCTACGCCACCA',\n",
       " 'target_LHS_mut': 'GGCACTCTTGCCTACGCCACCA',\n",
       " 'target_RHS': 'AGCTCCAACTACCACAAGTTTA',\n",
       " 'RHS': '/5Phos/AGCTCCAACTACCACAAGTTTAACGCGGTTAGCACGTANNATACGTCACGGTCCTAGCAA',\n",
       " 'padlock_ref': '/5Phos/AGCTCCAACTACCACAAGTTTAACGCGGTTAGCACGTANNATACGTCACGGTCCTAGCAAGACTCCACACTCATACCTTGGCACCCGAGAATTCCAAGGCACTCTTGCCTACGCCACC',\n",
       " 'padlock_alt': '/5Phos/AGCTCCAACTACCACAAGTTTAACGCGGTTAGCACGTANNATACGTCACGGTCCTAGCAAGACTCCACACTCATACCTTGGCACCCGAGAATTCCAGGCACTCTTGCCTACGCCACCA'}"
      ]
     },
     "execution_count": 260,
     "metadata": {},
     "output_type": "execute_result"
    }
   ],
   "source": [
    "KRAS_flex=flex_padlock(KRAS_CDS,'c.34G>T')\n",
    "KRAS_flex"
   ]
  },
  {
   "cell_type": "code",
   "execution_count": 91,
   "metadata": {},
   "outputs": [],
   "source": [
    "TP63_CDS='''ATGAATTTTGAAACTTCACGGTGTGCCACCCTACAGTACTGCCCTGACCCTTACATCCAGCGTTTCGTAG\n",
    "AAACCCCAGCTCATTTCTCTTGGAAAGAAAGTTATTACCGATCCACCATGTCCCAGAGCACACAGACAAA\n",
    "TGAATTCCTCAGTCCAGAGGTTTTCCAGCATATCTGGGATTTTCTGGAACAGCCTATATGTTCAGTTCAG\n",
    "CCCATTGACTTGAACTTTGTGGATGAACCATCAGAAGATGGTGCGACAAACAAGATTGAGATTAGCATGG\n",
    "ACTGTATCCGCATGCAGGACTCGGACCTGAGTGACCCCATGTGGCCACAGTACACGAACCTGGGGCTCCT\n",
    "GAACAGCATGGACCAGCAGATTCAGAACGGCTCCTCGTCCACCAGTCCCTATAACACAGACCACGCGCAG\n",
    "AACAGCGTCACGGCGCCCTCGCCCTACGCACAGCCCAGCTCCACCTTCGATGCTCTCTCTCCATCACCCG\n",
    "CCATCCCCTCCAACACCGACTACCCAGGCCCGCACAGTTTCGACGTGTCCTTCCAGCAGTCGAGCACCGC\n",
    "CAAGTCGGCCACCTGGACGTATTCCACTGAACTGAAGAAACTCTACTGCCAAATTGCAAAGACATGCCCC\n",
    "ATCCAGATCAAGGTGATGACCCCACCTCCTCAGGGAGCTGTTATCCGCGCCATGCCTGTCTACAAAAAAG\n",
    "CTGAGCACGTCACGGAGGTGGTGAAGCGGTGCCCCAACCATGAGCTGAGCCGTGAATTCAACGAGGGACA\n",
    "GATTGCCCCTCCTAGTCATTTGATTCGAGTAGAGGGGAACAGCCATGCCCAGTATGTAGAAGATCCCATC\n",
    "ACAGGAAGACAGAGTGTGCTGGTACCTTATGAGCCACCCCAGGTTGGCACTGAATTCACGACAGTCTTGT\n",
    "ACAATTTCATGTGTAACAGCAGTTGTGTTGGAGGGATGAACCGCCGTCCAATTTTAATCATTGTTACTCT\n",
    "GGAAACCAGAGATGGGCAAGTCCTGGGCCGACGCTGCTTTGAGGCCCGGATCTGTGCTTGCCCAGGAAGA\n",
    "GACAGGAAGGCGGATGAAGATAGCATCAGAAAGCAGCAAGTTTCGGACAGTACAAAGAACGGTGATGGTA\n",
    "CGAAGCGCCCGTTTCGTCAGAACACACATGGTATCCAGATGACATCCATCAAGAAACGAAGATCCCCAGA\n",
    "TGATGAACTGTTATACTTACCAGTGAGGGGCCGTGAGACTTATGAAATGCTGTTGAAGATCAAAGAGTCC\n",
    "CTGGAACTCATGCAGTACCTTCCTCAGCACACAATTGAAACGTACAGGCAACAGCAACAGCAGCAGCACC\n",
    "AGCACTTACTTCAGAAACAGACCTCAATACAGTCTCCATCTTCATATGGTAACAGCTCCCCACCTCTGAA\n",
    "CAAAATGAACAGCATGAACAAGCTGCCTTCTGTGAGCCAGCTTATCAACCCTCAGCAGCGCAACGCCCTC\n",
    "ACTCCTACAACCATTCCTGATGGCATGGGAGCCAACATTCCCATGATGGGCACCCACATGCCAATGGCTG\n",
    "GAGACATGAATGGACTCAGCCCCACCCAGGCACTCCCTCCCCCACTCTCCATGCCATCCACCTCCCACTG\n",
    "CACACCCCCACCTCCGTATCCCACAGATTGCAGCATTGTCAGTTTCTTAGCGAGGTTGGGCTGTTCATCA\n",
    "TGTCTGGACTATTTCACGACCCAGGGGCTGACCACCATCTATCAGATTGAGCATTACTCCATGGATGATC\n",
    "TGGCAAGTCTGAAAATCCCTGAGCAATTTCGACATGCGATCTGGAAGGGCATCCTGGACCACCGGCAGCT\n",
    "CCACGAATTCTCCTCCCCTTCTCATCTCCTGCGGACCCCAAGCAGTGCCTCTACAGTCAGTGTGGGCTCC\n",
    "AGTGAGACCCGGGGTGAGCGTGTTATTGATGCTGTGCGATTCACCCTCCGCCAGACCATCTCTTTCCCAC\n",
    "CCCGAGATGAGTGGAATGACTTCAACTTTGACATGGATGCTCGCCGCAATAAGCAACAGCGCATCAAAGA\n",
    "GGAGGGGGAGTGA'''.replace('\\n','')"
   ]
  },
  {
   "cell_type": "code",
   "execution_count": 250,
   "metadata": {},
   "outputs": [
    {
     "name": "stdout",
     "output_type": "stream",
     "text": [
      "118 22 22\n"
     ]
    },
    {
     "data": {
      "text/plain": [
       "{'LHS_ref': 'GACTCCACACTCATACCTTGGCACCCGAGAATTCCACGTTCTTTGTACTGTCCGAAAC',\n",
       " 'target_LHS_ref': 'CGTTCTTTGTACTGTCCGAAAC',\n",
       " 'LHS_mut': 'GACTCCACACTCATACCTTGGCACCCGAGAATTCCAGTTCTTTGTACTGTCCGAAACT',\n",
       " 'target_LHS_mut': 'GTTCTTTGTACTGTCCGAAACT',\n",
       " 'target_RHS': 'TTGCTGCTTTCTGATGCTATCT',\n",
       " 'RHS': '/5Phos/TTGCTGCTTTCTGATGCTATCTACGCGGTTAGCACGTANNATACGTCACGGTCCTAGCAA',\n",
       " 'padlock_ref': '/5Phos/TTGCTGCTTTCTGATGCTATCTACGCGGTTAGCACGTANNATACGTCACGGTCCTAGCAAGACTCCACACTCATACCTTGGCACCCGAGAATTCCACGTTCTTTGTACTGTCCGAAAC',\n",
       " 'padlock_alt': '/5Phos/TTGCTGCTTTCTGATGCTATCTACGCGGTTAGCACGTANNATACGTCACGGTCCTAGCAAGACTCCACACTCATACCTTGGCACCCGAGAATTCCAGTTCTTTGTACTGTCCGAAACT'}"
      ]
     },
     "execution_count": 250,
     "metadata": {},
     "output_type": "execute_result"
    }
   ],
   "source": [
    "TP63_flex=flex_padlock(TP63_CDS,'c.1090G>A')\n",
    "TP63_flex"
   ]
  },
  {
   "cell_type": "code",
   "execution_count": 93,
   "metadata": {},
   "outputs": [],
   "source": [
    "FGFR1_CDS='''ATGGAGGCAAGGGTCAGTTTGAAAAGGAGGATCGAGCTCACTGTGGAGTATCCATGGAGATGTGGAGCCT\n",
    "TGTCACCAACCTCTAACTGCAGAACTGGGATGTGGAGCTGGAAGTGCCTCCTCTTCTGGGCTGTGCTGGT\n",
    "CACAGCCACACTCTGCACCGCTAGGCCGTCCCCGACCTTGCCTGAACAAGCCCAGCCCTGGGGAGCCCCT\n",
    "GTGGAAGTGGAGTCCTTCCTGGTCCACCCCGGTGACCTGCTGCAGCTTCGCTGTCGGCTGCGGGACGATG\n",
    "TGCAGAGCATCAACTGGCTGCGGGACGGGGTGCAGCTGGCGGAAAGCAACCGCACCCGCATCACAGGGGA\n",
    "GGAGGTGGAGGTGCAGGACTCCGTGCCCGCAGACTCCGGCCTCTATGCTTGCGTAACCAGCAGCCCCTCG\n",
    "GGCAGTGACACCACCTACTTCTCCGTCAATGTTTCAGATGCTCTCCCCTCCTCGGAGGATGATGATGATG\n",
    "ATGATGACTCCTCTTCAGAGGAGAAAGAAACAGATAACACCAAACCAAACCCCGTAGCTCCATATTGGAC\n",
    "ATCCCCAGAAAAGATGGAAAAGAAATTGCATGCAGTGCCGGCTGCCAAGACAGTGAAGTTCAAATGCCCT\n",
    "TCCAGTGGGACCCCAAACCCCACACTGCGCTGGTTGAAAAATGGCAAAGAATTCAAACCTGACCACAGAA\n",
    "TTGGAGGCTACAAGGTCCGTTATGCCACCTGGAGCATCATAATGGACTCTGTGGTGCCCTCTGACAAGGG\n",
    "CAACTACACCTGCATTGTGGAGAATGAGTACGGCAGCATCAACCACACATACCAGCTGGATGTCGTGGAG\n",
    "CGGTCCCCTCACCGGCCCATCCTGCAAGCAGGGTTGCCCGCCAACAAAACAGTGGCCCTGGGTAGCAACG\n",
    "TGGAGTTCATGTGTAAGGTGTACAGTGACCCGCAGCCGCACATCCAGTGGCTAAAGCACATCGAGGTGAA\n",
    "TGGGAGCAAGATTGGCCCAGACAACCTGCCTTATGTCCAGATCTTGAAGACTGCTGGAGTTAATACCACC\n",
    "GACAAAGAGATGGAGGTGCTTCACTTAAGAAATGTCTCCTTTGAGGACGCAGGGGAGTATACGTGCTTGG\n",
    "CGGGTAACTCTATCGGACTCTCCCATCACTCTGCATGGTTGACCGTTCTGGAAGCCCTGGAAGAGAGGCC\n",
    "GGCAGTGATGACCTCGCCCCTGTACCTGGAGATCATCATCTATTGCACAGGGGCCTTCCTCATCTCCTGC\n",
    "ATGGTGGGGTCGGTCATCGTCTACAAGATGAAGAGTGGTACCAAGAAGAGTGACTTCCACAGCCAGATGG\n",
    "CTGTGCACAAGCTGGCCAAGAGCATCCCTCTGCGCAGACAGGTAACAGTGTCTGCTGACTCCAGTGCATC\n",
    "CATGAACTCTGGGGTTCTTCTGGTTCGGCCATCACGGCTCTCCTCCAGTGGGACTCCCATGCTAGCAGGG\n",
    "GTCTCTGAGTATGAGCTTCCCGAAGACCCTCGCTGGGAGCTGCCTCGGGACAGACTGGTCTTAGGCAAAC\n",
    "CCCTGGGAGAGGGCTGCTTTGGGCAGGTGGTGTTGGCAGAGGCTATCGGGCTGGACAAGGACAAACCCAA\n",
    "CCGTGTGACCAAAGTGGCTGTGAAGATGTTGAAGTCGGACGCAACAGAGAAAGACTTGTCAGACCTGATC\n",
    "TCAGAAATGGAGATGATGAAGATGATCGGGAAGCATAAGAATATCATCAACCTGCTGGGGGCCTGCACGC\n",
    "AGGATGGTCCCTTGTATGTCATCGTGGAGTATGCCTCCAAGGGCAACCTGCGGGAGTACCTGCAGGCCCG\n",
    "GAGGCCCCCAGGGCTGGAATACTGCTACAACCCCAGCCACAACCCAGAGGAGCAGCTCTCCTCCAAGGAC\n",
    "CTGGTGTCCTGCGCCTACCAGGTGGCCCGAGGCATGGAGTATCTGGCCTCCAAGAAGTGCATACACCGAG\n",
    "ACCTGGCAGCCAGGAATGTCCTGGTGACAGAGGACAATGTGATGAAGATAGCAGACTTTGGCCTCGCACG\n",
    "GGACATTCACCACATCGACTACTATAAAAAGACAACCAACGGCCGACTGCCTGTGAAGTGGATGGCACCC\n",
    "GAGGCATTATTTGACCGGATCTACACCCACCAGAGTGATGTGTGGTCTTTCGGGGTGCTCCTGTGGGAGA\n",
    "TCTTCACTCTGGGCGGCTCCCCATACCCCGGTGTGCCTGTGGAGGAACTTTTCAAGCTGCTGAAGGAGGG\n",
    "TCACCGCATGGACAAGCCCAGTAACTGCACCAACGAGCTGTACATGATGATGCGGGACTGCTGGCATGCA\n",
    "GTGCCCTCACAGAGACCCACCTTCAAGCAGCTGGTGGAAGACCTGGACCGCATCGTGGCCTTGACCTCCA\n",
    "ACCAGGAGTACCTGGACCTGTCCATGCCCCTGGACCAGTACTCCCCCAGCTTTCCCGACACCCGGAGCTC\n",
    "TACGTGCTCCTCAGGGGAGGATTCCGTCTTCTCTCATGAGCCGCTGCCCGAGGAGCCCTGCCTGCCCCGA\n",
    "CACCCAGCCCAGCTTGCCAATGGCGGACTCAAACGCCGCTGA'''.replace('\\n','')"
   ]
  },
  {
   "cell_type": "code",
   "execution_count": 251,
   "metadata": {},
   "outputs": [
    {
     "name": "stdout",
     "output_type": "stream",
     "text": [
      "118 22 22\n"
     ]
    },
    {
     "data": {
      "text/plain": [
       "{'LHS_ref': 'GACTCCACACTCATACCTTGGCACCCGAGAATTCCAATGATGCTCCAGGTGGCATAAC',\n",
       " 'target_LHS_ref': 'ATGATGCTCCAGGTGGCATAAC',\n",
       " 'LHS_mut': 'GACTCCACACTCATACCTTGGCACCCGAGAATTCCATGATGCTCCAGGTGGCATAACT',\n",
       " 'target_LHS_mut': 'TGATGCTCCAGGTGGCATAACT',\n",
       " 'target_RHS': 'GGACCTTGTAGCCTCCAATTCT',\n",
       " 'RHS': '/5Phos/GGACCTTGTAGCCTCCAATTCTACGCGGTTAGCACGTANNATACGTCACGGTCCTAGCAA',\n",
       " 'padlock_ref': '/5Phos/GGACCTTGTAGCCTCCAATTCTACGCGGTTAGCACGTANNATACGTCACGGTCCTAGCAAGACTCCACACTCATACCTTGGCACCCGAGAATTCCAATGATGCTCCAGGTGGCATAAC',\n",
       " 'padlock_alt': '/5Phos/GGACCTTGTAGCCTCCAATTCTACGCGGTTAGCACGTANNATACGTCACGGTCCTAGCAAGACTCCACACTCATACCTTGGCACCCGAGAATTCCATGATGCTCCAGGTGGCATAACT'}"
      ]
     },
     "execution_count": 251,
     "metadata": {},
     "output_type": "execute_result"
    }
   ],
   "source": [
    "FGFR1_flex=flex_padlock(FGFR1_CDS, \"c.719G>A\")\n",
    "FGFR1_flex"
   ]
  },
  {
   "cell_type": "code",
   "execution_count": null,
   "metadata": {},
   "outputs": [],
   "source": [
    "### https://cancer.sanger.ac.uk/cosmic/mutation/overview?id=130818805"
   ]
  },
  {
   "cell_type": "code",
   "execution_count": 200,
   "metadata": {},
   "outputs": [],
   "source": [
    "PTPRC='''ATGACCATGTATTTGTGGCTTAAACTCTTGGCATTTGGCTTTGCCTTTCTGGACACAGAAGTATTTGTGA\n",
    "CAGGGCAAAGCCCAACACCTTCCCCCACTGGATTGACTACAGCAAAGATGCCCAGTGTTCCACTTTCAAG\n",
    "TGACCCCTTACCTACTCACACCACTGCATTCTCACCCGCAAGCACCTTTGAAAGAGAAAATGACTTCTCA\n",
    "GAGACCACAACTTCTCTTAGTCCAGACAATACTTCCACCCAAGTATCCCCGGACTCTTTGGATAATGCTA\n",
    "GTGCTTTTAATACCACAGGTGTTTCATCAGTACAGACGCCTCACCTTCCCACGCACGCAGACTCGCAGAC\n",
    "GCCCTCTGCTGGAACTGACACGCAGACATTCAGCGGCTCCGCCGCCAATGCAAAACTCAACCCTACCCCA\n",
    "GGCAGCAATGCTATCTCAGATGTCCCAGGAGAGAGGAGTACAGCCAGCACCTTTCCTACAGACCCAGTTT\n",
    "CCCCATTGACAACCACCCTCAGCCTTGCACACCACAGCTCTGCTGCCTTACCTGCACGCACCTCCAACAC\n",
    "CACCATCACAGCGAACACCTCAGATGCCTACCTTAATGCCTCTGAAACAACCACTCTGAGCCCTTCTGGA\n",
    "AGCGCTGTCATTTCAACCACAACAATAGCTACTACTCCATCTAAGCCAACATGTGATGAAAAATATGCAA\n",
    "ACATCACTGTGGATTACTTATATAACAAGGAAACTAAATTATTTACAGCAAAGCTAAATGTTAATGAGAA\n",
    "TGTGGAATGTGGAAACAATACTTGCACAAACAATGAGGTGCATAACCTTACAGAATGTAAAAATGCGTCT\n",
    "GTTTCCATATCTCATAATTCATGTACTGCTCCTGATAAGACATTAATATTAGATGTGCCACCAGGGGTTG\n",
    "AAAAGTTTCAGTTACATGATTGTACACAAGTTGAAAAAGCAGATACTACTATTTGTTTAAAATGGAAAAA\n",
    "TATTGAAACCTTTACTTGTGATACACAGAATATTACCTACAGATTTCAGTGTGGTAATATGATATTTGAT\n",
    "AATAAAGAAATTAAATTAGAAAACCTTGAACCCGAACATGAGTATAAGTGTGACTCAGAAATACTCTATA\n",
    "ATAACCACAAGTTTACTAACGCAAGTAAAATTATTAAAACAGATTTTGGGAGTCCAGGAGAGCCTCAGAT\n",
    "TATTTTTTGTAGAAGTGAAGCTGCACATCAAGGAGTAATTACCTGGAATCCCCCTCAAAGATCATTTCAT\n",
    "AATTTTACCCTCTGTTATATAAAAGAGACAGAAAAAGATTGCCTCAATCTGGATAAAAACCTGATCAAAT\n",
    "ATGATTTGCAAAATTTAAAACCTTATACGAAATATGTTTTATCATTACATGCCTACATCATTGCAAAAGT\n",
    "GCAACGTAATGGAAGTGCTGCAATGTGTCATTTCACAACTAAAAGTGCTCCTCCAAGCCAGGTCTGGAAC\n",
    "ATGACTGTCTCCATGACATCAGATAATAGTATGCATGTCAAGTGTAGGCCTCCCAGGGACCGTAATGGCC\n",
    "CCCATGAACGTTACCATTTGGAAGTTGAAGCTGGAAATACTCTGGTTAGAAATGAGTCGCATAAGAATTG\n",
    "CGATTTCCGTGTAAAAGATCTTCAATATTCAACAGACTACACTTTTAAGGCCTATTTTCACAATGGAGAC\n",
    "TATCCTGGAGAACCCTTTATTTTACATCATTCAACATCTTATAATTCTAAGGCACTGATAGCATTTCTGG\n",
    "CATTTCTGATTATTGTGACATCAATAGCCCTGCTTGTTGTTCTCTACAAAATCTATGATCTACATAAGAA\n",
    "AAGATCCTGCAATTTAGATGAACAGCAGGAGCTTGTTGAAAGGGATGATGAAAAACAACTGATGAATGTG\n",
    "GAGCCAATCCATGCAGATATTTTGTTGGAAACTTATAAGAGGAAGATTGCTGATGAAGGAAGACTTTTTC\n",
    "TGGCTGAATTTCAGAGCATCCCGCGGGTGTTCAGCAAGTTTCCTATAAAGGAAGCTCGAAAGCCCTTTAA\n",
    "CCAGAATAAAAACCGTTATGTTGACATTCTTCCTTATGATTATAACCGTGTTGAACTCTCTGAGATAAAC\n",
    "GGAGATGCAGGGTCAAACTACATAAATGCCAGCTATATTGATGGTTTCAAAGAACCCAGGAAATACATTG\n",
    "CTGCACAAGGTCCCAGGGATGAAACTGTTGATGATTTCTGGAGGATGATTTGGGAACAGAAAGCCACAGT\n",
    "TATTGTCATGGTCACTCGATGTGAAGAAGGAAACAGGAACAAGTGTGCAGAATACTGGCCGTCAATGGAA\n",
    "GAGGGCACTCGGGCTTTTGGAGATGTTGTTGTAAAGATCAACCAGCACAAAAGATGTCCAGATTACATCA\n",
    "TTCAGAAATTGAACATTGTAAATAAAAAAGAAAAAGCAACTGGAAGAGAGGTGACTCACATTCAGTTCAC\n",
    "CAGCTGGCCAGACCACGGGGTGCCTGAGGATCCTCACTTGCTCCTCAAACTGAGAAGGAGAGTGAATGCC\n",
    "TTCAGCAATTTCTTCAGTGGTCCCATTGTGGTGCACTGCAGTGCTGGTGTTGGGCGCACAGGAACCTATA\n",
    "TCGGAATTGATGCCATGCTAGAAGGCCTGGAAGCCGAGAACAAAGTGGATGTTTATGGTTATGTTGTCAA\n",
    "GCTAAGGCGACAGAGATGCCTGATGGTTCAAGTAGAGGCCCAGTACATCTTGATCCATCAGGCTTTGGTG\n",
    "GAATACAATCAGTTTGGAGAAACAGAAGTGAATTTGTCTGAATTACATCCATATCTACATAACATGAAGA\n",
    "AAAGGGATCCACCCAGTGAGCCGTCTCCACTAGAGGCTGAATTCCAGAGACTTCCTTCATATAGGAGCTG\n",
    "GAGGACACAGCACATTGGAAATCAAGAAGAAAATAAAAGTAAAAACAGGAATTCTAATGTCATCCCATAT\n",
    "GACTATAACAGAGTGCCACTTAAACATGAGCTGGAAATGAGTAAAGAGAGTGAGCATGATTCAGATGAAT\n",
    "CCTCTGATGATGACAGTGATTCAGAGGAACCAAGCAAATACATCAATGCATCTTTTATAATGAGCTACTG\n",
    "GAAACCTGAAGTGATGATTGCTGCTCAGGGACCACTGAAGGAGACCATTGGTGACTTTTGGCAGATGATC\n",
    "TTCCAAAGAAAAGTCAAAGTTATTGTTATGCTGACAGAACTGAAACATGGAGACCAGGAAATCTGTGCTC\n",
    "AGTACTGGGGAGAAGGAAAGCAAACATATGGAGATATTGAAGTTGACCTGAAAGACACAGACAAATCTTC\n",
    "AACTTATACCCTTCGTGTCTTTGAACTGAGACATTCCAAGAGGAAAGACTCTCGAACTGTGTACCAGTAC\n",
    "CAATATACAAACTGGAGTGTGGAGCAGCTTCCTGCAGAACCCAAGGAATTAATCTCTATGATTCAGGTCG\n",
    "TCAAACAAAAACTTCCCCAGAAGAATTCCTCTGAAGGGAACAAGCATCACAAGAGTACACCTCTACTCAT\n",
    "TCACTGCAGGGATGGATCTCAGCAAACGGGAATATTTTGTGCTTTGTTAAATCTCTTAGAAAGTGCGGAA\n",
    "ACAGAAGAGGTAGTGGATATTTTTCAAGTGGTAAAAGCTCTACGCAAAGCTAGGCCAGGCATGGTTTCCA\n",
    "CATTCGAGCAATATCAATTCCTATATGACGTCATTGCCAGCACCTACCCTGCTCAGAATGGACAAGTAAA\n",
    "GAAAAACAACCATCAAGAAGATAAAATTGAATTTGATAATGAAGTGGACAAAGTAAAGCAGGATGCTAAT\n",
    "TGTGTTAATCCACTTGGTGCCCCAGAAAAGCTCCCTGAAGCAAAGGAACAGGCTGAAGGTTCTGAACCCA\n",
    "CGAGTGGCACTGAGGGGCCAGAACATTCTGTCAATGGTCCTGCAAGTCCAGCTTTAAATCAAGGTTCATA\n",
    "G'''.replace('\\n','')"
   ]
  },
  {
   "cell_type": "markdown",
   "metadata": {},
   "source": [
    "COSMIC: p.M769I; \"c.2307G>A\"\n",
    "Bing: M769K, T>A, \"c.2306T>A\""
   ]
  },
  {
   "cell_type": "code",
   "execution_count": null,
   "metadata": {},
   "outputs": [],
   "source": []
  },
  {
   "cell_type": "code",
   "execution_count": 252,
   "metadata": {},
   "outputs": [
    {
     "name": "stdout",
     "output_type": "stream",
     "text": [
      "118 22 22\n"
     ]
    },
    {
     "data": {
      "text/plain": [
       "{'LHS_ref': 'GACTCCACACTCATACCTTGGCACCCGAGAATTCCAAAAGCCCGAGTGCCCTCTTCCA',\n",
       " 'target_LHS_ref': 'AAAGCCCGAGTGCCCTCTTCCA',\n",
       " 'LHS_mut': 'GACTCCACACTCATACCTTGGCACCCGAGAATTCCAAAGCCCGAGTGCCCTCTTCCAT',\n",
       " 'target_LHS_mut': 'AAGCCCGAGTGCCCTCTTCCAT',\n",
       " 'target_RHS': 'TTGACGGCCAGTATTCTGCACA',\n",
       " 'RHS': '/5Phos/TTGACGGCCAGTATTCTGCACAACGCGGTTAGCACGTANNATACGTCACGGTCCTAGCAA',\n",
       " 'padlock_ref': '/5Phos/TTGACGGCCAGTATTCTGCACAACGCGGTTAGCACGTANNATACGTCACGGTCCTAGCAAGACTCCACACTCATACCTTGGCACCCGAGAATTCCAAAAGCCCGAGTGCCCTCTTCCA',\n",
       " 'padlock_alt': '/5Phos/TTGACGGCCAGTATTCTGCACAACGCGGTTAGCACGTANNATACGTCACGGTCCTAGCAAGACTCCACACTCATACCTTGGCACCCGAGAATTCCAAAGCCCGAGTGCCCTCTTCCAT'}"
      ]
     },
     "execution_count": 252,
     "metadata": {},
     "output_type": "execute_result"
    }
   ],
   "source": [
    "PTPRC_flex=flex_padlock(PTPRC, \"c.2306T>A\")\n",
    "PTPRC_flex"
   ]
  },
  {
   "cell_type": "markdown",
   "metadata": {},
   "source": [
    "# order probes in 200uM DDW, hplc if possible"
   ]
  },
  {
   "cell_type": "code",
   "execution_count": null,
   "metadata": {},
   "outputs": [],
   "source": []
  },
  {
   "cell_type": "markdown",
   "metadata": {},
   "source": [
    "# entrez\n",
    "\n",
    "https://www.ncbi.nlm.nih.gov/books/NBK25499/#chapter4.EFetch"
   ]
  },
  {
   "cell_type": "markdown",
   "metadata": {},
   "source": [
    "# get human cds"
   ]
  },
  {
   "cell_type": "code",
   "execution_count": 178,
   "metadata": {},
   "outputs": [],
   "source": [
    "def get_cds(gene,organism='human'):\n",
    "    records=[]\n",
    "    #query ids\n",
    "    handle = Entrez.esearch(db=\"nuccore\", term=\"{}[Orgn] AND {}[Gene]\".format(organism,gene))\n",
    "    record = Entrez.read(handle)\n",
    "    for idx in record[\"IdList\"]:\n",
    "        try:\n",
    "            Entrez.email = \"A.N.Other@example.com\"     # Always tell NCBI who you are\n",
    "            handle = Entrez.efetch(db=\"nuccore\", id=idx, rettype=\"fasta_cds_na\", retmode=\"text\")\n",
    "            filename = gene+str(idx)+\".fasta\"\n",
    "            if not os.path.isfile(filename):\n",
    "                with open(filename, \"w\") as out_handle:\n",
    "                    out_handle.write(handle.read())\n",
    "                print(gene,idx,\" Saved\")\n",
    "\n",
    "                print(\"Parsing...\")\n",
    "                record = SeqIO.read(filename, \"fasta\")\n",
    "                records.append(record)\n",
    "        except:\n",
    "            continue\n",
    "    return records"
   ]
  },
  {
   "cell_type": "code",
   "execution_count": 179,
   "metadata": {},
   "outputs": [
    {
     "name": "stdout",
     "output_type": "stream",
     "text": [
      "DNAJB1 1890333839  Saved\n",
      "Parsing...\n",
      "DNAJB1 1890327943  Saved\n",
      "Parsing...\n",
      "DNAJB1 1519245283  Saved\n",
      "Parsing...\n",
      "DNAJB1 2194972797  Saved\n",
      "Parsing...\n",
      "DNAJB1 568815579  Saved\n",
      "Parsing...\n",
      "DNAJB1 2217320975  Saved\n",
      "Parsing...\n",
      "DNAJB1 2217320973  Saved\n",
      "Parsing...\n",
      "DNAJB1 2217320972  Saved\n",
      "Parsing...\n",
      "DNAJB1 2217320971  Saved\n",
      "Parsing...\n",
      "DNAJB1 329299062  Saved\n",
      "Parsing...\n",
      "DNAJB1 74273663  Saved\n",
      "Parsing...\n",
      "DNAJB1 71515761  Saved\n",
      "Parsing...\n",
      "DNAJB1 38197192  Saved\n",
      "Parsing...\n",
      "DNAJB1 18044281  Saved\n",
      "Parsing...\n",
      "DNAJB1 39760203  Saved\n",
      "Parsing...\n",
      "DNAJB1 49456314  Saved\n",
      "Parsing...\n",
      "DNAJB1 49168457  Saved\n",
      "Parsing...\n",
      "DNAJB1 208966143  Saved\n",
      "Parsing...\n",
      "DNAJB1 168150060  Saved\n",
      "Parsing...\n",
      "DNAJB1 168150059  Saved\n",
      "Parsing...\n"
     ]
    }
   ],
   "source": [
    "DNAJB1=get_cds(\"DNAJB1\")"
   ]
  },
  {
   "cell_type": "code",
   "execution_count": 183,
   "metadata": {},
   "outputs": [],
   "source": [
    "for r in DNAJB1:\n",
    "    if 'CCDS12312.1' in r.description:\n",
    "        DNAJB1_CDS=r.seq"
   ]
  },
  {
   "cell_type": "code",
   "execution_count": 187,
   "metadata": {},
   "outputs": [
    {
     "data": {
      "text/plain": [
       "557"
      ]
     },
     "execution_count": 187,
     "metadata": {},
     "output_type": "execute_result"
    }
   ],
   "source": [
    "186*3-1"
   ]
  },
  {
   "cell_type": "code",
   "execution_count": 194,
   "metadata": {},
   "outputs": [
    {
     "data": {
      "text/plain": [
       "Seq('TCC')"
      ]
     },
     "execution_count": 194,
     "metadata": {},
     "output_type": "execute_result"
    }
   ],
   "source": [
    "DNAJB1_CDS[555:186*3]"
   ]
  },
  {
   "cell_type": "code",
   "execution_count": 264,
   "metadata": {},
   "outputs": [
    {
     "name": "stdout",
     "output_type": "stream",
     "text": [
      "118 22 22\n"
     ]
    }
   ],
   "source": [
    "# control probes\n",
    "# DNAJB1, S186S, \n",
    "DNAJB1_flex=flex_padlock(DNAJB1_CDS, \"c.558C>A\")"
   ]
  },
  {
   "cell_type": "code",
   "execution_count": null,
   "metadata": {},
   "outputs": [],
   "source": [
    "# write to file"
   ]
  },
  {
   "cell_type": "code",
   "execution_count": null,
   "metadata": {},
   "outputs": [],
   "source": [
    "KRAS_flex=flex_padlock(KRAS_CDS,'c.34G>T')\n",
    "FGFR1_flex=flex_padlock(FGFR1_CDS, \"c.719G>A\")\n",
    "TP63_flex=flex_padlock(TP63_CDS,'c.1090G>A')\n",
    "PTPRC_flex=flex_padlock(PTPRC, \"c.2306T>A\")\n",
    "DNAJB1_flex=flex_padlock(DNAJB1_CDS, \"c.558C>A\")"
   ]
  },
  {
   "cell_type": "code",
   "execution_count": 289,
   "metadata": {},
   "outputs": [],
   "source": [
    "targets={'KRAS':{'CDS':KRAS_CDS,'mutation_list':['c.34G>T',]},\n",
    "         'FGFR1':{'CDS':FGFR1_CDS, 'mutation_list':[\"c.719G>A\",]},\n",
    "         'TP63':{'CDS':TP63_CDS,'mutation_list':['c.1090G>A',]},\n",
    "         \"PTPRC\":{'CDS':PTPRC, 'mutation_list':[\"c.2306T>A\",]},\n",
    "         \"DNAJB1\":{'CDS':DNAJB1_CDS, 'mutation_list':[\"c.558C>A\",]},\n",
    "          }"
   ]
  },
  {
   "cell_type": "code",
   "execution_count": 290,
   "metadata": {},
   "outputs": [],
   "source": [
    "output=dict()\n",
    "for gene, info in targets.items():\n",
    "    CDS=info['CDS']\n",
    "    mutation_list=info['mutation_list']\n",
    "    for mut in mutation_list:\n",
    "        output[gene+\"_\"+mut]=flex_padlock(CDS, mut)\n",
    "df=pd.DataFrame.from_dict(output,orient='index')\n"
   ]
  },
  {
   "cell_type": "code",
   "execution_count": 291,
   "metadata": {},
   "outputs": [],
   "source": [
    "df.to_csv('flex_dna_probes_230300.csv')"
   ]
  },
  {
   "cell_type": "code",
   "execution_count": 298,
   "metadata": {},
   "outputs": [],
   "source": [
    "to_order={}\n",
    "for k, i in output.items():\n",
    "    for kk,ii in i.items():\n",
    "        to_order[kk+'_'+k]=ii\n",
    "ddf=pd.DataFrame.from_dict(to_order,orient=\"index\")\n"
   ]
  },
  {
   "cell_type": "code",
   "execution_count": 300,
   "metadata": {},
   "outputs": [],
   "source": [
    "ddf['len']=ddf[0].apply(len)"
   ]
  },
  {
   "cell_type": "code",
   "execution_count": 304,
   "metadata": {},
   "outputs": [],
   "source": [
    "ddf.sort_index(inplace=True)"
   ]
  },
  {
   "cell_type": "code",
   "execution_count": 306,
   "metadata": {},
   "outputs": [],
   "source": [
    "ddf.to_csv('flex_dan_probes_230310_toorder.csv')"
   ]
  },
  {
   "cell_type": "markdown",
   "metadata": {},
   "source": [
    "# quick data analysis"
   ]
  },
  {
   "cell_type": "code",
   "execution_count": 4,
   "metadata": {},
   "outputs": [],
   "source": [
    "ref=pd.read_csv('flex_dna_probes_230300.csv')"
   ]
  },
  {
   "cell_type": "code",
   "execution_count": 5,
   "metadata": {},
   "outputs": [],
   "source": [
    "# ref.to_csv('flex_dna_230310_ref.csv')"
   ]
  },
  {
   "cell_type": "code",
   "execution_count": 6,
   "metadata": {},
   "outputs": [
    {
     "data": {
      "text/plain": [
       "'TCAAGGCACTCTTGCCTACGCCACC'"
      ]
     },
     "execution_count": 6,
     "metadata": {},
     "output_type": "execute_result"
    }
   ],
   "source": [
    "ref['target_LHS_ref'][2]"
   ]
  },
  {
   "cell_type": "code",
   "execution_count": 7,
   "metadata": {},
   "outputs": [],
   "source": [
    "ref['amplicon_ref']=ref['target_LHS_ref']+ref['target_RHS']\n",
    "ref['amplicon_mut']=ref['target_LHS_mut']+ref['target_RHS']\n",
    "# ref['cds_ref']=ref['target_LHS_mut']+ref['target_RHS']"
   ]
  },
  {
   "cell_type": "code",
   "execution_count": 8,
   "metadata": {},
   "outputs": [
    {
     "data": {
      "text/plain": [
       "Seq('GGTGGCGTAGGCAAGAGTGCCTTGA')"
      ]
     },
     "execution_count": 8,
     "metadata": {},
     "output_type": "execute_result"
    }
   ],
   "source": [
    "Seq(\"TCAAGGCACTCTTGCCTACGCCACC\").reverse_complement()"
   ]
  },
  {
   "cell_type": "code",
   "execution_count": 10,
   "metadata": {},
   "outputs": [],
   "source": [
    "target_dict={}\n",
    "for i,r in ref.iterrows():\n",
    "    \n",
    "    gene=r['Unnamed: 0']\n",
    "    refs=r['amplicon_ref']\n",
    "    muts=r['amplicon_mut']\n",
    "    target_dict[gene+'_wt']=refs\n",
    "    target_dict[gene+'_mt']=muts\n",
    "    \n"
   ]
  },
  {
   "cell_type": "code",
   "execution_count": 10,
   "metadata": {},
   "outputs": [],
   "source": [
    "# fastq= '/gstore/data/dnaseq/processed_runs/R9173/results/LIB5468564_HITS5485163_S4_L001_R2_001.fastq.gz'"
   ]
  },
  {
   "cell_type": "code",
   "execution_count": 11,
   "metadata": {},
   "outputs": [],
   "source": [
    "# fastq= '/gstore/home/taol9/repeats_ultima/LIB5468564_HITS5485163_S4_L001_R2_001.fastq'"
   ]
  },
  {
   "cell_type": "code",
   "execution_count": 12,
   "metadata": {},
   "outputs": [],
   "source": [
    "# fastq=  \"/gstore/data/ctgbioinfo/taol9/flex/25/LIB5469834_SAM24431961_S5_L002_R2_001.fastq\""
   ]
  },
  {
   "cell_type": "code",
   "execution_count": 17,
   "metadata": {},
   "outputs": [],
   "source": [
    "# fastq=  \"/gstore/data/ctgbioinfo/taol9/flex/40/LIB5472587_SAM24434098_S1_L001_R2_001.fastq\"  # linear probe\n"
   ]
  },
  {
   "cell_type": "code",
   "execution_count": 18,
   "metadata": {},
   "outputs": [
    {
     "data": {
      "text/plain": [
       "42081106"
      ]
     },
     "execution_count": 18,
     "metadata": {},
     "output_type": "execute_result"
    }
   ],
   "source": [
    "from Bio import SeqIO\n",
    "record_dict = SeqIO.index(fastq,'fastq')\n",
    "len(record_dict)"
   ]
  },
  {
   "cell_type": "code",
   "execution_count": 14,
   "metadata": {},
   "outputs": [
    {
     "data": {
      "text/plain": [
       "15507195"
      ]
     },
     "execution_count": 14,
     "metadata": {},
     "output_type": "execute_result"
    }
   ],
   "source": [
    "len(record_dict)"
   ]
  },
  {
   "cell_type": "code",
   "execution_count": 12,
   "metadata": {},
   "outputs": [],
   "source": [
    "def mapper(k):\n",
    "    ontarget=0\n",
    "    parsedreads=0\n",
    "    aligns=list()\n",
    "    for i in list(record_dict.keys())[:1000000]:\n",
    "        record=record_dict[i]\n",
    "        seq=record.seq\n",
    "        tar=target_dict[k]\n",
    "        if ontarget < 100000:\n",
    "            parsedreads+=1\n",
    "            if str(tar) in str(seq):\n",
    "                aligns.append(record.id)\n",
    "                ontarget+=1   \n",
    "            else:\n",
    "                continue\n",
    "    print (k, ontarget, parsedreads)\n",
    "    return {k:aligns}\n",
    "    "
   ]
  },
  {
   "cell_type": "code",
   "execution_count": 18,
   "metadata": {},
   "outputs": [
    {
     "name": "stdout",
     "output_type": "stream",
     "text": [
      "DNAJB1_c.558C>A_wt 53 1500000\n",
      "DNAJB1_c.558C>A_mt 50 1500000\n",
      "FGFR1_c.719G>A_wt 0 1500000\n",
      "FGFR1_c.719G>A_mt 2 1500000\n",
      "KRAS_c.34G>T_wt 32 1500000\n",
      "KRAS_c.34G>T_mt 10 1500000\n",
      "PTPRC_c.2306T>A_wt 2 1500000\n",
      "PTPRC_c.2306T>A_mt 0 1500000\n",
      "TP63_c.1090G>A_wt 36 1500000\n",
      "TP63_c.1090G>A_mt 1 1500000\n"
     ]
    }
   ],
   "source": [
    "keys=list(target_dict.keys())\n",
    "output1={}\n",
    "for k in keys:\n",
    "    x=mapper(k)\n",
    "    output1.update(x)\n",
    "#     ontarget=0\n",
    "#     parsedreads=0\n",
    "#     for i in list(record_dict.keys())[:100000]:\n",
    "#         record=record_dict[i]\n",
    "#         seq=record.seq\n",
    "#         tar=target_dict[k]\n",
    "#         if ontarget < 3 or parsedreads < 100000:\n",
    "#             parsedreads+=1\n",
    "#             if str(tar) in str(seq):\n",
    "#                 aligns[k].append(record.id)\n",
    "#                 ontarget+=1   \n",
    "#             else:\n",
    "#                 continue\n",
    "#     print (k, ontarget,parsedreads)\n",
    "    "
   ]
  },
  {
   "cell_type": "code",
   "execution_count": null,
   "metadata": {},
   "outputs": [],
   "source": [
    "#25 cyc\n",
    "DNAJB1_c.558C>A_wt 53 1500000\n",
    "DNAJB1_c.558C>A_mt 50 1500000\n",
    "FGFR1_c.719G>A_wt 0 1500000\n",
    "FGFR1_c.719G>A_mt 2 1500000\n",
    "KRAS_c.34G>T_wt 32 1500000\n",
    "KRAS_c.34G>T_mt 10 1500000\n",
    "PTPRC_c.2306T>A_wt 2 1500000\n",
    "PTPRC_c.2306T>A_mt 0 1500000\n",
    "TP63_c.1090G>A_wt 36 1500000\n",
    "TP63_c.1090G>A_mt 1 1500000"
   ]
  },
  {
   "cell_type": "code",
   "execution_count": 22,
   "metadata": {},
   "outputs": [
    {
     "name": "stdout",
     "output_type": "stream",
     "text": [
      "DNAJB1_c.558C>A_wt 100 2046\n",
      "DNAJB1_c.558C>A_mt 0 1500000\n",
      "FGFR1_c.719G>A_wt 34 1500000\n",
      "FGFR1_c.719G>A_mt 0 1500000\n",
      "KRAS_c.34G>T_wt 100 786\n",
      "KRAS_c.34G>T_mt 100 244874\n",
      "PTPRC_c.2306T>A_wt 100 1040910\n",
      "PTPRC_c.2306T>A_mt 0 1500000\n",
      "TP63_c.1090G>A_wt 100 1611\n",
      "TP63_c.1090G>A_mt 100 401705\n"
     ]
    }
   ],
   "source": [
    "#40C linear\n",
    "keys=list(target_dict.keys())\n",
    "output1={}\n",
    "for k in keys:\n",
    "    x=mapper(k)\n",
    "    output1.update(x)"
   ]
  },
  {
   "cell_type": "code",
   "execution_count": 13,
   "metadata": {},
   "outputs": [
    {
     "name": "stdout",
     "output_type": "stream",
     "text": [
      "41056602\n",
      "DNAJB1_c.558C>A_wt 59652 1000000\n",
      "DNAJB1_c.558C>A_mt 13479 1000000\n",
      "FGFR1_c.719G>A_wt 30 1000000\n",
      "FGFR1_c.719G>A_mt 20780 1000000\n",
      "KRAS_c.34G>T_wt 70694 1000000\n",
      "KRAS_c.34G>T_mt 2706 1000000\n",
      "PTPRC_c.2306T>A_wt 6035 1000000\n",
      "PTPRC_c.2306T>A_mt 683 1000000\n",
      "TP63_c.1090G>A_wt 24380 1000000\n",
      "TP63_c.1090G>A_mt 6410 1000000\n"
     ]
    }
   ],
   "source": [
    "# 40 padlock\n",
    "fastq=  \"/gstore/data/ctgbioinfo/taol9/flex/40/LIB5472588_SAM24434099_S2_L001_R2_001.fastq\"  # padloc probe\n",
    "record_dict = SeqIO.index(fastq,'fastq')\n",
    "print (len(record_dict))\n",
    "keys=list(target_dict.keys())\n",
    "output1={}\n",
    "for k in keys:\n",
    "    x=mapper(k)\n",
    "    output1.update(x)\n",
    "with open('output1_40_padlock.pkl', 'wb') as file:\n",
    "    pickle.dump(output1, file)"
   ]
  },
  {
   "cell_type": "code",
   "execution_count": null,
   "metadata": {},
   "outputs": [],
   "source": [
    "import pickle\n",
    "with open('output1_25.pkl', 'wb') as file:\n",
    "    pickle.dump(output1, file)"
   ]
  },
  {
   "cell_type": "code",
   "execution_count": 27,
   "metadata": {},
   "outputs": [
    {
     "name": "stdout",
     "output_type": "stream",
     "text": [
      "DNAJB1_c.558C>A_wt 37722 1000000\n",
      "DNAJB1_c.558C>A_mt 0 1000000\n",
      "FGFR1_c.719G>A_wt 25 1000000\n",
      "FGFR1_c.719G>A_mt 0 1000000\n",
      "KRAS_c.34G>T_wt 100000 803446\n",
      "KRAS_c.34G>T_mt 436 1000000\n",
      "PTPRC_c.2306T>A_wt 98 1000000\n",
      "PTPRC_c.2306T>A_mt 0 1000000\n",
      "TP63_c.1090G>A_wt 55697 1000000\n",
      "TP63_c.1090G>A_mt 237 1000000\n"
     ]
    }
   ],
   "source": [
    "keys=list(target_dict.keys())\n",
    "output1={}\n",
    "for k in keys:\n",
    "    x=mapper(k)\n",
    "    output1.update(x)\n",
    "import pickle\n",
    "with open('output1_40.pkl', 'wb') as file:\n",
    "    pickle.dump(output1, file)"
   ]
  },
  {
   "cell_type": "code",
   "execution_count": null,
   "metadata": {},
   "outputs": [],
   "source": [
    "DNAJB1_c.558C>A_wt 37722 1000000\n",
    "DNAJB1_c.558C>A_mt 0 1000000\n",
    "KRAS_c.34G>T_wt 100000 803446\n",
    "KRAS_c.34G>T_mt 436 1000000\n",
    "PTPRC_c.2306T>A_wt 98 1000000\n",
    "PTPRC_c.2306T>A_mt 0 1000000\n",
    "TP63_c.1090G>A_wt 55697 1000000\n",
    "TP63_c.1090G>A_mt 237 1000000"
   ]
  },
  {
   "cell_type": "code",
   "execution_count": 47,
   "metadata": {},
   "outputs": [
    {
     "name": "stdout",
     "output_type": "stream",
     "text": [
      "DNAJB1_c.558C>A_wt 1000\n",
      "DNAJB1_c.558C>A_mt 622\n",
      "FGFR1_c.719G>A_wt 1\n",
      "FGFR1_c.719G>A_mt 69\n",
      "KRAS_c.34G>T_wt 501\n",
      "KRAS_c.34G>T_mt 69\n",
      "PTPRC_c.2306T>A_wt 77\n",
      "PTPRC_c.2306T>A_mt 4\n",
      "TP63_c.1090G>A_wt 301\n",
      "TP63_c.1090G>A_mt 84\n"
     ]
    }
   ],
   "source": [
    "for k, i in output1.items():\n",
    "    print (k, len(i))"
   ]
  },
  {
   "cell_type": "code",
   "execution_count": 36,
   "metadata": {},
   "outputs": [],
   "source": [
    "x=pd.DataFrame.from_dict(target_dict, orient='index')"
   ]
  },
  {
   "cell_type": "code",
   "execution_count": 52,
   "metadata": {},
   "outputs": [
    {
     "name": "stdout",
     "output_type": "stream",
     "text": [
      "x558CAw\n",
      "x558CAm\n",
      "x719GAw\n",
      "x719GAm\n",
      "xx34GTw\n",
      "xx34GTm\n",
      "2306TAw\n",
      "2306TAm\n",
      "1090GAw\n",
      "1090GAm\n"
     ]
    }
   ],
   "source": [
    "for k in target_dict.keys():\n",
    "    s=k.split('_')[1][2:]+k.split('_')[2][0]\n",
    "    s=s.replace('>','')\n",
    "    if len(s)==7:\n",
    "        print (s)\n",
    "    else:\n",
    "        print ((7-len(s))*'x'+s)"
   ]
  },
  {
   "cell_type": "code",
   "execution_count": 38,
   "metadata": {},
   "outputs": [],
   "source": [
    "x.to_csv('targets.csv')"
   ]
  },
  {
   "cell_type": "code",
   "execution_count": null,
   "metadata": {},
   "outputs": [],
   "source": [
    "# try on the rna fastqs"
   ]
  },
  {
   "cell_type": "code",
   "execution_count": 17,
   "metadata": {},
   "outputs": [],
   "source": [
    "fastqgz= '/gstore/data/dnaseq/processed_runs/R9173/results/LIB5468563_HITS5485162_S7_L001_R2_001.fastq.gz'"
   ]
  },
  {
   "cell_type": "code",
   "execution_count": null,
   "metadata": {},
   "outputs": [],
   "source": [
    "\n",
    "import gzip\n",
    "from Bio import SeqIO\n",
    "aligns={}\n",
    "for k,i in target_dict.items():\n",
    "    aligns[k]=[]\n",
    "    \n",
    "ontarget=0\n",
    "parsedreads=0\n",
    "with gzip.open(fastqgz, \"rt\") as handle:\n",
    "    for record in SeqIO.parse(handle, \"fastq\"):\n",
    "        parsedreads+=1\n",
    "        if parsedreads<10000000:\n",
    "            for k,i in target_dict.items():\n",
    "                seq=record.seq\n",
    "                tar=i\n",
    "                if ontarget < 1000:\n",
    "                    if str(tar) in str(seq):\n",
    "                        aligns[k].append(record.id)\n",
    "                        ontarget+=1   \n",
    "                else:\n",
    "                    continue\n",
    "            "
   ]
  },
  {
   "cell_type": "code",
   "execution_count": null,
   "metadata": {},
   "outputs": [
    {
     "name": "stdout",
     "output_type": "stream",
     "text": [
      "DNAJB1_c.558C>A_wt 135\n",
      "DNAJB1_c.558C>A_mt 125\n",
      "FGFR1_c.719G>A_wt 0\n",
      "FGFR1_c.719G>A_mt 7\n",
      "KRAS_c.34G>T_wt 78\n",
      "KRAS_c.34G>T_mt 2\n",
      "PTPRC_c.2306T>A_wt 13\n",
      "PTPRC_c.2306T>A_mt 2\n",
      "TP63_c.1090G>A_wt 44\n",
      "TP63_c.1090G>A_mt 11\n"
     ]
    }
   ],
   "source": [
    "for k, i in aligns.items():\n",
    "    print (k, len(i))"
   ]
  },
  {
   "cell_type": "code",
   "execution_count": null,
   "metadata": {},
   "outputs": [],
   "source": [
    "import pickle\n",
    "with open('rna_aligns.pkl', 'wb') as file:\n",
    "    pickle.dump(aligns, file)"
   ]
  },
  {
   "cell_type": "code",
   "execution_count": null,
   "metadata": {},
   "outputs": [],
   "source": [
    "DNAJB1_c.558C>A_wt 1000\n",
    "DNAJB1_c.558C>A_mt 622\n",
    "FGFR1_c.719G>A_wt 1\n",
    "FGFR1_c.719G>A_mt 69\n",
    "KRAS_c.34G>T_wt 501\n",
    "KRAS_c.34G>T_mt 69\n",
    "PTPRC_c.2306T>A_wt 77\n",
    "PTPRC_c.2306T>A_mt 4\n",
    "TP63_c.1090G>A_wt 301\n",
    "TP63_c.1090G>A_mt 84"
   ]
  }
 ],
 "metadata": {
  "kernelspec": {
   "display_name": "Anaconda3/Python 3.6.3",
   "language": "python",
   "name": "anaconda3"
  },
  "language_info": {
   "codemirror_mode": {
    "name": "ipython",
    "version": 3
   },
   "file_extension": ".py",
   "mimetype": "text/x-python",
   "name": "python",
   "nbconvert_exporter": "python",
   "pygments_lexer": "ipython3",
   "version": "3.6.3"
  }
 },
 "nbformat": 4,
 "nbformat_minor": 4
}
