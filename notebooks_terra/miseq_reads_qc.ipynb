{
 "cells": [
  {
   "cell_type": "code",
   "execution_count": 90,
   "metadata": {},
   "outputs": [],
   "source": [
    "from Bio import SeqIO\n",
    "from Bio.Seq import Seq\n",
    "import csv\n",
    "import pandas as pd\n",
    "from collections import Counter\n",
    "import csv\n",
    "from Bio.Seq import Seq\n",
    "import sys\n",
    "sys.path.append('/home/jupyter/gitsss/yo/tao')\n",
    "# from myprimer import *\n",
    "from myfunc import *\n"
   ]
  },
  {
   "cell_type": "code",
   "execution_count": 91,
   "metadata": {},
   "outputs": [
    {
     "name": "stdout",
     "output_type": "stream",
     "text": [
      "/home/jupyter/Documents/Lineage/miseqruns\n"
     ]
    }
   ],
   "source": [
    "cd /home/jupyter/Documents/Lineage/miseqruns/"
   ]
  },
  {
   "cell_type": "code",
   "execution_count": 92,
   "metadata": {},
   "outputs": [
    {
     "name": "stdout",
     "output_type": "stream",
     "text": [
      "\u001b[0m\u001b[01;34m221208_M07962_0015_000000000-DH5TJ\u001b[0m/\r\n",
      "221208_M07962_0015_000000000-DH5TJ-20221209T185521Z-001.zip\r\n",
      "221208_M07962_0015_000000000-DH5TJ.csv\r\n",
      "\u001b[01;34m221208_M07962_0015_000000000-DH5TJ.fastqs\u001b[0m/\r\n",
      "221208_M07962_0015_000000000-DH5TJ.qc.xlsx\r\n",
      "\u001b[01;34m221212\u001b[0m/\r\n"
     ]
    }
   ],
   "source": [
    "ls"
   ]
  },
  {
   "cell_type": "code",
   "execution_count": 52,
   "metadata": {},
   "outputs": [],
   "source": [
    "runname='221208_M07962_0015_000000000-DH5TJ'"
   ]
  },
  {
   "cell_type": "markdown",
   "metadata": {},
   "source": [
    "# read fastq.gz\n"
   ]
  },
  {
   "cell_type": "code",
   "execution_count": 57,
   "metadata": {},
   "outputs": [],
   "source": [
    "\n",
    "# import required module\n",
    "import os\n",
    " \n",
    "# assign directory\n",
    "dirName = runname+'.fastqs'\n",
    " \n",
    "listOfFiles = list()\n",
    "for (dirpath, dirnames, filenames) in os.walk(dirName):\n",
    "    listOfFiles += [os.path.join(dirpath, file) for file in filenames]"
   ]
  },
  {
   "cell_type": "code",
   "execution_count": 58,
   "metadata": {},
   "outputs": [],
   "source": [
    "fastqgz=[f for f in listOfFiles if f.endswith('fastq.gz')]"
   ]
  },
  {
   "cell_type": "code",
   "execution_count": 84,
   "metadata": {},
   "outputs": [],
   "source": [
    "import gzip\n",
    "from Bio import SeqIO\n",
    "\n",
    "dig=dict()\n",
    "for fgz in fastqgz:\n",
    "    tmp=dict()\n",
    "    sample=\"_\".join(fgz.split('/')[-1].split('_')[:2])\n",
    "    plate=fgz.split('/')[-1].split('_')[0]\n",
    "    row=fgz.split('/')[-1].split('_')[1][0]\n",
    "    col=int(fgz.split('/')[-1].split('_')[1][1:])\n",
    "    tmp['plate']=plate\n",
    "    tmp['row']=row\n",
    "    tmp['col']=col\n",
    "\n",
    "    solid_reads=0\n",
    "    total_reads=0\n",
    "    with gzip.open(fgz, \"rt\") as handle:\n",
    "        for record in SeqIO.parse(handle, \"fastq\"):\n",
    "            total_reads+=1\n",
    "            seq=record.seq\n",
    "            #get rid of NNs\n",
    "            #get_rid of TTT, GGG, AAA, CCC\n",
    "            if len(set(list(seq)))>3 and  \"N\"*20 not in seq and len(seq)>100:\n",
    "                solid_reads+=1\n",
    "    tmp['solid_reads']=solid_reads\n",
    "    tmp['total_reads']=total_reads\n",
    "    tmp['success_rate']=solid_reads/total_reads\n",
    "    try:\n",
    "        tmp['1000']=round(1000/solid_reads,1)\n",
    "    except:\n",
    "        tmp['1000']=0\n",
    "    dig[sample]=tmp\n",
    "    "
   ]
  },
  {
   "cell_type": "code",
   "execution_count": 85,
   "metadata": {},
   "outputs": [],
   "source": [
    "dftt=pd.DataFrame.from_dict(dig,orient='index')\n",
    "dftt['10000']=dftt['1000']*10"
   ]
  },
  {
   "cell_type": "code",
   "execution_count": 89,
   "metadata": {},
   "outputs": [],
   "source": [
    "outname=runname+'.qc.xlsx'\n",
    "dftt.sort_values(by = [\"plate\",'col', 'row'], ascending = [True,True, True], na_position = 'first', inplace=True)\n",
    "dftt\n",
    "dftt.to_excel(outname)"
   ]
  },
  {
   "cell_type": "code",
   "execution_count": null,
   "metadata": {},
   "outputs": [],
   "source": []
  },
  {
   "cell_type": "code",
   "execution_count": null,
   "metadata": {},
   "outputs": [],
   "source": []
  }
 ],
 "metadata": {
  "kernelspec": {
   "display_name": "Python 3",
   "language": "python",
   "name": "python3"
  },
  "language_info": {
   "codemirror_mode": {
    "name": "ipython",
    "version": 3
   },
   "file_extension": ".py",
   "mimetype": "text/x-python",
   "name": "python",
   "nbconvert_exporter": "python",
   "pygments_lexer": "ipython3",
   "version": "3.7.12"
  }
 },
 "nbformat": 4,
 "nbformat_minor": 2
}
