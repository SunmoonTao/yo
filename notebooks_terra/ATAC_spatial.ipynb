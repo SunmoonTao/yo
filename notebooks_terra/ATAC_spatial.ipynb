{
 "cells": [
  {
   "cell_type": "markdown",
   "metadata": {},
   "source": [
    "# 0 install/import "
   ]
  },
  {
   "cell_type": "markdown",
   "metadata": {},
   "source": [
    "## 0.1 install"
   ]
  },
  {
   "cell_type": "code",
   "execution_count": 2,
   "metadata": {},
   "outputs": [
    {
     "data": {
      "text/plain": [
       "'/gstore/home/taol9/gitsss/yo/notebooks_terra'"
      ]
     },
     "execution_count": 2,
     "metadata": {},
     "output_type": "execute_result"
    }
   ],
   "source": [
    "pwd"
   ]
  },
  {
   "cell_type": "markdown",
   "metadata": {},
   "source": [
    "## 0.2 import"
   ]
  },
  {
   "cell_type": "code",
   "execution_count": 3,
   "metadata": {},
   "outputs": [
    {
     "ename": "ModuleNotFoundError",
     "evalue": "No module named 'Bio'",
     "output_type": "error",
     "traceback": [
      "\u001b[0;31m---------------------------------------------------------------------------\u001b[0m",
      "\u001b[0;31mModuleNotFoundError\u001b[0m                       Traceback (most recent call last)",
      "\u001b[0;32m<ipython-input-3-e2151308a345>\u001b[0m in \u001b[0;36m<module>\u001b[0;34m\u001b[0m\n\u001b[0;32m----> 1\u001b[0;31m \u001b[0;32mfrom\u001b[0m \u001b[0mBio\u001b[0m \u001b[0;32mimport\u001b[0m \u001b[0mSeqIO\u001b[0m\u001b[0;34m\u001b[0m\u001b[0m\n\u001b[0m\u001b[1;32m      2\u001b[0m \u001b[0;32mfrom\u001b[0m \u001b[0mBio\u001b[0m\u001b[0;34m.\u001b[0m\u001b[0mSeq\u001b[0m \u001b[0;32mimport\u001b[0m \u001b[0mSeq\u001b[0m\u001b[0;34m\u001b[0m\u001b[0m\n\u001b[1;32m      3\u001b[0m \u001b[0;32mimport\u001b[0m \u001b[0mcsv\u001b[0m\u001b[0;34m\u001b[0m\u001b[0m\n\u001b[1;32m      4\u001b[0m \u001b[0;32mimport\u001b[0m \u001b[0mpandas\u001b[0m \u001b[0;32mas\u001b[0m \u001b[0mpd\u001b[0m\u001b[0;34m\u001b[0m\u001b[0m\n\u001b[1;32m      5\u001b[0m \u001b[0;32mfrom\u001b[0m \u001b[0mcollections\u001b[0m \u001b[0;32mimport\u001b[0m \u001b[0mCounter\u001b[0m\u001b[0;34m\u001b[0m\u001b[0m\n",
      "\u001b[0;31mModuleNotFoundError\u001b[0m: No module named 'Bio'"
     ]
    }
   ],
   "source": [
    "from Bio import SeqIO\n",
    "from Bio.Seq import Seq\n",
    "import csv\n",
    "import pandas as pd\n",
    "from collections import Counter\n",
    "import csv\n",
    "from Bio.Seq import Seq\n",
    "import sys\n",
    "sys.path.append('/home/jupyter/gitsss/yo/tao')\n",
    "sys.path.append('/home/jupyter/gitsss/flashpy')\n",
    "\n",
    "# from myprimer import *\n",
    "from myfunc import *\n",
    "from flash import *\n"
   ]
  },
  {
   "cell_type": "markdown",
   "metadata": {},
   "source": [
    "## 0.3 def functions"
   ]
  },
  {
   "cell_type": "code",
   "execution_count": 3,
   "metadata": {},
   "outputs": [],
   "source": [
    "def bgen(length,maxstretch=3,distance=3,):\n",
    "    candi=[]\n",
    "    for i in range(30000):\n",
    "        x=str(RandomDNA(length))\n",
    "        if 45<GC(x)<55:\n",
    "            candi.append(x)\n",
    "    candi=barcode.filter_stretches(candi, maxstretch)\n",
    "    candi=barcode.filter_distance(candi, distance)\n",
    "    return candi"
   ]
  },
  {
   "cell_type": "code",
   "execution_count": 30,
   "metadata": {},
   "outputs": [],
   "source": [
    "HT_R1SP_w ='ACACTCTTTCCCTACACGACGCTCTTCCGATCT'\n",
    "HT_R2SP_w ='AGATCGGAAGAGCACACGTCTGAACTCCAGTCAC'\n",
    "\n",
    "p5_w = \"AATGATACGGCGACCACCGAGATCTACAC\"\n",
    "p7_w = 'ATCTCGTATGCCGTCTTCTGCTTG'\n",
    "\n",
    "\n",
    "ME_w=\"AGATGTGTATAAGAGACAG\"\n",
    "\n",
    "NT_s5_w=\"TCGTCGGCAGCGTC\"\n",
    "NT_s7_w=\"GTCTCGTGGGCTCGG\"\n",
    "\n",
    "HT_R2SP_c =  rc(HT_R2SP_w) \n",
    "HT_R1SP_c =rc(HT_R1SP_w)\n",
    "\n",
    "p7_c = rc(p7_w)\n",
    "p5_c = rc(p5_w)\n",
    "\n",
    "ME_w=\"AGATGTGTATAAGAGACAG\"\n",
    "\n",
    "NT_s5_w=\"TCGTCGGCAGCGTC\"\n",
    "NT_s7_w=\"GTCTCGTGGGCTCGG\"\n",
    "T7_w=\"TAATACGACTCACTATAG\""
   ]
  },
  {
   "cell_type": "markdown",
   "metadata": {},
   "source": [
    "# 1 change to working dir"
   ]
  },
  {
   "cell_type": "code",
   "execution_count": 5,
   "metadata": {
    "scrolled": true
   },
   "outputs": [
    {
     "data": {
      "text/plain": [
       "'/home/jupyter/gitsss/notebooks'"
      ]
     },
     "execution_count": 5,
     "metadata": {},
     "output_type": "execute_result"
    }
   ],
   "source": [
    "pwd"
   ]
  },
  {
   "cell_type": "code",
   "execution_count": 6,
   "metadata": {},
   "outputs": [
    {
     "name": "stdout",
     "output_type": "stream",
     "text": [
      "/home/jupyter/Documents/spatial\n"
     ]
    }
   ],
   "source": [
    "cd /home/jupyter/Documents/spatial"
   ]
  },
  {
   "cell_type": "code",
   "execution_count": 7,
   "metadata": {},
   "outputs": [],
   "source": [
    "ls"
   ]
  },
  {
   "cell_type": "markdown",
   "metadata": {},
   "source": [
    "# structure"
   ]
  },
  {
   "cell_type": "code",
   "execution_count": 72,
   "metadata": {},
   "outputs": [],
   "source": [
    "p5_w = \"AATGATACGGCGACCACCGAGATCTACAC\"\n",
    "p7_w = 'ATCTCGTATGCCGTCTTCTGCTTG'\n",
    "\n",
    "ME_w=\"AGATGTGTATAAGAGACAG\"\n",
    "NT_s5_w=\"TCGTCGGCAGCGTC\"\n",
    "NT_s7=\"GTCTCGTGGGCTCGG\"\n",
    "# T7_w=\"TAATACGACTCACTATAG\"\n",
    "T7_w=\"GAATTTAATACGACTCACTATAGGGAGAGT\"\n",
    "visium_TSO= \"AAGCAGTGGTATCAACGCAGAGTACATrGrGrG\"\n",
    "\n",
    "UMI=\"B\"+'N'*11\n",
    "polyA=\"A\"*25\n",
    "\n",
    "PCRhandle=p7_w\n",
    "\n",
    "# AdaptorA=T7_w+visium_TSO+UMI+NT_s5_w+ME_w\n",
    "# AdaptorA1=T7_w+UMI+NT_s7_w+ME_w\n",
    "\n",
    "# length is (64, 56), need seq through 25*A.\n",
    "AdaptorA=T7_w+NT_s7_w+ME_w\n",
    "AdaptorB=polyA+UMI+ME_w\n",
    "# length is  (99, 44)\n",
    "AdaptorA1=T7_w+PCRhandle+UMI+NT_s5_w+ME_w\n",
    "AdaptorB1=polyA+ME_w\n",
    "\n",
    "# patial barcodes from Visium slides\n",
    "\n",
    "# HPLC oligo"
   ]
  },
  {
   "cell_type": "code",
   "execution_count": 74,
   "metadata": {},
   "outputs": [
    {
     "data": {
      "text/plain": [
       "(99, 44)"
      ]
     },
     "execution_count": 74,
     "metadata": {},
     "output_type": "execute_result"
    }
   ],
   "source": [
    "len(AdaptorA1), len(AdaptorB1)"
   ]
  },
  {
   "cell_type": "code",
   "execution_count": 75,
   "metadata": {},
   "outputs": [
    {
     "data": {
      "text/plain": [
       "(64, 56)"
      ]
     },
     "execution_count": 75,
     "metadata": {},
     "output_type": "execute_result"
    }
   ],
   "source": [
    "len(AdaptorA), len(AdaptorB)"
   ]
  },
  {
   "cell_type": "code",
   "execution_count": 67,
   "metadata": {},
   "outputs": [
    {
     "data": {
      "text/plain": [
       "56"
      ]
     },
     "execution_count": 67,
     "metadata": {},
     "output_type": "execute_result"
    }
   ],
   "source": [
    "len(AdaptorB)"
   ]
  },
  {
   "cell_type": "code",
   "execution_count": 76,
   "metadata": {},
   "outputs": [
    {
     "data": {
      "text/plain": [
       "'AAAAAAAAAAAAAAAAAAAAAAAAABNNNNNNNNNNNAGATGTGTATAAGAGACAG'"
      ]
     },
     "execution_count": 76,
     "metadata": {},
     "output_type": "execute_result"
    }
   ],
   "source": [
    "AdaptorB"
   ]
  },
  {
   "cell_type": "code",
   "execution_count": 77,
   "metadata": {},
   "outputs": [
    {
     "data": {
      "text/plain": [
       "'GAATTTAATACGACTCACTATAGGGAGAGTGTCTCGTGGGCTCGGAGATGTGTATAAGAGACAG'"
      ]
     },
     "execution_count": 77,
     "metadata": {},
     "output_type": "execute_result"
    }
   ],
   "source": [
    "AdaptorA\n",
    "GAATTTAATACGACTCACTATAGGGAGAGTGTCTCGTGGGCTCGGAGATGTGTATAAGAGACAG\n",
    "AAAAAAAAAAAAAAAAAAAAAAAAABNNNNNNNNNNNAGATGTGTATAAGAGACAG"
   ]
  },
  {
   "cell_type": "code",
   "execution_count": 42,
   "metadata": {},
   "outputs": [
    {
     "data": {
      "text/plain": [
       "'CTGTCTCTTATACACATCT'"
      ]
     },
     "execution_count": 42,
     "metadata": {},
     "output_type": "execute_result"
    }
   ],
   "source": [
    "rc(ME_w)"
   ]
  },
  {
   "cell_type": "code",
   "execution_count": 78,
   "metadata": {},
   "outputs": [
    {
     "data": {
      "text/plain": [
       "'GAATTTAATACGACTCACTATAGGGAGAGTATCTCGTATGCCGTCTTCTGCTTGBNNNNNNNNNNNTCGTCGGCAGCGTCAGATGTGTATAAGAGACAG'"
      ]
     },
     "execution_count": 78,
     "metadata": {},
     "output_type": "execute_result"
    }
   ],
   "source": [
    "AdaptorA1"
   ]
  },
  {
   "cell_type": "code",
   "execution_count": 79,
   "metadata": {},
   "outputs": [
    {
     "data": {
      "text/plain": [
       "'AAAAAAAAAAAAAAAAAAAAAAAAAAGATGTGTATAAGAGACAG'"
      ]
     },
     "execution_count": 79,
     "metadata": {},
     "output_type": "execute_result"
    }
   ],
   "source": [
    "AdaptorB1"
   ]
  },
  {
   "cell_type": "code",
   "execution_count": 38,
   "metadata": {},
   "outputs": [],
   "source": [
    "# indexs=random.sample(candi, k=1536)"
   ]
  },
  {
   "cell_type": "code",
   "execution_count": 25,
   "metadata": {},
   "outputs": [],
   "source": [
    "indexs=bgen(8,3,3)"
   ]
  },
  {
   "cell_type": "code",
   "execution_count": 27,
   "metadata": {},
   "outputs": [
    {
     "data": {
      "text/plain": [
       "409"
      ]
     },
     "execution_count": 27,
     "metadata": {},
     "output_type": "execute_result"
    }
   ],
   "source": [
    "len(indexs)"
   ]
  },
  {
   "cell_type": "code",
   "execution_count": 83,
   "metadata": {},
   "outputs": [],
   "source": [
    "UMI=\"N\"*8\n",
    "opool_ht=dict()\n",
    "for idx in indexs:\n",
    "#     RT_primer=\"CTACACGACGCTCTTCCGATCT\"+idx +UMI+\"T\"*20+\"VN\"\n",
    "    RT_primer=\"CTACACGACGCTCTTCCGATCT\"+idx +UMI+\"T\"*22\n",
    "\n",
    "    opool_ht[\"RT_\"+idx]=str(RT_primer)\n"
   ]
  },
  {
   "cell_type": "code",
   "execution_count": 84,
   "metadata": {},
   "outputs": [
    {
     "name": "stdout",
     "output_type": "stream",
     "text": [
      "60\n"
     ]
    }
   ],
   "source": [
    "print(len(RT_primer))\n"
   ]
  },
  {
   "cell_type": "markdown",
   "metadata": {},
   "source": [
    "# 2"
   ]
  },
  {
   "cell_type": "markdown",
   "metadata": {},
   "source": [
    "# 3 "
   ]
  },
  {
   "cell_type": "markdown",
   "metadata": {},
   "source": [
    "# 4 save outputs"
   ]
  },
  {
   "cell_type": "code",
   "execution_count": null,
   "metadata": {},
   "outputs": [],
   "source": [
    "# import pickle\n",
    "# pickling_on = open(\"EmpID.pickle\",\"wb\")\n",
    "# pickle.dump(candi, pickling_on)\n",
    "# pickling_on.close()"
   ]
  },
  {
   "cell_type": "code",
   "execution_count": 228,
   "metadata": {},
   "outputs": [],
   "source": [
    "# import dill\n",
    "\n",
    "# dill.dump_session('20220503opool.db')\n",
    "# dill.load_session('20220503opool.db')"
   ]
  },
  {
   "cell_type": "code",
   "execution_count": 78,
   "metadata": {},
   "outputs": [
    {
     "data": {
      "text/plain": [
       "'/home/jovyan/work/Documents/bioapp/cellranger'"
      ]
     },
     "execution_count": 78,
     "metadata": {},
     "output_type": "execute_result"
    }
   ],
   "source": [
    "pwd"
   ]
  },
  {
   "cell_type": "code",
   "execution_count": 86,
   "metadata": {},
   "outputs": [],
   "source": [
    "df=pd.DataFrame.from_dict(opool_ht, orient='index')\n",
    "df.to_csv('RT_umi_barcodes_60nt.csv', header=False)"
   ]
  },
  {
   "cell_type": "code",
   "execution_count": 87,
   "metadata": {},
   "outputs": [
    {
     "data": {
      "text/html": [
       "<div>\n",
       "<style scoped>\n",
       "    .dataframe tbody tr th:only-of-type {\n",
       "        vertical-align: middle;\n",
       "    }\n",
       "\n",
       "    .dataframe tbody tr th {\n",
       "        vertical-align: top;\n",
       "    }\n",
       "\n",
       "    .dataframe thead th {\n",
       "        text-align: right;\n",
       "    }\n",
       "</style>\n",
       "<table border=\"1\" class=\"dataframe\">\n",
       "  <thead>\n",
       "    <tr style=\"text-align: right;\">\n",
       "      <th></th>\n",
       "      <th>0</th>\n",
       "    </tr>\n",
       "  </thead>\n",
       "  <tbody>\n",
       "    <tr>\n",
       "      <th>RT_GCAGAACA</th>\n",
       "      <td>CTACACGACGCTCTTCCGATCTGCAGAACANNNNNNNNTTTTTTTT...</td>\n",
       "    </tr>\n",
       "    <tr>\n",
       "      <th>RT_GTTACCCT</th>\n",
       "      <td>CTACACGACGCTCTTCCGATCTGTTACCCTNNNNNNNNTTTTTTTT...</td>\n",
       "    </tr>\n",
       "    <tr>\n",
       "      <th>RT_AGTTTGCG</th>\n",
       "      <td>CTACACGACGCTCTTCCGATCTAGTTTGCGNNNNNNNNTTTTTTTT...</td>\n",
       "    </tr>\n",
       "    <tr>\n",
       "      <th>RT_ATTGGCAG</th>\n",
       "      <td>CTACACGACGCTCTTCCGATCTATTGGCAGNNNNNNNNTTTTTTTT...</td>\n",
       "    </tr>\n",
       "    <tr>\n",
       "      <th>RT_TGCCCAAA</th>\n",
       "      <td>CTACACGACGCTCTTCCGATCTTGCCCAAANNNNNNNNTTTTTTTT...</td>\n",
       "    </tr>\n",
       "    <tr>\n",
       "      <th>...</th>\n",
       "      <td>...</td>\n",
       "    </tr>\n",
       "    <tr>\n",
       "      <th>RT_GCAAGGTA</th>\n",
       "      <td>CTACACGACGCTCTTCCGATCTGCAAGGTANNNNNNNNTTTTTTTT...</td>\n",
       "    </tr>\n",
       "    <tr>\n",
       "      <th>RT_TCAGGTCA</th>\n",
       "      <td>CTACACGACGCTCTTCCGATCTTCAGGTCANNNNNNNNTTTTTTTT...</td>\n",
       "    </tr>\n",
       "    <tr>\n",
       "      <th>RT_TCTACGCT</th>\n",
       "      <td>CTACACGACGCTCTTCCGATCTTCTACGCTNNNNNNNNTTTTTTTT...</td>\n",
       "    </tr>\n",
       "    <tr>\n",
       "      <th>RT_AAGTGAGG</th>\n",
       "      <td>CTACACGACGCTCTTCCGATCTAAGTGAGGNNNNNNNNTTTTTTTT...</td>\n",
       "    </tr>\n",
       "    <tr>\n",
       "      <th>RT_TGCGATTG</th>\n",
       "      <td>CTACACGACGCTCTTCCGATCTTGCGATTGNNNNNNNNTTTTTTTT...</td>\n",
       "    </tr>\n",
       "  </tbody>\n",
       "</table>\n",
       "<p>409 rows × 1 columns</p>\n",
       "</div>"
      ],
      "text/plain": [
       "                                                             0\n",
       "RT_GCAGAACA  CTACACGACGCTCTTCCGATCTGCAGAACANNNNNNNNTTTTTTTT...\n",
       "RT_GTTACCCT  CTACACGACGCTCTTCCGATCTGTTACCCTNNNNNNNNTTTTTTTT...\n",
       "RT_AGTTTGCG  CTACACGACGCTCTTCCGATCTAGTTTGCGNNNNNNNNTTTTTTTT...\n",
       "RT_ATTGGCAG  CTACACGACGCTCTTCCGATCTATTGGCAGNNNNNNNNTTTTTTTT...\n",
       "RT_TGCCCAAA  CTACACGACGCTCTTCCGATCTTGCCCAAANNNNNNNNTTTTTTTT...\n",
       "...                                                        ...\n",
       "RT_GCAAGGTA  CTACACGACGCTCTTCCGATCTGCAAGGTANNNNNNNNTTTTTTTT...\n",
       "RT_TCAGGTCA  CTACACGACGCTCTTCCGATCTTCAGGTCANNNNNNNNTTTTTTTT...\n",
       "RT_TCTACGCT  CTACACGACGCTCTTCCGATCTTCTACGCTNNNNNNNNTTTTTTTT...\n",
       "RT_AAGTGAGG  CTACACGACGCTCTTCCGATCTAAGTGAGGNNNNNNNNTTTTTTTT...\n",
       "RT_TGCGATTG  CTACACGACGCTCTTCCGATCTTGCGATTGNNNNNNNNTTTTTTTT...\n",
       "\n",
       "[409 rows x 1 columns]"
      ]
     },
     "execution_count": 87,
     "metadata": {},
     "output_type": "execute_result"
    }
   ],
   "source": [
    "df"
   ]
  },
  {
   "cell_type": "code",
   "execution_count": 42,
   "metadata": {},
   "outputs": [],
   "source": [
    "# tmp"
   ]
  },
  {
   "cell_type": "code",
   "execution_count": 61,
   "metadata": {},
   "outputs": [],
   "source": [
    "x=bgen(6,6,2)"
   ]
  },
  {
   "cell_type": "code",
   "execution_count": 62,
   "metadata": {},
   "outputs": [
    {
     "data": {
      "text/plain": [
       "412"
      ]
     },
     "execution_count": 62,
     "metadata": {},
     "output_type": "execute_result"
    }
   ],
   "source": [
    "len(x)"
   ]
  },
  {
   "cell_type": "code",
   "execution_count": 63,
   "metadata": {},
   "outputs": [],
   "source": [
    "from collections import Counter, defaultdict\n",
    "countsbypos = defaultdict(list)\n",
    "for i in range(len(x[0])):\n",
    "    for b in x:\n",
    "        countsbypos[i].append(b[i])\n",
    "    \n",
    "    "
   ]
  },
  {
   "cell_type": "code",
   "execution_count": 70,
   "metadata": {},
   "outputs": [
    {
     "name": "stdout",
     "output_type": "stream",
     "text": [
      "1\n",
      "Counter({'A': 106, 'T': 106, 'C': 104, 'G': 96})\n",
      "dict_keys(['A', 'G', 'T', 'C'])\n",
      "2\n",
      "Counter({'C': 108, 'T': 103, 'A': 102, 'G': 99})\n",
      "dict_keys(['A', 'T', 'G', 'C'])\n",
      "3\n",
      "Counter({'T': 111, 'A': 101, 'C': 100, 'G': 100})\n",
      "dict_keys(['C', 'G', 'A', 'T'])\n",
      "4\n",
      "Counter({'T': 106, 'A': 105, 'G': 101, 'C': 100})\n",
      "dict_keys(['A', 'C', 'T', 'G'])\n",
      "5\n",
      "Counter({'C': 118, 'G': 107, 'A': 94, 'T': 93})\n",
      "dict_keys(['C', 'T', 'G', 'A'])\n",
      "6\n",
      "Counter({'A': 107, 'C': 102, 'T': 102, 'G': 101})\n",
      "dict_keys(['C', 'T', 'G', 'A'])\n"
     ]
    }
   ],
   "source": [
    "for p, l in countsbypos.items():\n",
    "    print (p+1)\n",
    "    print (Counter(l))\n",
    "    print (Counter(l).keys())\n",
    "    population='ATCG'\n",
    "    random.choices(population, weights=(100,0,0,0), cum_weights=None, k=1)\n",
    "\n",
    "        "
   ]
  },
  {
   "cell_type": "code",
   "execution_count": 37,
   "metadata": {},
   "outputs": [
    {
     "data": {
      "text/plain": [
       "['A']"
      ]
     },
     "execution_count": 37,
     "metadata": {},
     "output_type": "execute_result"
    }
   ],
   "source": [
    "def syns_randomer():\n",
    "    population='ATCG'\n",
    "    random.choices(population, weights=(100,0,0,0), cum_weights=None, k=1)\n"
   ]
  },
  {
   "cell_type": "code",
   "execution_count": 75,
   "metadata": {},
   "outputs": [],
   "source": [
    "def dilu_v(ori_v, ori_c, final_c):\n",
    "    return ori_v*ori_c/final_c-ori_v\n",
    "    "
   ]
  },
  {
   "cell_type": "code",
   "execution_count": 76,
   "metadata": {},
   "outputs": [
    {
     "data": {
      "text/plain": [
       "796.3636363636363"
      ]
     },
     "execution_count": 76,
     "metadata": {},
     "output_type": "execute_result"
    }
   ],
   "source": [
    "dilu_v(240,19,4.4)"
   ]
  },
  {
   "cell_type": "code",
   "execution_count": 77,
   "metadata": {},
   "outputs": [
    {
     "data": {
      "text/plain": [
       "1341.8181818181818"
      ]
     },
     "execution_count": 77,
     "metadata": {},
     "output_type": "execute_result"
    }
   ],
   "source": [
    "dilu_v(240,29,4.4)"
   ]
  },
  {
   "cell_type": "code",
   "execution_count": 88,
   "metadata": {},
   "outputs": [
    {
     "data": {
      "text/plain": [
       "633.5999999999999"
      ]
     },
     "execution_count": 88,
     "metadata": {},
     "output_type": "execute_result"
    }
   ],
   "source": [
    "0.11*60*96"
   ]
  },
  {
   "cell_type": "code",
   "execution_count": 89,
   "metadata": {},
   "outputs": [
    {
     "data": {
      "text/plain": [
       "1267.1999999999998"
      ]
     },
     "execution_count": 89,
     "metadata": {},
     "output_type": "execute_result"
    }
   ],
   "source": [
    "0.22*60*96"
   ]
  }
 ],
 "metadata": {
  "kernelspec": {
   "display_name": "Python 3",
   "language": "python",
   "name": "python3"
  },
  "language_info": {
   "codemirror_mode": {
    "name": "ipython",
    "version": 3
   },
   "file_extension": ".py",
   "mimetype": "text/x-python",
   "name": "python",
   "nbconvert_exporter": "python",
   "pygments_lexer": "ipython3",
   "version": "3.6.3"
  }
 },
 "nbformat": 4,
 "nbformat_minor": 5
}
