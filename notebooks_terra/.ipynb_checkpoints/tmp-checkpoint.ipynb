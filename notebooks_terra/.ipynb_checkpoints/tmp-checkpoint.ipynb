{
 "cells": [
  {
   "cell_type": "markdown",
   "id": "da195edd-7b1f-4249-81c3-e2ff5c6d210c",
   "metadata": {},
   "source": [
    "# 0 install/import "
   ]
  },
  {
   "cell_type": "markdown",
   "id": "a8cc098d-2e53-486a-a2de-3a1c89201650",
   "metadata": {},
   "source": [
    "## 0.1 install"
   ]
  },
  {
   "cell_type": "code",
   "execution_count": null,
   "id": "c4f84740-81ce-4ae9-9a36-79953b618e04",
   "metadata": {},
   "outputs": [],
   "source": []
  },
  {
   "cell_type": "markdown",
   "id": "eddbb680-f06d-476b-a72d-ac5912a88c26",
   "metadata": {},
   "source": [
    "## 0.2 import"
   ]
  },
  {
   "cell_type": "code",
   "execution_count": 1,
   "id": "e89feeac-801b-4f32-a848-492a78516e59",
   "metadata": {},
   "outputs": [],
   "source": [
    "import pandas as pd\n",
    "import os"
   ]
  },
  {
   "cell_type": "markdown",
   "id": "4e1d31f1-3eef-4c8f-89e7-90c6b0f2f022",
   "metadata": {},
   "source": [
    "## 0.3 def functions"
   ]
  },
  {
   "cell_type": "code",
   "execution_count": null,
   "id": "ddb561ed-656e-486f-8db4-4a3384380e65",
   "metadata": {},
   "outputs": [],
   "source": []
  },
  {
   "cell_type": "markdown",
   "id": "b93c31fb-3f81-45e1-b3c8-e81ed44528ca",
   "metadata": {},
   "source": [
    "# 1 change to working dir"
   ]
  },
  {
   "cell_type": "code",
   "execution_count": 4,
   "id": "467a7313-3c92-4b5e-8d6a-a7ab7b1bdaf8",
   "metadata": {},
   "outputs": [
    {
     "data": {
      "text/plain": [
       "'/home/host/Documents/bioapp/dnabarcodes'"
      ]
     },
     "execution_count": 4,
     "metadata": {},
     "output_type": "execute_result"
    }
   ],
   "source": [
    "pwd"
   ]
  },
  {
   "cell_type": "code",
   "execution_count": 7,
   "id": "c41c5321-f4be-4f43-9d55-2182d4c21594",
   "metadata": {},
   "outputs": [
    {
     "name": "stdout",
     "output_type": "stream",
     "text": [
      "/home/host/Documents/bioapp/dnabarcodes\n"
     ]
    }
   ],
   "source": [
    "cd '/home/host/Documents/bioapp/dnabarcodes'"
   ]
  },
  {
   "cell_type": "code",
   "execution_count": 12,
   "id": "fc0de654-da33-49a4-8a16-7754f3b9a250",
   "metadata": {},
   "outputs": [
    {
     "name": "stdout",
     "output_type": "stream",
     "text": [
      " filtering_dnabarcodes.ipynb   index8dis3.csv\n",
      " index10dis3.csv              '[R]dnabarcodes_initial_generator.ipynb'\n",
      " index6dis3.csv               '[template]py.ipynb'\n"
     ]
    }
   ],
   "source": [
    "ls"
   ]
  },
  {
   "cell_type": "code",
   "execution_count": 3,
   "id": "4b5faa90-148e-40ed-85b4-3a0f26ac1665",
   "metadata": {},
   "outputs": [],
   "source": [
    "a=[4\n",
    ",17\n",
    ",61\n",
    ",72\n",
    ",83\n",
    ",89\n",
    ",93\n",
    ",109\n",
    ",122\n",
    ",131\n",
    ",134\n",
    ",138\n",
    ",151\n",
    ",157\n",
    ",170\n",
    ",184\n",
    ",0\n",
    ",2\n",
    ",18\n",
    ",28\n",
    ",36\n",
    ",37\n",
    ",48\n",
    ",52\n",
    ",63\n",
    ",80\n",
    ",111\n",
    ",125\n",
    ",127\n",
    ",133\n",
    ",136\n",
    ",137\n",
    ",140\n",
    ",143\n",
    ",153\n",
    ",156\n",
    ",167\n",
    ",175\n",
    ",177\n",
    ",178]"
   ]
  },
  {
   "cell_type": "code",
   "execution_count": 4,
   "id": "b00c5eb3-b424-4e9a-ab00-9344215bfc27",
   "metadata": {},
   "outputs": [],
   "source": [
    "b=[5\n",
    ",16\n",
    ",21\n",
    ",29\n",
    ",74\n",
    ",92\n",
    ",102\n",
    ",111\n",
    ",122\n",
    ",143\n",
    ",154\n",
    ",157\n",
    ",169\n",
    ",175\n",
    ",183\n",
    ",187\n",
    ",2\n",
    ",25\n",
    ",41\n",
    ",49\n",
    ",57\n",
    ",72\n",
    ",73\n",
    ",88\n",
    ",110\n",
    ",125\n",
    ",128\n",
    ",137\n",
    ",141\n",
    ",165\n",
    ",173\n",
    ",179\n",
    ",0\n",
    ",4\n",
    ",18\n",
    ",26\n",
    ",38\n",
    ",45\n",
    ",48\n",
    ",68\n",
    ",75\n",
    ",83\n",
    ",85\n",
    ",89\n",
    ",103\n",
    ",105\n",
    ",109\n",
    ",133\n",
    ",135\n",
    ",140\n",
    ",144\n",
    ",149\n",
    ",158\n",
    ",163\n",
    ",168\n",
    ",170\n",
    ",1\n",
    ",11\n",
    ",17\n",
    ",31\n",
    ",40\n",
    ",46\n",
    ",50\n",
    ",52\n",
    ",66\n",
    ",82\n",
    ",93\n",
    ",96\n",
    ",98\n",
    ",107\n",
    ",108\n",
    ",124\n",
    ",127\n",
    ",134\n",
    ",138\n",
    ",142\n",
    ",151\n",
    ",164\n",
    ",178\n",
    ",185]"
   ]
  },
  {
   "cell_type": "code",
   "execution_count": 7,
   "id": "a415c111-f748-436f-b0da-ae37579ed7f5",
   "metadata": {},
   "outputs": [
    {
     "data": {
      "text/plain": [
       "27"
      ]
     },
     "execution_count": 7,
     "metadata": {},
     "output_type": "execute_result"
    }
   ],
   "source": [
    "len(set(a)&set(b))"
   ]
  },
  {
   "cell_type": "code",
   "execution_count": 4,
   "id": "648258ed",
   "metadata": {},
   "outputs": [
    {
     "data": {
      "text/plain": [
       "0.8474327179204556"
      ]
     },
     "execution_count": 4,
     "metadata": {},
     "output_type": "execute_result"
    }
   ],
   "source": [
    "(4613/1200)/(3629/800)"
   ]
  },
  {
   "cell_type": "markdown",
   "id": "dcbf7a5d-ddf2-485a-b568-35205e07ec29",
   "metadata": {},
   "source": [
    "# 2 get inputs"
   ]
  },
  {
   "cell_type": "markdown",
   "id": "cb849ce8-28b9-457e-96bb-45102c71d012",
   "metadata": {},
   "source": [
    "# 3 "
   ]
  },
  {
   "cell_type": "markdown",
   "id": "800b084f-e54d-4da0-80a9-d2cb644232dd",
   "metadata": {},
   "source": [
    "# 4 save outputs"
   ]
  }
 ],
 "metadata": {
  "kernelspec": {
   "display_name": "Python 3",
   "language": "python",
   "name": "python3"
  },
  "language_info": {
   "codemirror_mode": {
    "name": "ipython",
    "version": 3
   },
   "file_extension": ".py",
   "mimetype": "text/x-python",
   "name": "python",
   "nbconvert_exporter": "python",
   "pygments_lexer": "ipython3",
   "version": "3.7.12"
  }
 },
 "nbformat": 4,
 "nbformat_minor": 5
}
