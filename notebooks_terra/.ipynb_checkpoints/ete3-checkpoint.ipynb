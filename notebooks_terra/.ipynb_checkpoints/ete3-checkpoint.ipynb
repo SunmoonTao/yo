{
 "cells": [
  {
   "cell_type": "code",
   "execution_count": 6,
   "id": "b1ee490c",
   "metadata": {},
   "outputs": [
    {
     "name": "stdout",
     "output_type": "stream",
     "text": [
      "\u001b[31mERROR: Could not find a version that satisfies the requirement ete_toolchain (from versions: none)\u001b[0m\r\n",
      "\u001b[31mERROR: No matching distribution found for ete_toolchain\u001b[0m\r\n"
     ]
    }
   ],
   "source": [
    "!conda install -c conda-forge ete3"
   ]
  },
  {
   "cell_type": "code",
   "execution_count": null,
   "id": "f8efcebb",
   "metadata": {},
   "outputs": [],
   "source": [
    "!yes | pip uninstall ete3"
   ]
  },
  {
   "cell_type": "code",
   "execution_count": null,
   "id": "5556eaac",
   "metadata": {},
   "outputs": [],
   "source": []
  }
 ],
 "metadata": {
  "kernelspec": {
   "display_name": "Python 3",
   "language": "python",
   "name": "python3"
  },
  "language_info": {
   "codemirror_mode": {
    "name": "ipython",
    "version": 3
   },
   "file_extension": ".py",
   "mimetype": "text/x-python",
   "name": "python",
   "nbconvert_exporter": "python",
   "pygments_lexer": "ipython3",
   "version": "3.7.12"
  }
 },
 "nbformat": 4,
 "nbformat_minor": 5
}
