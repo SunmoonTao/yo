{
 "cells": [
  {
   "cell_type": "code",
   "execution_count": 9,
   "metadata": {},
   "outputs": [],
   "source": [
    "\n",
    "import sys\n",
    "\n",
    "sys.path.append(\"/gstore/project/paneldesign/pkg\")\n",
    "\n",
    "sys.path.append(\"/gstore/home/taol9/gitsss/yo/tao\")\n",
    "# import primer3\n",
    "from Bio import SeqIO\n",
    "from Bio.Seq import Seq\n",
    "from Bio import Entrez\n",
    "import csv\n",
    "import pandas as pd\n",
    "from collections import defaultdict,OrderedDict\n",
    "from collections import Counter\n",
    "import matplotlib.pyplot as plt\n",
    "\n",
    "import pandas as pd\n",
    "import os\n",
    "import pickle\n",
    "from Bio import SeqIO\n",
    "from Bio.Seq import Seq\n",
    "from Bio import Entrez\n",
    "import csv\n",
    "import pandas as pd\n",
    "from collections import defaultdict,OrderedDict\n",
    "from collections import Counter\n",
    "import matplotlib.pyplot as plt\n",
    "import csv\n",
    "from Bio.Seq import Seq\n",
    "\n",
    "from myfunc import *\n",
    "import barcode\n",
    "# from myfunc import primers2mips, rc\n"
   ]
  },
  {
   "cell_type": "code",
   "execution_count": 8,
   "metadata": {},
   "outputs": [
    {
     "name": "stdout",
     "output_type": "stream",
     "text": [
      "Collecting barcode\n",
      "  Using cached barcode-1.0.2.tar.gz (3.9 kB)\n",
      "  Preparing metadata (setup.py) ... \u001b[?25ldone\n",
      "\u001b[?25hCollecting python-Levenshtein>=0.12.0\n",
      "  Using cached python_Levenshtein-0.20.9-py3-none-any.whl (9.4 kB)\n",
      "Collecting Levenshtein==0.20.9\n",
      "  Downloading Levenshtein-0.20.9-cp36-cp36m-manylinux_2_17_x86_64.manylinux2014_x86_64.whl (177 kB)\n",
      "     |████████████████████████████████| 177 kB 1.2 MB/s            \n",
      "\u001b[?25hCollecting rapidfuzz<3.0.0,>=2.3.0\n",
      "  Downloading rapidfuzz-2.11.1-cp36-cp36m-manylinux_2_17_x86_64.manylinux2014_x86_64.whl (2.2 MB)\n",
      "     |████████████████████████████████| 2.2 MB 9.5 MB/s            ██████▊      | 1.7 MB 9.5 MB/s eta 0:00:01\n",
      "\u001b[?25hBuilding wheels for collected packages: barcode\n",
      "  Building wheel for barcode (setup.py) ... \u001b[?25ldone\n",
      "\u001b[?25h  Created wheel for barcode: filename=barcode-1.0.2-py3-none-any.whl size=4584 sha256=c926844f22d3621c18dd2dea419f7e9b90f704d427a7aba462d0959279adf90c\n",
      "  Stored in directory: /gstore/home/taol9/.cache/pip/wheels/34/57/6f/7580a37762585b69d157ca71b62d539ca81ec5046f7eefe464\n",
      "Successfully built barcode\n",
      "Installing collected packages: rapidfuzz, Levenshtein, python-Levenshtein, barcode\n",
      "Successfully installed Levenshtein-0.20.9 barcode-1.0.2 python-Levenshtein-0.20.9 rapidfuzz-2.11.1\n",
      "Note: you may need to restart the kernel to use updated packages.\n"
     ]
    }
   ],
   "source": [
    "!pip install --target /gstore/project/paneldesign/pkg barcode \n"
   ]
  },
  {
   "cell_type": "code",
   "execution_count": 6,
   "metadata": {},
   "outputs": [
    {
     "name": "stdout",
     "output_type": "stream",
     "text": [
      "[Errno 2] No such file or directory: '/home/jupyter/gitsss/notebooks/'\n",
      "/gstore/home/taol9/gitsss/yo/notebooks_terra\n"
     ]
    }
   ],
   "source": [
    "cd /home/jupyter/gitsss/notebooks/"
   ]
  },
  {
   "cell_type": "code",
   "execution_count": 7,
   "metadata": {},
   "outputs": [
    {
     "data": {
      "text/plain": [
       "'/gstore/home/taol9/gitsss/yo/notebooks_terra'"
      ]
     },
     "execution_count": 7,
     "metadata": {},
     "output_type": "execute_result"
    }
   ],
   "source": [
    "pwd"
   ]
  },
  {
   "cell_type": "markdown",
   "metadata": {},
   "source": [
    "# structure  not the original ampli1 adaptor, replaced T by C at 3'\n",
    "ampli1_MseLig_21=\"AGTGGGATTCCGCATGCTAGC\"+NNV\n",
    "ampli1_MseLig_12=\"TA\"+rc(NNV)+\"GCTAGCATGC\""
   ]
  },
  {
   "cell_type": "code",
   "execution_count": 17,
   "metadata": {},
   "outputs": [],
   "source": [
    "V=[\"A\",\"C\",\"G\"]\n",
    "N='ATCG'\n",
    "candidates=dict()\n",
    "for v in V:\n",
    "    for n in N:\n",
    "        for m in N:\n",
    "            umi=m+n+v\n",
    "            tmp=dict()\n",
    "            ampli1_MseLig_21=\"AGTGGGATTCCGCATGCTAGC\"+umi\n",
    "            ampli1_MseLig_12=\"TA\"+rc(umi)+\"GCTAGCATGC\"\n",
    "            tmp[\"ampli1_MseLig_21\"]=ampli1_MseLig_21\n",
    "            tmp[\"ampli1_MseLig_12\"]=ampli1_MseLig_12\n",
    "            candidates[umi]=tmp\n",
    "    "
   ]
  },
  {
   "cell_type": "code",
   "execution_count": 18,
   "metadata": {},
   "outputs": [
    {
     "name": "stdout",
     "output_type": "stream",
     "text": [
      "CGTACGATCGCCCAT\n"
     ]
    }
   ],
   "source": [
    "print(ampli1_MseLig_12[::-1])"
   ]
  },
  {
   "cell_type": "code",
   "execution_count": 19,
   "metadata": {},
   "outputs": [
    {
     "data": {
      "text/plain": [
       "{'AAA': {'ampli1_MseLig_21': 'AGTGGGATTCCGCATGCTAGCAAA',\n",
       "  'ampli1_MseLig_12': 'TATTTGCTAGCATGC'},\n",
       " 'TAA': {'ampli1_MseLig_21': 'AGTGGGATTCCGCATGCTAGCTAA',\n",
       "  'ampli1_MseLig_12': 'TATTAGCTAGCATGC'},\n",
       " 'CAA': {'ampli1_MseLig_21': 'AGTGGGATTCCGCATGCTAGCCAA',\n",
       "  'ampli1_MseLig_12': 'TATTGGCTAGCATGC'},\n",
       " 'GAA': {'ampli1_MseLig_21': 'AGTGGGATTCCGCATGCTAGCGAA',\n",
       "  'ampli1_MseLig_12': 'TATTCGCTAGCATGC'},\n",
       " 'ATA': {'ampli1_MseLig_21': 'AGTGGGATTCCGCATGCTAGCATA',\n",
       "  'ampli1_MseLig_12': 'TATATGCTAGCATGC'},\n",
       " 'TTA': {'ampli1_MseLig_21': 'AGTGGGATTCCGCATGCTAGCTTA',\n",
       "  'ampli1_MseLig_12': 'TATAAGCTAGCATGC'},\n",
       " 'CTA': {'ampli1_MseLig_21': 'AGTGGGATTCCGCATGCTAGCCTA',\n",
       "  'ampli1_MseLig_12': 'TATAGGCTAGCATGC'},\n",
       " 'GTA': {'ampli1_MseLig_21': 'AGTGGGATTCCGCATGCTAGCGTA',\n",
       "  'ampli1_MseLig_12': 'TATACGCTAGCATGC'},\n",
       " 'ACA': {'ampli1_MseLig_21': 'AGTGGGATTCCGCATGCTAGCACA',\n",
       "  'ampli1_MseLig_12': 'TATGTGCTAGCATGC'},\n",
       " 'TCA': {'ampli1_MseLig_21': 'AGTGGGATTCCGCATGCTAGCTCA',\n",
       "  'ampli1_MseLig_12': 'TATGAGCTAGCATGC'},\n",
       " 'CCA': {'ampli1_MseLig_21': 'AGTGGGATTCCGCATGCTAGCCCA',\n",
       "  'ampli1_MseLig_12': 'TATGGGCTAGCATGC'},\n",
       " 'GCA': {'ampli1_MseLig_21': 'AGTGGGATTCCGCATGCTAGCGCA',\n",
       "  'ampli1_MseLig_12': 'TATGCGCTAGCATGC'},\n",
       " 'AGA': {'ampli1_MseLig_21': 'AGTGGGATTCCGCATGCTAGCAGA',\n",
       "  'ampli1_MseLig_12': 'TATCTGCTAGCATGC'},\n",
       " 'TGA': {'ampli1_MseLig_21': 'AGTGGGATTCCGCATGCTAGCTGA',\n",
       "  'ampli1_MseLig_12': 'TATCAGCTAGCATGC'},\n",
       " 'CGA': {'ampli1_MseLig_21': 'AGTGGGATTCCGCATGCTAGCCGA',\n",
       "  'ampli1_MseLig_12': 'TATCGGCTAGCATGC'},\n",
       " 'GGA': {'ampli1_MseLig_21': 'AGTGGGATTCCGCATGCTAGCGGA',\n",
       "  'ampli1_MseLig_12': 'TATCCGCTAGCATGC'},\n",
       " 'AAC': {'ampli1_MseLig_21': 'AGTGGGATTCCGCATGCTAGCAAC',\n",
       "  'ampli1_MseLig_12': 'TAGTTGCTAGCATGC'},\n",
       " 'TAC': {'ampli1_MseLig_21': 'AGTGGGATTCCGCATGCTAGCTAC',\n",
       "  'ampli1_MseLig_12': 'TAGTAGCTAGCATGC'},\n",
       " 'CAC': {'ampli1_MseLig_21': 'AGTGGGATTCCGCATGCTAGCCAC',\n",
       "  'ampli1_MseLig_12': 'TAGTGGCTAGCATGC'},\n",
       " 'GAC': {'ampli1_MseLig_21': 'AGTGGGATTCCGCATGCTAGCGAC',\n",
       "  'ampli1_MseLig_12': 'TAGTCGCTAGCATGC'},\n",
       " 'ATC': {'ampli1_MseLig_21': 'AGTGGGATTCCGCATGCTAGCATC',\n",
       "  'ampli1_MseLig_12': 'TAGATGCTAGCATGC'},\n",
       " 'TTC': {'ampli1_MseLig_21': 'AGTGGGATTCCGCATGCTAGCTTC',\n",
       "  'ampli1_MseLig_12': 'TAGAAGCTAGCATGC'},\n",
       " 'CTC': {'ampli1_MseLig_21': 'AGTGGGATTCCGCATGCTAGCCTC',\n",
       "  'ampli1_MseLig_12': 'TAGAGGCTAGCATGC'},\n",
       " 'GTC': {'ampli1_MseLig_21': 'AGTGGGATTCCGCATGCTAGCGTC',\n",
       "  'ampli1_MseLig_12': 'TAGACGCTAGCATGC'},\n",
       " 'ACC': {'ampli1_MseLig_21': 'AGTGGGATTCCGCATGCTAGCACC',\n",
       "  'ampli1_MseLig_12': 'TAGGTGCTAGCATGC'},\n",
       " 'TCC': {'ampli1_MseLig_21': 'AGTGGGATTCCGCATGCTAGCTCC',\n",
       "  'ampli1_MseLig_12': 'TAGGAGCTAGCATGC'},\n",
       " 'CCC': {'ampli1_MseLig_21': 'AGTGGGATTCCGCATGCTAGCCCC',\n",
       "  'ampli1_MseLig_12': 'TAGGGGCTAGCATGC'},\n",
       " 'GCC': {'ampli1_MseLig_21': 'AGTGGGATTCCGCATGCTAGCGCC',\n",
       "  'ampli1_MseLig_12': 'TAGGCGCTAGCATGC'},\n",
       " 'AGC': {'ampli1_MseLig_21': 'AGTGGGATTCCGCATGCTAGCAGC',\n",
       "  'ampli1_MseLig_12': 'TAGCTGCTAGCATGC'},\n",
       " 'TGC': {'ampli1_MseLig_21': 'AGTGGGATTCCGCATGCTAGCTGC',\n",
       "  'ampli1_MseLig_12': 'TAGCAGCTAGCATGC'},\n",
       " 'CGC': {'ampli1_MseLig_21': 'AGTGGGATTCCGCATGCTAGCCGC',\n",
       "  'ampli1_MseLig_12': 'TAGCGGCTAGCATGC'},\n",
       " 'GGC': {'ampli1_MseLig_21': 'AGTGGGATTCCGCATGCTAGCGGC',\n",
       "  'ampli1_MseLig_12': 'TAGCCGCTAGCATGC'},\n",
       " 'AAG': {'ampli1_MseLig_21': 'AGTGGGATTCCGCATGCTAGCAAG',\n",
       "  'ampli1_MseLig_12': 'TACTTGCTAGCATGC'},\n",
       " 'TAG': {'ampli1_MseLig_21': 'AGTGGGATTCCGCATGCTAGCTAG',\n",
       "  'ampli1_MseLig_12': 'TACTAGCTAGCATGC'},\n",
       " 'CAG': {'ampli1_MseLig_21': 'AGTGGGATTCCGCATGCTAGCCAG',\n",
       "  'ampli1_MseLig_12': 'TACTGGCTAGCATGC'},\n",
       " 'GAG': {'ampli1_MseLig_21': 'AGTGGGATTCCGCATGCTAGCGAG',\n",
       "  'ampli1_MseLig_12': 'TACTCGCTAGCATGC'},\n",
       " 'ATG': {'ampli1_MseLig_21': 'AGTGGGATTCCGCATGCTAGCATG',\n",
       "  'ampli1_MseLig_12': 'TACATGCTAGCATGC'},\n",
       " 'TTG': {'ampli1_MseLig_21': 'AGTGGGATTCCGCATGCTAGCTTG',\n",
       "  'ampli1_MseLig_12': 'TACAAGCTAGCATGC'},\n",
       " 'CTG': {'ampli1_MseLig_21': 'AGTGGGATTCCGCATGCTAGCCTG',\n",
       "  'ampli1_MseLig_12': 'TACAGGCTAGCATGC'},\n",
       " 'GTG': {'ampli1_MseLig_21': 'AGTGGGATTCCGCATGCTAGCGTG',\n",
       "  'ampli1_MseLig_12': 'TACACGCTAGCATGC'},\n",
       " 'ACG': {'ampli1_MseLig_21': 'AGTGGGATTCCGCATGCTAGCACG',\n",
       "  'ampli1_MseLig_12': 'TACGTGCTAGCATGC'},\n",
       " 'TCG': {'ampli1_MseLig_21': 'AGTGGGATTCCGCATGCTAGCTCG',\n",
       "  'ampli1_MseLig_12': 'TACGAGCTAGCATGC'},\n",
       " 'CCG': {'ampli1_MseLig_21': 'AGTGGGATTCCGCATGCTAGCCCG',\n",
       "  'ampli1_MseLig_12': 'TACGGGCTAGCATGC'},\n",
       " 'GCG': {'ampli1_MseLig_21': 'AGTGGGATTCCGCATGCTAGCGCG',\n",
       "  'ampli1_MseLig_12': 'TACGCGCTAGCATGC'},\n",
       " 'AGG': {'ampli1_MseLig_21': 'AGTGGGATTCCGCATGCTAGCAGG',\n",
       "  'ampli1_MseLig_12': 'TACCTGCTAGCATGC'},\n",
       " 'TGG': {'ampli1_MseLig_21': 'AGTGGGATTCCGCATGCTAGCTGG',\n",
       "  'ampli1_MseLig_12': 'TACCAGCTAGCATGC'},\n",
       " 'CGG': {'ampli1_MseLig_21': 'AGTGGGATTCCGCATGCTAGCCGG',\n",
       "  'ampli1_MseLig_12': 'TACCGGCTAGCATGC'},\n",
       " 'GGG': {'ampli1_MseLig_21': 'AGTGGGATTCCGCATGCTAGCGGG',\n",
       "  'ampli1_MseLig_12': 'TACCCGCTAGCATGC'}}"
      ]
     },
     "execution_count": 19,
     "metadata": {},
     "output_type": "execute_result"
    }
   ],
   "source": [
    "candidates"
   ]
  },
  {
   "cell_type": "code",
   "execution_count": 20,
   "metadata": {},
   "outputs": [
    {
     "data": {
      "text/plain": [
       "'/gstore/home/taol9/gitsss/yo/notebooks_terra'"
      ]
     },
     "execution_count": 20,
     "metadata": {},
     "output_type": "execute_result"
    }
   ],
   "source": [
    "pwd"
   ]
  },
  {
   "cell_type": "code",
   "execution_count": 21,
   "metadata": {},
   "outputs": [],
   "source": [
    "dftt=pd.DataFrame.from_dict(candidates,orient='index')\n",
    "outname='./ampli_nnv_adaptor.xlsx'\n",
    "dftt.to_excel(outname)"
   ]
  },
  {
   "cell_type": "markdown",
   "metadata": {},
   "source": [
    "# pcr amp primer"
   ]
  },
  {
   "cell_type": "code",
   "execution_count": 10,
   "metadata": {},
   "outputs": [],
   "source": [
    "# ampli1_MseLig_21=\"AGTGGGATTCCGCATGCTAGC\"\n",
    "\n",
    "ampli_universal=\"TAGTGGGATTCCTGCTGTCAGT\"\n",
    "ampli1_kit_adaptor=\"AGTGGGATTCCTGCTGTCAGT\"\n",
    "HT_R1SP_w ='ACACTCTTTCCCTACACGACGCTCTTCCGATCT'\n",
    "HT_R2SP_w ='AGATCGGAAGAGCACACGTCTGAACTCCAGTCAC'\n",
    "\n",
    "p5_w = \"AATGATACGGCGACCACCGAGATCTACAC\"\n",
    "p7_w = 'ATCTCGTATGCCGTCTTCTGCTTG'\n",
    "\n",
    "\n",
    "ME_w=\"AGATGTGTATAAGAGACAG\"\n",
    "\n",
    "NT_s5_w=\"TCGTCGGCAGCGTC\"\n",
    "NT_s7_w=\"GTCTCGTGGGCTCGG\"\n",
    "\n",
    "HT_R2SP_c =  rc(HT_R2SP_w) \n",
    "HT_R1SP_c =rc(HT_R1SP_w)\n",
    "\n",
    "p7_c = rc(p7_w)\n",
    "p5_c = rc(p5_w)\n",
    "\n",
    "ME_w=\"AGATGTGTATAAGAGACAG\"\n",
    "\n",
    "NT_s5_w=\"TCGTCGGCAGCGTC\"\n",
    "NT_s7_w=\"GTCTCGTGGGCTCGG\"\n",
    "T7_w=\"TAATACGACTCACTATAG\""
   ]
  },
  {
   "cell_type": "code",
   "execution_count": 11,
   "metadata": {},
   "outputs": [],
   "source": [
    "def bgen(length,maxstretch=3,distance=3,):\n",
    "    candi=[]\n",
    "    for i in range(30000):\n",
    "        x=str(RandomDNA(length))\n",
    "        if 45<GC(x)<55:\n",
    "            candi.append(x)\n",
    "    candi=barcode.filter_stretches(candi, maxstretch)\n",
    "    candi=barcode.filter_distance(candi, distance)\n",
    "    return candi"
   ]
  },
  {
   "cell_type": "code",
   "execution_count": 12,
   "metadata": {},
   "outputs": [
    {
     "data": {
      "text/plain": [
       "402"
      ]
     },
     "execution_count": 12,
     "metadata": {},
     "output_type": "execute_result"
    }
   ],
   "source": [
    "idxs=bgen(8,3)\n",
    "len(idxs)"
   ]
  },
  {
   "cell_type": "code",
   "execution_count": 13,
   "metadata": {},
   "outputs": [],
   "source": [
    "ampli_lib_primer=dict()\n",
    "for i in range(96):\n",
    "    tmp=dict()\n",
    "    tmp['idx7']=\"lib7_\"+str(idxs[i])\n",
    "    tmp['idx5']='lib5_'+str(idxs[-i])\n",
    "    AdaptorA=p7_w+idxs[i]+NT_s7_w+ampli_universal\n",
    "    AdaptorB=p5_w+idxs[-i]+NT_s5_w+ampli_universal\n",
    "    tmp['libprimer7']=str(AdaptorA)\n",
    "    tmp['libprimer5']=str(AdaptorB)\n",
    "    ampli_lib_primer[i]=tmp\n",
    "\n"
   ]
  },
  {
   "cell_type": "code",
   "execution_count": 14,
   "metadata": {},
   "outputs": [],
   "source": [
    "dftt=pd.DataFrame.from_dict(ampli_lib_primer,orient='index')\n",
    "outname='./ampli_lib_primer_fixed.xlsx'\n",
    "dftt.to_excel(outname)"
   ]
  },
  {
   "cell_type": "code",
   "execution_count": 50,
   "metadata": {},
   "outputs": [],
   "source": [
    "dftt[['idx7', 'libprimer7']][:12].to_csv('7.csv')"
   ]
  },
  {
   "cell_type": "code",
   "execution_count": 51,
   "metadata": {},
   "outputs": [],
   "source": [
    "dftt[['idx5', 'libprimer5']][:16].to_csv('5.csv')"
   ]
  },
  {
   "cell_type": "code",
   "execution_count": 15,
   "metadata": {},
   "outputs": [],
   "source": [
    "    read2=NT_s7_w+ampli_universal+'TAA'\n",
    "    read1=NT_s5_w+ampli_universal+'TAA'\n",
    "    index1=rc(read2)\n",
    "    index2=rc(read1)\n",
    "    "
   ]
  },
  {
   "cell_type": "code",
   "execution_count": 16,
   "metadata": {},
   "outputs": [
    {
     "name": "stdout",
     "output_type": "stream",
     "text": [
      "ampli_read1seqprimer, TCGTCGGCAGCGTCTAGTGGGATTCCTGCTGTCAGTTAA\n",
      "ampli_read2seqprimer, GTCTCGTGGGCTCGGTAGTGGGATTCCTGCTGTCAGTTAA\n",
      "ampli_index1primer, TTAACTGACAGCAGGAATCCCACTACCGAGCCCACGAGAC\n",
      "ampli_index2primer, TTAACTGACAGCAGGAATCCCACTAGACGCTGCCGACGA\n"
     ]
    }
   ],
   "source": [
    "print (\"ampli_read1seqprimer,\", read1)\n",
    "print (\"ampli_read2seqprimer,\", read2)\n",
    "print (\"ampli_index1primer,\", index1)\n",
    "print (\"ampli_index2primer,\", index2)\n"
   ]
  },
  {
   "cell_type": "code",
   "execution_count": null,
   "metadata": {},
   "outputs": [],
   "source": []
  }
 ],
 "metadata": {
  "kernelspec": {
   "display_name": "Python 3",
   "language": "python",
   "name": "python3"
  },
  "language_info": {
   "codemirror_mode": {
    "name": "ipython",
    "version": 3
   },
   "file_extension": ".py",
   "mimetype": "text/x-python",
   "name": "python",
   "nbconvert_exporter": "python",
   "pygments_lexer": "ipython3",
   "version": "3.6.3"
  }
 },
 "nbformat": 4,
 "nbformat_minor": 4
}
