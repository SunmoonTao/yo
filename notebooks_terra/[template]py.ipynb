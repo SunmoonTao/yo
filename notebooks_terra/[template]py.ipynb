{
 "cells": [
  {
   "cell_type": "markdown",
   "id": "da195edd-7b1f-4249-81c3-e2ff5c6d210c",
   "metadata": {},
   "source": [
    "# 0 install/import "
   ]
  },
  {
   "cell_type": "markdown",
   "id": "a8cc098d-2e53-486a-a2de-3a1c89201650",
   "metadata": {},
   "source": [
    "## 0.1 install"
   ]
  },
  {
   "cell_type": "code",
   "execution_count": null,
   "id": "c4f84740-81ce-4ae9-9a36-79953b618e04",
   "metadata": {},
   "outputs": [],
   "source": []
  },
  {
   "cell_type": "markdown",
   "id": "eddbb680-f06d-476b-a72d-ac5912a88c26",
   "metadata": {},
   "source": [
    "## 0.2 import"
   ]
  },
  {
   "cell_type": "code",
   "execution_count": 1,
   "id": "e89feeac-801b-4f32-a848-492a78516e59",
   "metadata": {},
   "outputs": [],
   "source": [
    "import pandas as pd\n",
    "import os"
   ]
  },
  {
   "cell_type": "markdown",
   "id": "4e1d31f1-3eef-4c8f-89e7-90c6b0f2f022",
   "metadata": {},
   "source": [
    "## 0.3 def functions"
   ]
  },
  {
   "cell_type": "code",
   "execution_count": null,
   "id": "ddb561ed-656e-486f-8db4-4a3384380e65",
   "metadata": {},
   "outputs": [],
   "source": []
  },
  {
   "cell_type": "markdown",
   "id": "b93c31fb-3f81-45e1-b3c8-e81ed44528ca",
   "metadata": {},
   "source": [
    "# 1 change to working dir"
   ]
  },
  {
   "cell_type": "code",
   "execution_count": 4,
   "id": "467a7313-3c92-4b5e-8d6a-a7ab7b1bdaf8",
   "metadata": {},
   "outputs": [
    {
     "data": {
      "text/plain": [
       "'/home/host/Documents/bioapp/dnabarcodes'"
      ]
     },
     "execution_count": 4,
     "metadata": {},
     "output_type": "execute_result"
    }
   ],
   "source": [
    "pwd"
   ]
  },
  {
   "cell_type": "code",
   "execution_count": 7,
   "id": "c41c5321-f4be-4f43-9d55-2182d4c21594",
   "metadata": {},
   "outputs": [
    {
     "name": "stdout",
     "output_type": "stream",
     "text": [
      "/home/host/Documents/bioapp/dnabarcodes\n"
     ]
    }
   ],
   "source": [
    "cd '/home/host/Documents/bioapp/dnabarcodes'"
   ]
  },
  {
   "cell_type": "code",
   "execution_count": 12,
   "id": "fc0de654-da33-49a4-8a16-7754f3b9a250",
   "metadata": {},
   "outputs": [
    {
     "name": "stdout",
     "output_type": "stream",
     "text": [
      " filtering_dnabarcodes.ipynb   index8dis3.csv\n",
      " index10dis3.csv              '[R]dnabarcodes_initial_generator.ipynb'\n",
      " index6dis3.csv               '[template]py.ipynb'\n"
     ]
    }
   ],
   "source": [
    "ls"
   ]
  },
  {
   "cell_type": "code",
   "execution_count": 10,
   "id": "4b5faa90-148e-40ed-85b4-3a0f26ac1665",
   "metadata": {},
   "outputs": [
    {
     "data": {
      "text/plain": [
       "'.'"
      ]
     },
     "execution_count": 10,
     "metadata": {},
     "output_type": "execute_result"
    }
   ],
   "source": []
  },
  {
   "cell_type": "markdown",
   "id": "dcbf7a5d-ddf2-485a-b568-35205e07ec29",
   "metadata": {},
   "source": [
    "# 2 get inputs"
   ]
  },
  {
   "cell_type": "markdown",
   "id": "cb849ce8-28b9-457e-96bb-45102c71d012",
   "metadata": {},
   "source": [
    "# 3 "
   ]
  },
  {
   "cell_type": "markdown",
   "id": "800b084f-e54d-4da0-80a9-d2cb644232dd",
   "metadata": {},
   "source": [
    "# 4 save outputs"
   ]
  }
 ],
 "metadata": {
  "kernelspec": {
   "display_name": "Python 3 (ipykernel)",
   "language": "python",
   "name": "python3"
  },
  "language_info": {
   "codemirror_mode": {
    "name": "ipython",
    "version": 3
   },
   "file_extension": ".py",
   "mimetype": "text/x-python",
   "name": "python",
   "nbconvert_exporter": "python",
   "pygments_lexer": "ipython3",
   "version": "3.9.7"
  }
 },
 "nbformat": 4,
 "nbformat_minor": 5
}
