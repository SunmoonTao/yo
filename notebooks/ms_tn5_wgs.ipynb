{
 "cells": [
  {
   "cell_type": "markdown",
   "metadata": {},
   "source": [
    "# 0 install/import "
   ]
  },
  {
   "cell_type": "markdown",
   "metadata": {},
   "source": [
    "## 0.1 install"
   ]
  },
  {
   "cell_type": "code",
   "execution_count": 13,
   "metadata": {},
   "outputs": [
    {
     "name": "stdout",
     "output_type": "stream",
     "text": [
      "Requirement already satisfied: barcode in /home/jupyter/.local/lib/python3.7/site-packages (1.0.2)\n",
      "Requirement already satisfied: python-Levenshtein>=0.12.0 in /home/jupyter/.local/lib/python3.7/site-packages (from barcode) (0.20.9)\n",
      "Requirement already satisfied: Levenshtein==0.20.9 in /home/jupyter/.local/lib/python3.7/site-packages (from python-Levenshtein>=0.12.0->barcode) (0.20.9)\n",
      "Requirement already satisfied: rapidfuzz<3.0.0,>=2.3.0 in /home/jupyter/.local/lib/python3.7/site-packages (from Levenshtein==0.20.9->python-Levenshtein>=0.12.0->barcode) (2.13.7)\n"
     ]
    }
   ],
   "source": [
    "!pip3 install barcode\n"
   ]
  },
  {
   "cell_type": "markdown",
   "metadata": {},
   "source": [
    "## 0.2 import"
   ]
  },
  {
   "cell_type": "code",
   "execution_count": 1,
   "metadata": {},
   "outputs": [],
   "source": [
    "from Bio import SeqIO\n",
    "from Bio.Seq import Seq\n",
    "import csv\n",
    "import pandas as pd\n",
    "from collections import Counter\n",
    "import csv\n",
    "from Bio.Seq import Seq\n",
    "import sys\n",
    "import barcode\n",
    "sys.path.append('/home/jupyter/gitsss/yo/tao')\n",
    "sys.path.append('/home/jupyter/gitsss/flashpy')\n",
    "\n",
    "from myprimer import *\n",
    "from myfunc import *\n",
    "from flash import *\n"
   ]
  },
  {
   "cell_type": "code",
   "execution_count": 2,
   "metadata": {},
   "outputs": [
    {
     "data": {
      "text/plain": [
       "<function myprimer.RandomDNA(length)>"
      ]
     },
     "execution_count": 2,
     "metadata": {},
     "output_type": "execute_result"
    }
   ],
   "source": [
    "RandomDNA"
   ]
  },
  {
   "cell_type": "markdown",
   "metadata": {},
   "source": [
    "## 0.3 def functions"
   ]
  },
  {
   "cell_type": "code",
   "execution_count": 3,
   "metadata": {},
   "outputs": [],
   "source": [
    "def bgen(length,maxstretch=3,distance=3,):\n",
    "    candi=[]\n",
    "    for i in range(30000):\n",
    "        x=str(RandomDNA(length))\n",
    "        if 45<GC(x)<55:\n",
    "            candi.append(x)\n",
    "    candi=barcode.filter_stretches(candi, maxstretch)\n",
    "    candi=barcode.filter_distance(candi, distance)\n",
    "    return candi"
   ]
  },
  {
   "cell_type": "code",
   "execution_count": 4,
   "metadata": {},
   "outputs": [],
   "source": [
    "def C2T(seq):\n",
    "    return seq.replace('C','T')"
   ]
  },
  {
   "cell_type": "code",
   "execution_count": 5,
   "metadata": {},
   "outputs": [],
   "source": [
    "HT_R1SP_w ='ACACTCTTTCCCTACACGACGCTCTTCCGATCT'\n",
    "HT_R2SP_w ='AGATCGGAAGAGCACACGTCTGAACTCCAGTCAC'\n",
    "\n",
    "p5_w = \"AATGATACGGCGACCACCGAGATCTACAC\"\n",
    "p7_w = 'ATCTCGTATGCCGTCTTCTGCTTG'\n",
    "\n",
    "\n",
    "ME_w=\"AGATGTGTATAAGAGACAG\"\n",
    "\n",
    "NT_s5_w=\"TCGTCGGCAGCGTC\"\n",
    "NT_s7_w=\"GTCTCGTGGGCTCGG\"\n",
    "\n",
    "HT_R2SP_c =  rc(HT_R2SP_w) \n",
    "HT_R1SP_c =rc(HT_R1SP_w)\n",
    "\n",
    "p7_c = rc(p7_w)\n",
    "p5_c = rc(p5_w)\n",
    "\n",
    "ME_w=\"AGATGTGTATAAGAGACAG\"\n",
    "\n",
    "NT_s5_w=\"TCGTCGGCAGCGTC\"\n",
    "NT_s7_w=\"GTCTCGTGGGCTCGG\"\n",
    "T7_w=\"TAATACGACTCACTATAG\""
   ]
  },
  {
   "cell_type": "code",
   "execution_count": 6,
   "metadata": {},
   "outputs": [
    {
     "data": {
      "text/plain": [
       "'AGATGTGTATAAGAGATAG'"
      ]
     },
     "execution_count": 6,
     "metadata": {},
     "output_type": "execute_result"
    }
   ],
   "source": [
    "C2T(ME_w)"
   ]
  },
  {
   "cell_type": "markdown",
   "metadata": {},
   "source": [
    "# 1 change to working dir"
   ]
  },
  {
   "cell_type": "code",
   "execution_count": 7,
   "metadata": {
    "scrolled": true
   },
   "outputs": [
    {
     "data": {
      "text/plain": [
       "'/home/jupyter/gitsss/notebooks'"
      ]
     },
     "execution_count": 7,
     "metadata": {},
     "output_type": "execute_result"
    }
   ],
   "source": [
    "pwd"
   ]
  },
  {
   "cell_type": "markdown",
   "metadata": {},
   "source": [
    "# structure"
   ]
  },
  {
   "cell_type": "code",
   "execution_count": 8,
   "metadata": {},
   "outputs": [],
   "source": [
    "p5_w = \"AATGATACGGCGACCACCGAGATCTACAC\"\n",
    "p7_w = 'ATCTCGTATGCCGTCTTCTGCTTG'\n",
    "\n",
    "ME_w=\"AGATGTGTATAAGAGACAG\"\n",
    "NT_s5_w=\"TCGTCGGCAGCGTC\"\n",
    "NT_s7=\"GTCTCGTGGGCTCGG\"\n",
    "# T7_w=\"TAATACGACTCACTATAG\"\n",
    "T7_w=\"GAATTTAATACGACTCACTATAGGGAGAGT\"\n",
    "visium_TSO= \"AAGCAGTGGTATCAACGCAGAGTACATrGrGrG\"\n"
   ]
  },
  {
   "cell_type": "code",
   "execution_count": 9,
   "metadata": {},
   "outputs": [
    {
     "data": {
      "text/plain": [
       "404"
      ]
     },
     "execution_count": 9,
     "metadata": {},
     "output_type": "execute_result"
    }
   ],
   "source": [
    "idxs=bgen(8,3)\n",
    "len(idxs)\n"
   ]
  },
  {
   "cell_type": "code",
   "execution_count": null,
   "metadata": {},
   "outputs": [],
   "source": [
    "hometn5=HT_R2SP_w+barcodesumi+NT_s7_w+ME_w\n",
    "i5_primer=p5_w+C2T(HT_R2SP_w)\n",
    "i7_index_primer=p7_w+i7idx+HT_R2SP_w\n",
    "\n",
    "finallib: p5_w+C2T(HT_R2SP_w)+C2T(barcodesumi+NT_s7_w+ME_w)+C2T(amplicon+ME_w+NT_s7_w)+barcodesumi+HT_R2SP_w+i7idx+p7\n",
    "read1_seq_primer=C2T(NT_s7_w+ME_w)\n",
    "i7idx1_seq_primer= HT_R2SP_w.rc\n",
    "idx2_seq_primer=C2T(amplicon+ME_w+NT_s7_w): use as atac fragment sequencing, 35~99\n",
    "read2_seq_primer=C2T(ME_w+NT_s7_w).rc: 8cycles, use as round1 barcodes and umi possibly."
   ]
  },
  {
   "cell_type": "code",
   "execution_count": 13,
   "metadata": {},
   "outputs": [],
   "source": [
    "ms_read1primer=C2T(NT_s7_w+ME_w)\n",
    "ms_read2primer=C2T(NT_s5_w+ME_w)"
   ]
  },
  {
   "cell_type": "code",
   "execution_count": 14,
   "metadata": {},
   "outputs": [
    {
     "name": "stdout",
     "output_type": "stream",
     "text": [
      "GTTTTGTGGGTTTGGAGATGTGTATAAGAGATAG\n",
      "TTGTTGGTAGTGTTAGATGTGTATAAGAGATAG\n"
     ]
    }
   ],
   "source": [
    "print(ms_read1primer)\n",
    "print(ms_read2primer)"
   ]
  },
  {
   "cell_type": "code",
   "execution_count": 15,
   "metadata": {},
   "outputs": [
    {
     "name": "stdout",
     "output_type": "stream",
     "text": [
      "CTATCTCTTATACACATCTCCAAACCCACAAAAC\n",
      "CTATCTCTTATACACATCTAACACTACCAACAA\n"
     ]
    }
   ],
   "source": [
    "print(rc(ms_read1primer))\n",
    "print(rc(ms_read2primer))\n"
   ]
  },
  {
   "cell_type": "code",
   "execution_count": null,
   "metadata": {},
   "outputs": [],
   "source": [
    "ms_read1primer,GTTTTGTGGGTTTGGAGATGTGTATAAGAGATAG,100nm,STD\n",
    "ms_read2primer,TTGTTGGTAGTGTTAGATGTGTATAAGAGATAG,25nm,STD\n",
    "ms_idx1_primer,CTATCTCTTATACACATCTCCAAACCCACAAAAC,100nm,STD\n",
    "ms_idx2_primer,CTATCTCTTATACACATCTAACACTACCAACAA,25nm,STD\n"
   ]
  },
  {
   "cell_type": "code",
   "execution_count": 19,
   "metadata": {},
   "outputs": [],
   "source": [
    "ms_nx=dict()\n",
    "for i in range(96):\n",
    "    tmp=dict()\n",
    "    tmp['idx7']=str(idxs[i])\n",
    "    tmp['idx5']=str(idxs[-i])\n",
    "    AdaptorA=p7_w+idxs[i]+C2T(NT_s7_w+ME_w)\n",
    "    AdaptorB=p5_w+idxs[-i]+C2T(NT_s5_w+ME_w)\n",
    "    tmp['libprimer7']=str(AdaptorA)\n",
    "    tmp['libprimer5']=str(AdaptorB)\n",
    "    ms_nx[i]=tmp\n",
    "\n"
   ]
  },
  {
   "cell_type": "markdown",
   "metadata": {},
   "source": [
    "# 2"
   ]
  },
  {
   "cell_type": "markdown",
   "metadata": {},
   "source": [
    "# 3 "
   ]
  },
  {
   "cell_type": "markdown",
   "metadata": {},
   "source": [
    "# 4 save outputs"
   ]
  },
  {
   "cell_type": "code",
   "execution_count": null,
   "metadata": {},
   "outputs": [],
   "source": [
    "# import pickle\n",
    "# pickling_on = open(\"EmpID.pickle\",\"wb\")\n",
    "# pickle.dump(candi, pickling_on)\n",
    "# pickling_on.close()"
   ]
  },
  {
   "cell_type": "code",
   "execution_count": null,
   "metadata": {},
   "outputs": [],
   "source": [
    "# import dill\n",
    "\n",
    "# dill.dump_session('20220503opool.db')\n",
    "# dill.load_session('20220503opool.db')"
   ]
  },
  {
   "cell_type": "code",
   "execution_count": 20,
   "metadata": {},
   "outputs": [
    {
     "data": {
      "text/plain": [
       "'/home/jupyter/gitsss/notebooks'"
      ]
     },
     "execution_count": 20,
     "metadata": {},
     "output_type": "execute_result"
    }
   ],
   "source": [
    "pwd"
   ]
  },
  {
   "cell_type": "code",
   "execution_count": 23,
   "metadata": {},
   "outputs": [],
   "source": [
    "df=pd.DataFrame.from_dict(ms_nx, orient='index')\n",
    "df.to_csv('ms_nx.csv', header=True)"
   ]
  },
  {
   "cell_type": "code",
   "execution_count": 24,
   "metadata": {},
   "outputs": [
    {
     "data": {
      "text/html": [
       "<div>\n",
       "<style scoped>\n",
       "    .dataframe tbody tr th:only-of-type {\n",
       "        vertical-align: middle;\n",
       "    }\n",
       "\n",
       "    .dataframe tbody tr th {\n",
       "        vertical-align: top;\n",
       "    }\n",
       "\n",
       "    .dataframe thead th {\n",
       "        text-align: right;\n",
       "    }\n",
       "</style>\n",
       "<table border=\"1\" class=\"dataframe\">\n",
       "  <thead>\n",
       "    <tr style=\"text-align: right;\">\n",
       "      <th></th>\n",
       "      <th>idx7</th>\n",
       "      <th>idx5</th>\n",
       "      <th>libprimer7</th>\n",
       "      <th>libprimer5</th>\n",
       "    </tr>\n",
       "  </thead>\n",
       "  <tbody>\n",
       "    <tr>\n",
       "      <th>0</th>\n",
       "      <td>CACTTCGA</td>\n",
       "      <td>CACTTCGA</td>\n",
       "      <td>ATCTCGTATGCCGTCTTCTGCTTGCACTTCGAGTTTTGTGGGTTTG...</td>\n",
       "      <td>AATGATACGGCGACCACCGAGATCTACACCACTTCGATTGTTGGTA...</td>\n",
       "    </tr>\n",
       "    <tr>\n",
       "      <th>1</th>\n",
       "      <td>TTGTCGAC</td>\n",
       "      <td>GTGGCTAA</td>\n",
       "      <td>ATCTCGTATGCCGTCTTCTGCTTGTTGTCGACGTTTTGTGGGTTTG...</td>\n",
       "      <td>AATGATACGGCGACCACCGAGATCTACACGTGGCTAATTGTTGGTA...</td>\n",
       "    </tr>\n",
       "    <tr>\n",
       "      <th>2</th>\n",
       "      <td>GACGTTAG</td>\n",
       "      <td>TATAGGGC</td>\n",
       "      <td>ATCTCGTATGCCGTCTTCTGCTTGGACGTTAGGTTTTGTGGGTTTG...</td>\n",
       "      <td>AATGATACGGCGACCACCGAGATCTACACTATAGGGCTTGTTGGTA...</td>\n",
       "    </tr>\n",
       "    <tr>\n",
       "      <th>3</th>\n",
       "      <td>ACCCTTTC</td>\n",
       "      <td>GACCTGAT</td>\n",
       "      <td>ATCTCGTATGCCGTCTTCTGCTTGACCCTTTCGTTTTGTGGGTTTG...</td>\n",
       "      <td>AATGATACGGCGACCACCGAGATCTACACGACCTGATTTGTTGGTA...</td>\n",
       "    </tr>\n",
       "    <tr>\n",
       "      <th>4</th>\n",
       "      <td>CAGGAGAT</td>\n",
       "      <td>ACAACGCA</td>\n",
       "      <td>ATCTCGTATGCCGTCTTCTGCTTGCAGGAGATGTTTTGTGGGTTTG...</td>\n",
       "      <td>AATGATACGGCGACCACCGAGATCTACACACAACGCATTGTTGGTA...</td>\n",
       "    </tr>\n",
       "    <tr>\n",
       "      <th>...</th>\n",
       "      <td>...</td>\n",
       "      <td>...</td>\n",
       "      <td>...</td>\n",
       "      <td>...</td>\n",
       "    </tr>\n",
       "    <tr>\n",
       "      <th>91</th>\n",
       "      <td>GTTGTCGT</td>\n",
       "      <td>GCACAGTA</td>\n",
       "      <td>ATCTCGTATGCCGTCTTCTGCTTGGTTGTCGTGTTTTGTGGGTTTG...</td>\n",
       "      <td>AATGATACGGCGACCACCGAGATCTACACGCACAGTATTGTTGGTA...</td>\n",
       "    </tr>\n",
       "    <tr>\n",
       "      <th>92</th>\n",
       "      <td>GCCATATG</td>\n",
       "      <td>CTAGAGGA</td>\n",
       "      <td>ATCTCGTATGCCGTCTTCTGCTTGGCCATATGGTTTTGTGGGTTTG...</td>\n",
       "      <td>AATGATACGGCGACCACCGAGATCTACACCTAGAGGATTGTTGGTA...</td>\n",
       "    </tr>\n",
       "    <tr>\n",
       "      <th>93</th>\n",
       "      <td>AAACCGAC</td>\n",
       "      <td>CGTAATCC</td>\n",
       "      <td>ATCTCGTATGCCGTCTTCTGCTTGAAACCGACGTTTTGTGGGTTTG...</td>\n",
       "      <td>AATGATACGGCGACCACCGAGATCTACACCGTAATCCTTGTTGGTA...</td>\n",
       "    </tr>\n",
       "    <tr>\n",
       "      <th>94</th>\n",
       "      <td>GCTGTGAA</td>\n",
       "      <td>CCCGATAT</td>\n",
       "      <td>ATCTCGTATGCCGTCTTCTGCTTGGCTGTGAAGTTTTGTGGGTTTG...</td>\n",
       "      <td>AATGATACGGCGACCACCGAGATCTACACCCCGATATTTGTTGGTA...</td>\n",
       "    </tr>\n",
       "    <tr>\n",
       "      <th>95</th>\n",
       "      <td>TGTCTCTC</td>\n",
       "      <td>TGGTCAGA</td>\n",
       "      <td>ATCTCGTATGCCGTCTTCTGCTTGTGTCTCTCGTTTTGTGGGTTTG...</td>\n",
       "      <td>AATGATACGGCGACCACCGAGATCTACACTGGTCAGATTGTTGGTA...</td>\n",
       "    </tr>\n",
       "  </tbody>\n",
       "</table>\n",
       "<p>96 rows × 4 columns</p>\n",
       "</div>"
      ],
      "text/plain": [
       "        idx7      idx5                                         libprimer7  \\\n",
       "0   CACTTCGA  CACTTCGA  ATCTCGTATGCCGTCTTCTGCTTGCACTTCGAGTTTTGTGGGTTTG...   \n",
       "1   TTGTCGAC  GTGGCTAA  ATCTCGTATGCCGTCTTCTGCTTGTTGTCGACGTTTTGTGGGTTTG...   \n",
       "2   GACGTTAG  TATAGGGC  ATCTCGTATGCCGTCTTCTGCTTGGACGTTAGGTTTTGTGGGTTTG...   \n",
       "3   ACCCTTTC  GACCTGAT  ATCTCGTATGCCGTCTTCTGCTTGACCCTTTCGTTTTGTGGGTTTG...   \n",
       "4   CAGGAGAT  ACAACGCA  ATCTCGTATGCCGTCTTCTGCTTGCAGGAGATGTTTTGTGGGTTTG...   \n",
       "..       ...       ...                                                ...   \n",
       "91  GTTGTCGT  GCACAGTA  ATCTCGTATGCCGTCTTCTGCTTGGTTGTCGTGTTTTGTGGGTTTG...   \n",
       "92  GCCATATG  CTAGAGGA  ATCTCGTATGCCGTCTTCTGCTTGGCCATATGGTTTTGTGGGTTTG...   \n",
       "93  AAACCGAC  CGTAATCC  ATCTCGTATGCCGTCTTCTGCTTGAAACCGACGTTTTGTGGGTTTG...   \n",
       "94  GCTGTGAA  CCCGATAT  ATCTCGTATGCCGTCTTCTGCTTGGCTGTGAAGTTTTGTGGGTTTG...   \n",
       "95  TGTCTCTC  TGGTCAGA  ATCTCGTATGCCGTCTTCTGCTTGTGTCTCTCGTTTTGTGGGTTTG...   \n",
       "\n",
       "                                           libprimer5  \n",
       "0   AATGATACGGCGACCACCGAGATCTACACCACTTCGATTGTTGGTA...  \n",
       "1   AATGATACGGCGACCACCGAGATCTACACGTGGCTAATTGTTGGTA...  \n",
       "2   AATGATACGGCGACCACCGAGATCTACACTATAGGGCTTGTTGGTA...  \n",
       "3   AATGATACGGCGACCACCGAGATCTACACGACCTGATTTGTTGGTA...  \n",
       "4   AATGATACGGCGACCACCGAGATCTACACACAACGCATTGTTGGTA...  \n",
       "..                                                ...  \n",
       "91  AATGATACGGCGACCACCGAGATCTACACGCACAGTATTGTTGGTA...  \n",
       "92  AATGATACGGCGACCACCGAGATCTACACCTAGAGGATTGTTGGTA...  \n",
       "93  AATGATACGGCGACCACCGAGATCTACACCGTAATCCTTGTTGGTA...  \n",
       "94  AATGATACGGCGACCACCGAGATCTACACCCCGATATTTGTTGGTA...  \n",
       "95  AATGATACGGCGACCACCGAGATCTACACTGGTCAGATTGTTGGTA...  \n",
       "\n",
       "[96 rows x 4 columns]"
      ]
     },
     "execution_count": 24,
     "metadata": {},
     "output_type": "execute_result"
    }
   ],
   "source": [
    "df"
   ]
  },
  {
   "cell_type": "code",
   "execution_count": 32,
   "metadata": {},
   "outputs": [],
   "source": [
    "# tmp"
   ]
  },
  {
   "cell_type": "code",
   "execution_count": null,
   "metadata": {},
   "outputs": [],
   "source": [
    "x=bgen(6,6,2)"
   ]
  },
  {
   "cell_type": "code",
   "execution_count": null,
   "metadata": {},
   "outputs": [],
   "source": [
    "len(x)"
   ]
  },
  {
   "cell_type": "code",
   "execution_count": null,
   "metadata": {},
   "outputs": [],
   "source": [
    "from collections import Counter, defaultdict\n",
    "countsbypos = defaultdict(list)\n",
    "for i in range(len(x[0])):\n",
    "    for b in x:\n",
    "        countsbypos[i].append(b[i])\n",
    "    \n",
    "    "
   ]
  },
  {
   "cell_type": "code",
   "execution_count": null,
   "metadata": {},
   "outputs": [],
   "source": [
    "for p, l in countsbypos.items():\n",
    "    print (p+1)\n",
    "    print (Counter(l))\n",
    "    print (Counter(l).keys())\n",
    "    population='ATCG'\n",
    "    random.choices(population, weights=(100,0,0,0), cum_weights=None, k=1)\n",
    "\n",
    "        "
   ]
  },
  {
   "cell_type": "code",
   "execution_count": null,
   "metadata": {},
   "outputs": [],
   "source": [
    "def syns_randomer():\n",
    "    population='ATCG'\n",
    "    random.choices(population, weights=(100,0,0,0), cum_weights=None, k=1)\n"
   ]
  },
  {
   "cell_type": "code",
   "execution_count": null,
   "metadata": {},
   "outputs": [],
   "source": [
    "def dilu_v(ori_v, ori_c, final_c):\n",
    "    return ori_v*ori_c/final_c-ori_v\n",
    "    "
   ]
  },
  {
   "cell_type": "code",
   "execution_count": null,
   "metadata": {},
   "outputs": [],
   "source": [
    "dilu_v(240,19,4.4)"
   ]
  },
  {
   "cell_type": "code",
   "execution_count": null,
   "metadata": {},
   "outputs": [],
   "source": [
    "dilu_v(240,29,4.4)"
   ]
  },
  {
   "cell_type": "code",
   "execution_count": null,
   "metadata": {},
   "outputs": [],
   "source": [
    "0.11*60*96"
   ]
  },
  {
   "cell_type": "code",
   "execution_count": null,
   "metadata": {},
   "outputs": [],
   "source": [
    "0.22*60*96"
   ]
  }
 ],
 "metadata": {
  "kernelspec": {
   "display_name": "Python 3",
   "language": "python",
   "name": "python3"
  },
  "language_info": {
   "codemirror_mode": {
    "name": "ipython",
    "version": 3
   },
   "file_extension": ".py",
   "mimetype": "text/x-python",
   "name": "python",
   "nbconvert_exporter": "python",
   "pygments_lexer": "ipython3",
   "version": "3.6.3"
  }
 },
 "nbformat": 4,
 "nbformat_minor": 5
}
