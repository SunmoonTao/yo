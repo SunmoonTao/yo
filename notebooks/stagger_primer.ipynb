{
 "cells": [
  {
   "cell_type": "code",
   "execution_count": 1,
   "metadata": {},
   "outputs": [],
   "source": [
    "from itertools import product,combinations\n",
    "from collections import Counter\n"
   ]
  },
  {
   "cell_type": "code",
   "execution_count": 2,
   "metadata": {},
   "outputs": [],
   "source": [
    "p7_read2_primer=\"GTGACTGGAGTTCAGACGTGTGCTCTTCCGATCT\"\n",
    "cre_primer=\"GGTGTGTCCATCCCTGAAAT\"\n",
    "ref=\"GGTGTGTCCATCCCTGAAATCATGCAGGCTGGTGGCTGGACCAATGTGAACATTGTGATGAACTACATCAGAACCCTGGACTCTGAGACTGGGGCAATGGTGAGGCTGCTAGAGGATGGGGACTGAGAGCTCGCTGATCAGCCTCGACTGTGCCTTCTAGTTGCCAGCCATCTGTTGTTTGCCCCTCCCCCGTGCCTTCCTTGACCCTGGAAGGTGCCACTCCCACTGTCCTTTCCTAATAAAATGAGGAAATTGCATCGCATTGTCTGAGTAGGTGTCATTCTATTCTGGGGGGTGGGGT\"\n",
    "bases=\"ATCG\""
   ]
  },
  {
   "cell_type": "code",
   "execution_count": 3,
   "metadata": {},
   "outputs": [
    {
     "name": "stdout",
     "output_type": "stream",
     "text": [
      "34\n"
     ]
    }
   ],
   "source": [
    "def Fibonacci(n): \n",
    "    if n<0: \n",
    "        print(\"Incorrect input\") \n",
    "    # First Fibonacci number is 0 \n",
    "    elif n==0: \n",
    "        return 0\n",
    "    # Second Fibonacci number is 1 \n",
    "    elif n==1: \n",
    "        return 1\n",
    "    else: \n",
    "        return Fibonacci(n-1)+Fibonacci(n-2) \n",
    "  \n",
    "  \n",
    "print(Fibonacci(9))"
   ]
  },
  {
   "cell_type": "code",
   "execution_count": 4,
   "metadata": {},
   "outputs": [],
   "source": [
    "stagger=dict()\n",
    "bases=\"ATCG\"\n",
    "\n",
    "for i in range(5):\n",
    "    k=i+1\n",
    "    x=list()\n",
    "    for combo in list(product(bases,repeat = k)):\n",
    "#         print(combo)\n",
    "        x.append(''.join(combo))\n",
    "    stagger[i+1]=x\n",
    "#     print(len(x))\n",
    "# stagger\n",
    "\n"
   ]
  },
  {
   "cell_type": "code",
   "execution_count": 5,
   "metadata": {},
   "outputs": [],
   "source": [
    "def breaknumbers(n, max_e=x):\n",
    "    if n<=max_e*2:\n",
    "        a=int(n/2)\n",
    "        b=n-a\n",
    "    \n",
    "        return (a,b)\n",
    "    else:\n",
    "        print('not possible')\n",
    "    "
   ]
  },
  {
   "cell_type": "code",
   "execution_count": 6,
   "metadata": {},
   "outputs": [],
   "source": [
    "def yolist(start,stop,step=1):\n",
    "    # adjust the stop side to include\n",
    "    stop = stop + 1\n",
    "    return list(range(start,stop,step))"
   ]
  },
  {
   "cell_type": "code",
   "execution_count": 7,
   "metadata": {},
   "outputs": [
    {
     "name": "stdout",
     "output_type": "stream",
     "text": [
      "k,a,b 6 3 3\n",
      "4096 ['AAAAAA', 'AAAAAT', 'AAAAAC', 'AAAAAG']\n",
      "k,a,b 7 3 4\n",
      "16384 ['AAAAAAA', 'AAAAAAT', 'AAAAAAC', 'AAAAAAG']\n",
      "k,a,b 8 4 4\n",
      "65536 ['AAAAAAAA', 'AAAAAAAT', 'AAAAAAAC', 'AAAAAAAG']\n",
      "k,a,b 9 4 5\n",
      "262144 ['AAAAAAAAA', 'AAAAAAAAT', 'AAAAAAAAC', 'AAAAAAAAG']\n",
      "k,a,b 10 5 5\n",
      "1048576 ['AAAAAAAAAA', 'AAAAAAAAAT', 'AAAAAAAAAC', 'AAAAAAAAAG']\n"
     ]
    }
   ],
   "source": [
    "\n",
    "for k in yolist(6,10):\n",
    "    x=list()\n",
    "    a,b=breaknumbers(k,5)\n",
    "    print (\"k,a,b\",k,a,b)\n",
    "    sub_a=stagger[a]\n",
    "    sub_b=stagger[b]\n",
    "\n",
    "    for combo in list(product(sub_a,sub_b)):\n",
    "#         print(combo)\n",
    "        x.append(''.join(combo))\n",
    "    print (len(x),x[:4])\n",
    "    stagger[k]=x"
   ]
  },
  {
   "cell_type": "code",
   "execution_count": 8,
   "metadata": {},
   "outputs": [
    {
     "name": "stdout",
     "output_type": "stream",
     "text": [
      "k,a,b 11 5 6\n",
      "4194304 ['AAAAAAAAAAA', 'AAAAAAAAAAT', 'AAAAAAAAAAC', 'AAAAAAAAAAG']\n",
      "k,a,b 12 6 6\n",
      "16777216 ['AAAAAAAAAAAA', 'AAAAAAAAAAAT', 'AAAAAAAAAAAC', 'AAAAAAAAAAAG']\n"
     ]
    }
   ],
   "source": [
    "for k in yolist(11,12):\n",
    "    x=list()\n",
    "    a,b=breaknumbers(k,10)\n",
    "    print (\"k,a,b\",k,a,b)\n",
    "    sub_a=stagger[a]\n",
    "    sub_b=stagger[b]\n",
    "\n",
    "    for combo in list(product(sub_a,sub_b)):\n",
    "#         print(combo)\n",
    "        x.append(''.join(combo))\n",
    "    print (len(x),x[:4])\n",
    "    stagger[k]=x"
   ]
  },
  {
   "cell_type": "markdown",
   "metadata": {},
   "source": [
    "The HiSeq and MiSeq Systems use a green laser to sequence\n",
    "G/T and a red laser to sequence A/C. At each cycle at least 1 of 2 nucleotides for each color channel must be read to ensure proper registration.\n",
    "# A or C= Red\n",
    "# G or T = Green"
   ]
  },
  {
   "cell_type": "markdown",
   "metadata": {},
   "source": [
    "# Simplified Nucleotide Detection\n",
    "Rather than a separate dye for each base, 2-channel SBS uses a mix of dyes. Images are taken of each DNA cluster using red and green wavelength filter bands (Figure 2).\n",
    "\n",
    "Clusters seen in red or green images are interpreted as C and T bases, respectively. Clusters observed in both red and green images are flagged as A bases (appearing as yellow clusters), while unlabeled clusters are identified as G bases."
   ]
  },
  {
   "cell_type": "code",
   "execution_count": 9,
   "metadata": {},
   "outputs": [],
   "source": [
    "def string_diversity(list_of_string):\n",
    "    cycs=dict()\n",
    "\n",
    "    for index in range(len(list_of_string[0])):\n",
    "        cycle_score=0\n",
    "        x=[]\n",
    "        for s in list_of_string:\n",
    "            x.append(s[index])\n",
    "        pA=x.count('A')/float(len(x))\n",
    "        pC=x.count('C')/float(len(x))\n",
    "        pRed=pA+pC                      \n",
    "        pT=x.count('T')/float(len(x))\n",
    "        pG=x.count('G')/float(len(x))\n",
    "        pGreen=pT+pG\n",
    "        if 0.1<=pA<=0.3 and 0.1<=pC<=0.3 and 0.1<=pT<=0.3 and 0.1<=pG<=0.3:\n",
    "            cycle_score=100\n",
    "        elif 0.25 <=pA + pC <=0.75:\n",
    "            cycle_score=75\n",
    "        elif pA + pC == 1 or pA + pC==0:\n",
    "            cycle_score=0\n",
    "        else: \n",
    "            cycle_score=50\n",
    "                              \n",
    "        cycs[index]=cycle_score\n",
    "    return cycs\n",
    "                            \n",
    "\n",
    "                              \n",
    "                              \n",
    "#         col[index]=x\n",
    "#         c={i: x.count(i)/float(len(x)) for i in x}\n",
    "        "
   ]
  },
  {
   "cell_type": "code",
   "execution_count": 10,
   "metadata": {},
   "outputs": [],
   "source": [
    "def sub_list(stnd,input_list):\n",
    "    return ([s for s in input_list if s[0]!=stnd[:len(s)]])\n"
   ]
  },
  {
   "cell_type": "code",
   "execution_count": null,
   "metadata": {},
   "outputs": [],
   "source": [
    "read2=42\n",
    "candis=dict()\n",
    "stnd=ref[:read2]\n",
    "# for combo in list(product([sub_list(stnd,stagger[i]) for i in [1,2,3,4]]))\n",
    "# for combo in list(product(stagger[1],stagger[2],stagger[3])):\n",
    "# for combo in list(product(stagger[1],stagger[2],stagger[3],stagger[5])):\n",
    "for combo in list(product(sub_list(stnd,stagger[1]),sub_list(stnd,stagger[2]),sub_list(stnd,stagger[3]),sub_list(stnd,stagger[4]),sub_list(stnd,stagger[5]))):\n",
    "   \n",
    "    z=list()\n",
    "    z.append(stnd)\n",
    "    for i,x in enumerate(combo):\n",
    "        z.append(x+ref[:read2-i-1])\n",
    "    score=string_diversity(z)\n",
    "    candis[combo]=score\n",
    "    if list(score.values()).count(0)==0:\n",
    "        print (comb)\n",
    "        print (score)\n",
    "        break\n",
    "        \n",
    "\n",
    "# x=0\n",
    "# for k,i in candis.items():\n",
    "#     print (*i.values())\n",
    "#     x+=1\n",
    "#     if x>20:\n",
    "#         break"
   ]
  },
  {
   "cell_type": "code",
   "execution_count": null,
   "metadata": {},
   "outputs": [],
   "source": [
    "x = {1: 2, 3: 4, 4: 3, 2: 1, 0: 0}\n",
    "sorted_x = sorted(x.items(), key=lambda kv: kv[1])"
   ]
  }
 ],
 "metadata": {
  "kernelspec": {
   "display_name": "Python 3",
   "language": "python",
   "name": "python3"
  },
  "language_info": {
   "codemirror_mode": {
    "name": "ipython",
    "version": 3
   },
   "file_extension": ".py",
   "mimetype": "text/x-python",
   "name": "python",
   "nbconvert_exporter": "python",
   "pygments_lexer": "ipython3",
   "version": "3.7.3"
  }
 },
 "nbformat": 4,
 "nbformat_minor": 2
}
