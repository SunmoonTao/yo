{
 "cells": [
  {
   "cell_type": "code",
   "execution_count": 508,
   "metadata": {},
   "outputs": [],
   "source": [
    "from itertools import product,combinations\n",
    "from collections import Counter\n",
    "import sys\n",
    "sys.path.append('/Users/ltao/PycharmProjects/yo/tao')\n",
    "from myprimer import RandomDNA, rc\n",
    "from myfunc import string_diversity,yolist\n",
    "import pandas as pd"
   ]
  },
  {
   "cell_type": "code",
   "execution_count": 694,
   "metadata": {},
   "outputs": [],
   "source": [
    "i5side=\"AATCCAGCTAGCTGTGCAGC\" #TM 68\n",
    "i7side=\"GCGATGGACGATTGCGGAAGACAG\" #TM73 should i remove first G??\n",
    "\n",
    "ht_read1_P5='ACACTCTTTCCCTACACGACGCTCTTCCGATCT'  # use 23nt #TM71\n",
    "ht_read2_P7='GTGACTGGAGTTCAGACGTGTGCTCTTCCGATCT'   # use 24 nt #TM70"
   ]
  },
  {
   "cell_type": "markdown",
   "metadata": {},
   "source": [
    "A or C= Red\n",
    "G or T = Green"
   ]
  },
  {
   "cell_type": "code",
   "execution_count": 510,
   "metadata": {},
   "outputs": [],
   "source": [
    "def stagger_generator(primer,number_of_staggers,score_threshold):\n",
    "    count=1\n",
    "    while count>0:\n",
    "        if number_of_staggers < 4:\n",
    "            print ('more staggers needed')\n",
    "            break\n",
    "        else:\n",
    "            combo=list()\n",
    "            combo.append(primer)\n",
    "            prefixes=list()\n",
    "            for prefix in [str(RandomDNA(i)) for i in yolist(1,number_of_staggers)]:\n",
    "                combo.append(prefix+primer)\n",
    "                prefixes.append(prefix)\n",
    "            score=string_diversity(combo)\n",
    "            if list(score.values()).count(0)==0 and sum(score.values())/len(primer)>score_threshold:\n",
    "                print (sum(score.values()),sum(score.values())/len(primer))\n",
    "                print (score.values())\n",
    "    #             print (prefixes)\n",
    "#                 for i in combo:\n",
    "#                     print (i)\n",
    "                count=0\n",
    "                return prefixes"
   ]
  },
  {
   "cell_type": "code",
   "execution_count": 721,
   "metadata": {},
   "outputs": [],
   "source": [
    "ref=\"AATCCAGCTAGCTGTGCAGCNNNNNNNNNNNNNNATTCAACTGCAGTAATGCTACCTCGTACTCACGCTTTCCAAGTGCTTGGCGTCGCATCTCGGTCCTTTGTACGCCGAAAAATGGCCTGACAACTAAGCTACGGCACGCTGCCATGTTGGGTCATAACGATATCTCTGGTTCATCCGTGACCGAACATGTCATGGAGTAGCAGGAGCTATTAATTCGCGGAGGACAATGCGGTTCGTAGTCACTGTCTTCCGCAATCGTCCATCGC\""
   ]
  },
  {
   "cell_type": "code",
   "execution_count": 793,
   "metadata": {},
   "outputs": [
    {
     "name": "stdout",
     "output_type": "stream",
     "text": [
      "21600 80.29739776951673\n",
      "dict_values([100, 75, 75, 100, 50, 50, 100, 75, 75, 75, 75, 75, 75, 100, 100, 100, 100, 100, 100, 75, 100, 100, 100, 100, 100, 100, 50, 50, 50, 50, 50, 50, 50, 50, 50, 50, 50, 50, 50, 50, 75, 75, 75, 75, 75, 100, 100, 100, 75, 75, 75, 100, 100, 75, 75, 100, 100, 100, 100, 100, 100, 100, 75, 75, 75, 75, 75, 75, 75, 75, 75, 75, 75, 75, 75, 75, 75, 75, 75, 75, 75, 75, 75, 75, 75, 75, 100, 75, 75, 75, 75, 75, 75, 75, 75, 75, 75, 75, 75, 75, 75, 75, 75, 75, 75, 75, 75, 75, 75, 75, 100, 100, 100, 100, 75, 75, 75, 75, 75, 75, 75, 100, 75, 75, 75, 75, 75, 75, 75, 75, 75, 100, 100, 75, 75, 75, 75, 75, 75, 75, 75, 75, 75, 100, 75, 75, 75, 75, 75, 75, 75, 75, 75, 75, 75, 75, 75, 75, 75, 100, 100, 100, 100, 75, 100, 75, 100, 100, 100, 75, 75, 100, 75, 75, 75, 75, 75, 75, 75, 75, 75, 75, 75, 75, 75, 100, 100, 100, 75, 75, 75, 100, 100, 75, 100, 100, 100, 100, 75, 100, 100, 75, 75, 100, 100, 75, 75, 75, 75, 75, 75, 75, 75, 75, 75, 75, 75, 75, 100, 100, 100, 100, 100, 100, 100, 100, 100, 100, 100, 75, 75, 75, 75, 75, 75, 75, 75, 75, 75, 75, 75, 75, 100, 100, 100, 100, 75, 75, 75, 75, 75, 75, 75, 75, 75, 75, 75, 75, 75, 75, 75, 75, 75, 75, 75, 75, 75, 75, 75])\n"
     ]
    },
    {
     "data": {
      "text/plain": [
       "['C',\n",
       " 'GG',\n",
       " 'CGT',\n",
       " 'TAAC',\n",
       " 'AATAT',\n",
       " 'AAGGAA',\n",
       " 'ACCACAG',\n",
       " 'TCGCACGT',\n",
       " 'CGCGCGCCG',\n",
       " 'GACGATTGCT',\n",
       " 'GCCGTCGGCCA',\n",
       " 'CCCATCAGTACA',\n",
       " 'ACGTCATATTGAC',\n",
       " 'GGACAATCCCTAGA',\n",
       " 'TAAGCTAAGCTTCCG',\n",
       " 'GTCTCCGATTATAGAG']"
      ]
     },
     "execution_count": 793,
     "metadata": {},
     "output_type": "execute_result"
    }
   ],
   "source": [
    "stagger_generator (ref,16,80)\n"
   ]
  },
  {
   "cell_type": "code",
   "execution_count": 887,
   "metadata": {},
   "outputs": [
    {
     "name": "stdout",
     "output_type": "stream",
     "text": [
      "1975 82.29166666666667\n",
      "dict_values([100, 100, 75, 100, 100, 75, 75, 75, 75, 75, 75, 75, 100, 100, 100, 75, 75, 75, 75, 75, 75, 75, 75, 75])\n"
     ]
    },
    {
     "data": {
      "text/plain": [
       "['C', 'AT', 'CAC', 'GCCT', 'TACCA', 'TTCTTC']"
      ]
     },
     "execution_count": 887,
     "metadata": {},
     "output_type": "execute_result"
    }
   ],
   "source": [
    "stagger_generator(i7side,6,82)\n"
   ]
  },
  {
   "cell_type": "code",
   "execution_count": 620,
   "metadata": {},
   "outputs": [],
   "source": [
    "#ht=pd.read_csv('/Users/ltao/Projects/mice_tumor_lineage/design/Tracer-primer/20191023-tracer-primer.csv')"
   ]
  },
  {
   "cell_type": "code",
   "execution_count": 794,
   "metadata": {},
   "outputs": [],
   "source": [
    "i5s=['C',\n",
    " 'GG',\n",
    " 'CGT',\n",
    " 'TAAC',\n",
    " 'AATAT',\n",
    " 'AAGGAA',\n",
    " 'ACCACAG',\n",
    " 'TCGCACGT',\n",
    " 'CGCGCGCCG',\n",
    " 'GACGATTGCT',\n",
    " 'GCCGTCGGCCA',\n",
    " 'CCCATCAGTACA',\n",
    " 'ACGTCATATTGAC',\n",
    " 'GGACAATCCCTAGA',\n",
    " 'TAAGCTAAGCTTCCG',\n",
    " 'GTCTCCGATTATAGAG']"
   ]
  },
  {
   "cell_type": "code",
   "execution_count": 803,
   "metadata": {},
   "outputs": [
    {
     "name": "stdout",
     "output_type": "stream",
     "text": [
      "CCTACACGACGCTCTTCCGATCTCAATCCAGCTAGCTGTGCAGC\n",
      "CCTACACGACGCTCTTCCGATCTTGAATCCAGCTAGCTGTGCAGC\n",
      "CCTACACGACGCTCTTCCGATCTCGCAATCCAGCTAGCTGTGCAGC\n",
      "CCTACACGACGCTCTTCCGATCTACGCAATCCAGCTAGCTGTGCAGC\n",
      "CCTACACGACGCTCTTCCGATCTCACCCAATCCAGCTAGCTGTGCAGC\n",
      "CCTACACGACGCTCTTCCGATCTGTAAGGAATCCAGCTAGCTGTGCAGC\n",
      "CCTACACGACGCTCTTCCGATCTCCTATATAATCCAGCTAGCTGTGCAGC\n",
      "CCTACACGACGCTCTTCCGATCTTCACGCGGAATCCAGCTAGCTGTGCAGC\n",
      "CCTACACGACGCTCTTCCGATCTTCGGAGGAGAATCCAGCTAGCTGTGCAGC\n",
      "CCTACACGACGCTCTTCCGATCTATACGTGATGAATCCAGCTAGCTGTGCAGC\n",
      "CCTACACGACGCTCTTCCGATCTAGTGCATGTTGAATCCAGCTAGCTGTGCAGC\n",
      "CCTACACGACGCTCTTCCGATCTAACTGTGTCTTAAATCCAGCTAGCTGTGCAGC\n",
      "CCTACACGACGCTCTTCCGATCTTCATGGCTTCATTAATCCAGCTAGCTGTGCAGC\n",
      "CCTACACGACGCTCTTCCGATCTGAGGGTTTAGCTCTAATCCAGCTAGCTGTGCAGC\n",
      "CCTACACGACGCTCTTCCGATCTCCGTCCTGCCCTTCTAATCCAGCTAGCTGTGCAGC\n",
      "CCTACACGACGCTCTTCCGATCTGTGTGTAAAATGTACGAATCCAGCTAGCTGTGCAGC\n"
     ]
    }
   ],
   "source": [
    "for i5s in i5stagger:\n",
    "    s=ht_read1_P5[-23:]+i5s+i5side\n",
    "    print (s)"
   ]
  },
  {
   "cell_type": "code",
   "execution_count": 697,
   "metadata": {},
   "outputs": [
    {
     "data": {
      "text/plain": [
       "23"
      ]
     },
     "execution_count": 697,
     "metadata": {},
     "output_type": "execute_result"
    }
   ],
   "source": [
    "len(ht_read1_P5[-23:])"
   ]
  },
  {
   "cell_type": "code",
   "execution_count": 804,
   "metadata": {},
   "outputs": [
    {
     "data": {
      "text/plain": [
       "'CCTACACGACGCTCTTCCGATCTAATCCAGCTAGCTGTGCAGC'"
      ]
     },
     "execution_count": 804,
     "metadata": {},
     "output_type": "execute_result"
    }
   ],
   "source": [
    "ht_read1_P5[-23:]+i5side"
   ]
  },
  {
   "cell_type": "code",
   "execution_count": 805,
   "metadata": {},
   "outputs": [
    {
     "data": {
      "text/plain": [
       "'TTCAGACGTGTGCTCTTCCGATCTGCGATGGACGATTGCGGAAGACAG'"
      ]
     },
     "execution_count": 805,
     "metadata": {},
     "output_type": "execute_result"
    }
   ],
   "source": [
    "ht_read2_P7[-24:]+i7side"
   ]
  },
  {
   "cell_type": "code",
   "execution_count": 888,
   "metadata": {},
   "outputs": [
    {
     "name": "stdout",
     "output_type": "stream",
     "text": [
      "CCTACACGACGCTCTTCCGATCTCGCGATGGACGATTGCGGAAGACAG\n",
      "CCTACACGACGCTCTTCCGATCTATGCGATGGACGATTGCGGAAGACAG\n",
      "CCTACACGACGCTCTTCCGATCTCACGCGATGGACGATTGCGGAAGACAG\n",
      "CCTACACGACGCTCTTCCGATCTGCCTGCGATGGACGATTGCGGAAGACAG\n",
      "CCTACACGACGCTCTTCCGATCTTACCAGCGATGGACGATTGCGGAAGACAG\n",
      "CCTACACGACGCTCTTCCGATCTTTCTTCGCGATGGACGATTGCGGAAGACAG\n"
     ]
    }
   ],
   "source": [
    "i7stagger=['C', 'AT', 'CAC', 'GCCT', 'TACCA', 'TTCTTC']\n",
    "for i7s in i7stagger:\n",
    "    s=ht_read1_P5[-23:]+i7s+i7side\n",
    "    print (s)"
   ]
  }
 ],
 "metadata": {
  "kernelspec": {
   "display_name": "Python 3",
   "language": "python",
   "name": "python3"
  },
  "language_info": {
   "codemirror_mode": {
    "name": "ipython",
    "version": 3
   },
   "file_extension": ".py",
   "mimetype": "text/x-python",
   "name": "python",
   "nbconvert_exporter": "python",
   "pygments_lexer": "ipython3",
   "version": "3.7.3"
  }
 },
 "nbformat": 4,
 "nbformat_minor": 2
}
