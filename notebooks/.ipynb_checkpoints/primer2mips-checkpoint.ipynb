{
 "cells": [
  {
   "cell_type": "code",
   "execution_count": 2,
   "metadata": {},
   "outputs": [],
   "source": [
    "from Bio.Seq import Seq\n",
    "import pandas as pd\n",
    "import sys\n",
    "sys.path.append('/Users/ltao/PycharmProjects/yo')\n",
    "from tao.myfunc import primers2mips, rc"
   ]
  },
  {
   "cell_type": "code",
   "execution_count": 3,
   "metadata": {},
   "outputs": [],
   "source": [
    "# def rc(seq):\n",
    "#     return( str(Seq(seq).reverse_complement()))"
   ]
  },
  {
   "cell_type": "code",
   "execution_count": 3,
   "metadata": {},
   "outputs": [
    {
     "name": "stdout",
     "output_type": "stream",
     "text": [
      "/Users/ltao/Projects/mice_tumor_lineage/design\n"
     ]
    }
   ],
   "source": [
    "cd ~/Projects/mice_tumor_lineage/design/"
   ]
  },
  {
   "cell_type": "code",
   "execution_count": 4,
   "metadata": {},
   "outputs": [],
   "source": [
    "primers=pd.read_excel(\"pcr_primer2mips.xlsx\",sheet_name='mips')"
   ]
  },
  {
   "cell_type": "code",
   "execution_count": 5,
   "metadata": {},
   "outputs": [],
   "source": [
    "primers_dict=primers.to_dict(orient='index')"
   ]
  },
  {
   "cell_type": "code",
   "execution_count": 9,
   "metadata": {},
   "outputs": [
    {
     "name": "stdout",
     "output_type": "stream",
     "text": [
      "True\n",
      "True\n",
      "True\n"
     ]
    }
   ],
   "source": [
    "for k,i in primers_dict.items():\n",
    "    fwd=i['PCR Fwd Primer']\n",
    "    rev=i['PCRRev  Primer']\n",
    "    mip=i['Oligo']\n",
    "    print (primers2mips(fwd,rev)==mip)"
   ]
  },
  {
   "cell_type": "code",
   "execution_count": 11,
   "metadata": {},
   "outputs": [],
   "source": [
    "fwd=\"AATCCAGCTAGCTGTGCAGC\"\n",
    "rev=\"GCGATGGACGATTGCGGAAGACAG\"\n",
    "mip=primers2mips(fwd,rev)"
   ]
  },
  {
   "cell_type": "code",
   "execution_count": 10,
   "metadata": {},
   "outputs": [
    {
     "data": {
      "text/plain": [
       "'TATGAGTGTGGAGTCGTTGCATCTGTTGTTTGCCCCTCNNNAGATCGGAAGAGCACACGTCTGAACTCTTTCCCTACACGACGCTCTTCCGATCTNNNATGGACGAGCTGTACAAGTAACATCGGACTCATCAGGAAGC'"
      ]
     },
     "execution_count": 10,
     "metadata": {},
     "output_type": "execute_result"
    }
   ],
   "source": [
    "mip"
   ]
  }
 ],
 "metadata": {
  "kernelspec": {
   "display_name": "Python 3",
   "language": "python",
   "name": "python3"
  },
  "language_info": {
   "codemirror_mode": {
    "name": "ipython",
    "version": 3
   },
   "file_extension": ".py",
   "mimetype": "text/x-python",
   "name": "python",
   "nbconvert_exporter": "python",
   "pygments_lexer": "ipython3",
   "version": "3.7.3"
  }
 },
 "nbformat": 4,
 "nbformat_minor": 2
}
