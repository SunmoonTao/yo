{
 "cells": [
  {
   "cell_type": "code",
   "execution_count": 1,
   "metadata": {},
   "outputs": [],
   "source": [
    "from Bio.Seq import Seq\n",
    "import pandas as pd\n",
    "import sys\n",
    "sys.path.append('/Users/ltao/PycharmProjects/yo')\n",
    "from tao.myfunc import primers2mips, rc"
   ]
  },
  {
   "cell_type": "code",
   "execution_count": 2,
   "metadata": {},
   "outputs": [
    {
     "name": "stdout",
     "output_type": "stream",
     "text": [
      "/Users/ltao/Projects/glioma/design\n"
     ]
    }
   ],
   "source": [
    "cd ~/Projects/glioma/design/"
   ]
  },
  {
   "cell_type": "code",
   "execution_count": 3,
   "metadata": {},
   "outputs": [
    {
     "name": "stdout",
     "output_type": "stream",
     "text": [
      "20190425targets.xlsx\r\n",
      "20190429_glioma_ref.xlsx\r\n",
      "\u001b[31m20190429_ltao.xlsx\u001b[m\u001b[m*\r\n",
      "\u001b[31m20190528_glioma_ref5.xlsx\u001b[m\u001b[m*\r\n",
      "20191015_mips_ltao.xlsx\r\n",
      "20200620DNARNA_samples.xlsx\r\n",
      "202007_glioma_dna_primers.xlsx\r\n",
      "\u001b[31mBlast_results_ATGACTGATGGCTGCTGCTT.xml\u001b[m\u001b[m*\r\n",
      "\u001b[31mBlast_results_CTGCGTACTTCCAGACCAGG.xml\u001b[m\u001b[m*\r\n",
      "DNA+RNA_samples.xlsx.zip\r\n",
      "MGH113_ss2_primers.csv\r\n",
      "\u001b[31mMGH143_candidates_for_DNA_primers.xlsx\u001b[m\u001b[m*\r\n",
      "MGH143_ss2_primers.csv\r\n",
      "MGH151_ss2_primers.csv\r\n",
      "MGH156_ss2_primers.csv\r\n",
      "MGH211_ss2_primers.csv\r\n",
      "MGH36_ss2_primers.csv\r\n",
      "MGH44_ss2_primers.csv\r\n",
      "MGH54_ss2_primers.csv\r\n",
      "MGH60_ss2_primers.csv\r\n",
      "MGH64_Primers.docx\r\n",
      "MGH64_ss2_primers.csv\r\n",
      "\u001b[31mNIHMS680278-supplement-Supplemental_Table_1.pdf\u001b[m\u001b[m*\r\n",
      "\u001b[31mPlate Specs_SO#15938973.xlsx\u001b[m\u001b[m*\r\n",
      "Primer Parameters.xlsx\r\n",
      "\u001b[1m\u001b[36mTapestri-Designer-results-575\u001b[m\u001b[m/\r\n",
      "\u001b[31mTapestri-Designer-results-575.zip\u001b[m\u001b[m*\r\n",
      "\u001b[1m\u001b[36mTapestri-Designer-results-576\u001b[m\u001b[m/\r\n",
      "\u001b[31mTapestri-Designer-results-576.zip\u001b[m\u001b[m*\r\n",
      "dna_primer_design_v0.11.ipynb\r\n",
      "\u001b[31midh.xlsx\u001b[m\u001b[m*\r\n",
      "idh4x.xlsx\r\n",
      "opool_order_smips.xlsx\r\n",
      "opoolsentrysample.xlsx\r\n",
      "opoolsentrysample_temp.xlsx\r\n",
      "ss2_primer_design_v0.1.ipynb\r\n"
     ]
    }
   ],
   "source": [
    "ls"
   ]
  },
  {
   "cell_type": "code",
   "execution_count": 4,
   "metadata": {},
   "outputs": [],
   "source": [
    "primers=pd.read_excel(\"202007_glioma_dna_primers.xlsx\",sheet_name='Sheet1')"
   ]
  },
  {
   "cell_type": "code",
   "execution_count": 5,
   "metadata": {},
   "outputs": [
    {
     "data": {
      "text/plain": [
       "Index([                'Unnamed: 0',                'DNA primers',\n",
       "                      'Hugo_Symbol',             'Entrez_Gene_Id',\n",
       "                       'Chromosome',             'Start_position',\n",
       "                          'ccf_hat',               'ccf_CI95_low',\n",
       "                    'ccf_CI95_high',                      'donor',\n",
       "                     'End_position',     'Variant_Classification',\n",
       "                     'Variant_Type',           'Reference_Allele',\n",
       "                'Tumor_Seq_Allele1',          'Tumor_Seq_Allele2',\n",
       "                     'Pr_subclonal',                 'MissionBio',\n",
       "                          'mutated',                   'artifact',\n",
       "                             'well',                  'ccf_hat_x',\n",
       "                              'sum',                      'count',\n",
       "                         'Comments',            'reasons to pick',\n",
       "                       'Unnamed: 9',                'Unnamed: 13',\n",
       "                     'Action items',                 'literature',\n",
       "                         'comments',               'Target this?',\n",
       "       'Was it tageted in the RNA?',                 'Unnamed: 1',\n",
       "                                  5,                           14,\n",
       "                   'target_primers',                    'chr_num',\n",
       "                             'tmlt',                       'LEFT',\n",
       "                            'RIGHT',                    'LEFT_TM',\n",
       "                         'RIGHT_TM',                 'LEFT_START',\n",
       "                      'RIGHT_START',                     'nexfwd',\n",
       "                           'nexrev',         'AMPLICON_START_END',\n",
       "                    'AMPLICON_SIZE'],\n",
       "      dtype='object')"
      ]
     },
     "execution_count": 5,
     "metadata": {},
     "output_type": "execute_result"
    }
   ],
   "source": [
    "primers.columns"
   ]
  },
  {
   "cell_type": "code",
   "execution_count": 6,
   "metadata": {},
   "outputs": [],
   "source": [
    "primers_dict=primers.to_dict(orient='index')"
   ]
  },
  {
   "cell_type": "code",
   "execution_count": 7,
   "metadata": {},
   "outputs": [
    {
     "ename": "NameError",
     "evalue": "name 'mip' is not defined",
     "output_type": "error",
     "traceback": [
      "\u001b[0;31m---------------------------------------------------------------------------\u001b[0m",
      "\u001b[0;31mNameError\u001b[0m                                 Traceback (most recent call last)",
      "\u001b[0;32m<ipython-input-7-05bf874e2f8d>\u001b[0m in \u001b[0;36m<module>\u001b[0;34m\u001b[0m\n\u001b[0;32m----> 1\u001b[0;31m \u001b[0mmip\u001b[0m\u001b[0;34m.\u001b[0m\u001b[0mreplace\u001b[0m\u001b[0;34m(\u001b[0m\u001b[0;34m'N'\u001b[0m\u001b[0;34m,\u001b[0m\u001b[0;34m''\u001b[0m\u001b[0;34m)\u001b[0m\u001b[0;34m\u001b[0m\u001b[0;34m\u001b[0m\u001b[0m\n\u001b[0m",
      "\u001b[0;31mNameError\u001b[0m: name 'mip' is not defined"
     ]
    }
   ],
   "source": [
    "mip.replace('N','')"
   ]
  },
  {
   "cell_type": "code",
   "execution_count": 9,
   "metadata": {},
   "outputs": [],
   "source": [
    "for k,i in primers_dict.items():\n",
    "    fwd=i['LEFT']\n",
    "    rev=i['RIGHT']\n",
    "    try:    \n",
    "        mip=primers2mips(fwd,rev)\n",
    "        i['mips']=mip\n",
    "        if \"NNN\" in mip:\n",
    "            i['twist_mips']=mip.replace('N','')\n",
    "        else:\n",
    "            i['opool']=mip\n",
    "    except:\n",
    "        pass"
   ]
  },
  {
   "cell_type": "code",
   "execution_count": null,
   "metadata": {},
   "outputs": [],
   "source": [
    "fwd=\"AATCCAGCTAGCTGTGCAGC\"\n",
    "rev=\"GCGATGGACGATTGCGGAAGACAG\"\n",
    "mip=primers2mips(fwd,rev)"
   ]
  },
  {
   "cell_type": "code",
   "execution_count": null,
   "metadata": {},
   "outputs": [],
   "source": [
    "mip"
   ]
  }
 ],
 "metadata": {
  "kernelspec": {
   "display_name": "Python 3",
   "language": "python",
   "name": "python3"
  },
  "language_info": {
   "codemirror_mode": {
    "name": "ipython",
    "version": 3
   },
   "file_extension": ".py",
   "mimetype": "text/x-python",
   "name": "python",
   "nbconvert_exporter": "python",
   "pygments_lexer": "ipython3",
   "version": "3.7.3"
  }
 },
 "nbformat": 4,
 "nbformat_minor": 2
}
