{
 "cells": [
  {
   "cell_type": "markdown",
   "id": "35767e96-bc71-42d9-b92a-6f13446f8631",
   "metadata": {
    "tags": []
   },
   "source": [
    "# 0 setting env"
   ]
  },
  {
   "cell_type": "markdown",
   "id": "eddf5132-b6f2-4c5e-b8b5-20d425a9d16f",
   "metadata": {
    "tags": []
   },
   "source": [
    "## 0.1 install/import packages"
   ]
  },
  {
   "cell_type": "code",
   "execution_count": null,
   "id": "202094c1-75b4-4852-bc78-c5e4b4a82a3b",
   "metadata": {},
   "outputs": [],
   "source": [
    "# !pip install seqfold\n",
    "# !pip install primer3-py\n",
    "# !pip install scipy"
   ]
  },
  {
   "cell_type": "code",
   "execution_count": 1,
   "id": "b021dc2c-49f6-48e2-b17e-442e07b3334b",
   "metadata": {},
   "outputs": [],
   "source": [
    "import sys\n",
    "sys.setrecursionlimit(2000)\n",
    "sys.path.append('/home/jupyter/gitsss/yo/tao')\n",
    "\n",
    "\n",
    "import pandas as pd\n",
    "import statistics\n",
    "import random\n",
    "\n",
    "from Bio.SeqUtils import GC\n",
    "from seqfold import dg, dg_cache, fold\n",
    "from collections import Counter\n",
    "# from scipy.stats import sem\n",
    "\n",
    "from myprimer import rc, RandomDNA\n"
   ]
  },
  {
   "cell_type": "code",
   "execution_count": 4,
   "id": "443bb269-1b21-4c56-82c0-e580d3ee9601",
   "metadata": {},
   "outputs": [],
   "source": [
    "\n",
    "mse=\"AGATGTGTATAAGAGACAG\"\n",
    "hte=\"GCTCTTCCGATCT\"\n",
    "ht_read1_P5=\"ACACTCTTTCCCTACACGAC\"\n",
    "ht_read2_P7 = \"GTGACTGGAGTTCAGACGTGT\"\n",
    "hti5ep=\"ACACTCTTTCCCTACACGACGCTCTTCCGATCT\"\n",
    "hti7ep = \"GTGACTGGAGTTCAGACGTGTGCTCTTCCGATCT\"\n",
    "illumina_p5 = \"AATGATACGGCGACCACCGAGATCTACAC\"\n",
    "illumina_p7 = \"CAAGCAGAAGACGGCATACGAGAT\"\n",
    "nexi5ep=\"TCGTCGGCAGCGTC\"\n",
    "nexi7ep='TCTCGTGGGCTCGG'"
   ]
  },
  {
   "cell_type": "code",
   "execution_count": 5,
   "id": "97a3c240-9da3-41cb-9a99-42f8b1690a66",
   "metadata": {},
   "outputs": [],
   "source": [
    "# index8dis3=pd.read_csv('/home/host/Documents/bioapp/dnabarcodes/16x1_24x1_index8dis3_filter_group.csv')\n",
    "index8dis3=pd.read_csv('/home/jupyter/Documents/bioapp/dnabarcodes/16x1_24x1_index8dis3_filter_group.csv')"
   ]
  },
  {
   "cell_type": "code",
   "execution_count": 6,
   "id": "5f624fb0-cb49-44f5-94de-bbcff44f5b60",
   "metadata": {},
   "outputs": [],
   "source": [
    "filtered_index8dis3=index8dis3.loc[(index8dis3['ht_i7'] == 'pass') & (index8dis3['ht_i5'] == 'pass')]\n"
   ]
  },
  {
   "cell_type": "code",
   "execution_count": 8,
   "id": "0301e147",
   "metadata": {},
   "outputs": [
    {
     "data": {
      "text/plain": [
       "161"
      ]
     },
     "execution_count": 8,
     "metadata": {},
     "output_type": "execute_result"
    }
   ],
   "source": [
    "len(filtered_index8dis3)"
   ]
  },
  {
   "cell_type": "code",
   "execution_count": 9,
   "id": "12a1cab1-f766-414e-b789-5e241a93f37a",
   "metadata": {
    "tags": []
   },
   "outputs": [],
   "source": [
    "a=filtered_index8dis3[\"index8dis3\"]"
   ]
  },
  {
   "cell_type": "code",
   "execution_count": 12,
   "id": "4f2edf92",
   "metadata": {},
   "outputs": [
    {
     "data": {
      "text/plain": [
       "161"
      ]
     },
     "execution_count": 12,
     "metadata": {},
     "output_type": "execute_result"
    }
   ],
   "source": [
    "len(a)"
   ]
  },
  {
   "cell_type": "code",
   "execution_count": 49,
   "id": "62bc9137-4c7d-401e-8af6-5af6043f727d",
   "metadata": {},
   "outputs": [],
   "source": [
    "abcd=filtered_index8dis3[filtered_index8dis3[\"group\"].isin(list('ABCD'))]\n",
    "a=abcd[abcd[\"group\"]=='B'][\"index8dis3\"]"
   ]
  },
  {
   "cell_type": "code",
   "execution_count": null,
   "id": "3360012c",
   "metadata": {},
   "outputs": [],
   "source": []
  },
  {
   "cell_type": "code",
   "execution_count": 13,
   "id": "b438e455",
   "metadata": {},
   "outputs": [],
   "source": [
    "UMI=10*\"N\"\n",
    "barcode='XXXXXXXX'\n",
    "Biotin=\"/5Biosg/\"\n",
    "RT_primer= Biotin+ \"CTACACGACGCTCTTCCGATCT\"+barcode+UMI+\"CCCTCCGCGCAC\"+\"T\"*30+\"VN\"\n",
    "TSO= \"CTACACGACGCTCTTCCGATCT\"+barcode+UMI+\"TTTCTTATATrGrGrG\""
   ]
  },
  {
   "cell_type": "code",
   "execution_count": 17,
   "id": "83b9aaab",
   "metadata": {},
   "outputs": [
    {
     "data": {
      "text/plain": [
       "(84, 56)"
      ]
     },
     "execution_count": 17,
     "metadata": {},
     "output_type": "execute_result"
    }
   ],
   "source": [
    "len(RT_primer), len(TSO)"
   ]
  },
  {
   "cell_type": "code",
   "execution_count": 51,
   "id": "f542f058-f2cc-4d13-9d01-01dcc3708604",
   "metadata": {},
   "outputs": [],
   "source": [
    "opool_ht=dict()\n",
    "for idx5 in a:\n",
    "    RT_primer= Biotin+ \"CTACACGACGCTCTTCCGATCT\"+idx5+UMI+\"CCCTCCGCGCAC\"+\"T\"*30+\"VN\"\n",
    "    TSO= Biotin+\"CTACACGACGCTCTTCCGATCT\"+idx5+UMI+\"TTTCTTATATrGrGrG\"\n",
    "    opool_ht[\"RT_\"+idx5]=str(RT_primer)\n",
    "pd.DataFrame.from_dict(opool_ht, orient='index').to_csv('dualends_bioRT.csv')"
   ]
  },
  {
   "cell_type": "code",
   "execution_count": 52,
   "id": "a87845ea-cd8c-4530-9af9-2696da27051c",
   "metadata": {},
   "outputs": [],
   "source": [
    "opool_ht=dict()\n",
    "for idx5 in a:\n",
    "    RT_primer= Biotin+ \"CTACACGACGCTCTTCCGATCT\"+idx5+UMI+\"CCCTCCGCGCAC\"+\"T\"*30+\"VN\"\n",
    "    TSO= Biotin+\"CTACACGACGCTCTTCCGATCT\"+idx5+UMI+\"TTTCTTATATrGrGrG\"\n",
    "    opool_ht[\"TSO_\"+idx5]=str(TSO)\n",
    "pd.DataFrame.from_dict(opool_ht, orient='index').to_csv('dualends_bioTSO.csv')"
   ]
  },
  {
   "cell_type": "code",
   "execution_count": 15,
   "id": "ca4a1368-32c9-4f2e-9743-a46673d0cf8a",
   "metadata": {},
   "outputs": [],
   "source": [
    "opool_ht=dict()\n",
    "for idx5 in a:\n",
    "    RT_primer=\"CTACACGACGCTCTTCCGATCT\"+idx5+UMI+\"CCCTCCGCGCAC\"+\"T\"*30+\"VN\"\n",
    "    TSO= \"CTACACGACGCTCTTCCGATCT\"+idx5+UMI+\"TTTCTTATATrGrGrG\"\n",
    "    opool_ht[\"RT_\"+idx5]=str(RT_primer)\n",
    "pd.DataFrame.from_dict(opool_ht, orient='index').to_csv('dualends_RT_161.csv')"
   ]
  },
  {
   "cell_type": "code",
   "execution_count": 16,
   "id": "d162d173",
   "metadata": {},
   "outputs": [],
   "source": [
    "opool_ht=dict()\n",
    "for idx5 in a:\n",
    "    RT_primer=  \"CTACACGACGCTCTTCCGATCT\"+idx5+UMI+\"CCCTCCGCGCAC\"+\"T\"*30+\"VN\"\n",
    "    TSO= \"CTACACGACGCTCTTCCGATCT\"+idx5+UMI+\"TTTCTTATATrGrGrG\"\n",
    "    opool_ht[\"TSO_\"+idx5]=str(TSO)\n",
    "pd.DataFrame.from_dict(opool_ht, orient='index').to_csv('dualends_TSO_161.csv')"
   ]
  },
  {
   "cell_type": "code",
   "execution_count": null,
   "id": "df67e454",
   "metadata": {},
   "outputs": [],
   "source": []
  }
 ],
 "metadata": {
  "kernelspec": {
   "display_name": "Python 3",
   "language": "python",
   "name": "python3"
  },
  "language_info": {
   "codemirror_mode": {
    "name": "ipython",
    "version": 3
   },
   "file_extension": ".py",
   "mimetype": "text/x-python",
   "name": "python",
   "nbconvert_exporter": "python",
   "pygments_lexer": "ipython3",
   "version": "3.7.12"
  }
 },
 "nbformat": 4,
 "nbformat_minor": 5
}
