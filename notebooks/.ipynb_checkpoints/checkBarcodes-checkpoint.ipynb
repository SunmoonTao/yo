{
 "cells": [
  {
   "cell_type": "code",
   "execution_count": 19,
   "metadata": {},
   "outputs": [],
   "source": []
  },
  {
   "cell_type": "code",
   "execution_count": 93,
   "metadata": {},
   "outputs": [],
   "source": [
    "bases = [\"A\",\"T\",\"G\",\"C\"];\n",
    "\n",
    "def addWithinDistanceRecur(edHash, curOligo, nEdits, curName):\n",
    "    global bases;\n",
    "        \n",
    "    if nEdits>0:\n",
    "        for i in range(0, len(curOligo)):\n",
    "            for b in bases:\n",
    "                oligoI = curOligo[0:i]+b+curOligo[i+1:len(curOligo)];\n",
    "                addWithinDistanceRecur(edHash,oligoI,nEdits-1, curName);\n",
    "    else:\n",
    "        if curOligo not in edHash:\n",
    "            edHash[curOligo] = {};\n",
    "        edHash[curOligo][curName]=curName;\n",
    "\n",
    "\n",
    "\n",
    "\n",
    "\n",
    "\n",
    "\n",
    "\n",
    "\n"
   ]
  },
  {
   "cell_type": "code",
   "execution_count": 96,
   "metadata": {},
   "outputs": [],
   "source": [
    "inFile=open(\"../data/ht_barcodes_d7.txt\")\n",
    "\n",
    "withinEditDistance = {}\n",
    "bc2names = {}\n",
    "distance=1\n",
    "for line in inFile:\n",
    "    if line is None or line == \"\" or line[0]==\"#\": continue\n",
    "    data=line.rstrip().split(\"\\t\")\n",
    "    bc = data[0]\n",
    "    name = data[1]\n",
    "#     print (data)\n",
    "    addWithinDistanceRecur(withinEditDistance, bc, distance, bc)\n",
    "    bc2names[bc]=name\n",
    "    \n",
    "    \n",
    "notedCollisions = {};\n",
    "for k in withinEditDistance:\n",
    "\tif len(withinEditDistance[k])>1:\n",
    "\t\tmessage = \"Collision found for %s between: \"%(k);\n",
    "\t\tcurSet = \"\"\n",
    "\t\tfor bc in sorted(withinEditDistance[k], key = withinEditDistance[k].get):\n",
    "\t\t\tmessage = \"%s %s (%s)\"%(message, bc, bc2names[bc]);\n",
    "\t\t\tcurSet = curSet + bc;\n",
    "            \n",
    "\t\tif curSet not in notedCollisions:\n",
    "\t\t\tprint (message+\"\\n\");\n",
    "\t\t\tnotedCollisions[curSet]=1;"
   ]
  },
  {
   "cell_type": "code",
   "execution_count": 58,
   "metadata": {},
   "outputs": [],
   "source": [
    "\n"
   ]
  }
 ],
 "metadata": {
  "kernelspec": {
   "display_name": "Python 3",
   "language": "python",
   "name": "python3"
  },
  "language_info": {
   "codemirror_mode": {
    "name": "ipython",
    "version": 3
   },
   "file_extension": ".py",
   "mimetype": "text/x-python",
   "name": "python",
   "nbconvert_exporter": "python",
   "pygments_lexer": "ipython3",
   "version": "3.7.3"
  }
 },
 "nbformat": 4,
 "nbformat_minor": 2
}
