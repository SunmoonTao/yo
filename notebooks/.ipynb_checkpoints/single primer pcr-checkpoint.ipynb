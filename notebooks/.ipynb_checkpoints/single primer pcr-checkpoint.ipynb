{
 "cells": [
  {
   "cell_type": "code",
   "execution_count": 25,
   "id": "2a71e712",
   "metadata": {},
   "outputs": [],
   "source": [
    "def pcr(temp, f, r, cyc):\n",
    "    product={}\n",
    "    product[0]=temp\n",
    "    if f==temp[:len(f)] and r==temp[-len(r):]:\n",
    "        for i in range(cyc):\n",
    "            product[i+1]=[temp]*2**i\n",
    "    return product\n",
    "\n",
    "        \n",
    "        "
   ]
  },
  {
   "cell_type": "code",
   "execution_count": 36,
   "id": "38ed221b",
   "metadata": {},
   "outputs": [],
   "source": [
    "temp='eeennnnnneee'\n",
    "f=r='eee'\n",
    "cyc=5"
   ]
  },
  {
   "cell_type": "code",
   "execution_count": 49,
   "id": "80b45c9d",
   "metadata": {},
   "outputs": [],
   "source": [
    "def pcr(temp, f, r, cyc):\n",
    "    product={}\n",
    "    product[0]=temp\n",
    "    if f==temp[:len(f)] and r==temp[-len(r):]:\n",
    "        if f!=r:\n",
    "            for i in range(cyc):\n",
    "                product[i+1]=[temp]*2**i\n",
    "        else:\n",
    "            hairpin_power=1\n",
    "            for i in range(cyc):\n",
    "                product[i+1]=[temp]*int((2*hairpin_power)**i  )  \n",
    "    return product"
   ]
  },
  {
   "cell_type": "code",
   "execution_count": 50,
   "id": "e5345945",
   "metadata": {},
   "outputs": [
    {
     "data": {
      "text/plain": [
       "{0: 'eeennnnnneee',\n",
       " 1: ['eeennnnnneee'],\n",
       " 2: ['eeennnnnneee', 'eeennnnnneee'],\n",
       " 3: ['eeennnnnneee', 'eeennnnnneee', 'eeennnnnneee', 'eeennnnnneee'],\n",
       " 4: ['eeennnnnneee',\n",
       "  'eeennnnnneee',\n",
       "  'eeennnnnneee',\n",
       "  'eeennnnnneee',\n",
       "  'eeennnnnneee',\n",
       "  'eeennnnnneee',\n",
       "  'eeennnnnneee',\n",
       "  'eeennnnnneee'],\n",
       " 5: ['eeennnnnneee',\n",
       "  'eeennnnnneee',\n",
       "  'eeennnnnneee',\n",
       "  'eeennnnnneee',\n",
       "  'eeennnnnneee',\n",
       "  'eeennnnnneee',\n",
       "  'eeennnnnneee',\n",
       "  'eeennnnnneee',\n",
       "  'eeennnnnneee',\n",
       "  'eeennnnnneee',\n",
       "  'eeennnnnneee',\n",
       "  'eeennnnnneee',\n",
       "  'eeennnnnneee',\n",
       "  'eeennnnnneee',\n",
       "  'eeennnnnneee',\n",
       "  'eeennnnnneee']}"
      ]
     },
     "execution_count": 50,
     "metadata": {},
     "output_type": "execute_result"
    }
   ],
   "source": [
    "pcr(temp, f, r, cyc)"
   ]
  },
  {
   "cell_type": "code",
   "execution_count": null,
   "id": "c9d1b12d",
   "metadata": {},
   "outputs": [],
   "source": [
    "           pta\n",
    "    #this is primary template amplification\n"
   ]
  }
 ],
 "metadata": {
  "kernelspec": {
   "display_name": "Python 3",
   "language": "python",
   "name": "python3"
  },
  "language_info": {
   "codemirror_mode": {
    "name": "ipython",
    "version": 3
   },
   "file_extension": ".py",
   "mimetype": "text/x-python",
   "name": "python",
   "nbconvert_exporter": "python",
   "pygments_lexer": "ipython3",
   "version": "3.8.8"
  }
 },
 "nbformat": 4,
 "nbformat_minor": 5
}
