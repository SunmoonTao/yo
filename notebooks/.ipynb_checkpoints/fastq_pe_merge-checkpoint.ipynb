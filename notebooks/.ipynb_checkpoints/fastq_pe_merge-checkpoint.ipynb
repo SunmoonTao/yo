{
 "cells": [
  {
   "cell_type": "code",
   "execution_count": 122,
   "metadata": {},
   "outputs": [],
   "source": [
    "from Bio import SeqIO,bgzf,pairwise2\n",
    "import gzip\n",
    "from Bio import \n",
    "from Bio.pairwise2 import format_alignment\n",
    "from Bio.Seq import Seq\n",
    "from Bio.SeqRecord import SeqRecord\n",
    "from Bio.Alphabet import SingleLetterAlphabet\n",
    "\n",
    "\n",
    "# with bgzf.BgzfWriter(\"test.fastq.bgz\", \"wb\") as outgz:\n",
    "#     SeqIO.write(sequences=records, handle=outgz, format=\"fastq\")"
   ]
  },
  {
   "cell_type": "code",
   "execution_count": 233,
   "metadata": {},
   "outputs": [],
   "source": [
    "def fastq_overlap_merge(read1,read2):\n",
    "    # find overlap\n",
    "    alignments = pairwise2.align.localms(read1.seq, read2.seq.reverse_complement(),1,-0.1,-2,-1)\n",
    "    match_begin=alignments[0][3]\n",
    "    match_end=alignments[0][4]\n",
    "    #locate mismatch\n",
    "    mismatch=[]\n",
    "    for p in range(0,match_end-match_begin):\n",
    "        if read1.seq[match_begin+p] != read2.seq.reverse_complement()[p]:\n",
    "            ss=[(read1.letter_annotations[\"phred_quality\"][match_begin+p],read1.seq[match_begin+p]),(read2.letter_annotations[\"phred_quality\"][-p],r2[k].seq.reverse_complement()[p])]\n",
    "            ss.sort(key=lambda tup: tup[0], reverse= True)\n",
    "            mismatch.append((match_begin+p,ss[0]))\n",
    "        \n",
    "    s=read1+read2[:match_begin-match_end].reverse_complement()\n",
    "    s.name=read1.name\n",
    "    s.id=read1.id\n",
    "    s.description= read1.description + \" merged with \" +read2.description.split()[-1]\n",
    "    phred_quality=read1.letter_annotations[\"phred_quality\"][:match_begin]\\\n",
    "    +[max(a,b) for (a,b) in \\\n",
    "      zip(read1.letter_annotations[\"phred_quality\"][match_begin:], \\\n",
    "          read2.letter_annotations[\"phred_quality\"][::-1][:(match_end-match_begin)])]\\\n",
    "    + read2.letter_annotations[\"phred_quality\"][::-1][(match_end-match_begin):]\n",
    "    s.letter_annotations[\"phred_quality\"]=phred_quality\n",
    "    \n",
    "    # replace with the best base\n",
    "    if len(mismatch)>0:\n",
    "        for pp, (qu, bb) in mismatch:\n",
    "            s.seq=s.seq[:pp] + bb + s.seq[pp+1:]\n",
    "    return s\n"
   ]
  },
  {
   "cell_type": "code",
   "execution_count": 4,
   "metadata": {},
   "outputs": [],
   "source": [
    "r1=\"../data/AAVS912-2-WTA-MECOM-AMP_B5_S689_L001_R1_001.fastq.gz\"\n",
    "r2=\"../data/AAVS912-2-WTA-MECOM-AMP_B5_S689_L001_R2_001.fastq.gz\""
   ]
  },
  {
   "cell_type": "code",
   "execution_count": 11,
   "metadata": {},
   "outputs": [],
   "source": [
    "with gzip.open(r1, \"rt\") as handle:\n",
    "    r1=SeqIO.to_dict(SeqIO.parse(handle, \"fastq\"))\n"
   ]
  },
  {
   "cell_type": "code",
   "execution_count": 9,
   "metadata": {},
   "outputs": [],
   "source": [
    "with gzip.open(r2, \"rt\") as handle:\n",
    "    r2=SeqIO.to_dict(SeqIO.parse(handle, \"fastq\"))\n"
   ]
  },
  {
   "cell_type": "code",
   "execution_count": 250,
   "metadata": {},
   "outputs": [],
   "source": [
    "un_merged_r1=dict()\n",
    "un_merged_r2=dict()\n",
    "merged_records=dict()\n",
    "for k, i in r1.items():\n",
    "#     print (k,i.seq, i.letter_annotations[\"phred_quality\"])\n",
    "#     print (r2[k].seq,r2[k].letter_annotations[\"phred_quality\"])\n",
    "    try:\n",
    "        merged_records[k]=fastq_overlap_merge(i,r2[k])\n",
    "    except:\n",
    "        un_merged_r1[k]=i\n",
    "        un_merged_r2[k]=r2[k]\n",
    "with open('../data/un_merged_r1.fastq', 'w') as handle:\n",
    "    SeqIO.write(un_merged_r1.values(), handle, 'fastq')     \n",
    "with open('../data/un_merged_r2.fastq', 'w') as handle:\n",
    "    SeqIO.write(un_merged_r2.values(), handle, 'fastq')  \n",
    "with open('../data/merged.fastq', 'w') as handle:\n",
    "    SeqIO.write(merged_records.values(), handle, 'fastq')  "
   ]
  }
 ],
 "metadata": {
  "kernelspec": {
   "display_name": "Python 3",
   "language": "python",
   "name": "python3"
  },
  "language_info": {
   "codemirror_mode": {
    "name": "ipython",
    "version": 3
   },
   "file_extension": ".py",
   "mimetype": "text/x-python",
   "name": "python",
   "nbconvert_exporter": "python",
   "pygments_lexer": "ipython3",
   "version": "3.7.3"
  }
 },
 "nbformat": 4,
 "nbformat_minor": 2
}
