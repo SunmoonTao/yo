{
 "cells": [
  {
   "cell_type": "markdown",
   "id": "da195edd-7b1f-4249-81c3-e2ff5c6d210c",
   "metadata": {},
   "source": [
    "# 0 install/import "
   ]
  },
  {
   "cell_type": "markdown",
   "id": "a8cc098d-2e53-486a-a2de-3a1c89201650",
   "metadata": {},
   "source": [
    "## 0.1 install"
   ]
  },
  {
   "cell_type": "code",
   "execution_count": null,
   "id": "c4f84740-81ce-4ae9-9a36-79953b618e04",
   "metadata": {},
   "outputs": [],
   "source": []
  },
  {
   "cell_type": "markdown",
   "id": "eddbb680-f06d-476b-a72d-ac5912a88c26",
   "metadata": {},
   "source": [
    "## 0.2 import"
   ]
  },
  {
   "cell_type": "code",
   "execution_count": 1,
   "id": "e89feeac-801b-4f32-a848-492a78516e59",
   "metadata": {},
   "outputs": [],
   "source": [
    "import pandas as pd\n",
    "from dataclasses import dataclass, field\n",
    "import os"
   ]
  },
  {
   "cell_type": "code",
   "execution_count": null,
   "id": "1708cc09-1abd-43cf-b8bd-969ffa40e72b",
   "metadata": {},
   "outputs": [],
   "source": []
  },
  {
   "cell_type": "markdown",
   "id": "4e1d31f1-3eef-4c8f-89e7-90c6b0f2f022",
   "metadata": {},
   "source": [
    "## 0.3 def functions"
   ]
  },
  {
   "cell_type": "code",
   "execution_count": 4,
   "id": "ddb561ed-656e-486f-8db4-4a3384380e65",
   "metadata": {},
   "outputs": [],
   "source": [
    "RANKS = '2 3 4 5 6 7 8 9 10 J Q K A'.split()\n",
    "SUITS = '♣ ♢ ♡ ♠'.split()\n",
    "\n",
    "def make_french_deck():\n",
    "    return [PlayingCard(r, s) for s in SUITS for r in RANKS]"
   ]
  },
  {
   "cell_type": "code",
   "execution_count": 5,
   "id": "2eb715ac-742a-4def-ab3f-91557ad37133",
   "metadata": {},
   "outputs": [
    {
     "ename": "NameError",
     "evalue": "name 'PlayingCard' is not defined",
     "output_type": "error",
     "traceback": [
      "\u001b[0;31m---------------------------------------------------------------------------\u001b[0m",
      "\u001b[0;31mNameError\u001b[0m                                 Traceback (most recent call last)",
      "\u001b[0;32m<ipython-input-5-55a226f1083c>\u001b[0m in \u001b[0;36m<module>\u001b[0;34m\u001b[0m\n\u001b[1;32m      1\u001b[0m \u001b[0;32mfrom\u001b[0m \u001b[0mtyping\u001b[0m \u001b[0;32mimport\u001b[0m \u001b[0mList\u001b[0m\u001b[0;34m\u001b[0m\u001b[0;34m\u001b[0m\u001b[0m\n\u001b[1;32m      2\u001b[0m \u001b[0;34m\u001b[0m\u001b[0m\n\u001b[0;32m----> 3\u001b[0;31m \u001b[0;34m@\u001b[0m\u001b[0mdataclass\u001b[0m\u001b[0;34m\u001b[0m\u001b[0;34m\u001b[0m\u001b[0m\n\u001b[0m\u001b[1;32m      4\u001b[0m \u001b[0;32mclass\u001b[0m \u001b[0mDeck\u001b[0m\u001b[0;34m:\u001b[0m\u001b[0;34m\u001b[0m\u001b[0;34m\u001b[0m\u001b[0m\n\u001b[1;32m      5\u001b[0m     \u001b[0mcards\u001b[0m\u001b[0;34m:\u001b[0m \u001b[0mList\u001b[0m\u001b[0;34m[\u001b[0m\u001b[0mPlayingCard\u001b[0m\u001b[0;34m]\u001b[0m \u001b[0;34m=\u001b[0m \u001b[0mfield\u001b[0m\u001b[0;34m(\u001b[0m\u001b[0mdefault_factory\u001b[0m\u001b[0;34m=\u001b[0m\u001b[0mmake_french_deck\u001b[0m\u001b[0;34m)\u001b[0m\u001b[0;34m\u001b[0m\u001b[0;34m\u001b[0m\u001b[0m\n",
      "\u001b[0;32m<ipython-input-5-55a226f1083c>\u001b[0m in \u001b[0;36mDeck\u001b[0;34m()\u001b[0m\n\u001b[1;32m      3\u001b[0m \u001b[0;34m@\u001b[0m\u001b[0mdataclass\u001b[0m\u001b[0;34m\u001b[0m\u001b[0;34m\u001b[0m\u001b[0m\n\u001b[1;32m      4\u001b[0m \u001b[0;32mclass\u001b[0m \u001b[0mDeck\u001b[0m\u001b[0;34m:\u001b[0m\u001b[0;34m\u001b[0m\u001b[0;34m\u001b[0m\u001b[0m\n\u001b[0;32m----> 5\u001b[0;31m     \u001b[0mcards\u001b[0m\u001b[0;34m:\u001b[0m \u001b[0mList\u001b[0m\u001b[0;34m[\u001b[0m\u001b[0mPlayingCard\u001b[0m\u001b[0;34m]\u001b[0m \u001b[0;34m=\u001b[0m \u001b[0mfield\u001b[0m\u001b[0;34m(\u001b[0m\u001b[0mdefault_factory\u001b[0m\u001b[0;34m=\u001b[0m\u001b[0mmake_french_deck\u001b[0m\u001b[0;34m)\u001b[0m\u001b[0;34m\u001b[0m\u001b[0;34m\u001b[0m\u001b[0m\n\u001b[0m",
      "\u001b[0;31mNameError\u001b[0m: name 'PlayingCard' is not defined"
     ]
    }
   ],
   "source": [
    "from typing import List\n",
    "\n",
    "@dataclass\n",
    "class Deck:\n",
    "    cards: List[PlayingCard] = field(default_factory=make_french_deck)\n"
   ]
  },
  {
   "cell_type": "markdown",
   "id": "b93c31fb-3f81-45e1-b3c8-e81ed44528ca",
   "metadata": {},
   "source": [
    "# 1 change to working dir"
   ]
  },
  {
   "cell_type": "code",
   "execution_count": 2,
   "id": "467a7313-3c92-4b5e-8d6a-a7ab7b1bdaf8",
   "metadata": {},
   "outputs": [
    {
     "data": {
      "text/plain": [
       "'/Users/taol9/gitsss/yo/notebooks'"
      ]
     },
     "execution_count": 2,
     "metadata": {},
     "output_type": "execute_result"
    }
   ],
   "source": [
    "pwd"
   ]
  },
  {
   "cell_type": "code",
   "execution_count": 7,
   "id": "c41c5321-f4be-4f43-9d55-2182d4c21594",
   "metadata": {},
   "outputs": [
    {
     "name": "stdout",
     "output_type": "stream",
     "text": [
      "/home/host/Documents/bioapp/dnabarcodes\n"
     ]
    }
   ],
   "source": []
  },
  {
   "cell_type": "code",
   "execution_count": 3,
   "id": "fc0de654-da33-49a4-8a16-7754f3b9a250",
   "metadata": {},
   "outputs": [
    {
     "name": "stdout",
     "output_type": "stream",
     "text": [
      "10x_3_RT.ipynb\n",
      "\u001b[31mMIPs_change_Mly_adaptor-mix_order_20180726.ipynb\u001b[m\u001b[m*\n",
      "\u001b[31mMIPs_change_Mly_adaptor.ipynb\u001b[m\u001b[m*\n",
      "MS_nextera_primer.ipynb\n",
      "[template]py.ipynb\n",
      "barcoded_RT_primers.ipynb\n",
      "basic oligo.ipynb\n",
      "checkBarcodes.ipynb\n",
      "dataclass.ipynb\n",
      "design_primer_alpha.ipynb\n",
      "dual_ends_RNA.ipynb\n",
      "dualends.csv\n",
      "dualends_RT.csv\n",
      "dualends_RT_161.csv\n",
      "dualends_TSO.csv\n",
      "dualends_TSO_161.csv\n",
      "dualends_bioRT.csv\n",
      "dualends_bioTSO.csv\n",
      "ete3.ipynb\n",
      "fastq_pe_merge.ipynb\n",
      "gpu.ipynb\n",
      "installpacks.ipynb\n",
      "\u001b[31mmip_design_with_blat_v0.1.ipynb\u001b[m\u001b[m*\n",
      "mips_design.ipynb\n",
      "miseq_reads_qc-221212-amplicon_size.ipynb\n",
      "miseq_reads_qc-221212.ipynb\n",
      "miseq_reads_qc.ipynb\n",
      "mm10_primer_design.ipynb\n",
      "ms_nx.csv\n",
      "ms_tn5_wgs.ipynb\n",
      "\u001b[31mprimer2mips.ipynb\u001b[m\u001b[m*\n",
      "primer_p.ipynb\n",
      "rna_10x_STR.ipynb\n",
      "single primer pcr.ipynb\n",
      "spATAC.ipynb\n",
      "stagger_primer.ipynb\n",
      "tmp.ipynb\n"
     ]
    }
   ],
   "source": [
    "ls"
   ]
  },
  {
   "cell_type": "code",
   "execution_count": 10,
   "id": "4b5faa90-148e-40ed-85b4-3a0f26ac1665",
   "metadata": {},
   "outputs": [
    {
     "data": {
      "text/plain": [
       "'.'"
      ]
     },
     "execution_count": 10,
     "metadata": {},
     "output_type": "execute_result"
    }
   ],
   "source": []
  },
  {
   "cell_type": "markdown",
   "id": "dcbf7a5d-ddf2-485a-b568-35205e07ec29",
   "metadata": {},
   "source": [
    "# 2 get inputs"
   ]
  },
  {
   "cell_type": "markdown",
   "id": "cb849ce8-28b9-457e-96bb-45102c71d012",
   "metadata": {},
   "source": [
    "# 3 "
   ]
  },
  {
   "cell_type": "markdown",
   "id": "800b084f-e54d-4da0-80a9-d2cb644232dd",
   "metadata": {},
   "source": [
    "# 4 save outputs"
   ]
  }
 ],
 "metadata": {
  "kernelspec": {
   "display_name": "Python 3 (ipykernel)",
   "language": "python",
   "name": "python3"
  },
  "language_info": {
   "codemirror_mode": {
    "name": "ipython",
    "version": 3
   },
   "file_extension": ".py",
   "mimetype": "text/x-python",
   "name": "python",
   "nbconvert_exporter": "python",
   "pygments_lexer": "ipython3",
   "version": "3.10.13"
  }
 },
 "nbformat": 4,
 "nbformat_minor": 5
}
