{
 "cells": [
  {
   "cell_type": "code",
   "execution_count": 1,
   "metadata": {},
   "outputs": [],
   "source": [
    "from Bio.Seq import Seq\n",
    "import pandas as pd\n",
    "import sys\n",
    "sys.path.append('/Users/ltao/PycharmProjects/yo')\n",
    "from tao.myfunc import primers2mips, rc\n",
    "from tao.myprimer import RandomDNA_without_sites,break2shorts"
   ]
  },
  {
   "cell_type": "code",
   "execution_count": 2,
   "metadata": {},
   "outputs": [],
   "source": [
    "mse_ligA='ACACTCTTTCCCTACACGACGCTCTTCCGATCT'"
   ]
  },
  {
   "cell_type": "code",
   "execution_count": 2,
   "metadata": {},
   "outputs": [
    {
     "data": {
      "text/plain": [
       "'CAATCGTCCNTCGC'"
      ]
     },
     "execution_count": 2,
     "metadata": {},
     "output_type": "execute_result"
    }
   ],
   "source": [
    "rc(\"GCGANGGACGATTG\")"
   ]
  },
  {
   "cell_type": "code",
   "execution_count": 58,
   "metadata": {},
   "outputs": [
    {
     "data": {
      "text/plain": [
       "'CTCTTTGCTGGCAGTAAAAGTATTGTGTACCTTTTGCTGGGTCAGGTTGTTCTTTAGGAGGAGTAAAAGGATCAAATGCACTAANNNNNTATATNNNNNGCGATCGAAAATATCCCTTTAAGCAGTGGTATCAACGCAGAGT'"
      ]
     },
     "execution_count": 58,
     "metadata": {},
     "output_type": "execute_result"
    }
   ],
   "source": [
    "rc('ACTCTGCGTTGATACCACTGCTTAAAGGGATATTTTCGATCGCNNNNNATATANNNNNTTAGTGCATTTGATCCTTTTACTCCTCCTAAAGAACAACCTGACCCAGCAAAAGGTACACAATACTTTTACTGCCAGCAAAGAG')"
   ]
  },
  {
   "cell_type": "code",
   "execution_count": 44,
   "metadata": {},
   "outputs": [
    {
     "data": {
      "text/plain": [
       "'TCCCTTGAGTACTGAACCAGCGATCCTTTACCATACCCACAATATAGATCTTAACTACCTGGCCACTAGTGGCTAGTAAGGGGCCCAGGCATGCCTAAGTGGAA'"
      ]
     },
     "execution_count": 44,
     "metadata": {},
     "output_type": "execute_result"
    }
   ],
   "source": []
  },
  {
   "cell_type": "code",
   "execution_count": 52,
   "metadata": {},
   "outputs": [
    {
     "data": {
      "text/plain": [
       "'TGTAAGAACTTCAATCGAGCAGGTGATTTACAGTGGATTTCAAAGTACGGTTAACTAGCTACTTCTGTCGAACGCATTTTGATAACTTACGTTCTTCCACTGAA'"
      ]
     },
     "execution_count": 52,
     "metadata": {},
     "output_type": "execute_result"
    }
   ],
   "source": [
    "test=str(RandomDNA_without_sites(50,['TTAA','AATT'])+\"TTAA\"+ RandomDNA_without_sites(50,['TTAA','AATT']))\n",
    "test"
   ]
  },
  {
   "cell_type": "code",
   "execution_count": 53,
   "metadata": {},
   "outputs": [
    {
     "data": {
      "text/plain": [
       "'TGTAAGAACTTCAATCGAGCAGGTGATTTACAGTGGATTTCAAAGTACGGTTAACTAGCTACTTCTGTCGAACGCATTTTGATAACTTACGTTCTTCCACTGAA'"
      ]
     },
     "execution_count": 53,
     "metadata": {},
     "output_type": "execute_result"
    }
   ],
   "source": [
    "test"
   ]
  },
  {
   "cell_type": "code",
   "execution_count": 57,
   "metadata": {},
   "outputs": [
    {
     "name": "stdout",
     "output_type": "stream",
     "text": [
      "original long: 100\n",
      "dsDNA style:\n",
      "5-TAAGAACTTCAATCGAGCAGGTGATTTACAGTGGATTTCAAAGTACGGTT-3\n",
      "  ||||||||||||||||||||||||||||||||||||||||||||||||||  \n",
      "3-ATTCTTGAAGTTAGCTCGTCCACTAAATGTCACCTAAAGTTTCATGCCAA-5\n",
      "\n",
      "5-AACTAGCTACTTCTGTCGAACGCATTTTGATAACTTACGTTCTTCCACTG-3\n",
      "  ||||||||||||||||||||||||||||||||||||||||||||||||||  \n",
      "3-TTGATCGATGAAGACAGCTTGCGTAAAACTATTGAATGCAAGAAGGTGAC-5\n",
      "\n",
      "\n",
      " two shorts:\n",
      "5-TAAGAACTTCAATCGAGCAGGTGATTTACAGTGGATTTCAAAGTACGGTTAACTAGCTAC-3\n",
      "||||||||||||||||||||||||||||||||||||||||||||||||||||||||||||||||||||||||||||||||||||||||||||||||||||||||\n",
      "                                        3-TTCATGCCAATTGATCGATGAAGACAGCTTGCGTAAAACTATTGAATGCAAGAAGGTGAC-5\n"
     ]
    },
    {
     "data": {
      "text/plain": [
       "('TAAGAACTTCAATCGAGCAGGTGATTTACAGTGGATTTCAAAGTACGGTTAACTAGCTAC',\n",
       " 60,\n",
       " 'CAGTGGAAGAACGTAAGTTATCAAAATGCGTTCGACAGAAGTAGCTAGTTAACCGTACTT',\n",
       " 60)"
      ]
     },
     "execution_count": 57,
     "metadata": {},
     "output_type": "execute_result"
    }
   ],
   "source": [
    "break2shorts(test[2:-2],20)"
   ]
  }
 ],
 "metadata": {
  "kernelspec": {
   "display_name": "Python 3",
   "language": "python",
   "name": "python3"
  },
  "language_info": {
   "codemirror_mode": {
    "name": "ipython",
    "version": 3
   },
   "file_extension": ".py",
   "mimetype": "text/x-python",
   "name": "python",
   "nbconvert_exporter": "python",
   "pygments_lexer": "ipython3",
   "version": "3.7.3"
  }
 },
 "nbformat": 4,
 "nbformat_minor": 2
}
