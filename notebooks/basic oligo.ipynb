{
 "cells": [
  {
   "cell_type": "code",
   "execution_count": 1,
   "metadata": {},
   "outputs": [],
   "source": [
    "from Bio.Seq import Seq\n",
    "import pandas as pd\n",
    "import sys\n",
    "sys.path.append('/Users/ltao/PycharmProjects/yo')\n",
    "from tao.myfunc import primers2mips, rc\n",
    "from tao.myprimer import RandomDNA_without_sites,break2shorts"
   ]
  },
  {
   "cell_type": "code",
   "execution_count": 2,
   "metadata": {},
   "outputs": [],
   "source": [
    "mse_ligA='ACACTCTTTCCCTACACGACGCTCTTCCGATCT'"
   ]
  },
  {
   "cell_type": "code",
   "execution_count": 8,
   "metadata": {},
   "outputs": [
    {
     "data": {
      "text/plain": [
       "'TNTTCCAAGGTCTAACACGGCACTTGAGAACCCACACAGGAGAGCAGCCTTACAGGTCTGACAATGATATTTGCT'"
      ]
     },
     "execution_count": 8,
     "metadata": {},
     "output_type": "execute_result"
    }
   ],
   "source": [
    "rc(\"AGCAAATATCATTGTCAGACCTGTAAGGCTGCTCTCCTGTGTGGGTTCTCAAGTGCCGTGTTAGACCTTGGAANA\")"
   ]
  },
  {
   "cell_type": "code",
   "execution_count": 6,
   "metadata": {},
   "outputs": [],
   "source": [
    "ref='agaaatgtgagttccatgcaagattaattgaatcaggaataagcatctggctgctgtgtggcatgagtgaaatatagtcaactgtgctgactttctcttataaacatcttttcataacagatactgtggcaagatttttcCAAGGTCTGCAAACCTAACAcggcacttgagaacccacacaggagagcagccttacaggtctgacaatgatatttgc'"
   ]
  },
  {
   "cell_type": "code",
   "execution_count": 7,
   "metadata": {},
   "outputs": [
    {
     "data": {
      "text/plain": [
       "'AGAAATGTGAGTTCCATGCAAGATTAATTGAATCAGGAATAAGCATCTGGCTGCTGTGTGGCATGAGTGAAATATAGTCAACTGTGCTGACTTTCTCTTATAAACATCTTTTCATAACAGATACTGTGGCAAGATTTTTCCAAGGTCTGCAAACCTAACACGGCACTTGAGAACCCACACAGGAGAGCAGCCTTACAGGTCTGACAATGATATTTGC'"
      ]
     },
     "execution_count": 7,
     "metadata": {},
     "output_type": "execute_result"
    }
   ],
   "source": [
    "ref.upper()"
   ]
  },
  {
   "cell_type": "code",
   "execution_count": 58,
   "metadata": {},
   "outputs": [
    {
     "data": {
      "text/plain": [
       "'CTCTTTGCTGGCAGTAAAAGTATTGTGTACCTTTTGCTGGGTCAGGTTGTTCTTTAGGAGGAGTAAAAGGATCAAATGCACTAANNNNNTATATNNNNNGCGATCGAAAATATCCCTTTAAGCAGTGGTATCAACGCAGAGT'"
      ]
     },
     "execution_count": 58,
     "metadata": {},
     "output_type": "execute_result"
    }
   ],
   "source": [
    "rc('ACTCTGCGTTGATACCACTGCTTAAAGGGATATTTTCGATCGCNNNNNATATANNNNNTTAGTGCATTTGATCCTTTTACTCCTCCTAAAGAACAACCTGACCCAGCAAAAGGTACACAATACTTTTACTGCCAGCAAAGAG')"
   ]
  },
  {
   "cell_type": "code",
   "execution_count": 44,
   "metadata": {},
   "outputs": [
    {
     "data": {
      "text/plain": [
       "'TCCCTTGAGTACTGAACCAGCGATCCTTTACCATACCCACAATATAGATCTTAACTACCTGGCCACTAGTGGCTAGTAAGGGGCCCAGGCATGCCTAAGTGGAA'"
      ]
     },
     "execution_count": 44,
     "metadata": {},
     "output_type": "execute_result"
    }
   ],
   "source": []
  },
  {
   "cell_type": "code",
   "execution_count": 52,
   "metadata": {},
   "outputs": [
    {
     "data": {
      "text/plain": [
       "'TGTAAGAACTTCAATCGAGCAGGTGATTTACAGTGGATTTCAAAGTACGGTTAACTAGCTACTTCTGTCGAACGCATTTTGATAACTTACGTTCTTCCACTGAA'"
      ]
     },
     "execution_count": 52,
     "metadata": {},
     "output_type": "execute_result"
    }
   ],
   "source": [
    "test=str(RandomDNA_without_sites(50,['TTAA','AATT'])+\"TTAA\"+ RandomDNA_without_sites(50,['TTAA','AATT']))\n",
    "test"
   ]
  },
  {
   "cell_type": "code",
   "execution_count": 53,
   "metadata": {},
   "outputs": [
    {
     "data": {
      "text/plain": [
       "'TGTAAGAACTTCAATCGAGCAGGTGATTTACAGTGGATTTCAAAGTACGGTTAACTAGCTACTTCTGTCGAACGCATTTTGATAACTTACGTTCTTCCACTGAA'"
      ]
     },
     "execution_count": 53,
     "metadata": {},
     "output_type": "execute_result"
    }
   ],
   "source": [
    "test"
   ]
  },
  {
   "cell_type": "code",
   "execution_count": 57,
   "metadata": {},
   "outputs": [
    {
     "name": "stdout",
     "output_type": "stream",
     "text": [
      "original long: 100\n",
      "dsDNA style:\n",
      "5-TAAGAACTTCAATCGAGCAGGTGATTTACAGTGGATTTCAAAGTACGGTT-3\n",
      "  ||||||||||||||||||||||||||||||||||||||||||||||||||  \n",
      "3-ATTCTTGAAGTTAGCTCGTCCACTAAATGTCACCTAAAGTTTCATGCCAA-5\n",
      "\n",
      "5-AACTAGCTACTTCTGTCGAACGCATTTTGATAACTTACGTTCTTCCACTG-3\n",
      "  ||||||||||||||||||||||||||||||||||||||||||||||||||  \n",
      "3-TTGATCGATGAAGACAGCTTGCGTAAAACTATTGAATGCAAGAAGGTGAC-5\n",
      "\n",
      "\n",
      " two shorts:\n",
      "5-TAAGAACTTCAATCGAGCAGGTGATTTACAGTGGATTTCAAAGTACGGTTAACTAGCTAC-3\n",
      "||||||||||||||||||||||||||||||||||||||||||||||||||||||||||||||||||||||||||||||||||||||||||||||||||||||||\n",
      "                                        3-TTCATGCCAATTGATCGATGAAGACAGCTTGCGTAAAACTATTGAATGCAAGAAGGTGAC-5\n"
     ]
    },
    {
     "data": {
      "text/plain": [
       "('TAAGAACTTCAATCGAGCAGGTGATTTACAGTGGATTTCAAAGTACGGTTAACTAGCTAC',\n",
       " 60,\n",
       " 'CAGTGGAAGAACGTAAGTTATCAAAATGCGTTCGACAGAAGTAGCTAGTTAACCGTACTT',\n",
       " 60)"
      ]
     },
     "execution_count": 57,
     "metadata": {},
     "output_type": "execute_result"
    }
   ],
   "source": [
    "break2shorts(test[2:-2],20)"
   ]
  },
  {
   "cell_type": "code",
   "execution_count": 8,
   "metadata": {},
   "outputs": [],
   "source": [
    "input_path='/Users/ltao/Projects/glioma/exp/200226/index2.csv'"
   ]
  },
  {
   "cell_type": "code",
   "execution_count": 9,
   "metadata": {},
   "outputs": [],
   "source": [
    "data_pd=pd.read_csv(input_path)\n"
   ]
  },
  {
   "cell_type": "code",
   "execution_count": 14,
   "metadata": {},
   "outputs": [
    {
     "data": {
      "text/html": [
       "<div>\n",
       "<style scoped>\n",
       "    .dataframe tbody tr th:only-of-type {\n",
       "        vertical-align: middle;\n",
       "    }\n",
       "\n",
       "    .dataframe tbody tr th {\n",
       "        vertical-align: top;\n",
       "    }\n",
       "\n",
       "    .dataframe thead th {\n",
       "        text-align: right;\n",
       "    }\n",
       "</style>\n",
       "<table border=\"1\" class=\"dataframe\">\n",
       "  <thead>\n",
       "    <tr style=\"text-align: right;\">\n",
       "      <th></th>\n",
       "      <th>index2</th>\n",
       "    </tr>\n",
       "  </thead>\n",
       "  <tbody>\n",
       "    <tr>\n",
       "      <th>0</th>\n",
       "      <td>AAGTAGAG</td>\n",
       "    </tr>\n",
       "    <tr>\n",
       "      <th>1</th>\n",
       "      <td>ACACGATC</td>\n",
       "    </tr>\n",
       "    <tr>\n",
       "      <th>2</th>\n",
       "      <td>TGTTCCGA</td>\n",
       "    </tr>\n",
       "    <tr>\n",
       "      <th>3</th>\n",
       "      <td>CATGATCG</td>\n",
       "    </tr>\n",
       "    <tr>\n",
       "      <th>4</th>\n",
       "      <td>CGTTACCA</td>\n",
       "    </tr>\n",
       "  </tbody>\n",
       "</table>\n",
       "</div>"
      ],
      "text/plain": [
       "     index2\n",
       "0  AAGTAGAG\n",
       "1  ACACGATC\n",
       "2  TGTTCCGA\n",
       "3  CATGATCG\n",
       "4  CGTTACCA"
      ]
     },
     "execution_count": 14,
     "metadata": {},
     "output_type": "execute_result"
    }
   ],
   "source": [
    "data_pd.head(5)"
   ]
  },
  {
   "cell_type": "code",
   "execution_count": 13,
   "metadata": {},
   "outputs": [],
   "source": [
    "for idx, row in data_pd.iterrows():\n",
    "    data_pd.at[idx,'index2']=rc(data_pd.at[idx,'index2'])\n"
   ]
  },
  {
   "cell_type": "code",
   "execution_count": 15,
   "metadata": {},
   "outputs": [],
   "source": [
    "data_pd.to_csv('indes2_fixed.csv')"
   ]
  }
 ],
 "metadata": {
  "kernelspec": {
   "display_name": "Python 3",
   "language": "python",
   "name": "python3"
  },
  "language_info": {
   "codemirror_mode": {
    "name": "ipython",
    "version": 3
   },
   "file_extension": ".py",
   "mimetype": "text/x-python",
   "name": "python",
   "nbconvert_exporter": "python",
   "pygments_lexer": "ipython3",
   "version": "3.7.3"
  }
 },
 "nbformat": 4,
 "nbformat_minor": 2
}
